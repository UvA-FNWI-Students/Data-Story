{
 "cells": [
  {
   "cell_type": "markdown",
   "metadata": {},
   "source": [
    "# Data Story Draft\n",
    "* Hugo Krijgsman (14667851)\n",
    "* Ingmar Hartman (15206149)\n",
    "* Julius de Groot (14362104)\n"
   ]
  },
  {
   "cell_type": "markdown",
   "metadata": {},
   "source": [
    "## Introduction\n",
    "The relationship between freedom and happiness is a crucial area of investigation, especially for informing the development of effective public policies. In Western society, there is a prevalent belief that increased freedom directly correlates with higher levels of happiness. This belief drives significant efforts to enhance personal and political freedoms. However, the reality is more complex. There are countries where people face greater limitations in their freedoms but still report high levels of happiness.\n",
    "\n",
    "This report utilizes two key datasets to explore the relationship between freedom and happiness. The first dataset, from the Human Freedom Index, measures various aspects of freedom including personal, civil, and economic dimensions. The second dataset, from the World Happiness Report, provides happiness scores based on indicators such as GDP per capita, social support, and life expectancy.\n",
    "\n",
    "By comparing these datasets, we aim to uncover correlations and patterns that reveal how different dimensions of freedom influence overall happiness across countries."
   ]
  },
  {
   "cell_type": "markdown",
   "metadata": {},
   "source": [
    "### Perspectives\n",
    "* The more freedom citizens of a country experience, the happier they are.\n",
    "* There is no correlation between freedom and happiness citizens of a country experience."
   ]
  },
  {
   "cell_type": "markdown",
   "metadata": {},
   "source": [
    "### Dependencies \n"
   ]
  },
  {
   "cell_type": "markdown",
   "metadata": {},
   "source": [
    "### Imports"
   ]
  },
  {
   "cell_type": "code",
   "execution_count": 86,
   "metadata": {},
   "outputs": [
    {
     "data": {
      "text/html": [
       "        <script type=\"text/javascript\">\n",
       "        window.PlotlyConfig = {MathJaxConfig: 'local'};\n",
       "        if (window.MathJax && window.MathJax.Hub && window.MathJax.Hub.Config) {window.MathJax.Hub.Config({SVG: {font: \"STIX-Web\"}});}\n",
       "        if (typeof require !== 'undefined') {\n",
       "        require.undef(\"plotly\");\n",
       "        requirejs.config({\n",
       "            paths: {\n",
       "                'plotly': ['https://cdn.plot.ly/plotly-2.24.1.min']\n",
       "            }\n",
       "        });\n",
       "        require(['plotly'], function(Plotly) {\n",
       "            window._Plotly = Plotly;\n",
       "        });\n",
       "        }\n",
       "        </script>\n",
       "        "
      ]
     },
     "metadata": {},
     "output_type": "display_data"
    }
   ],
   "source": [
    "import pandas as pd\n",
    "import plotly.io as pio\n",
    "import plotly.graph_objects as go\n",
    "import plotly.express as px\n",
    "import pycountry \n",
    "\n",
    "from plotly.offline import init_notebook_mode\n",
    "init_notebook_mode(connected=True)"
   ]
  },
  {
   "cell_type": "markdown",
   "metadata": {},
   "source": [
    "## Datasets"
   ]
  },
  {
   "cell_type": "markdown",
   "metadata": {},
   "source": [
    "### World Happiness Report\n",
    "The World Happiness Report dataset on Kaggle contains data from the annual World Happiness Report, offering insights into the happiness levels of countries worldwide. The dataset includes information on several key indicators such as GDP per capita, social support, healthy life expectancy, freedom to make life choices, generosity, and perceptions of corruption. This comprehensive dataset allows for detailed analysis and comparison of the well-being and happiness of different nations, aiding researchers and analysts in understanding the factors that contribute to a country's overall happiness."
   ]
  },
  {
   "cell_type": "code",
   "execution_count": 87,
   "metadata": {},
   "outputs": [
    {
     "data": {
      "text/html": [
       "<div>\n",
       "<style scoped>\n",
       "    .dataframe tbody tr th:only-of-type {\n",
       "        vertical-align: middle;\n",
       "    }\n",
       "\n",
       "    .dataframe tbody tr th {\n",
       "        vertical-align: top;\n",
       "    }\n",
       "\n",
       "    .dataframe thead th {\n",
       "        text-align: right;\n",
       "    }\n",
       "</style>\n",
       "<table border=\"1\" class=\"dataframe\">\n",
       "  <thead>\n",
       "    <tr style=\"text-align: right;\">\n",
       "      <th></th>\n",
       "      <th>Score</th>\n",
       "      <th>GDP per capita</th>\n",
       "      <th>Social support</th>\n",
       "      <th>Healthy life expectancy</th>\n",
       "      <th>Freedom to make life choices</th>\n",
       "      <th>Generosity</th>\n",
       "      <th>Perceptions of corruption</th>\n",
       "      <th>Country</th>\n",
       "    </tr>\n",
       "  </thead>\n",
       "  <tbody>\n",
       "    <tr>\n",
       "      <th>0</th>\n",
       "      <td>7.769</td>\n",
       "      <td>1.340</td>\n",
       "      <td>1.587</td>\n",
       "      <td>0.986</td>\n",
       "      <td>0.596</td>\n",
       "      <td>0.153</td>\n",
       "      <td>0.393</td>\n",
       "      <td>Finland</td>\n",
       "    </tr>\n",
       "    <tr>\n",
       "      <th>1</th>\n",
       "      <td>7.600</td>\n",
       "      <td>1.383</td>\n",
       "      <td>1.573</td>\n",
       "      <td>0.996</td>\n",
       "      <td>0.592</td>\n",
       "      <td>0.252</td>\n",
       "      <td>0.410</td>\n",
       "      <td>Denmark</td>\n",
       "    </tr>\n",
       "    <tr>\n",
       "      <th>2</th>\n",
       "      <td>7.554</td>\n",
       "      <td>1.488</td>\n",
       "      <td>1.582</td>\n",
       "      <td>1.028</td>\n",
       "      <td>0.603</td>\n",
       "      <td>0.271</td>\n",
       "      <td>0.341</td>\n",
       "      <td>Norway</td>\n",
       "    </tr>\n",
       "    <tr>\n",
       "      <th>3</th>\n",
       "      <td>7.494</td>\n",
       "      <td>1.380</td>\n",
       "      <td>1.624</td>\n",
       "      <td>1.026</td>\n",
       "      <td>0.591</td>\n",
       "      <td>0.354</td>\n",
       "      <td>0.118</td>\n",
       "      <td>Iceland</td>\n",
       "    </tr>\n",
       "    <tr>\n",
       "      <th>4</th>\n",
       "      <td>7.488</td>\n",
       "      <td>1.396</td>\n",
       "      <td>1.522</td>\n",
       "      <td>0.999</td>\n",
       "      <td>0.557</td>\n",
       "      <td>0.322</td>\n",
       "      <td>0.298</td>\n",
       "      <td>Netherlands</td>\n",
       "    </tr>\n",
       "  </tbody>\n",
       "</table>\n",
       "</div>"
      ],
      "text/plain": [
       "   Score  GDP per capita  Social support  Healthy life expectancy  \\\n",
       "0  7.769           1.340           1.587                    0.986   \n",
       "1  7.600           1.383           1.573                    0.996   \n",
       "2  7.554           1.488           1.582                    1.028   \n",
       "3  7.494           1.380           1.624                    1.026   \n",
       "4  7.488           1.396           1.522                    0.999   \n",
       "\n",
       "   Freedom to make life choices  Generosity  Perceptions of corruption  \\\n",
       "0                         0.596       0.153                      0.393   \n",
       "1                         0.592       0.252                      0.410   \n",
       "2                         0.603       0.271                      0.341   \n",
       "3                         0.591       0.354                      0.118   \n",
       "4                         0.557       0.322                      0.298   \n",
       "\n",
       "       Country  \n",
       "0      Finland  \n",
       "1      Denmark  \n",
       "2       Norway  \n",
       "3      Iceland  \n",
       "4  Netherlands  "
      ]
     },
     "execution_count": 87,
     "metadata": {},
     "output_type": "execute_result"
    }
   ],
   "source": [
    "# Function for converting to iso \n",
    "def getIsoCode(country_name):\n",
    "    try:\n",
    "        country_iso = pycountry.countries.search_fuzzy(country_name)[0]\n",
    "        return country_iso.alpha_3\n",
    "    except LookupError:\n",
    "        print(country_name)\n",
    "        return \"\"\n",
    "\n",
    "happiness_data = pd.read_csv(\"happiness.csv\")\n",
    "happiness_data[\"Country\"] = happiness_data[\"Country or region\"]\n",
    "happiness_data = happiness_data.drop(columns=[\"Country or region\", \"Overall rank\"])\n",
    "\n",
    "happiness_data.head()"
   ]
  },
  {
   "cell_type": "markdown",
   "metadata": {},
   "source": [
    "### Human Freedom Index\n",
    "\n",
    "The Human Freedom Index dataset on Kaggle includes comprehensive data on the state of human freedom globally. This dataset combines indicators of personal and economic freedom, covering a wide range of topics such as rule of law, security and safety, movement, religion, association, assembly, civil society, expression and information, identity and relationships, and economic freedoms like regulation and freedom to trade internationally. This extensive dataset facilitates in-depth analysis of the factors that influence human freedom in various countries."
   ]
  },
  {
   "cell_type": "code",
   "execution_count": 88,
   "metadata": {},
   "outputs": [
    {
     "data": {
      "text/html": [
       "<div>\n",
       "<style scoped>\n",
       "    .dataframe tbody tr th:only-of-type {\n",
       "        vertical-align: middle;\n",
       "    }\n",
       "\n",
       "    .dataframe tbody tr th {\n",
       "        vertical-align: top;\n",
       "    }\n",
       "\n",
       "    .dataframe thead th {\n",
       "        text-align: right;\n",
       "    }\n",
       "</style>\n",
       "<table border=\"1\" class=\"dataframe\">\n",
       "  <thead>\n",
       "    <tr style=\"text-align: right;\">\n",
       "      <th></th>\n",
       "      <th>Country</th>\n",
       "      <th>hf_score</th>\n",
       "      <th>hf_rank</th>\n",
       "      <th>hf_quartile</th>\n",
       "      <th>pf_rol_procedural</th>\n",
       "      <th>pf_rol_civil</th>\n",
       "      <th>pf_rol_criminal</th>\n",
       "      <th>pf_rol_vdem</th>\n",
       "      <th>pf_rol</th>\n",
       "      <th>pf_ss_homicide</th>\n",
       "      <th>...</th>\n",
       "      <th>ef_regulation_business_adm</th>\n",
       "      <th>ef_regulation_business_burden</th>\n",
       "      <th>ef_regulation_business_start</th>\n",
       "      <th>ef_regulation_business_impartial</th>\n",
       "      <th>ef_regulation_business_licensing</th>\n",
       "      <th>ef_regulation_business_compliance</th>\n",
       "      <th>ef_regulation_business</th>\n",
       "      <th>ef_regulation</th>\n",
       "      <th>ef_score</th>\n",
       "      <th>ef_rank</th>\n",
       "    </tr>\n",
       "  </thead>\n",
       "  <tbody>\n",
       "    <tr>\n",
       "      <th>0</th>\n",
       "      <td>Albania</td>\n",
       "      <td>8.07</td>\n",
       "      <td>42.0</td>\n",
       "      <td>2.0</td>\n",
       "      <td>5.903741</td>\n",
       "      <td>4.725831</td>\n",
       "      <td>4.047825</td>\n",
       "      <td>7.375907</td>\n",
       "      <td>4.892466</td>\n",
       "      <td>9.343023</td>\n",
       "      <td>...</td>\n",
       "      <td>5.651538</td>\n",
       "      <td>6.666667</td>\n",
       "      <td>9.742477</td>\n",
       "      <td>6.2425</td>\n",
       "      <td>5.621940</td>\n",
       "      <td>7.175250</td>\n",
       "      <td>6.850062</td>\n",
       "      <td>7.700885</td>\n",
       "      <td>7.79</td>\n",
       "      <td>31.0</td>\n",
       "    </tr>\n",
       "    <tr>\n",
       "      <th>1</th>\n",
       "      <td>Algeria</td>\n",
       "      <td>5.08</td>\n",
       "      <td>155.0</td>\n",
       "      <td>4.0</td>\n",
       "      <td>4.913311</td>\n",
       "      <td>5.503872</td>\n",
       "      <td>4.254187</td>\n",
       "      <td>5.345021</td>\n",
       "      <td>4.890457</td>\n",
       "      <td>9.613372</td>\n",
       "      <td>...</td>\n",
       "      <td>4.215154</td>\n",
       "      <td>2.222222</td>\n",
       "      <td>9.305002</td>\n",
       "      <td>2.5775</td>\n",
       "      <td>8.771111</td>\n",
       "      <td>7.029528</td>\n",
       "      <td>5.686753</td>\n",
       "      <td>5.840164</td>\n",
       "      <td>4.86</td>\n",
       "      <td>159.0</td>\n",
       "    </tr>\n",
       "    <tr>\n",
       "      <th>2</th>\n",
       "      <td>Angola</td>\n",
       "      <td>5.96</td>\n",
       "      <td>127.0</td>\n",
       "      <td>4.0</td>\n",
       "      <td>2.773262</td>\n",
       "      <td>4.352009</td>\n",
       "      <td>3.478950</td>\n",
       "      <td>5.264300</td>\n",
       "      <td>3.534740</td>\n",
       "      <td>8.590305</td>\n",
       "      <td>...</td>\n",
       "      <td>2.937894</td>\n",
       "      <td>2.444444</td>\n",
       "      <td>8.730805</td>\n",
       "      <td>4.7025</td>\n",
       "      <td>7.916416</td>\n",
       "      <td>6.782923</td>\n",
       "      <td>5.585830</td>\n",
       "      <td>5.974672</td>\n",
       "      <td>5.55</td>\n",
       "      <td>153.0</td>\n",
       "    </tr>\n",
       "    <tr>\n",
       "      <th>3</th>\n",
       "      <td>Argentina</td>\n",
       "      <td>7.33</td>\n",
       "      <td>75.0</td>\n",
       "      <td>2.0</td>\n",
       "      <td>6.824288</td>\n",
       "      <td>5.679943</td>\n",
       "      <td>4.218635</td>\n",
       "      <td>6.570627</td>\n",
       "      <td>5.574289</td>\n",
       "      <td>8.505814</td>\n",
       "      <td>...</td>\n",
       "      <td>2.714233</td>\n",
       "      <td>5.777778</td>\n",
       "      <td>9.579288</td>\n",
       "      <td>6.5300</td>\n",
       "      <td>5.726521</td>\n",
       "      <td>6.508295</td>\n",
       "      <td>6.139352</td>\n",
       "      <td>5.994265</td>\n",
       "      <td>5.44</td>\n",
       "      <td>154.0</td>\n",
       "    </tr>\n",
       "    <tr>\n",
       "      <th>4</th>\n",
       "      <td>Armenia</td>\n",
       "      <td>8.32</td>\n",
       "      <td>34.0</td>\n",
       "      <td>1.0</td>\n",
       "      <td>NaN</td>\n",
       "      <td>NaN</td>\n",
       "      <td>NaN</td>\n",
       "      <td>7.287006</td>\n",
       "      <td>7.287006</td>\n",
       "      <td>9.281977</td>\n",
       "      <td>...</td>\n",
       "      <td>5.170406</td>\n",
       "      <td>5.555556</td>\n",
       "      <td>9.863530</td>\n",
       "      <td>6.9575</td>\n",
       "      <td>9.302574</td>\n",
       "      <td>7.040738</td>\n",
       "      <td>7.315051</td>\n",
       "      <td>7.819774</td>\n",
       "      <td>7.98</td>\n",
       "      <td>17.0</td>\n",
       "    </tr>\n",
       "  </tbody>\n",
       "</table>\n",
       "<p>5 rows × 139 columns</p>\n",
       "</div>"
      ],
      "text/plain": [
       "     Country  hf_score  hf_rank  hf_quartile  pf_rol_procedural  pf_rol_civil  \\\n",
       "0    Albania      8.07     42.0          2.0           5.903741      4.725831   \n",
       "1    Algeria      5.08    155.0          4.0           4.913311      5.503872   \n",
       "2     Angola      5.96    127.0          4.0           2.773262      4.352009   \n",
       "3  Argentina      7.33     75.0          2.0           6.824288      5.679943   \n",
       "4    Armenia      8.32     34.0          1.0                NaN           NaN   \n",
       "\n",
       "   pf_rol_criminal  pf_rol_vdem    pf_rol  pf_ss_homicide  ...  \\\n",
       "0         4.047825     7.375907  4.892466        9.343023  ...   \n",
       "1         4.254187     5.345021  4.890457        9.613372  ...   \n",
       "2         3.478950     5.264300  3.534740        8.590305  ...   \n",
       "3         4.218635     6.570627  5.574289        8.505814  ...   \n",
       "4              NaN     7.287006  7.287006        9.281977  ...   \n",
       "\n",
       "   ef_regulation_business_adm  ef_regulation_business_burden  \\\n",
       "0                    5.651538                       6.666667   \n",
       "1                    4.215154                       2.222222   \n",
       "2                    2.937894                       2.444444   \n",
       "3                    2.714233                       5.777778   \n",
       "4                    5.170406                       5.555556   \n",
       "\n",
       "   ef_regulation_business_start  ef_regulation_business_impartial  \\\n",
       "0                      9.742477                            6.2425   \n",
       "1                      9.305002                            2.5775   \n",
       "2                      8.730805                            4.7025   \n",
       "3                      9.579288                            6.5300   \n",
       "4                      9.863530                            6.9575   \n",
       "\n",
       "   ef_regulation_business_licensing  ef_regulation_business_compliance  \\\n",
       "0                          5.621940                           7.175250   \n",
       "1                          8.771111                           7.029528   \n",
       "2                          7.916416                           6.782923   \n",
       "3                          5.726521                           6.508295   \n",
       "4                          9.302574                           7.040738   \n",
       "\n",
       "   ef_regulation_business  ef_regulation  ef_score  ef_rank  \n",
       "0                6.850062       7.700885      7.79     31.0  \n",
       "1                5.686753       5.840164      4.86    159.0  \n",
       "2                5.585830       5.974672      5.55    153.0  \n",
       "3                6.139352       5.994265      5.44    154.0  \n",
       "4                7.315051       7.819774      7.98     17.0  \n",
       "\n",
       "[5 rows x 139 columns]"
      ]
     },
     "execution_count": 88,
     "metadata": {},
     "output_type": "execute_result"
    }
   ],
   "source": [
    "freedom_data = pd.read_csv(\"freedom.csv\", low_memory=False)\n",
    "columns_to_drop = []\n",
    "\n",
    "# Normalize country column\n",
    "freedom_data = freedom_data.rename(columns={\"countries\": \"Country\"})\n",
    "columns_to_drop.extend([\"region\"])\n",
    "\n",
    "# Filter out years other than 2019\n",
    "freedom_data[\"year\"] = pd.to_numeric(freedom_data[\"year\"], errors='coerce')\n",
    "freedom_data = freedom_data[freedom_data[\"year\"] == 2019]\n",
    "columns_to_drop.append(\"year\")\n",
    "\n",
    "# Reset and Drop\n",
    "freedom_data = freedom_data.reset_index()\n",
    "columns_to_drop.append(\"index\")\n",
    "freedom_data = freedom_data.drop(columns=columns_to_drop)\n",
    "\n",
    "freedom_data.head()"
   ]
  },
  {
   "cell_type": "markdown",
   "metadata": {},
   "source": [
    "**Merging Both Datasets**"
   ]
  },
  {
   "cell_type": "code",
   "execution_count": null,
   "metadata": {},
   "outputs": [],
   "source": [
    "country_name_mapping = {\n",
    "    \"Bahamas, The\": \"Bahamas\",\n",
    "    \"Congo (Brazzaville)\": \"Congo\",\n",
    "    \"Congo (Kinshasa)\": \"Congo\",\n",
    "    \"Congo, Dem. Rep.\": \"Congo\",\n",
    "    \"Congo, Rep.\": \"Congo\",\n",
    "    \"Cote d'Ivoire\": \"Ivory Coast\",\n",
    "    \"Egypt, Arab Rep.\": \"Egypt\",\n",
    "    \"Gambia, The\": \"Gambia\",\n",
    "    \"Hong Kong SAR, China\": \"Hong Kong\",\n",
    "    \"Iran, Islamic Rep.\": \"Iran\",\n",
    "    \"Korea, Rep.\": \"South Korea\",\n",
    "    \"Kyrgyz Republic\": \"Kyrgyzstan\",\n",
    "    \"Lao PDR\": \"Laos\",\n",
    "    \"Russia\": \"Russian Federation\",\n",
    "    \"Slovak Republic\": \"Slovakia\",\n",
    "    \"Swaziland\": \"Eswatini\",\n",
    "    \"Syria\": \"Syrian Arab Republic\",\n",
    "    \"Trinidad & Tobago\": \"Trinidad and Tobago\",\n",
    "    \"Venezuela, RB\": \"Venezuela\",\n",
    "    \"Yemen, Rep.\": \"Yemen\"\n",
    "}\n"
   ]
  },
  {
   "cell_type": "code",
   "execution_count": 89,
   "metadata": {},
   "outputs": [
    {
     "name": "stdout",
     "output_type": "stream",
     "text": [
      "Trinidad & Tobago\n",
      "Northern Cyprus\n",
      "Ivory Coast\n",
      "Congo (Brazzaville)\n",
      "Laos\n",
      "Palestinian Territories\n",
      "Congo (Kinshasa)\n",
      "Swaziland\n",
      "Bahamas, The\n",
      "Congo, Dem. Rep.\n",
      "Congo, Rep.\n",
      "Egypt, Arab Rep.\n",
      "Gambia, The\n",
      "Hong Kong SAR, China\n",
      "Iran, Islamic Rep.\n",
      "Korea, Rep.\n",
      "Lao PDR\n",
      "Venezuela, RB\n",
      "Yemen, Rep.\n"
     ]
    },
    {
     "data": {
      "text/html": [
       "<div>\n",
       "<style scoped>\n",
       "    .dataframe tbody tr th:only-of-type {\n",
       "        vertical-align: middle;\n",
       "    }\n",
       "\n",
       "    .dataframe tbody tr th {\n",
       "        vertical-align: top;\n",
       "    }\n",
       "\n",
       "    .dataframe thead th {\n",
       "        text-align: right;\n",
       "    }\n",
       "</style>\n",
       "<table border=\"1\" class=\"dataframe\">\n",
       "  <thead>\n",
       "    <tr style=\"text-align: right;\">\n",
       "      <th></th>\n",
       "      <th>Country_x</th>\n",
       "      <th>hf_score</th>\n",
       "      <th>hf_rank</th>\n",
       "      <th>hf_quartile</th>\n",
       "      <th>pf_rol_procedural</th>\n",
       "      <th>pf_rol_civil</th>\n",
       "      <th>pf_rol_criminal</th>\n",
       "      <th>pf_rol_vdem</th>\n",
       "      <th>pf_rol</th>\n",
       "      <th>pf_ss_homicide</th>\n",
       "      <th>...</th>\n",
       "      <th>ef_rank</th>\n",
       "      <th>iso</th>\n",
       "      <th>Score</th>\n",
       "      <th>GDP per capita</th>\n",
       "      <th>Social support</th>\n",
       "      <th>Healthy life expectancy</th>\n",
       "      <th>Freedom to make life choices</th>\n",
       "      <th>Generosity</th>\n",
       "      <th>Perceptions of corruption</th>\n",
       "      <th>Country_y</th>\n",
       "    </tr>\n",
       "  </thead>\n",
       "  <tbody>\n",
       "    <tr>\n",
       "      <th>0</th>\n",
       "      <td>Albania</td>\n",
       "      <td>8.07</td>\n",
       "      <td>42.0</td>\n",
       "      <td>2.0</td>\n",
       "      <td>5.903741</td>\n",
       "      <td>4.725831</td>\n",
       "      <td>4.047825</td>\n",
       "      <td>7.375907</td>\n",
       "      <td>4.892466</td>\n",
       "      <td>9.343023</td>\n",
       "      <td>...</td>\n",
       "      <td>31.0</td>\n",
       "      <td>ALB</td>\n",
       "      <td>4.719</td>\n",
       "      <td>0.947</td>\n",
       "      <td>0.848</td>\n",
       "      <td>0.874</td>\n",
       "      <td>0.383</td>\n",
       "      <td>0.178</td>\n",
       "      <td>0.027</td>\n",
       "      <td>Albania</td>\n",
       "    </tr>\n",
       "    <tr>\n",
       "      <th>1</th>\n",
       "      <td>Algeria</td>\n",
       "      <td>5.08</td>\n",
       "      <td>155.0</td>\n",
       "      <td>4.0</td>\n",
       "      <td>4.913311</td>\n",
       "      <td>5.503872</td>\n",
       "      <td>4.254187</td>\n",
       "      <td>5.345021</td>\n",
       "      <td>4.890457</td>\n",
       "      <td>9.613372</td>\n",
       "      <td>...</td>\n",
       "      <td>159.0</td>\n",
       "      <td>DZA</td>\n",
       "      <td>5.211</td>\n",
       "      <td>1.002</td>\n",
       "      <td>1.160</td>\n",
       "      <td>0.785</td>\n",
       "      <td>0.086</td>\n",
       "      <td>0.073</td>\n",
       "      <td>0.114</td>\n",
       "      <td>Algeria</td>\n",
       "    </tr>\n",
       "    <tr>\n",
       "      <th>2</th>\n",
       "      <td>Angola</td>\n",
       "      <td>5.96</td>\n",
       "      <td>127.0</td>\n",
       "      <td>4.0</td>\n",
       "      <td>2.773262</td>\n",
       "      <td>4.352009</td>\n",
       "      <td>3.478950</td>\n",
       "      <td>5.264300</td>\n",
       "      <td>3.534740</td>\n",
       "      <td>8.590305</td>\n",
       "      <td>...</td>\n",
       "      <td>153.0</td>\n",
       "      <td>AGO</td>\n",
       "      <td>NaN</td>\n",
       "      <td>NaN</td>\n",
       "      <td>NaN</td>\n",
       "      <td>NaN</td>\n",
       "      <td>NaN</td>\n",
       "      <td>NaN</td>\n",
       "      <td>NaN</td>\n",
       "      <td>NaN</td>\n",
       "    </tr>\n",
       "    <tr>\n",
       "      <th>3</th>\n",
       "      <td>Argentina</td>\n",
       "      <td>7.33</td>\n",
       "      <td>75.0</td>\n",
       "      <td>2.0</td>\n",
       "      <td>6.824288</td>\n",
       "      <td>5.679943</td>\n",
       "      <td>4.218635</td>\n",
       "      <td>6.570627</td>\n",
       "      <td>5.574289</td>\n",
       "      <td>8.505814</td>\n",
       "      <td>...</td>\n",
       "      <td>154.0</td>\n",
       "      <td>ARG</td>\n",
       "      <td>6.086</td>\n",
       "      <td>1.092</td>\n",
       "      <td>1.432</td>\n",
       "      <td>0.881</td>\n",
       "      <td>0.471</td>\n",
       "      <td>0.066</td>\n",
       "      <td>0.050</td>\n",
       "      <td>Argentina</td>\n",
       "    </tr>\n",
       "    <tr>\n",
       "      <th>4</th>\n",
       "      <td>Armenia</td>\n",
       "      <td>8.32</td>\n",
       "      <td>34.0</td>\n",
       "      <td>1.0</td>\n",
       "      <td>NaN</td>\n",
       "      <td>NaN</td>\n",
       "      <td>NaN</td>\n",
       "      <td>7.287006</td>\n",
       "      <td>7.287006</td>\n",
       "      <td>9.281977</td>\n",
       "      <td>...</td>\n",
       "      <td>17.0</td>\n",
       "      <td>ARM</td>\n",
       "      <td>4.559</td>\n",
       "      <td>0.850</td>\n",
       "      <td>1.055</td>\n",
       "      <td>0.815</td>\n",
       "      <td>0.283</td>\n",
       "      <td>0.095</td>\n",
       "      <td>0.064</td>\n",
       "      <td>Armenia</td>\n",
       "    </tr>\n",
       "  </tbody>\n",
       "</table>\n",
       "<p>5 rows × 148 columns</p>\n",
       "</div>"
      ],
      "text/plain": [
       "   Country_x  hf_score  hf_rank  hf_quartile  pf_rol_procedural  pf_rol_civil  \\\n",
       "0    Albania      8.07     42.0          2.0           5.903741      4.725831   \n",
       "1    Algeria      5.08    155.0          4.0           4.913311      5.503872   \n",
       "2     Angola      5.96    127.0          4.0           2.773262      4.352009   \n",
       "3  Argentina      7.33     75.0          2.0           6.824288      5.679943   \n",
       "4    Armenia      8.32     34.0          1.0                NaN           NaN   \n",
       "\n",
       "   pf_rol_criminal  pf_rol_vdem    pf_rol  pf_ss_homicide  ...  ef_rank  iso  \\\n",
       "0         4.047825     7.375907  4.892466        9.343023  ...     31.0  ALB   \n",
       "1         4.254187     5.345021  4.890457        9.613372  ...    159.0  DZA   \n",
       "2         3.478950     5.264300  3.534740        8.590305  ...    153.0  AGO   \n",
       "3         4.218635     6.570627  5.574289        8.505814  ...    154.0  ARG   \n",
       "4              NaN     7.287006  7.287006        9.281977  ...     17.0  ARM   \n",
       "\n",
       "   Score  GDP per capita  Social support  Healthy life expectancy  \\\n",
       "0  4.719           0.947           0.848                    0.874   \n",
       "1  5.211           1.002           1.160                    0.785   \n",
       "2    NaN             NaN             NaN                      NaN   \n",
       "3  6.086           1.092           1.432                    0.881   \n",
       "4  4.559           0.850           1.055                    0.815   \n",
       "\n",
       "   Freedom to make life choices  Generosity  Perceptions of corruption  \\\n",
       "0                         0.383       0.178                      0.027   \n",
       "1                         0.086       0.073                      0.114   \n",
       "2                           NaN         NaN                        NaN   \n",
       "3                         0.471       0.066                      0.050   \n",
       "4                         0.283       0.095                      0.064   \n",
       "\n",
       "   Country_y  \n",
       "0    Albania  \n",
       "1    Algeria  \n",
       "2        NaN  \n",
       "3  Argentina  \n",
       "4    Armenia  \n",
       "\n",
       "[5 rows x 148 columns]"
      ]
     },
     "execution_count": 89,
     "metadata": {},
     "output_type": "execute_result"
    }
   ],
   "source": [
    "happiness_data[\"iso\"] = happiness_data['Country'].apply(getIsoCode)\n",
    "freedom_data[\"iso\"] = freedom_data['Country'].apply(getIsoCode)\n",
    "    \n",
    "data = pd.merge(freedom_data, happiness_data, on='iso', how='left')\n",
    "data.head()"
   ]
  },
  {
   "cell_type": "code",
   "execution_count": 90,
   "metadata": {},
   "outputs": [
    {
     "data": {
      "application/vnd.plotly.v1+json": {
       "config": {
        "plotlyServerURL": "https://plot.ly"
       },
       "data": [
        {
         "coloraxis": "coloraxis",
         "customdata": [
          [
           "ALB"
          ],
          [
           "DZA"
          ],
          [
           "AGO"
          ],
          [
           "ARG"
          ],
          [
           "ARM"
          ],
          [
           "AUS"
          ],
          [
           "AUT"
          ],
          [
           "AZE"
          ],
          [
           ""
          ],
          [
           ""
          ],
          [
           ""
          ],
          [
           ""
          ],
          [
           ""
          ],
          [
           ""
          ],
          [
           ""
          ],
          [
           ""
          ],
          [
           "BHR"
          ],
          [
           "BGD"
          ],
          [
           "BRB"
          ],
          [
           "BLR"
          ],
          [
           "BEL"
          ],
          [
           "BLZ"
          ],
          [
           "BEN"
          ],
          [
           "BTN"
          ],
          [
           "BOL"
          ],
          [
           "BIH"
          ],
          [
           "BWA"
          ],
          [
           "BRA"
          ],
          [
           "BRN"
          ],
          [
           "BGR"
          ],
          [
           "BFA"
          ],
          [
           "BDI"
          ],
          [
           "CPV"
          ],
          [
           "KHM"
          ],
          [
           "CMR"
          ],
          [
           "CAN"
          ],
          [
           "CAF"
          ],
          [
           "TCD"
          ],
          [
           "CHL"
          ],
          [
           "CHN"
          ],
          [
           "COL"
          ],
          [
           "COM"
          ],
          [
           ""
          ],
          [
           ""
          ],
          [
           ""
          ],
          [
           ""
          ],
          [
           ""
          ],
          [
           ""
          ],
          [
           ""
          ],
          [
           ""
          ],
          [
           ""
          ],
          [
           ""
          ],
          [
           ""
          ],
          [
           ""
          ],
          [
           ""
          ],
          [
           ""
          ],
          [
           ""
          ],
          [
           ""
          ],
          [
           "CRI"
          ],
          [
           "CIV"
          ],
          [
           "HRV"
          ],
          [
           "CYP"
          ],
          [
           "CZE"
          ],
          [
           "DNK"
          ],
          [
           "DJI"
          ],
          [
           "DOM"
          ],
          [
           "ECU"
          ],
          [
           ""
          ],
          [
           ""
          ],
          [
           ""
          ],
          [
           ""
          ],
          [
           ""
          ],
          [
           ""
          ],
          [
           ""
          ],
          [
           ""
          ],
          [
           "SLV"
          ],
          [
           "EST"
          ],
          [
           "SWZ"
          ],
          [
           "ETH"
          ],
          [
           "FJI"
          ],
          [
           "FIN"
          ],
          [
           "FRA"
          ],
          [
           "GAB"
          ],
          [
           ""
          ],
          [
           ""
          ],
          [
           ""
          ],
          [
           ""
          ],
          [
           ""
          ],
          [
           ""
          ],
          [
           ""
          ],
          [
           ""
          ],
          [
           "GEO"
          ],
          [
           "DEU"
          ],
          [
           "GHA"
          ],
          [
           "GRC"
          ],
          [
           "GTM"
          ],
          [
           "GIN"
          ],
          [
           "GNB"
          ],
          [
           "GUY"
          ],
          [
           "HTI"
          ],
          [
           "HND"
          ],
          [
           ""
          ],
          [
           ""
          ],
          [
           ""
          ],
          [
           ""
          ],
          [
           ""
          ],
          [
           ""
          ],
          [
           ""
          ],
          [
           ""
          ],
          [
           "HUN"
          ],
          [
           "ISL"
          ],
          [
           "IND"
          ],
          [
           "IDN"
          ],
          [
           ""
          ],
          [
           ""
          ],
          [
           ""
          ],
          [
           ""
          ],
          [
           ""
          ],
          [
           ""
          ],
          [
           ""
          ],
          [
           ""
          ],
          [
           "IRQ"
          ],
          [
           "IRL"
          ],
          [
           "ISR"
          ],
          [
           "ITA"
          ],
          [
           "JAM"
          ],
          [
           "JPN"
          ],
          [
           "JOR"
          ],
          [
           "KAZ"
          ],
          [
           "KEN"
          ],
          [
           ""
          ],
          [
           ""
          ],
          [
           ""
          ],
          [
           ""
          ],
          [
           ""
          ],
          [
           ""
          ],
          [
           ""
          ],
          [
           ""
          ],
          [
           "KWT"
          ],
          [
           "KGZ"
          ],
          [
           ""
          ],
          [
           ""
          ],
          [
           ""
          ],
          [
           ""
          ],
          [
           ""
          ],
          [
           ""
          ],
          [
           ""
          ],
          [
           ""
          ],
          [
           "LVA"
          ],
          [
           "LBN"
          ],
          [
           "LSO"
          ],
          [
           "LBR"
          ],
          [
           "LBY"
          ],
          [
           "LTU"
          ],
          [
           "LUX"
          ],
          [
           "MDG"
          ],
          [
           "MWI"
          ],
          [
           "MYS"
          ],
          [
           "MLI"
          ],
          [
           "MLT"
          ],
          [
           "MRT"
          ],
          [
           "MUS"
          ],
          [
           "MEX"
          ],
          [
           "MDA"
          ],
          [
           "MNG"
          ],
          [
           "MNE"
          ],
          [
           "MAR"
          ],
          [
           "MOZ"
          ],
          [
           "MMR"
          ],
          [
           "NAM"
          ],
          [
           "NPL"
          ],
          [
           "NLD"
          ],
          [
           "NZL"
          ],
          [
           "NIC"
          ],
          [
           "NGA"
          ],
          [
           "NGA"
          ],
          [
           "NGA"
          ],
          [
           "NGA"
          ],
          [
           "MKD"
          ],
          [
           "NOR"
          ],
          [
           "OMN"
          ],
          [
           "PAK"
          ],
          [
           "PAN"
          ],
          [
           "PNG"
          ],
          [
           "PRY"
          ],
          [
           "PER"
          ],
          [
           "PHL"
          ],
          [
           "POL"
          ],
          [
           "PRT"
          ],
          [
           "QAT"
          ],
          [
           "ROU"
          ],
          [
           "RUS"
          ],
          [
           "RWA"
          ],
          [
           "SAU"
          ],
          [
           "SEN"
          ],
          [
           "SRB"
          ],
          [
           "SRB"
          ],
          [
           "SYC"
          ],
          [
           "SLE"
          ],
          [
           "SGP"
          ],
          [
           "SVK"
          ],
          [
           "SVN"
          ],
          [
           "SOM"
          ],
          [
           "ZAF"
          ],
          [
           "ESP"
          ],
          [
           "LKA"
          ],
          [
           "SDN"
          ],
          [
           "SUR"
          ],
          [
           "SWE"
          ],
          [
           "CHE"
          ],
          [
           "SYR"
          ],
          [
           "TWN"
          ],
          [
           "TJK"
          ],
          [
           "TZA"
          ],
          [
           "THA"
          ],
          [
           "TLS"
          ],
          [
           "TGO"
          ],
          [
           "TTO"
          ],
          [
           "TUN"
          ],
          [
           "TUR"
          ],
          [
           "UGA"
          ],
          [
           "UKR"
          ],
          [
           "ARE"
          ],
          [
           "GBR"
          ],
          [
           "USA"
          ],
          [
           "URY"
          ],
          [
           ""
          ],
          [
           ""
          ],
          [
           ""
          ],
          [
           ""
          ],
          [
           ""
          ],
          [
           ""
          ],
          [
           ""
          ],
          [
           ""
          ],
          [
           "VNM"
          ],
          [
           ""
          ],
          [
           ""
          ],
          [
           ""
          ],
          [
           ""
          ],
          [
           ""
          ],
          [
           ""
          ],
          [
           ""
          ],
          [
           ""
          ],
          [
           "ZMB"
          ],
          [
           "ZWE"
          ]
         ],
         "geo": "geo",
         "hovertemplate": "<b>%{hovertext}</b><br><br>iso=%{customdata[0]}<br>hf_score=%{z}<extra></extra>",
         "hovertext": [
          "ALB",
          "DZA",
          "AGO",
          "ARG",
          "ARM",
          "AUS",
          "AUT",
          "AZE",
          "",
          "",
          "",
          "",
          "",
          "",
          "",
          "",
          "BHR",
          "BGD",
          "BRB",
          "BLR",
          "BEL",
          "BLZ",
          "BEN",
          "BTN",
          "BOL",
          "BIH",
          "BWA",
          "BRA",
          "BRN",
          "BGR",
          "BFA",
          "BDI",
          "CPV",
          "KHM",
          "CMR",
          "CAN",
          "CAF",
          "TCD",
          "CHL",
          "CHN",
          "COL",
          "COM",
          "",
          "",
          "",
          "",
          "",
          "",
          "",
          "",
          "",
          "",
          "",
          "",
          "",
          "",
          "",
          "",
          "CRI",
          "CIV",
          "HRV",
          "CYP",
          "CZE",
          "DNK",
          "DJI",
          "DOM",
          "ECU",
          "",
          "",
          "",
          "",
          "",
          "",
          "",
          "",
          "SLV",
          "EST",
          "SWZ",
          "ETH",
          "FJI",
          "FIN",
          "FRA",
          "GAB",
          "",
          "",
          "",
          "",
          "",
          "",
          "",
          "",
          "GEO",
          "DEU",
          "GHA",
          "GRC",
          "GTM",
          "GIN",
          "GNB",
          "GUY",
          "HTI",
          "HND",
          "",
          "",
          "",
          "",
          "",
          "",
          "",
          "",
          "HUN",
          "ISL",
          "IND",
          "IDN",
          "",
          "",
          "",
          "",
          "",
          "",
          "",
          "",
          "IRQ",
          "IRL",
          "ISR",
          "ITA",
          "JAM",
          "JPN",
          "JOR",
          "KAZ",
          "KEN",
          "",
          "",
          "",
          "",
          "",
          "",
          "",
          "",
          "KWT",
          "KGZ",
          "",
          "",
          "",
          "",
          "",
          "",
          "",
          "",
          "LVA",
          "LBN",
          "LSO",
          "LBR",
          "LBY",
          "LTU",
          "LUX",
          "MDG",
          "MWI",
          "MYS",
          "MLI",
          "MLT",
          "MRT",
          "MUS",
          "MEX",
          "MDA",
          "MNG",
          "MNE",
          "MAR",
          "MOZ",
          "MMR",
          "NAM",
          "NPL",
          "NLD",
          "NZL",
          "NIC",
          "NGA",
          "NGA",
          "NGA",
          "NGA",
          "MKD",
          "NOR",
          "OMN",
          "PAK",
          "PAN",
          "PNG",
          "PRY",
          "PER",
          "PHL",
          "POL",
          "PRT",
          "QAT",
          "ROU",
          "RUS",
          "RWA",
          "SAU",
          "SEN",
          "SRB",
          "SRB",
          "SYC",
          "SLE",
          "SGP",
          "SVK",
          "SVN",
          "SOM",
          "ZAF",
          "ESP",
          "LKA",
          "SDN",
          "SUR",
          "SWE",
          "CHE",
          "SYR",
          "TWN",
          "TJK",
          "TZA",
          "THA",
          "TLS",
          "TGO",
          "TTO",
          "TUN",
          "TUR",
          "UGA",
          "UKR",
          "ARE",
          "GBR",
          "USA",
          "URY",
          "",
          "",
          "",
          "",
          "",
          "",
          "",
          "",
          "VNM",
          "",
          "",
          "",
          "",
          "",
          "",
          "",
          "",
          "ZMB",
          "ZWE"
         ],
         "locations": [
          "ALB",
          "DZA",
          "AGO",
          "ARG",
          "ARM",
          "AUS",
          "AUT",
          "AZE",
          "",
          "",
          "",
          "",
          "",
          "",
          "",
          "",
          "BHR",
          "BGD",
          "BRB",
          "BLR",
          "BEL",
          "BLZ",
          "BEN",
          "BTN",
          "BOL",
          "BIH",
          "BWA",
          "BRA",
          "BRN",
          "BGR",
          "BFA",
          "BDI",
          "CPV",
          "KHM",
          "CMR",
          "CAN",
          "CAF",
          "TCD",
          "CHL",
          "CHN",
          "COL",
          "COM",
          "",
          "",
          "",
          "",
          "",
          "",
          "",
          "",
          "",
          "",
          "",
          "",
          "",
          "",
          "",
          "",
          "CRI",
          "CIV",
          "HRV",
          "CYP",
          "CZE",
          "DNK",
          "DJI",
          "DOM",
          "ECU",
          "",
          "",
          "",
          "",
          "",
          "",
          "",
          "",
          "SLV",
          "EST",
          "SWZ",
          "ETH",
          "FJI",
          "FIN",
          "FRA",
          "GAB",
          "",
          "",
          "",
          "",
          "",
          "",
          "",
          "",
          "GEO",
          "DEU",
          "GHA",
          "GRC",
          "GTM",
          "GIN",
          "GNB",
          "GUY",
          "HTI",
          "HND",
          "",
          "",
          "",
          "",
          "",
          "",
          "",
          "",
          "HUN",
          "ISL",
          "IND",
          "IDN",
          "",
          "",
          "",
          "",
          "",
          "",
          "",
          "",
          "IRQ",
          "IRL",
          "ISR",
          "ITA",
          "JAM",
          "JPN",
          "JOR",
          "KAZ",
          "KEN",
          "",
          "",
          "",
          "",
          "",
          "",
          "",
          "",
          "KWT",
          "KGZ",
          "",
          "",
          "",
          "",
          "",
          "",
          "",
          "",
          "LVA",
          "LBN",
          "LSO",
          "LBR",
          "LBY",
          "LTU",
          "LUX",
          "MDG",
          "MWI",
          "MYS",
          "MLI",
          "MLT",
          "MRT",
          "MUS",
          "MEX",
          "MDA",
          "MNG",
          "MNE",
          "MAR",
          "MOZ",
          "MMR",
          "NAM",
          "NPL",
          "NLD",
          "NZL",
          "NIC",
          "NGA",
          "NGA",
          "NGA",
          "NGA",
          "MKD",
          "NOR",
          "OMN",
          "PAK",
          "PAN",
          "PNG",
          "PRY",
          "PER",
          "PHL",
          "POL",
          "PRT",
          "QAT",
          "ROU",
          "RUS",
          "RWA",
          "SAU",
          "SEN",
          "SRB",
          "SRB",
          "SYC",
          "SLE",
          "SGP",
          "SVK",
          "SVN",
          "SOM",
          "ZAF",
          "ESP",
          "LKA",
          "SDN",
          "SUR",
          "SWE",
          "CHE",
          "SYR",
          "TWN",
          "TJK",
          "TZA",
          "THA",
          "TLS",
          "TGO",
          "TTO",
          "TUN",
          "TUR",
          "UGA",
          "UKR",
          "ARE",
          "GBR",
          "USA",
          "URY",
          "",
          "",
          "",
          "",
          "",
          "",
          "",
          "",
          "VNM",
          "",
          "",
          "",
          "",
          "",
          "",
          "",
          "",
          "ZMB",
          "ZWE"
         ],
         "name": "",
         "type": "choropleth",
         "z": [
          8.07,
          5.08,
          5.96,
          7.33,
          8.32,
          8.83,
          8.68,
          6.02,
          8.15,
          8.15,
          8.15,
          8.15,
          8.15,
          8.15,
          8.15,
          8.15,
          5.43,
          5.56,
          7.93,
          6.27,
          8.55,
          7.48,
          7.25,
          6.68,
          6.88,
          7.43,
          7.76,
          7.25,
          5.96,
          7.97,
          6.83,
          4.91,
          8.44,
          6.43,
          5.34,
          8.85,
          5.68,
          5.41,
          8.5,
          5.27,
          6.95,
          5.91,
          5.49,
          5.49,
          5.49,
          5.49,
          5.49,
          5.49,
          5.49,
          5.49,
          5.33,
          5.33,
          5.33,
          5.33,
          5.33,
          5.33,
          5.33,
          5.33,
          8.28,
          6.78,
          8.15,
          8.49,
          8.61,
          9.01,
          5.63,
          7.87,
          7.37,
          4.35,
          4.35,
          4.35,
          4.35,
          4.35,
          4.35,
          4.35,
          4.35,
          7.34,
          8.94,
          5.73,
          5.73,
          7.35,
          8.87,
          8.26,
          6.66,
          6.82,
          6.82,
          6.82,
          6.82,
          6.82,
          6.82,
          6.82,
          6.82,
          7.85,
          8.73,
          7.46,
          7.83,
          7.47,
          5.82,
          6.78,
          7.04,
          7.2,
          6.98,
          8.38,
          8.38,
          8.38,
          8.38,
          8.38,
          8.38,
          8.38,
          8.38,
          7.63,
          8.84,
          6.42,
          6.98,
          4.27,
          4.27,
          4.27,
          4.27,
          4.27,
          4.27,
          4.27,
          4.27,
          5.12,
          8.95,
          7.61,
          8.43,
          7.9,
          8.75,
          6.71,
          6.63,
          6.57,
          8.31,
          8.31,
          8.31,
          8.31,
          8.31,
          8.31,
          8.31,
          8.31,
          6.2,
          7.02,
          5.68,
          5.68,
          5.68,
          5.68,
          5.68,
          5.68,
          5.68,
          5.68,
          8.62,
          6.67,
          7,
          6.6,
          4.72,
          8.72,
          8.85,
          6.86,
          6.92,
          7.08,
          6.19,
          8.43,
          5.56,
          8.02,
          6.8,
          7.6,
          7.97,
          7.91,
          5.68,
          6.77,
          5.4,
          7.57,
          7.01,
          8.8,
          9.04,
          6.13,
          6.14,
          6.14,
          6.1,
          6.1,
          7.68,
          8.81,
          5.77,
          5.48,
          7.94,
          7.17,
          7.46,
          7.83,
          6.69,
          7.92,
          8.69,
          5.96,
          8.25,
          6.11,
          6.19,
          4.77,
          6.9,
          7.5,
          7.5,
          7.91,
          6.47,
          7.86,
          8.15,
          8.33,
          4.71,
          7.15,
          8.49,
          6.47,
          4.04,
          7.51,
          8.85,
          9.17,
          3.36,
          8.8,
          5.44,
          6.29,
          6.75,
          7.36,
          6.28,
          7.78,
          6.3,
          5.63,
          6.17,
          6.77,
          5.89,
          8.79,
          8.75,
          8.4,
          3.9,
          3.9,
          3.9,
          3.9,
          3.9,
          3.9,
          3.9,
          3.9,
          5.74,
          3.99,
          3.99,
          3.99,
          3.99,
          3.99,
          3.99,
          3.99,
          3.99,
          6.6,
          5.3
         ]
        }
       ],
       "layout": {
        "coloraxis": {
         "colorbar": {
          "title": {
           "text": "hf_score"
          }
         },
         "colorscale": [
          [
           0,
           "rgb(177, 63, 100)"
          ],
          [
           0.16666666666666666,
           "rgb(202, 82, 104)"
          ],
          [
           0.3333333333333333,
           "rgb(221, 104, 108)"
          ],
          [
           0.5,
           "rgb(234, 129, 113)"
          ],
          [
           0.6666666666666666,
           "rgb(241, 156, 124)"
          ],
          [
           0.8333333333333334,
           "rgb(245, 183, 142)"
          ],
          [
           1,
           "rgb(246, 210, 169)"
          ]
         ]
        },
        "geo": {
         "center": {},
         "domain": {
          "x": [
           0,
           1
          ],
          "y": [
           0,
           1
          ]
         }
        },
        "legend": {
         "tracegroupgap": 0
        },
        "template": {
         "data": {
          "bar": [
           {
            "error_x": {
             "color": "#2a3f5f"
            },
            "error_y": {
             "color": "#2a3f5f"
            },
            "marker": {
             "line": {
              "color": "#E5ECF6",
              "width": 0.5
             },
             "pattern": {
              "fillmode": "overlay",
              "size": 10,
              "solidity": 0.2
             }
            },
            "type": "bar"
           }
          ],
          "barpolar": [
           {
            "marker": {
             "line": {
              "color": "#E5ECF6",
              "width": 0.5
             },
             "pattern": {
              "fillmode": "overlay",
              "size": 10,
              "solidity": 0.2
             }
            },
            "type": "barpolar"
           }
          ],
          "carpet": [
           {
            "aaxis": {
             "endlinecolor": "#2a3f5f",
             "gridcolor": "white",
             "linecolor": "white",
             "minorgridcolor": "white",
             "startlinecolor": "#2a3f5f"
            },
            "baxis": {
             "endlinecolor": "#2a3f5f",
             "gridcolor": "white",
             "linecolor": "white",
             "minorgridcolor": "white",
             "startlinecolor": "#2a3f5f"
            },
            "type": "carpet"
           }
          ],
          "choropleth": [
           {
            "colorbar": {
             "outlinewidth": 0,
             "ticks": ""
            },
            "type": "choropleth"
           }
          ],
          "contour": [
           {
            "colorbar": {
             "outlinewidth": 0,
             "ticks": ""
            },
            "colorscale": [
             [
              0,
              "#0d0887"
             ],
             [
              0.1111111111111111,
              "#46039f"
             ],
             [
              0.2222222222222222,
              "#7201a8"
             ],
             [
              0.3333333333333333,
              "#9c179e"
             ],
             [
              0.4444444444444444,
              "#bd3786"
             ],
             [
              0.5555555555555556,
              "#d8576b"
             ],
             [
              0.6666666666666666,
              "#ed7953"
             ],
             [
              0.7777777777777778,
              "#fb9f3a"
             ],
             [
              0.8888888888888888,
              "#fdca26"
             ],
             [
              1,
              "#f0f921"
             ]
            ],
            "type": "contour"
           }
          ],
          "contourcarpet": [
           {
            "colorbar": {
             "outlinewidth": 0,
             "ticks": ""
            },
            "type": "contourcarpet"
           }
          ],
          "heatmap": [
           {
            "colorbar": {
             "outlinewidth": 0,
             "ticks": ""
            },
            "colorscale": [
             [
              0,
              "#0d0887"
             ],
             [
              0.1111111111111111,
              "#46039f"
             ],
             [
              0.2222222222222222,
              "#7201a8"
             ],
             [
              0.3333333333333333,
              "#9c179e"
             ],
             [
              0.4444444444444444,
              "#bd3786"
             ],
             [
              0.5555555555555556,
              "#d8576b"
             ],
             [
              0.6666666666666666,
              "#ed7953"
             ],
             [
              0.7777777777777778,
              "#fb9f3a"
             ],
             [
              0.8888888888888888,
              "#fdca26"
             ],
             [
              1,
              "#f0f921"
             ]
            ],
            "type": "heatmap"
           }
          ],
          "heatmapgl": [
           {
            "colorbar": {
             "outlinewidth": 0,
             "ticks": ""
            },
            "colorscale": [
             [
              0,
              "#0d0887"
             ],
             [
              0.1111111111111111,
              "#46039f"
             ],
             [
              0.2222222222222222,
              "#7201a8"
             ],
             [
              0.3333333333333333,
              "#9c179e"
             ],
             [
              0.4444444444444444,
              "#bd3786"
             ],
             [
              0.5555555555555556,
              "#d8576b"
             ],
             [
              0.6666666666666666,
              "#ed7953"
             ],
             [
              0.7777777777777778,
              "#fb9f3a"
             ],
             [
              0.8888888888888888,
              "#fdca26"
             ],
             [
              1,
              "#f0f921"
             ]
            ],
            "type": "heatmapgl"
           }
          ],
          "histogram": [
           {
            "marker": {
             "pattern": {
              "fillmode": "overlay",
              "size": 10,
              "solidity": 0.2
             }
            },
            "type": "histogram"
           }
          ],
          "histogram2d": [
           {
            "colorbar": {
             "outlinewidth": 0,
             "ticks": ""
            },
            "colorscale": [
             [
              0,
              "#0d0887"
             ],
             [
              0.1111111111111111,
              "#46039f"
             ],
             [
              0.2222222222222222,
              "#7201a8"
             ],
             [
              0.3333333333333333,
              "#9c179e"
             ],
             [
              0.4444444444444444,
              "#bd3786"
             ],
             [
              0.5555555555555556,
              "#d8576b"
             ],
             [
              0.6666666666666666,
              "#ed7953"
             ],
             [
              0.7777777777777778,
              "#fb9f3a"
             ],
             [
              0.8888888888888888,
              "#fdca26"
             ],
             [
              1,
              "#f0f921"
             ]
            ],
            "type": "histogram2d"
           }
          ],
          "histogram2dcontour": [
           {
            "colorbar": {
             "outlinewidth": 0,
             "ticks": ""
            },
            "colorscale": [
             [
              0,
              "#0d0887"
             ],
             [
              0.1111111111111111,
              "#46039f"
             ],
             [
              0.2222222222222222,
              "#7201a8"
             ],
             [
              0.3333333333333333,
              "#9c179e"
             ],
             [
              0.4444444444444444,
              "#bd3786"
             ],
             [
              0.5555555555555556,
              "#d8576b"
             ],
             [
              0.6666666666666666,
              "#ed7953"
             ],
             [
              0.7777777777777778,
              "#fb9f3a"
             ],
             [
              0.8888888888888888,
              "#fdca26"
             ],
             [
              1,
              "#f0f921"
             ]
            ],
            "type": "histogram2dcontour"
           }
          ],
          "mesh3d": [
           {
            "colorbar": {
             "outlinewidth": 0,
             "ticks": ""
            },
            "type": "mesh3d"
           }
          ],
          "parcoords": [
           {
            "line": {
             "colorbar": {
              "outlinewidth": 0,
              "ticks": ""
             }
            },
            "type": "parcoords"
           }
          ],
          "pie": [
           {
            "automargin": true,
            "type": "pie"
           }
          ],
          "scatter": [
           {
            "fillpattern": {
             "fillmode": "overlay",
             "size": 10,
             "solidity": 0.2
            },
            "type": "scatter"
           }
          ],
          "scatter3d": [
           {
            "line": {
             "colorbar": {
              "outlinewidth": 0,
              "ticks": ""
             }
            },
            "marker": {
             "colorbar": {
              "outlinewidth": 0,
              "ticks": ""
             }
            },
            "type": "scatter3d"
           }
          ],
          "scattercarpet": [
           {
            "marker": {
             "colorbar": {
              "outlinewidth": 0,
              "ticks": ""
             }
            },
            "type": "scattercarpet"
           }
          ],
          "scattergeo": [
           {
            "marker": {
             "colorbar": {
              "outlinewidth": 0,
              "ticks": ""
             }
            },
            "type": "scattergeo"
           }
          ],
          "scattergl": [
           {
            "marker": {
             "colorbar": {
              "outlinewidth": 0,
              "ticks": ""
             }
            },
            "type": "scattergl"
           }
          ],
          "scattermapbox": [
           {
            "marker": {
             "colorbar": {
              "outlinewidth": 0,
              "ticks": ""
             }
            },
            "type": "scattermapbox"
           }
          ],
          "scatterpolar": [
           {
            "marker": {
             "colorbar": {
              "outlinewidth": 0,
              "ticks": ""
             }
            },
            "type": "scatterpolar"
           }
          ],
          "scatterpolargl": [
           {
            "marker": {
             "colorbar": {
              "outlinewidth": 0,
              "ticks": ""
             }
            },
            "type": "scatterpolargl"
           }
          ],
          "scatterternary": [
           {
            "marker": {
             "colorbar": {
              "outlinewidth": 0,
              "ticks": ""
             }
            },
            "type": "scatterternary"
           }
          ],
          "surface": [
           {
            "colorbar": {
             "outlinewidth": 0,
             "ticks": ""
            },
            "colorscale": [
             [
              0,
              "#0d0887"
             ],
             [
              0.1111111111111111,
              "#46039f"
             ],
             [
              0.2222222222222222,
              "#7201a8"
             ],
             [
              0.3333333333333333,
              "#9c179e"
             ],
             [
              0.4444444444444444,
              "#bd3786"
             ],
             [
              0.5555555555555556,
              "#d8576b"
             ],
             [
              0.6666666666666666,
              "#ed7953"
             ],
             [
              0.7777777777777778,
              "#fb9f3a"
             ],
             [
              0.8888888888888888,
              "#fdca26"
             ],
             [
              1,
              "#f0f921"
             ]
            ],
            "type": "surface"
           }
          ],
          "table": [
           {
            "cells": {
             "fill": {
              "color": "#EBF0F8"
             },
             "line": {
              "color": "white"
             }
            },
            "header": {
             "fill": {
              "color": "#C8D4E3"
             },
             "line": {
              "color": "white"
             }
            },
            "type": "table"
           }
          ]
         },
         "layout": {
          "annotationdefaults": {
           "arrowcolor": "#2a3f5f",
           "arrowhead": 0,
           "arrowwidth": 1
          },
          "autotypenumbers": "strict",
          "coloraxis": {
           "colorbar": {
            "outlinewidth": 0,
            "ticks": ""
           }
          },
          "colorscale": {
           "diverging": [
            [
             0,
             "#8e0152"
            ],
            [
             0.1,
             "#c51b7d"
            ],
            [
             0.2,
             "#de77ae"
            ],
            [
             0.3,
             "#f1b6da"
            ],
            [
             0.4,
             "#fde0ef"
            ],
            [
             0.5,
             "#f7f7f7"
            ],
            [
             0.6,
             "#e6f5d0"
            ],
            [
             0.7,
             "#b8e186"
            ],
            [
             0.8,
             "#7fbc41"
            ],
            [
             0.9,
             "#4d9221"
            ],
            [
             1,
             "#276419"
            ]
           ],
           "sequential": [
            [
             0,
             "#0d0887"
            ],
            [
             0.1111111111111111,
             "#46039f"
            ],
            [
             0.2222222222222222,
             "#7201a8"
            ],
            [
             0.3333333333333333,
             "#9c179e"
            ],
            [
             0.4444444444444444,
             "#bd3786"
            ],
            [
             0.5555555555555556,
             "#d8576b"
            ],
            [
             0.6666666666666666,
             "#ed7953"
            ],
            [
             0.7777777777777778,
             "#fb9f3a"
            ],
            [
             0.8888888888888888,
             "#fdca26"
            ],
            [
             1,
             "#f0f921"
            ]
           ],
           "sequentialminus": [
            [
             0,
             "#0d0887"
            ],
            [
             0.1111111111111111,
             "#46039f"
            ],
            [
             0.2222222222222222,
             "#7201a8"
            ],
            [
             0.3333333333333333,
             "#9c179e"
            ],
            [
             0.4444444444444444,
             "#bd3786"
            ],
            [
             0.5555555555555556,
             "#d8576b"
            ],
            [
             0.6666666666666666,
             "#ed7953"
            ],
            [
             0.7777777777777778,
             "#fb9f3a"
            ],
            [
             0.8888888888888888,
             "#fdca26"
            ],
            [
             1,
             "#f0f921"
            ]
           ]
          },
          "colorway": [
           "#636efa",
           "#EF553B",
           "#00cc96",
           "#ab63fa",
           "#FFA15A",
           "#19d3f3",
           "#FF6692",
           "#B6E880",
           "#FF97FF",
           "#FECB52"
          ],
          "font": {
           "color": "#2a3f5f"
          },
          "geo": {
           "bgcolor": "white",
           "lakecolor": "white",
           "landcolor": "#E5ECF6",
           "showlakes": true,
           "showland": true,
           "subunitcolor": "white"
          },
          "hoverlabel": {
           "align": "left"
          },
          "hovermode": "closest",
          "mapbox": {
           "style": "light"
          },
          "paper_bgcolor": "white",
          "plot_bgcolor": "#E5ECF6",
          "polar": {
           "angularaxis": {
            "gridcolor": "white",
            "linecolor": "white",
            "ticks": ""
           },
           "bgcolor": "#E5ECF6",
           "radialaxis": {
            "gridcolor": "white",
            "linecolor": "white",
            "ticks": ""
           }
          },
          "scene": {
           "xaxis": {
            "backgroundcolor": "#E5ECF6",
            "gridcolor": "white",
            "gridwidth": 2,
            "linecolor": "white",
            "showbackground": true,
            "ticks": "",
            "zerolinecolor": "white"
           },
           "yaxis": {
            "backgroundcolor": "#E5ECF6",
            "gridcolor": "white",
            "gridwidth": 2,
            "linecolor": "white",
            "showbackground": true,
            "ticks": "",
            "zerolinecolor": "white"
           },
           "zaxis": {
            "backgroundcolor": "#E5ECF6",
            "gridcolor": "white",
            "gridwidth": 2,
            "linecolor": "white",
            "showbackground": true,
            "ticks": "",
            "zerolinecolor": "white"
           }
          },
          "shapedefaults": {
           "line": {
            "color": "#2a3f5f"
           }
          },
          "ternary": {
           "aaxis": {
            "gridcolor": "white",
            "linecolor": "white",
            "ticks": ""
           },
           "baxis": {
            "gridcolor": "white",
            "linecolor": "white",
            "ticks": ""
           },
           "bgcolor": "#E5ECF6",
           "caxis": {
            "gridcolor": "white",
            "linecolor": "white",
            "ticks": ""
           }
          },
          "title": {
           "x": 0.05
          },
          "xaxis": {
           "automargin": true,
           "gridcolor": "white",
           "linecolor": "white",
           "ticks": "",
           "title": {
            "standoff": 15
           },
           "zerolinecolor": "white",
           "zerolinewidth": 2
          },
          "yaxis": {
           "automargin": true,
           "gridcolor": "white",
           "linecolor": "white",
           "ticks": "",
           "title": {
            "standoff": 15
           },
           "zerolinecolor": "white",
           "zerolinewidth": 2
          }
         }
        },
        "title": {
         "text": "Freedom around the world"
        }
       }
      },
      "text/html": [
       "<div>                            <div id=\"dfc118ee-4eac-4daa-955a-c74be37e15fa\" class=\"plotly-graph-div\" style=\"height:525px; width:100%;\"></div>            <script type=\"text/javascript\">                require([\"plotly\"], function(Plotly) {                    window.PLOTLYENV=window.PLOTLYENV || {};                                    if (document.getElementById(\"dfc118ee-4eac-4daa-955a-c74be37e15fa\")) {                    Plotly.newPlot(                        \"dfc118ee-4eac-4daa-955a-c74be37e15fa\",                        [{\"coloraxis\":\"coloraxis\",\"customdata\":[[\"ALB\"],[\"DZA\"],[\"AGO\"],[\"ARG\"],[\"ARM\"],[\"AUS\"],[\"AUT\"],[\"AZE\"],[\"\"],[\"\"],[\"\"],[\"\"],[\"\"],[\"\"],[\"\"],[\"\"],[\"BHR\"],[\"BGD\"],[\"BRB\"],[\"BLR\"],[\"BEL\"],[\"BLZ\"],[\"BEN\"],[\"BTN\"],[\"BOL\"],[\"BIH\"],[\"BWA\"],[\"BRA\"],[\"BRN\"],[\"BGR\"],[\"BFA\"],[\"BDI\"],[\"CPV\"],[\"KHM\"],[\"CMR\"],[\"CAN\"],[\"CAF\"],[\"TCD\"],[\"CHL\"],[\"CHN\"],[\"COL\"],[\"COM\"],[\"\"],[\"\"],[\"\"],[\"\"],[\"\"],[\"\"],[\"\"],[\"\"],[\"\"],[\"\"],[\"\"],[\"\"],[\"\"],[\"\"],[\"\"],[\"\"],[\"CRI\"],[\"CIV\"],[\"HRV\"],[\"CYP\"],[\"CZE\"],[\"DNK\"],[\"DJI\"],[\"DOM\"],[\"ECU\"],[\"\"],[\"\"],[\"\"],[\"\"],[\"\"],[\"\"],[\"\"],[\"\"],[\"SLV\"],[\"EST\"],[\"SWZ\"],[\"ETH\"],[\"FJI\"],[\"FIN\"],[\"FRA\"],[\"GAB\"],[\"\"],[\"\"],[\"\"],[\"\"],[\"\"],[\"\"],[\"\"],[\"\"],[\"GEO\"],[\"DEU\"],[\"GHA\"],[\"GRC\"],[\"GTM\"],[\"GIN\"],[\"GNB\"],[\"GUY\"],[\"HTI\"],[\"HND\"],[\"\"],[\"\"],[\"\"],[\"\"],[\"\"],[\"\"],[\"\"],[\"\"],[\"HUN\"],[\"ISL\"],[\"IND\"],[\"IDN\"],[\"\"],[\"\"],[\"\"],[\"\"],[\"\"],[\"\"],[\"\"],[\"\"],[\"IRQ\"],[\"IRL\"],[\"ISR\"],[\"ITA\"],[\"JAM\"],[\"JPN\"],[\"JOR\"],[\"KAZ\"],[\"KEN\"],[\"\"],[\"\"],[\"\"],[\"\"],[\"\"],[\"\"],[\"\"],[\"\"],[\"KWT\"],[\"KGZ\"],[\"\"],[\"\"],[\"\"],[\"\"],[\"\"],[\"\"],[\"\"],[\"\"],[\"LVA\"],[\"LBN\"],[\"LSO\"],[\"LBR\"],[\"LBY\"],[\"LTU\"],[\"LUX\"],[\"MDG\"],[\"MWI\"],[\"MYS\"],[\"MLI\"],[\"MLT\"],[\"MRT\"],[\"MUS\"],[\"MEX\"],[\"MDA\"],[\"MNG\"],[\"MNE\"],[\"MAR\"],[\"MOZ\"],[\"MMR\"],[\"NAM\"],[\"NPL\"],[\"NLD\"],[\"NZL\"],[\"NIC\"],[\"NGA\"],[\"NGA\"],[\"NGA\"],[\"NGA\"],[\"MKD\"],[\"NOR\"],[\"OMN\"],[\"PAK\"],[\"PAN\"],[\"PNG\"],[\"PRY\"],[\"PER\"],[\"PHL\"],[\"POL\"],[\"PRT\"],[\"QAT\"],[\"ROU\"],[\"RUS\"],[\"RWA\"],[\"SAU\"],[\"SEN\"],[\"SRB\"],[\"SRB\"],[\"SYC\"],[\"SLE\"],[\"SGP\"],[\"SVK\"],[\"SVN\"],[\"SOM\"],[\"ZAF\"],[\"ESP\"],[\"LKA\"],[\"SDN\"],[\"SUR\"],[\"SWE\"],[\"CHE\"],[\"SYR\"],[\"TWN\"],[\"TJK\"],[\"TZA\"],[\"THA\"],[\"TLS\"],[\"TGO\"],[\"TTO\"],[\"TUN\"],[\"TUR\"],[\"UGA\"],[\"UKR\"],[\"ARE\"],[\"GBR\"],[\"USA\"],[\"URY\"],[\"\"],[\"\"],[\"\"],[\"\"],[\"\"],[\"\"],[\"\"],[\"\"],[\"VNM\"],[\"\"],[\"\"],[\"\"],[\"\"],[\"\"],[\"\"],[\"\"],[\"\"],[\"ZMB\"],[\"ZWE\"]],\"geo\":\"geo\",\"hovertemplate\":\"\\u003cb\\u003e%{hovertext}\\u003c\\u002fb\\u003e\\u003cbr\\u003e\\u003cbr\\u003eiso=%{customdata[0]}\\u003cbr\\u003ehf_score=%{z}\\u003cextra\\u003e\\u003c\\u002fextra\\u003e\",\"hovertext\":[\"ALB\",\"DZA\",\"AGO\",\"ARG\",\"ARM\",\"AUS\",\"AUT\",\"AZE\",\"\",\"\",\"\",\"\",\"\",\"\",\"\",\"\",\"BHR\",\"BGD\",\"BRB\",\"BLR\",\"BEL\",\"BLZ\",\"BEN\",\"BTN\",\"BOL\",\"BIH\",\"BWA\",\"BRA\",\"BRN\",\"BGR\",\"BFA\",\"BDI\",\"CPV\",\"KHM\",\"CMR\",\"CAN\",\"CAF\",\"TCD\",\"CHL\",\"CHN\",\"COL\",\"COM\",\"\",\"\",\"\",\"\",\"\",\"\",\"\",\"\",\"\",\"\",\"\",\"\",\"\",\"\",\"\",\"\",\"CRI\",\"CIV\",\"HRV\",\"CYP\",\"CZE\",\"DNK\",\"DJI\",\"DOM\",\"ECU\",\"\",\"\",\"\",\"\",\"\",\"\",\"\",\"\",\"SLV\",\"EST\",\"SWZ\",\"ETH\",\"FJI\",\"FIN\",\"FRA\",\"GAB\",\"\",\"\",\"\",\"\",\"\",\"\",\"\",\"\",\"GEO\",\"DEU\",\"GHA\",\"GRC\",\"GTM\",\"GIN\",\"GNB\",\"GUY\",\"HTI\",\"HND\",\"\",\"\",\"\",\"\",\"\",\"\",\"\",\"\",\"HUN\",\"ISL\",\"IND\",\"IDN\",\"\",\"\",\"\",\"\",\"\",\"\",\"\",\"\",\"IRQ\",\"IRL\",\"ISR\",\"ITA\",\"JAM\",\"JPN\",\"JOR\",\"KAZ\",\"KEN\",\"\",\"\",\"\",\"\",\"\",\"\",\"\",\"\",\"KWT\",\"KGZ\",\"\",\"\",\"\",\"\",\"\",\"\",\"\",\"\",\"LVA\",\"LBN\",\"LSO\",\"LBR\",\"LBY\",\"LTU\",\"LUX\",\"MDG\",\"MWI\",\"MYS\",\"MLI\",\"MLT\",\"MRT\",\"MUS\",\"MEX\",\"MDA\",\"MNG\",\"MNE\",\"MAR\",\"MOZ\",\"MMR\",\"NAM\",\"NPL\",\"NLD\",\"NZL\",\"NIC\",\"NGA\",\"NGA\",\"NGA\",\"NGA\",\"MKD\",\"NOR\",\"OMN\",\"PAK\",\"PAN\",\"PNG\",\"PRY\",\"PER\",\"PHL\",\"POL\",\"PRT\",\"QAT\",\"ROU\",\"RUS\",\"RWA\",\"SAU\",\"SEN\",\"SRB\",\"SRB\",\"SYC\",\"SLE\",\"SGP\",\"SVK\",\"SVN\",\"SOM\",\"ZAF\",\"ESP\",\"LKA\",\"SDN\",\"SUR\",\"SWE\",\"CHE\",\"SYR\",\"TWN\",\"TJK\",\"TZA\",\"THA\",\"TLS\",\"TGO\",\"TTO\",\"TUN\",\"TUR\",\"UGA\",\"UKR\",\"ARE\",\"GBR\",\"USA\",\"URY\",\"\",\"\",\"\",\"\",\"\",\"\",\"\",\"\",\"VNM\",\"\",\"\",\"\",\"\",\"\",\"\",\"\",\"\",\"ZMB\",\"ZWE\"],\"locations\":[\"ALB\",\"DZA\",\"AGO\",\"ARG\",\"ARM\",\"AUS\",\"AUT\",\"AZE\",\"\",\"\",\"\",\"\",\"\",\"\",\"\",\"\",\"BHR\",\"BGD\",\"BRB\",\"BLR\",\"BEL\",\"BLZ\",\"BEN\",\"BTN\",\"BOL\",\"BIH\",\"BWA\",\"BRA\",\"BRN\",\"BGR\",\"BFA\",\"BDI\",\"CPV\",\"KHM\",\"CMR\",\"CAN\",\"CAF\",\"TCD\",\"CHL\",\"CHN\",\"COL\",\"COM\",\"\",\"\",\"\",\"\",\"\",\"\",\"\",\"\",\"\",\"\",\"\",\"\",\"\",\"\",\"\",\"\",\"CRI\",\"CIV\",\"HRV\",\"CYP\",\"CZE\",\"DNK\",\"DJI\",\"DOM\",\"ECU\",\"\",\"\",\"\",\"\",\"\",\"\",\"\",\"\",\"SLV\",\"EST\",\"SWZ\",\"ETH\",\"FJI\",\"FIN\",\"FRA\",\"GAB\",\"\",\"\",\"\",\"\",\"\",\"\",\"\",\"\",\"GEO\",\"DEU\",\"GHA\",\"GRC\",\"GTM\",\"GIN\",\"GNB\",\"GUY\",\"HTI\",\"HND\",\"\",\"\",\"\",\"\",\"\",\"\",\"\",\"\",\"HUN\",\"ISL\",\"IND\",\"IDN\",\"\",\"\",\"\",\"\",\"\",\"\",\"\",\"\",\"IRQ\",\"IRL\",\"ISR\",\"ITA\",\"JAM\",\"JPN\",\"JOR\",\"KAZ\",\"KEN\",\"\",\"\",\"\",\"\",\"\",\"\",\"\",\"\",\"KWT\",\"KGZ\",\"\",\"\",\"\",\"\",\"\",\"\",\"\",\"\",\"LVA\",\"LBN\",\"LSO\",\"LBR\",\"LBY\",\"LTU\",\"LUX\",\"MDG\",\"MWI\",\"MYS\",\"MLI\",\"MLT\",\"MRT\",\"MUS\",\"MEX\",\"MDA\",\"MNG\",\"MNE\",\"MAR\",\"MOZ\",\"MMR\",\"NAM\",\"NPL\",\"NLD\",\"NZL\",\"NIC\",\"NGA\",\"NGA\",\"NGA\",\"NGA\",\"MKD\",\"NOR\",\"OMN\",\"PAK\",\"PAN\",\"PNG\",\"PRY\",\"PER\",\"PHL\",\"POL\",\"PRT\",\"QAT\",\"ROU\",\"RUS\",\"RWA\",\"SAU\",\"SEN\",\"SRB\",\"SRB\",\"SYC\",\"SLE\",\"SGP\",\"SVK\",\"SVN\",\"SOM\",\"ZAF\",\"ESP\",\"LKA\",\"SDN\",\"SUR\",\"SWE\",\"CHE\",\"SYR\",\"TWN\",\"TJK\",\"TZA\",\"THA\",\"TLS\",\"TGO\",\"TTO\",\"TUN\",\"TUR\",\"UGA\",\"UKR\",\"ARE\",\"GBR\",\"USA\",\"URY\",\"\",\"\",\"\",\"\",\"\",\"\",\"\",\"\",\"VNM\",\"\",\"\",\"\",\"\",\"\",\"\",\"\",\"\",\"ZMB\",\"ZWE\"],\"name\":\"\",\"z\":[8.07,5.08,5.96,7.33,8.32,8.83,8.68,6.02,8.15,8.15,8.15,8.15,8.15,8.15,8.15,8.15,5.43,5.56,7.93,6.27,8.55,7.48,7.25,6.68,6.88,7.43,7.76,7.25,5.96,7.97,6.83,4.91,8.44,6.43,5.34,8.85,5.68,5.41,8.5,5.27,6.95,5.91,5.49,5.49,5.49,5.49,5.49,5.49,5.49,5.49,5.33,5.33,5.33,5.33,5.33,5.33,5.33,5.33,8.28,6.78,8.15,8.49,8.61,9.01,5.63,7.87,7.37,4.35,4.35,4.35,4.35,4.35,4.35,4.35,4.35,7.34,8.94,5.73,5.73,7.35,8.87,8.26,6.66,6.82,6.82,6.82,6.82,6.82,6.82,6.82,6.82,7.85,8.73,7.46,7.83,7.47,5.82,6.78,7.04,7.2,6.98,8.38,8.38,8.38,8.38,8.38,8.38,8.38,8.38,7.63,8.84,6.42,6.98,4.27,4.27,4.27,4.27,4.27,4.27,4.27,4.27,5.12,8.95,7.61,8.43,7.9,8.75,6.71,6.63,6.57,8.31,8.31,8.31,8.31,8.31,8.31,8.31,8.31,6.2,7.02,5.68,5.68,5.68,5.68,5.68,5.68,5.68,5.68,8.62,6.67,7.0,6.6,4.72,8.72,8.85,6.86,6.92,7.08,6.19,8.43,5.56,8.02,6.8,7.6,7.97,7.91,5.68,6.77,5.4,7.57,7.01,8.8,9.04,6.13,6.14,6.14,6.1,6.1,7.68,8.81,5.77,5.48,7.94,7.17,7.46,7.83,6.69,7.92,8.69,5.96,8.25,6.11,6.19,4.77,6.9,7.5,7.5,7.91,6.47,7.86,8.15,8.33,4.71,7.15,8.49,6.47,4.04,7.51,8.85,9.17,3.36,8.8,5.44,6.29,6.75,7.36,6.28,7.78,6.3,5.63,6.17,6.77,5.89,8.79,8.75,8.4,3.9,3.9,3.9,3.9,3.9,3.9,3.9,3.9,5.74,3.99,3.99,3.99,3.99,3.99,3.99,3.99,3.99,6.6,5.3],\"type\":\"choropleth\"}],                        {\"template\":{\"data\":{\"histogram2dcontour\":[{\"type\":\"histogram2dcontour\",\"colorbar\":{\"outlinewidth\":0,\"ticks\":\"\"},\"colorscale\":[[0.0,\"#0d0887\"],[0.1111111111111111,\"#46039f\"],[0.2222222222222222,\"#7201a8\"],[0.3333333333333333,\"#9c179e\"],[0.4444444444444444,\"#bd3786\"],[0.5555555555555556,\"#d8576b\"],[0.6666666666666666,\"#ed7953\"],[0.7777777777777778,\"#fb9f3a\"],[0.8888888888888888,\"#fdca26\"],[1.0,\"#f0f921\"]]}],\"choropleth\":[{\"type\":\"choropleth\",\"colorbar\":{\"outlinewidth\":0,\"ticks\":\"\"}}],\"histogram2d\":[{\"type\":\"histogram2d\",\"colorbar\":{\"outlinewidth\":0,\"ticks\":\"\"},\"colorscale\":[[0.0,\"#0d0887\"],[0.1111111111111111,\"#46039f\"],[0.2222222222222222,\"#7201a8\"],[0.3333333333333333,\"#9c179e\"],[0.4444444444444444,\"#bd3786\"],[0.5555555555555556,\"#d8576b\"],[0.6666666666666666,\"#ed7953\"],[0.7777777777777778,\"#fb9f3a\"],[0.8888888888888888,\"#fdca26\"],[1.0,\"#f0f921\"]]}],\"heatmap\":[{\"type\":\"heatmap\",\"colorbar\":{\"outlinewidth\":0,\"ticks\":\"\"},\"colorscale\":[[0.0,\"#0d0887\"],[0.1111111111111111,\"#46039f\"],[0.2222222222222222,\"#7201a8\"],[0.3333333333333333,\"#9c179e\"],[0.4444444444444444,\"#bd3786\"],[0.5555555555555556,\"#d8576b\"],[0.6666666666666666,\"#ed7953\"],[0.7777777777777778,\"#fb9f3a\"],[0.8888888888888888,\"#fdca26\"],[1.0,\"#f0f921\"]]}],\"heatmapgl\":[{\"type\":\"heatmapgl\",\"colorbar\":{\"outlinewidth\":0,\"ticks\":\"\"},\"colorscale\":[[0.0,\"#0d0887\"],[0.1111111111111111,\"#46039f\"],[0.2222222222222222,\"#7201a8\"],[0.3333333333333333,\"#9c179e\"],[0.4444444444444444,\"#bd3786\"],[0.5555555555555556,\"#d8576b\"],[0.6666666666666666,\"#ed7953\"],[0.7777777777777778,\"#fb9f3a\"],[0.8888888888888888,\"#fdca26\"],[1.0,\"#f0f921\"]]}],\"contourcarpet\":[{\"type\":\"contourcarpet\",\"colorbar\":{\"outlinewidth\":0,\"ticks\":\"\"}}],\"contour\":[{\"type\":\"contour\",\"colorbar\":{\"outlinewidth\":0,\"ticks\":\"\"},\"colorscale\":[[0.0,\"#0d0887\"],[0.1111111111111111,\"#46039f\"],[0.2222222222222222,\"#7201a8\"],[0.3333333333333333,\"#9c179e\"],[0.4444444444444444,\"#bd3786\"],[0.5555555555555556,\"#d8576b\"],[0.6666666666666666,\"#ed7953\"],[0.7777777777777778,\"#fb9f3a\"],[0.8888888888888888,\"#fdca26\"],[1.0,\"#f0f921\"]]}],\"surface\":[{\"type\":\"surface\",\"colorbar\":{\"outlinewidth\":0,\"ticks\":\"\"},\"colorscale\":[[0.0,\"#0d0887\"],[0.1111111111111111,\"#46039f\"],[0.2222222222222222,\"#7201a8\"],[0.3333333333333333,\"#9c179e\"],[0.4444444444444444,\"#bd3786\"],[0.5555555555555556,\"#d8576b\"],[0.6666666666666666,\"#ed7953\"],[0.7777777777777778,\"#fb9f3a\"],[0.8888888888888888,\"#fdca26\"],[1.0,\"#f0f921\"]]}],\"mesh3d\":[{\"type\":\"mesh3d\",\"colorbar\":{\"outlinewidth\":0,\"ticks\":\"\"}}],\"scatter\":[{\"fillpattern\":{\"fillmode\":\"overlay\",\"size\":10,\"solidity\":0.2},\"type\":\"scatter\"}],\"parcoords\":[{\"type\":\"parcoords\",\"line\":{\"colorbar\":{\"outlinewidth\":0,\"ticks\":\"\"}}}],\"scatterpolargl\":[{\"type\":\"scatterpolargl\",\"marker\":{\"colorbar\":{\"outlinewidth\":0,\"ticks\":\"\"}}}],\"bar\":[{\"error_x\":{\"color\":\"#2a3f5f\"},\"error_y\":{\"color\":\"#2a3f5f\"},\"marker\":{\"line\":{\"color\":\"#E5ECF6\",\"width\":0.5},\"pattern\":{\"fillmode\":\"overlay\",\"size\":10,\"solidity\":0.2}},\"type\":\"bar\"}],\"scattergeo\":[{\"type\":\"scattergeo\",\"marker\":{\"colorbar\":{\"outlinewidth\":0,\"ticks\":\"\"}}}],\"scatterpolar\":[{\"type\":\"scatterpolar\",\"marker\":{\"colorbar\":{\"outlinewidth\":0,\"ticks\":\"\"}}}],\"histogram\":[{\"marker\":{\"pattern\":{\"fillmode\":\"overlay\",\"size\":10,\"solidity\":0.2}},\"type\":\"histogram\"}],\"scattergl\":[{\"type\":\"scattergl\",\"marker\":{\"colorbar\":{\"outlinewidth\":0,\"ticks\":\"\"}}}],\"scatter3d\":[{\"type\":\"scatter3d\",\"line\":{\"colorbar\":{\"outlinewidth\":0,\"ticks\":\"\"}},\"marker\":{\"colorbar\":{\"outlinewidth\":0,\"ticks\":\"\"}}}],\"scattermapbox\":[{\"type\":\"scattermapbox\",\"marker\":{\"colorbar\":{\"outlinewidth\":0,\"ticks\":\"\"}}}],\"scatterternary\":[{\"type\":\"scatterternary\",\"marker\":{\"colorbar\":{\"outlinewidth\":0,\"ticks\":\"\"}}}],\"scattercarpet\":[{\"type\":\"scattercarpet\",\"marker\":{\"colorbar\":{\"outlinewidth\":0,\"ticks\":\"\"}}}],\"carpet\":[{\"aaxis\":{\"endlinecolor\":\"#2a3f5f\",\"gridcolor\":\"white\",\"linecolor\":\"white\",\"minorgridcolor\":\"white\",\"startlinecolor\":\"#2a3f5f\"},\"baxis\":{\"endlinecolor\":\"#2a3f5f\",\"gridcolor\":\"white\",\"linecolor\":\"white\",\"minorgridcolor\":\"white\",\"startlinecolor\":\"#2a3f5f\"},\"type\":\"carpet\"}],\"table\":[{\"cells\":{\"fill\":{\"color\":\"#EBF0F8\"},\"line\":{\"color\":\"white\"}},\"header\":{\"fill\":{\"color\":\"#C8D4E3\"},\"line\":{\"color\":\"white\"}},\"type\":\"table\"}],\"barpolar\":[{\"marker\":{\"line\":{\"color\":\"#E5ECF6\",\"width\":0.5},\"pattern\":{\"fillmode\":\"overlay\",\"size\":10,\"solidity\":0.2}},\"type\":\"barpolar\"}],\"pie\":[{\"automargin\":true,\"type\":\"pie\"}]},\"layout\":{\"autotypenumbers\":\"strict\",\"colorway\":[\"#636efa\",\"#EF553B\",\"#00cc96\",\"#ab63fa\",\"#FFA15A\",\"#19d3f3\",\"#FF6692\",\"#B6E880\",\"#FF97FF\",\"#FECB52\"],\"font\":{\"color\":\"#2a3f5f\"},\"hovermode\":\"closest\",\"hoverlabel\":{\"align\":\"left\"},\"paper_bgcolor\":\"white\",\"plot_bgcolor\":\"#E5ECF6\",\"polar\":{\"bgcolor\":\"#E5ECF6\",\"angularaxis\":{\"gridcolor\":\"white\",\"linecolor\":\"white\",\"ticks\":\"\"},\"radialaxis\":{\"gridcolor\":\"white\",\"linecolor\":\"white\",\"ticks\":\"\"}},\"ternary\":{\"bgcolor\":\"#E5ECF6\",\"aaxis\":{\"gridcolor\":\"white\",\"linecolor\":\"white\",\"ticks\":\"\"},\"baxis\":{\"gridcolor\":\"white\",\"linecolor\":\"white\",\"ticks\":\"\"},\"caxis\":{\"gridcolor\":\"white\",\"linecolor\":\"white\",\"ticks\":\"\"}},\"coloraxis\":{\"colorbar\":{\"outlinewidth\":0,\"ticks\":\"\"}},\"colorscale\":{\"sequential\":[[0.0,\"#0d0887\"],[0.1111111111111111,\"#46039f\"],[0.2222222222222222,\"#7201a8\"],[0.3333333333333333,\"#9c179e\"],[0.4444444444444444,\"#bd3786\"],[0.5555555555555556,\"#d8576b\"],[0.6666666666666666,\"#ed7953\"],[0.7777777777777778,\"#fb9f3a\"],[0.8888888888888888,\"#fdca26\"],[1.0,\"#f0f921\"]],\"sequentialminus\":[[0.0,\"#0d0887\"],[0.1111111111111111,\"#46039f\"],[0.2222222222222222,\"#7201a8\"],[0.3333333333333333,\"#9c179e\"],[0.4444444444444444,\"#bd3786\"],[0.5555555555555556,\"#d8576b\"],[0.6666666666666666,\"#ed7953\"],[0.7777777777777778,\"#fb9f3a\"],[0.8888888888888888,\"#fdca26\"],[1.0,\"#f0f921\"]],\"diverging\":[[0,\"#8e0152\"],[0.1,\"#c51b7d\"],[0.2,\"#de77ae\"],[0.3,\"#f1b6da\"],[0.4,\"#fde0ef\"],[0.5,\"#f7f7f7\"],[0.6,\"#e6f5d0\"],[0.7,\"#b8e186\"],[0.8,\"#7fbc41\"],[0.9,\"#4d9221\"],[1,\"#276419\"]]},\"xaxis\":{\"gridcolor\":\"white\",\"linecolor\":\"white\",\"ticks\":\"\",\"title\":{\"standoff\":15},\"zerolinecolor\":\"white\",\"automargin\":true,\"zerolinewidth\":2},\"yaxis\":{\"gridcolor\":\"white\",\"linecolor\":\"white\",\"ticks\":\"\",\"title\":{\"standoff\":15},\"zerolinecolor\":\"white\",\"automargin\":true,\"zerolinewidth\":2},\"scene\":{\"xaxis\":{\"backgroundcolor\":\"#E5ECF6\",\"gridcolor\":\"white\",\"linecolor\":\"white\",\"showbackground\":true,\"ticks\":\"\",\"zerolinecolor\":\"white\",\"gridwidth\":2},\"yaxis\":{\"backgroundcolor\":\"#E5ECF6\",\"gridcolor\":\"white\",\"linecolor\":\"white\",\"showbackground\":true,\"ticks\":\"\",\"zerolinecolor\":\"white\",\"gridwidth\":2},\"zaxis\":{\"backgroundcolor\":\"#E5ECF6\",\"gridcolor\":\"white\",\"linecolor\":\"white\",\"showbackground\":true,\"ticks\":\"\",\"zerolinecolor\":\"white\",\"gridwidth\":2}},\"shapedefaults\":{\"line\":{\"color\":\"#2a3f5f\"}},\"annotationdefaults\":{\"arrowcolor\":\"#2a3f5f\",\"arrowhead\":0,\"arrowwidth\":1},\"geo\":{\"bgcolor\":\"white\",\"landcolor\":\"#E5ECF6\",\"subunitcolor\":\"white\",\"showland\":true,\"showlakes\":true,\"lakecolor\":\"white\"},\"title\":{\"x\":0.05},\"mapbox\":{\"style\":\"light\"}}},\"geo\":{\"domain\":{\"x\":[0.0,1.0],\"y\":[0.0,1.0]},\"center\":{}},\"coloraxis\":{\"colorbar\":{\"title\":{\"text\":\"hf_score\"}},\"colorscale\":[[0.0,\"rgb(177, 63, 100)\"],[0.16666666666666666,\"rgb(202, 82, 104)\"],[0.3333333333333333,\"rgb(221, 104, 108)\"],[0.5,\"rgb(234, 129, 113)\"],[0.6666666666666666,\"rgb(241, 156, 124)\"],[0.8333333333333334,\"rgb(245, 183, 142)\"],[1.0,\"rgb(246, 210, 169)\"]]},\"legend\":{\"tracegroupgap\":0},\"title\":{\"text\":\"Freedom around the world\"}},                        {\"responsive\": true}                    ).then(function(){\n",
       "                            \n",
       "var gd = document.getElementById('dfc118ee-4eac-4daa-955a-c74be37e15fa');\n",
       "var x = new MutationObserver(function (mutations, observer) {{\n",
       "        var display = window.getComputedStyle(gd).display;\n",
       "        if (!display || display === 'none') {{\n",
       "            console.log([gd, 'removed!']);\n",
       "            Plotly.purge(gd);\n",
       "            observer.disconnect();\n",
       "        }}\n",
       "}});\n",
       "\n",
       "// Listen for the removal of the full notebook cells\n",
       "var notebookContainer = gd.closest('#notebook-container');\n",
       "if (notebookContainer) {{\n",
       "    x.observe(notebookContainer, {childList: true});\n",
       "}}\n",
       "\n",
       "// Listen for the clearing of the current output cell\n",
       "var outputEl = gd.closest('.output');\n",
       "if (outputEl) {{\n",
       "    x.observe(outputEl, {childList: true});\n",
       "}}\n",
       "\n",
       "                        })                };                });            </script>        </div>"
      ]
     },
     "metadata": {},
     "output_type": "display_data"
    }
   ],
   "source": [
    "fig = px.choropleth(data, locations=\"iso\",\n",
    "                    title='Freedom around the world',\n",
    "                    color=\"hf_score\", \n",
    "                    hover_name=\"iso\", \n",
    "                    hover_data=['iso'],\n",
    "                    color_continuous_scale=px.colors.sequential.Redor_r,  \n",
    "                    )\n",
    "\n",
    "fig.show()"
   ]
  },
  {
   "cell_type": "code",
   "execution_count": 1,
   "metadata": {},
   "outputs": [
    {
     "name": "stderr",
     "output_type": "stream",
     "text": [
      "/tmp/ipykernel_31758/2947094874.py:6: DtypeWarning: Columns (128) have mixed types. Specify dtype option on import or set low_memory=False.\n",
      "  freedom_data = pd.read_csv('freedom.csv')\n"
     ]
    },
    {
     "data": {
      "image/png": "[encoded data removed]",
      "text/plain": [
       "<Figure size 1000x600 with 1 Axes>"
      ]
     },
     "metadata": {},
     "output_type": "display_data"
    }
   ],
   "source": [
    "import pandas as pd\n",
    "import matplotlib.pyplot as plt\n",
    "\n",
    "# Load the datasets\n",
    "happiness_data = pd.read_csv('happiness.csv')\n",
    "freedom_data = pd.read_csv('freedom.csv')\n",
    "\n",
    "# Rename columns for consistency\n",
    "happiness_data.rename(columns={'Country or region': 'Country'}, inplace=True)\n",
    "freedom_data.rename(columns={'countries': 'Country'}, inplace=True)\n",
    "\n",
    "# Merge datasets on 'Country'\n",
    "merged_data = pd.merge(happiness_data, freedom_data, on='Country')\n",
    "\n",
    "# Create scatter plot for Happiness Score vs. Human Freedom Index\n",
    "plt.figure(figsize=(10, 6))\n",
    "plt.scatter(merged_data['hf_score'], merged_data['Score'])\n",
    "plt.title('Happiness Score vs. Human Freedom Index')\n",
    "plt.xlabel('Human Freedom Index')\n",
    "plt.ylabel('Happiness Score')\n",
    "plt.grid(True)\n",
    "plt.show()\n"
   ]
  }
 ],
 "metadata": {
  "kernelspec": {
   "display_name": "Python 3",
   "language": "python",
   "name": "python3"
  },
  "language_info": {
   "codemirror_mode": {
    "name": "ipython",
    "version": 3
   },
   "file_extension": ".py",
   "mimetype": "text/x-python",
   "name": "python",
   "nbconvert_exporter": "python",
   "pygments_lexer": "ipython3",
   "version": "3.10.14"
  }
 },
 "nbformat": 4,
 "nbformat_minor": 2
}
