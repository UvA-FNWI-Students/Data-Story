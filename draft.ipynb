{
 "cells": [
  {
   "cell_type": "markdown",
   "metadata": {},
   "source": [
    "# Data Story Draft\n",
    "* Hugo Krijgsman (14667851)\n",
    "* Ingmar Hartman (15206149)\n",
    "* Julius de Groot (14362104)\n"
   ]
  },
  {
   "cell_type": "markdown",
   "metadata": {},
   "source": [
    "## Introduction\n",
    "The relationship between freedom and happiness is a crucial area of investigation, especially for informing the development of effective public policies. In Western society, there is a prevalent belief that increased freedom directly correlates with higher levels of happiness. This belief drives significant efforts to enhance personal and political freedoms. However, the reality is more complex. There are countries where people face greater limitations in their freedoms but still report high levels of happiness.\n",
    "\n",
    "This report utilizes two key datasets to explore the relationship between freedom and happiness. The first dataset, from the Human Freedom Index, measures various aspects of freedom including personal, civil, and economic dimensions. The second dataset, from the World Happiness Report, provides happiness scores based on indicators such as GDP per capita, social support, and life expectancy.\n",
    "\n",
    "By comparing these datasets, we aim to uncover correlations and patterns that reveal how different dimensions of freedom influence overall happiness across countries."
   ]
  },
  {
   "cell_type": "markdown",
   "metadata": {},
   "source": [
    "### Perspectives\n",
    "**The more freedom citizens of a country experience, the happier they are.**\n",
    "\n",
    "This perspective suggests that increased personal freedoms, such as freedom of speech, movement, and choice, correlate directly with higher levels of happiness among citizens. It posits that when individuals have greater autonomy and fewer restrictions, their overall well-being and satisfaction with life improve.\n",
    "* When people have more control, there overall well-being increases.\n",
    "* Societies with more personal freedom provide more opportunities for personal growth.\n",
    "* Countries with more economical freedom have higher standards of living.\n",
    "\n",
    "**There is no correlation between freedom and happiness citizens of a country experience.**\n",
    "\n",
    "This perspective argues that the level of personal freedom in a country does not necessarily affect the happiness of its citizens. It suggests that other factors, such as economic stability, cultural values, and social support, may play a more significant role in determining overall happiness.\n",
    "* Some societies prioritize communities over personal autonomy, yet report high levels of happiness.\n",
    "* Citizens might adjust their expectations and find joy in everyday life, family, and social relationships.\n",
    "* Authoritarian regimes provide economic benefits and social services, leading to high life satisfaction.\n",
    "\n",
    "**Certain Types of Freedom Enhance Happiness**\n",
    "\n",
    "This perspective suggests that specific types of freedom, such as procedural justice, economic regulation, and civil liberties, correlate directly with higher levels of happiness among citizens. It posits that when individuals experience these freedoms, their overall well-being and satisfaction with life improve.\n",
    "\n",
    "- When people have more procedural justice, their overall well-being increases.\n",
    "- Societies with balanced economic regulations provide more opportunities for personal growth.\n",
    "- Countries with higher economic freedom have higher standards of living.\n"
   ]
  },
  {
   "cell_type": "markdown",
   "metadata": {},
   "source": [
    "### Dependencies \n",
    "- Jupyter notebook\n",
    "- Python 3.6\n",
    "- Pandas\n",
    "- Numpy\n",
    "- plotly.express\n",
    "- plotly.graph_objects\n",
    "- pycountry\n",
    "- plotly.subplots\n",
    "- plotly.io\n"
   ]
  },
  {
   "cell_type": "markdown",
   "metadata": {},
   "source": [
    "### Imports"
   ]
  },
  {
   "cell_type": "code",
   "execution_count": 37,
   "metadata": {},
   "outputs": [
    {
     "data": {
      "text/html": [
       "        <script type=\"text/javascript\">\n",
       "        window.PlotlyConfig = {MathJaxConfig: 'local'};\n",
       "        if (window.MathJax && window.MathJax.Hub && window.MathJax.Hub.Config) {window.MathJax.Hub.Config({SVG: {font: \"STIX-Web\"}});}\n",
       "        if (typeof require !== 'undefined') {\n",
       "        require.undef(\"plotly\");\n",
       "        requirejs.config({\n",
       "            paths: {\n",
       "                'plotly': ['https://cdn.plot.ly/plotly-2.24.1.min']\n",
       "            }\n",
       "        });\n",
       "        require(['plotly'], function(Plotly) {\n",
       "            window._Plotly = Plotly;\n",
       "        });\n",
       "        }\n",
       "        </script>\n",
       "        "
      ]
     },
     "metadata": {},
     "output_type": "display_data"
    }
   ],
   "source": [
    "import pandas as pd\n",
    "import plotly.io as pio\n",
    "import plotly.graph_objects as go\n",
    "from plotly.subplots import make_subplots\n",
    "import plotly.express as px\n",
    "import pycountry \n",
    "\n",
    "from plotly.offline import init_notebook_mode\n",
    "init_notebook_mode(connected=True)"
   ]
  },
  {
   "cell_type": "markdown",
   "metadata": {},
   "source": [
    "## Datasets"
   ]
  },
  {
   "cell_type": "markdown",
   "metadata": {},
   "source": [
    "\n",
    "### World Happiness Report\n",
    "The World Happiness Report dataset on Kaggle contains data from the annual World Happiness Report, offering insights into the happiness levels of countries worldwide. The dataset includes information on several key indicators such as GDP per capita, social support, healthy life expectancy, freedom to make life choices, generosity, and perceptions of corruption. This comprehensive dataset allows for detailed analysis and comparison of the well-being and happiness of different nations, aiding researchers and analysts in understanding the factors that contribute to a country's overall happiness.\n",
    "\n",
    "The script processes this dataset as follows:\n",
    "\n",
    "1. The dataset is loaded as a pandas DataFrame from a CSV file named \"happiness.csv\".\n",
    "2. The column \"Country or region\" is renamed to \"Country\" for consistency.\n",
    "3. The columns \"Country or region\" and \"Overall rank\" are removed from the DataFrame.\n",
    "4. The \"Score\" column is renamed to \"Happiness Score\" for clarity.\n",
    "5. Finally, the first few rows of the modified DataFrame are displayed to inspect the data.\n",
    "\n",
    "These steps ensure the dataset is ready for analysis by normalizing column names and removing unnecessary columns."
   ]
  },
  {
   "cell_type": "code",
   "execution_count": 38,
   "metadata": {},
   "outputs": [
    {
     "data": {
      "text/html": [
       "<div>\n",
       "<style scoped>\n",
       "    .dataframe tbody tr th:only-of-type {\n",
       "        vertical-align: middle;\n",
       "    }\n",
       "\n",
       "    .dataframe tbody tr th {\n",
       "        vertical-align: top;\n",
       "    }\n",
       "\n",
       "    .dataframe thead th {\n",
       "        text-align: right;\n",
       "    }\n",
       "</style>\n",
       "<table border=\"1\" class=\"dataframe\">\n",
       "  <thead>\n",
       "    <tr style=\"text-align: right;\">\n",
       "      <th></th>\n",
       "      <th>Happiness Score</th>\n",
       "      <th>GDP per capita</th>\n",
       "      <th>Social support</th>\n",
       "      <th>Healthy life expectancy</th>\n",
       "      <th>Freedom to make life choices</th>\n",
       "      <th>Generosity</th>\n",
       "      <th>Perceptions of corruption</th>\n",
       "      <th>Country</th>\n",
       "    </tr>\n",
       "  </thead>\n",
       "  <tbody>\n",
       "    <tr>\n",
       "      <th>0</th>\n",
       "      <td>7.769</td>\n",
       "      <td>1.340</td>\n",
       "      <td>1.587</td>\n",
       "      <td>0.986</td>\n",
       "      <td>0.596</td>\n",
       "      <td>0.153</td>\n",
       "      <td>0.393</td>\n",
       "      <td>Finland</td>\n",
       "    </tr>\n",
       "    <tr>\n",
       "      <th>1</th>\n",
       "      <td>7.600</td>\n",
       "      <td>1.383</td>\n",
       "      <td>1.573</td>\n",
       "      <td>0.996</td>\n",
       "      <td>0.592</td>\n",
       "      <td>0.252</td>\n",
       "      <td>0.410</td>\n",
       "      <td>Denmark</td>\n",
       "    </tr>\n",
       "    <tr>\n",
       "      <th>2</th>\n",
       "      <td>7.554</td>\n",
       "      <td>1.488</td>\n",
       "      <td>1.582</td>\n",
       "      <td>1.028</td>\n",
       "      <td>0.603</td>\n",
       "      <td>0.271</td>\n",
       "      <td>0.341</td>\n",
       "      <td>Norway</td>\n",
       "    </tr>\n",
       "    <tr>\n",
       "      <th>3</th>\n",
       "      <td>7.494</td>\n",
       "      <td>1.380</td>\n",
       "      <td>1.624</td>\n",
       "      <td>1.026</td>\n",
       "      <td>0.591</td>\n",
       "      <td>0.354</td>\n",
       "      <td>0.118</td>\n",
       "      <td>Iceland</td>\n",
       "    </tr>\n",
       "    <tr>\n",
       "      <th>4</th>\n",
       "      <td>7.488</td>\n",
       "      <td>1.396</td>\n",
       "      <td>1.522</td>\n",
       "      <td>0.999</td>\n",
       "      <td>0.557</td>\n",
       "      <td>0.322</td>\n",
       "      <td>0.298</td>\n",
       "      <td>Netherlands</td>\n",
       "    </tr>\n",
       "  </tbody>\n",
       "</table>\n",
       "</div>"
      ],
      "text/plain": [
       "   Happiness Score  GDP per capita  Social support  Healthy life expectancy  \\\n",
       "0            7.769           1.340           1.587                    0.986   \n",
       "1            7.600           1.383           1.573                    0.996   \n",
       "2            7.554           1.488           1.582                    1.028   \n",
       "3            7.494           1.380           1.624                    1.026   \n",
       "4            7.488           1.396           1.522                    0.999   \n",
       "\n",
       "   Freedom to make life choices  Generosity  Perceptions of corruption  \\\n",
       "0                         0.596       0.153                      0.393   \n",
       "1                         0.592       0.252                      0.410   \n",
       "2                         0.603       0.271                      0.341   \n",
       "3                         0.591       0.354                      0.118   \n",
       "4                         0.557       0.322                      0.298   \n",
       "\n",
       "       Country  \n",
       "0      Finland  \n",
       "1      Denmark  \n",
       "2       Norway  \n",
       "3      Iceland  \n",
       "4  Netherlands  "
      ]
     },
     "execution_count": 38,
     "metadata": {},
     "output_type": "execute_result"
    }
   ],
   "source": [
    "happiness_data = pd.read_csv(\"happiness.csv\")\n",
    "happiness_data[\"Country\"] = happiness_data[\"Country or region\"]\n",
    "happiness_data = happiness_data.drop(columns=[\"Country or region\", \"Overall rank\"])\n",
    "happiness_data = happiness_data.rename(columns={\"Score\": \"Happiness Score\"})\n",
    "\n",
    "happiness_data.head()"
   ]
  },
  {
   "cell_type": "markdown",
   "metadata": {},
   "source": [
    "### Human Freedom Index\n",
    "\n",
    "The Human Freedom Index dataset on Kaggle includes comprehensive data on the state of human freedom globally. This dataset combines indicators of personal and economic freedom, covering a wide range of topics such as rule of law, security and safety, movement, religion, association, assembly, civil society, expression and information, identity and relationships, and economic freedoms like regulation and freedom to trade internationally. This extensive dataset facilitates in-depth analysis of the factors that influence human freedom in various countries.\n",
    "\n",
    "The script processes this dataset as follows:\n",
    "\n",
    "1. The dataset is loaded as a pandas DataFrame from a CSV file, with memory usage optimized. A list `columns_to_drop` is created to keep track of columns that will be removed.\n",
    "\n",
    "2. The column \"countries\" is renamed to \"Country\" for consistency, and \"region\" is added to the list of columns to be removed. The values in the \"year\" column are converted to numeric values, and the dataset is filtered to retain only data for 2019. The \"year\" column is then also added to the list of columns to be removed.\n",
    "\n",
    "3. The DataFrame index is reset, and the new \"index\" column is added to the list of columns to be removed. All columns in `columns_to_drop` are then removed.\n",
    "\n",
    "4. Finally, the first few rows of the modified DataFrame are displayed to inspect the data. These steps ensure a dataset ready for analysis by removing redundant columns, filtering for the year 2019, and normalizing column names."
   ]
  },
  {
   "cell_type": "code",
   "execution_count": 39,
   "metadata": {},
   "outputs": [
    {
     "data": {
      "text/html": [
       "<div>\n",
       "<style scoped>\n",
       "    .dataframe tbody tr th:only-of-type {\n",
       "        vertical-align: middle;\n",
       "    }\n",
       "\n",
       "    .dataframe tbody tr th {\n",
       "        vertical-align: top;\n",
       "    }\n",
       "\n",
       "    .dataframe thead th {\n",
       "        text-align: right;\n",
       "    }\n",
       "</style>\n",
       "<table border=\"1\" class=\"dataframe\">\n",
       "  <thead>\n",
       "    <tr style=\"text-align: right;\">\n",
       "      <th></th>\n",
       "      <th>Country</th>\n",
       "      <th>hf_score</th>\n",
       "      <th>hf_rank</th>\n",
       "      <th>hf_quartile</th>\n",
       "      <th>pf_rol_procedural</th>\n",
       "      <th>pf_rol_civil</th>\n",
       "      <th>pf_rol_criminal</th>\n",
       "      <th>pf_rol_vdem</th>\n",
       "      <th>pf_rol</th>\n",
       "      <th>pf_ss_homicide</th>\n",
       "      <th>...</th>\n",
       "      <th>ef_regulation_business_adm</th>\n",
       "      <th>ef_regulation_business_burden</th>\n",
       "      <th>ef_regulation_business_start</th>\n",
       "      <th>ef_regulation_business_impartial</th>\n",
       "      <th>ef_regulation_business_licensing</th>\n",
       "      <th>ef_regulation_business_compliance</th>\n",
       "      <th>ef_regulation_business</th>\n",
       "      <th>ef_regulation</th>\n",
       "      <th>ef_score</th>\n",
       "      <th>ef_rank</th>\n",
       "    </tr>\n",
       "  </thead>\n",
       "  <tbody>\n",
       "    <tr>\n",
       "      <th>0</th>\n",
       "      <td>Albania</td>\n",
       "      <td>8.07</td>\n",
       "      <td>42.0</td>\n",
       "      <td>2.0</td>\n",
       "      <td>5.903741</td>\n",
       "      <td>4.725831</td>\n",
       "      <td>4.047825</td>\n",
       "      <td>7.375907</td>\n",
       "      <td>4.892466</td>\n",
       "      <td>9.343023</td>\n",
       "      <td>...</td>\n",
       "      <td>5.651538</td>\n",
       "      <td>6.666667</td>\n",
       "      <td>9.742477</td>\n",
       "      <td>6.2425</td>\n",
       "      <td>5.621940</td>\n",
       "      <td>7.175250</td>\n",
       "      <td>6.850062</td>\n",
       "      <td>7.700885</td>\n",
       "      <td>7.79</td>\n",
       "      <td>31.0</td>\n",
       "    </tr>\n",
       "    <tr>\n",
       "      <th>1</th>\n",
       "      <td>Algeria</td>\n",
       "      <td>5.08</td>\n",
       "      <td>155.0</td>\n",
       "      <td>4.0</td>\n",
       "      <td>4.913311</td>\n",
       "      <td>5.503872</td>\n",
       "      <td>4.254187</td>\n",
       "      <td>5.345021</td>\n",
       "      <td>4.890457</td>\n",
       "      <td>9.613372</td>\n",
       "      <td>...</td>\n",
       "      <td>4.215154</td>\n",
       "      <td>2.222222</td>\n",
       "      <td>9.305002</td>\n",
       "      <td>2.5775</td>\n",
       "      <td>8.771111</td>\n",
       "      <td>7.029528</td>\n",
       "      <td>5.686753</td>\n",
       "      <td>5.840164</td>\n",
       "      <td>4.86</td>\n",
       "      <td>159.0</td>\n",
       "    </tr>\n",
       "    <tr>\n",
       "      <th>2</th>\n",
       "      <td>Angola</td>\n",
       "      <td>5.96</td>\n",
       "      <td>127.0</td>\n",
       "      <td>4.0</td>\n",
       "      <td>2.773262</td>\n",
       "      <td>4.352009</td>\n",
       "      <td>3.478950</td>\n",
       "      <td>5.264300</td>\n",
       "      <td>3.534740</td>\n",
       "      <td>8.590305</td>\n",
       "      <td>...</td>\n",
       "      <td>2.937894</td>\n",
       "      <td>2.444444</td>\n",
       "      <td>8.730805</td>\n",
       "      <td>4.7025</td>\n",
       "      <td>7.916416</td>\n",
       "      <td>6.782923</td>\n",
       "      <td>5.585830</td>\n",
       "      <td>5.974672</td>\n",
       "      <td>5.55</td>\n",
       "      <td>153.0</td>\n",
       "    </tr>\n",
       "    <tr>\n",
       "      <th>3</th>\n",
       "      <td>Argentina</td>\n",
       "      <td>7.33</td>\n",
       "      <td>75.0</td>\n",
       "      <td>2.0</td>\n",
       "      <td>6.824288</td>\n",
       "      <td>5.679943</td>\n",
       "      <td>4.218635</td>\n",
       "      <td>6.570627</td>\n",
       "      <td>5.574289</td>\n",
       "      <td>8.505814</td>\n",
       "      <td>...</td>\n",
       "      <td>2.714233</td>\n",
       "      <td>5.777778</td>\n",
       "      <td>9.579288</td>\n",
       "      <td>6.5300</td>\n",
       "      <td>5.726521</td>\n",
       "      <td>6.508295</td>\n",
       "      <td>6.139352</td>\n",
       "      <td>5.994265</td>\n",
       "      <td>5.44</td>\n",
       "      <td>154.0</td>\n",
       "    </tr>\n",
       "    <tr>\n",
       "      <th>4</th>\n",
       "      <td>Armenia</td>\n",
       "      <td>8.32</td>\n",
       "      <td>34.0</td>\n",
       "      <td>1.0</td>\n",
       "      <td>NaN</td>\n",
       "      <td>NaN</td>\n",
       "      <td>NaN</td>\n",
       "      <td>7.287006</td>\n",
       "      <td>7.287006</td>\n",
       "      <td>9.281977</td>\n",
       "      <td>...</td>\n",
       "      <td>5.170406</td>\n",
       "      <td>5.555556</td>\n",
       "      <td>9.863530</td>\n",
       "      <td>6.9575</td>\n",
       "      <td>9.302574</td>\n",
       "      <td>7.040738</td>\n",
       "      <td>7.315051</td>\n",
       "      <td>7.819774</td>\n",
       "      <td>7.98</td>\n",
       "      <td>17.0</td>\n",
       "    </tr>\n",
       "  </tbody>\n",
       "</table>\n",
       "<p>5 rows × 139 columns</p>\n",
       "</div>"
      ],
      "text/plain": [
       "     Country  hf_score  hf_rank  hf_quartile  pf_rol_procedural  pf_rol_civil  \\\n",
       "0    Albania      8.07     42.0          2.0           5.903741      4.725831   \n",
       "1    Algeria      5.08    155.0          4.0           4.913311      5.503872   \n",
       "2     Angola      5.96    127.0          4.0           2.773262      4.352009   \n",
       "3  Argentina      7.33     75.0          2.0           6.824288      5.679943   \n",
       "4    Armenia      8.32     34.0          1.0                NaN           NaN   \n",
       "\n",
       "   pf_rol_criminal  pf_rol_vdem    pf_rol  pf_ss_homicide  ...  \\\n",
       "0         4.047825     7.375907  4.892466        9.343023  ...   \n",
       "1         4.254187     5.345021  4.890457        9.613372  ...   \n",
       "2         3.478950     5.264300  3.534740        8.590305  ...   \n",
       "3         4.218635     6.570627  5.574289        8.505814  ...   \n",
       "4              NaN     7.287006  7.287006        9.281977  ...   \n",
       "\n",
       "   ef_regulation_business_adm  ef_regulation_business_burden  \\\n",
       "0                    5.651538                       6.666667   \n",
       "1                    4.215154                       2.222222   \n",
       "2                    2.937894                       2.444444   \n",
       "3                    2.714233                       5.777778   \n",
       "4                    5.170406                       5.555556   \n",
       "\n",
       "   ef_regulation_business_start  ef_regulation_business_impartial  \\\n",
       "0                      9.742477                            6.2425   \n",
       "1                      9.305002                            2.5775   \n",
       "2                      8.730805                            4.7025   \n",
       "3                      9.579288                            6.5300   \n",
       "4                      9.863530                            6.9575   \n",
       "\n",
       "   ef_regulation_business_licensing  ef_regulation_business_compliance  \\\n",
       "0                          5.621940                           7.175250   \n",
       "1                          8.771111                           7.029528   \n",
       "2                          7.916416                           6.782923   \n",
       "3                          5.726521                           6.508295   \n",
       "4                          9.302574                           7.040738   \n",
       "\n",
       "   ef_regulation_business  ef_regulation  ef_score  ef_rank  \n",
       "0                6.850062       7.700885      7.79     31.0  \n",
       "1                5.686753       5.840164      4.86    159.0  \n",
       "2                5.585830       5.974672      5.55    153.0  \n",
       "3                6.139352       5.994265      5.44    154.0  \n",
       "4                7.315051       7.819774      7.98     17.0  \n",
       "\n",
       "[5 rows x 139 columns]"
      ]
     },
     "execution_count": 39,
     "metadata": {},
     "output_type": "execute_result"
    }
   ],
   "source": [
    "freedom_data = pd.read_csv(\"freedom.csv\", low_memory=False)\n",
    "columns_to_drop = []\n",
    "\n",
    "# Normalize country column\n",
    "freedom_data = freedom_data.rename(columns={\"countries\": \"Country\"})\n",
    "columns_to_drop.extend([\"region\"])\n",
    "\n",
    "# Filter out years other than 2019\n",
    "freedom_data[\"year\"] = pd.to_numeric(freedom_data[\"year\"], errors='coerce')\n",
    "freedom_data = freedom_data[freedom_data[\"year\"] == 2019]\n",
    "columns_to_drop.append(\"year\")\n",
    "\n",
    "# Reset and Drop\n",
    "freedom_data = freedom_data.reset_index()\n",
    "columns_to_drop.append(\"index\")\n",
    "freedom_data = freedom_data.drop(columns=columns_to_drop)\n",
    "\n",
    "freedom_data.head()"
   ]
  },
  {
   "cell_type": "markdown",
   "metadata": {},
   "source": [
    "### Merging Both Datasets\n",
    "\n",
    "To merge the datasets, we first needed to filter some irrelevant information away. This meant only keeping the data from 2019. We then decided to take the ISO code of each country, a unique 3 letter code for every internationally recognised country. After this we appended every other variable to the row per ISO code. This still left a couple of countries without representation (listed below). So for these a bit of manual work was needed to make them fit."
   ]
  },
  {
   "cell_type": "code",
   "execution_count": 40,
   "metadata": {},
   "outputs": [
    {
     "name": "stdout",
     "output_type": "stream",
     "text": [
      "Data shape: (188, 147)\n"
     ]
    },
    {
     "data": {
      "text/html": [
       "<div>\n",
       "<style scoped>\n",
       "    .dataframe tbody tr th:only-of-type {\n",
       "        vertical-align: middle;\n",
       "    }\n",
       "\n",
       "    .dataframe tbody tr th {\n",
       "        vertical-align: top;\n",
       "    }\n",
       "\n",
       "    .dataframe thead th {\n",
       "        text-align: right;\n",
       "    }\n",
       "</style>\n",
       "<table border=\"1\" class=\"dataframe\">\n",
       "  <thead>\n",
       "    <tr style=\"text-align: right;\">\n",
       "      <th></th>\n",
       "      <th>Country</th>\n",
       "      <th>Human Freedom Score</th>\n",
       "      <th>hf_rank</th>\n",
       "      <th>hf_quartile</th>\n",
       "      <th>pf_rol_procedural</th>\n",
       "      <th>pf_rol_civil</th>\n",
       "      <th>pf_rol_criminal</th>\n",
       "      <th>pf_rol_vdem</th>\n",
       "      <th>pf_rol</th>\n",
       "      <th>pf_ss_homicide</th>\n",
       "      <th>...</th>\n",
       "      <th>Economic Freedom Score</th>\n",
       "      <th>ef_rank</th>\n",
       "      <th>iso</th>\n",
       "      <th>Happiness Score</th>\n",
       "      <th>GDP per capita</th>\n",
       "      <th>Social support</th>\n",
       "      <th>Healthy life expectancy</th>\n",
       "      <th>Freedom to make life choices</th>\n",
       "      <th>Generosity</th>\n",
       "      <th>Perceptions of corruption</th>\n",
       "    </tr>\n",
       "  </thead>\n",
       "  <tbody>\n",
       "    <tr>\n",
       "      <th>0</th>\n",
       "      <td>Albania</td>\n",
       "      <td>8.07</td>\n",
       "      <td>42.0</td>\n",
       "      <td>2.0</td>\n",
       "      <td>5.903741</td>\n",
       "      <td>4.725831</td>\n",
       "      <td>4.047825</td>\n",
       "      <td>7.375907</td>\n",
       "      <td>4.892466</td>\n",
       "      <td>9.343023</td>\n",
       "      <td>...</td>\n",
       "      <td>7.79</td>\n",
       "      <td>31.0</td>\n",
       "      <td>ALB</td>\n",
       "      <td>4.719</td>\n",
       "      <td>0.947</td>\n",
       "      <td>0.848</td>\n",
       "      <td>0.874</td>\n",
       "      <td>0.383</td>\n",
       "      <td>0.178</td>\n",
       "      <td>0.027</td>\n",
       "    </tr>\n",
       "    <tr>\n",
       "      <th>1</th>\n",
       "      <td>Algeria</td>\n",
       "      <td>5.08</td>\n",
       "      <td>155.0</td>\n",
       "      <td>4.0</td>\n",
       "      <td>4.913311</td>\n",
       "      <td>5.503872</td>\n",
       "      <td>4.254187</td>\n",
       "      <td>5.345021</td>\n",
       "      <td>4.890457</td>\n",
       "      <td>9.613372</td>\n",
       "      <td>...</td>\n",
       "      <td>4.86</td>\n",
       "      <td>159.0</td>\n",
       "      <td>DZA</td>\n",
       "      <td>5.211</td>\n",
       "      <td>1.002</td>\n",
       "      <td>1.160</td>\n",
       "      <td>0.785</td>\n",
       "      <td>0.086</td>\n",
       "      <td>0.073</td>\n",
       "      <td>0.114</td>\n",
       "    </tr>\n",
       "    <tr>\n",
       "      <th>2</th>\n",
       "      <td>Angola</td>\n",
       "      <td>5.96</td>\n",
       "      <td>127.0</td>\n",
       "      <td>4.0</td>\n",
       "      <td>2.773262</td>\n",
       "      <td>4.352009</td>\n",
       "      <td>3.478950</td>\n",
       "      <td>5.264300</td>\n",
       "      <td>3.534740</td>\n",
       "      <td>8.590305</td>\n",
       "      <td>...</td>\n",
       "      <td>5.55</td>\n",
       "      <td>153.0</td>\n",
       "      <td>AGO</td>\n",
       "      <td>NaN</td>\n",
       "      <td>NaN</td>\n",
       "      <td>NaN</td>\n",
       "      <td>NaN</td>\n",
       "      <td>NaN</td>\n",
       "      <td>NaN</td>\n",
       "      <td>NaN</td>\n",
       "    </tr>\n",
       "    <tr>\n",
       "      <th>3</th>\n",
       "      <td>Argentina</td>\n",
       "      <td>7.33</td>\n",
       "      <td>75.0</td>\n",
       "      <td>2.0</td>\n",
       "      <td>6.824288</td>\n",
       "      <td>5.679943</td>\n",
       "      <td>4.218635</td>\n",
       "      <td>6.570627</td>\n",
       "      <td>5.574289</td>\n",
       "      <td>8.505814</td>\n",
       "      <td>...</td>\n",
       "      <td>5.44</td>\n",
       "      <td>154.0</td>\n",
       "      <td>ARG</td>\n",
       "      <td>6.086</td>\n",
       "      <td>1.092</td>\n",
       "      <td>1.432</td>\n",
       "      <td>0.881</td>\n",
       "      <td>0.471</td>\n",
       "      <td>0.066</td>\n",
       "      <td>0.050</td>\n",
       "    </tr>\n",
       "    <tr>\n",
       "      <th>4</th>\n",
       "      <td>Armenia</td>\n",
       "      <td>8.32</td>\n",
       "      <td>34.0</td>\n",
       "      <td>1.0</td>\n",
       "      <td>NaN</td>\n",
       "      <td>NaN</td>\n",
       "      <td>NaN</td>\n",
       "      <td>7.287006</td>\n",
       "      <td>7.287006</td>\n",
       "      <td>9.281977</td>\n",
       "      <td>...</td>\n",
       "      <td>7.98</td>\n",
       "      <td>17.0</td>\n",
       "      <td>ARM</td>\n",
       "      <td>4.559</td>\n",
       "      <td>0.850</td>\n",
       "      <td>1.055</td>\n",
       "      <td>0.815</td>\n",
       "      <td>0.283</td>\n",
       "      <td>0.095</td>\n",
       "      <td>0.064</td>\n",
       "    </tr>\n",
       "  </tbody>\n",
       "</table>\n",
       "<p>5 rows × 147 columns</p>\n",
       "</div>"
      ],
      "text/plain": [
       "     Country  Human Freedom Score  hf_rank  hf_quartile  pf_rol_procedural  \\\n",
       "0    Albania                 8.07     42.0          2.0           5.903741   \n",
       "1    Algeria                 5.08    155.0          4.0           4.913311   \n",
       "2     Angola                 5.96    127.0          4.0           2.773262   \n",
       "3  Argentina                 7.33     75.0          2.0           6.824288   \n",
       "4    Armenia                 8.32     34.0          1.0                NaN   \n",
       "\n",
       "   pf_rol_civil  pf_rol_criminal  pf_rol_vdem    pf_rol  pf_ss_homicide  ...  \\\n",
       "0      4.725831         4.047825     7.375907  4.892466        9.343023  ...   \n",
       "1      5.503872         4.254187     5.345021  4.890457        9.613372  ...   \n",
       "2      4.352009         3.478950     5.264300  3.534740        8.590305  ...   \n",
       "3      5.679943         4.218635     6.570627  5.574289        8.505814  ...   \n",
       "4           NaN              NaN     7.287006  7.287006        9.281977  ...   \n",
       "\n",
       "   Economic Freedom Score  ef_rank  iso  Happiness Score  GDP per capita  \\\n",
       "0                    7.79     31.0  ALB            4.719           0.947   \n",
       "1                    4.86    159.0  DZA            5.211           1.002   \n",
       "2                    5.55    153.0  AGO              NaN             NaN   \n",
       "3                    5.44    154.0  ARG            6.086           1.092   \n",
       "4                    7.98     17.0  ARM            4.559           0.850   \n",
       "\n",
       "   Social support  Healthy life expectancy  Freedom to make life choices  \\\n",
       "0           0.848                    0.874                         0.383   \n",
       "1           1.160                    0.785                         0.086   \n",
       "2             NaN                      NaN                           NaN   \n",
       "3           1.432                    0.881                         0.471   \n",
       "4           1.055                    0.815                         0.283   \n",
       "\n",
       "   Generosity  Perceptions of corruption  \n",
       "0       0.178                      0.027  \n",
       "1       0.073                      0.114  \n",
       "2         NaN                        NaN  \n",
       "3       0.066                      0.050  \n",
       "4       0.095                      0.064  \n",
       "\n",
       "[5 rows x 147 columns]"
      ]
     },
     "execution_count": 40,
     "metadata": {},
     "output_type": "execute_result"
    }
   ],
   "source": [
    "# Applying the corrected code to merge datasets with the right column names\n",
    "# Define a dictionary for mapping different country names to a standardized name\n",
    "\n",
    "# Function for converting to iso \n",
    "def getIsoCode(country_name):\n",
    "    try:\n",
    "        country_iso = pycountry.countries.search_fuzzy(country_name)[0]\n",
    "        return country_iso.alpha_3\n",
    "    except LookupError:\n",
    "        return \"\"\n",
    "    \n",
    "country_name_mapping = {\n",
    "    \"Bahamas, The\": \"Bahamas\",\n",
    "    \"Congo, Rep.\": \"Congo\",\n",
    "    \"Cote d'Ivoire\": \"Ivory Coast\",\n",
    "    \"Egypt, Arab Rep.\": \"Egypt\",\n",
    "    \"Gambia, The\": \"Gambia\",\n",
    "    \"Iran, Islamic Rep.\": \"Iran\",\n",
    "    \"Korea, Rep.\": \"South Korea\",\n",
    "    \"Kyrgyz Republic\": \"Kyrgyzstan\",\n",
    "    \"Lao PDR\": \"Laos\",\n",
    "    \"Russia\": \"Russian Federation\",\n",
    "    \"Slovak Republic\": \"Slovakia\",\n",
    "    \"Swaziland\": \"Eswatini\",\n",
    "    \"Syria\": \"Syrian Arab Republic\",\n",
    "    \"Trinidad & Tobago\": \"Trinidad and Tobago\",\n",
    "    \"Venezuela, RB\": \"Venezuela\",\n",
    "    \"Yemen, Rep.\": \"Yemen\"\n",
    "}\n",
    "\n",
    "freedom_data['Country'] = freedom_data['Country'].replace(country_name_mapping)\n",
    "happiness_data['Country'] = happiness_data['Country'].replace(country_name_mapping)\n",
    "\n",
    "happiness_data[\"iso\"] = happiness_data['Country'].apply(getIsoCode)\n",
    "freedom_data[\"iso\"] = freedom_data['Country'].apply(getIsoCode)\n",
    "\n",
    "data = pd.merge(freedom_data, happiness_data, on='iso', how='left')\n",
    "data.rename(columns={\n",
    "    'hf_score': 'Human Freedom Score',\n",
    "    'ef_score': 'Economic Freedom Score',\n",
    "    'pf_score': 'Political Freedom Score',\n",
    "    'Country_x': \"Country\"\n",
    "}, inplace=True)\n",
    "\n",
    "data = data.drop(columns='Country_y')\n",
    "\n",
    "print(\"Data shape:\", data.shape)\n",
    "data.head()"
   ]
  },
  {
   "cell_type": "code",
   "execution_count": 41,
   "metadata": {},
   "outputs": [
    {
     "data": {
      "application/vnd.plotly.v1+json": {
       "config": {
        "plotlyServerURL": "https://plot.ly"
       },
       "data": [
        {
         "marker": {
          "color": "blue"
         },
         "name": "Human Freedom Score",
         "type": "bar",
         "x": [
          "Albania",
          "Algeria",
          "Angola",
          "Argentina",
          "Armenia",
          "Australia",
          "Austria",
          "Azerbaijan",
          "Bahamas",
          "Bahrain",
          "Bangladesh",
          "Barbados",
          "Belarus",
          "Belgium",
          "Belize",
          "Benin",
          "Bhutan",
          "Bolivia",
          "Bosnia and Herzegovina",
          "Botswana",
          "Brazil",
          "Brunei Darussalam",
          "Bulgaria",
          "Burkina Faso",
          "Burundi",
          "Cabo Verde",
          "Cambodia",
          "Cameroon",
          "Canada",
          "Central African Republic",
          "Chad",
          "Chile",
          "China",
          "Colombia",
          "Comoros",
          "Congo, Dem. Rep.",
          "Congo, Dem. Rep.",
          "Congo, Dem. Rep.",
          "Congo, Dem. Rep.",
          "Congo, Dem. Rep.",
          "Congo, Dem. Rep.",
          "Congo",
          "Costa Rica",
          "Ivory Coast",
          "Ivory Coast",
          "Ivory Coast",
          "Ivory Coast",
          "Ivory Coast",
          "Ivory Coast",
          "Croatia",
          "Cyprus",
          "Czech Republic",
          "Denmark",
          "Djibouti",
          "Dominican Republic",
          "Ecuador",
          "Egypt",
          "El Salvador",
          "Estonia",
          "Eswatini",
          "Ethiopia",
          "Fiji",
          "Finland",
          "France",
          "Gabon",
          "Gambia",
          "Georgia",
          "Germany",
          "Ghana",
          "Greece",
          "Guatemala",
          "Guinea",
          "Guinea-Bissau",
          "Guyana",
          "Haiti",
          "Honduras",
          "Hong Kong SAR, China",
          "Hong Kong SAR, China",
          "Hong Kong SAR, China",
          "Hong Kong SAR, China",
          "Hong Kong SAR, China",
          "Hong Kong SAR, China",
          "Hungary",
          "Iceland",
          "India",
          "Indonesia",
          "Iran",
          "Iraq",
          "Ireland",
          "Israel",
          "Italy",
          "Jamaica",
          "Japan",
          "Jordan",
          "Kazakhstan",
          "Kenya",
          "South Korea",
          "Kuwait",
          "Kyrgyzstan",
          "Laos",
          "Laos",
          "Laos",
          "Laos",
          "Laos",
          "Laos",
          "Latvia",
          "Lebanon",
          "Lesotho",
          "Liberia",
          "Libya",
          "Lithuania",
          "Luxembourg",
          "Madagascar",
          "Malawi",
          "Malaysia",
          "Mali",
          "Malta",
          "Mauritania",
          "Mauritius",
          "Mexico",
          "Moldova",
          "Mongolia",
          "Montenegro",
          "Morocco",
          "Mozambique",
          "Myanmar",
          "Namibia",
          "Nepal",
          "Netherlands",
          "New Zealand",
          "Nicaragua",
          "Niger",
          "Niger",
          "Nigeria",
          "Nigeria",
          "North Macedonia",
          "Norway",
          "Oman",
          "Pakistan",
          "Panama",
          "Papua New Guinea",
          "Paraguay",
          "Peru",
          "Philippines",
          "Poland",
          "Portugal",
          "Qatar",
          "Romania",
          "Russian Federation",
          "Rwanda",
          "Saudi Arabia",
          "Senegal",
          "Serbia",
          "Serbia",
          "Seychelles",
          "Sierra Leone",
          "Singapore",
          "Slovakia",
          "Slovenia",
          "Somalia",
          "South Africa",
          "Spain",
          "Sri Lanka",
          "Sudan",
          "Suriname",
          "Sweden",
          "Switzerland",
          "Syrian Arab Republic",
          "Taiwan",
          "Tajikistan",
          "Tanzania",
          "Thailand",
          "Timor-Leste",
          "Togo",
          "Trinidad and Tobago",
          "Tunisia",
          "Turkey",
          "Uganda",
          "Ukraine",
          "United Arab Emirates",
          "United Kingdom",
          "United States",
          "Uruguay",
          "Venezuela",
          "Vietnam",
          "Yemen",
          "Zambia",
          "Zimbabwe"
         ],
         "y": [
          8.07,
          5.08,
          5.96,
          7.33,
          8.32,
          8.83,
          8.68,
          6.02,
          8.15,
          5.43,
          5.56,
          7.93,
          6.27,
          8.55,
          7.48,
          7.25,
          6.68,
          6.88,
          7.43,
          7.76,
          7.25,
          5.96,
          7.97,
          6.83,
          4.91,
          8.44,
          6.43,
          5.34,
          8.85,
          5.68,
          5.41,
          8.5,
          5.27,
          6.95,
          5.91,
          5.49,
          5.49,
          5.49,
          5.49,
          5.49,
          5.49,
          5.33,
          8.28,
          6.78,
          6.78,
          6.78,
          6.78,
          6.78,
          6.78,
          8.15,
          8.49,
          8.61,
          9.01,
          5.63,
          7.87,
          7.37,
          4.35,
          7.34,
          8.94,
          5.73,
          5.73,
          7.35,
          8.87,
          8.26,
          6.66,
          6.82,
          7.85,
          8.73,
          7.46,
          7.83,
          7.47,
          5.82,
          6.78,
          7.04,
          7.2,
          6.98,
          8.38,
          8.38,
          8.38,
          8.38,
          8.38,
          8.38,
          7.63,
          8.84,
          6.42,
          6.98,
          4.27,
          5.12,
          8.95,
          7.61,
          8.43,
          7.9,
          8.75,
          6.71,
          6.63,
          6.57,
          8.31,
          6.2,
          7.02,
          5.68,
          5.68,
          5.68,
          5.68,
          5.68,
          5.68,
          8.62,
          6.67,
          7,
          6.6,
          4.72,
          8.72,
          8.85,
          6.86,
          6.92,
          7.08,
          6.19,
          8.43,
          5.56,
          8.02,
          6.8,
          7.6,
          7.97,
          7.91,
          5.68,
          6.77,
          5.4,
          7.57,
          7.01,
          8.8,
          9.04,
          6.13,
          6.14,
          6.14,
          6.1,
          6.1,
          7.68,
          8.81,
          5.77,
          5.48,
          7.94,
          7.17,
          7.46,
          7.83,
          6.69,
          7.92,
          8.69,
          5.96,
          8.25,
          6.11,
          6.19,
          4.77,
          6.9,
          7.5,
          7.5,
          7.91,
          6.47,
          7.86,
          8.15,
          8.33,
          4.71,
          7.15,
          8.49,
          6.47,
          4.04,
          7.51,
          8.85,
          9.17,
          3.36,
          8.8,
          5.44,
          6.29,
          6.75,
          7.36,
          6.28,
          7.78,
          6.3,
          5.63,
          6.17,
          6.77,
          5.89,
          8.79,
          8.75,
          8.4,
          3.9,
          5.74,
          3.99,
          6.6,
          5.3
         ]
        },
        {
         "marker": {
          "color": "green"
         },
         "name": "Happiness Score",
         "type": "bar",
         "x": [
          "Albania",
          "Algeria",
          "Angola",
          "Argentina",
          "Armenia",
          "Australia",
          "Austria",
          "Azerbaijan",
          "Bahamas",
          "Bahrain",
          "Bangladesh",
          "Barbados",
          "Belarus",
          "Belgium",
          "Belize",
          "Benin",
          "Bhutan",
          "Bolivia",
          "Bosnia and Herzegovina",
          "Botswana",
          "Brazil",
          "Brunei Darussalam",
          "Bulgaria",
          "Burkina Faso",
          "Burundi",
          "Cabo Verde",
          "Cambodia",
          "Cameroon",
          "Canada",
          "Central African Republic",
          "Chad",
          "Chile",
          "China",
          "Colombia",
          "Comoros",
          "Congo, Dem. Rep.",
          "Congo, Dem. Rep.",
          "Congo, Dem. Rep.",
          "Congo, Dem. Rep.",
          "Congo, Dem. Rep.",
          "Congo, Dem. Rep.",
          "Congo",
          "Costa Rica",
          "Ivory Coast",
          "Ivory Coast",
          "Ivory Coast",
          "Ivory Coast",
          "Ivory Coast",
          "Ivory Coast",
          "Croatia",
          "Cyprus",
          "Czech Republic",
          "Denmark",
          "Djibouti",
          "Dominican Republic",
          "Ecuador",
          "Egypt",
          "El Salvador",
          "Estonia",
          "Eswatini",
          "Ethiopia",
          "Fiji",
          "Finland",
          "France",
          "Gabon",
          "Gambia",
          "Georgia",
          "Germany",
          "Ghana",
          "Greece",
          "Guatemala",
          "Guinea",
          "Guinea-Bissau",
          "Guyana",
          "Haiti",
          "Honduras",
          "Hong Kong SAR, China",
          "Hong Kong SAR, China",
          "Hong Kong SAR, China",
          "Hong Kong SAR, China",
          "Hong Kong SAR, China",
          "Hong Kong SAR, China",
          "Hungary",
          "Iceland",
          "India",
          "Indonesia",
          "Iran",
          "Iraq",
          "Ireland",
          "Israel",
          "Italy",
          "Jamaica",
          "Japan",
          "Jordan",
          "Kazakhstan",
          "Kenya",
          "South Korea",
          "Kuwait",
          "Kyrgyzstan",
          "Laos",
          "Laos",
          "Laos",
          "Laos",
          "Laos",
          "Laos",
          "Latvia",
          "Lebanon",
          "Lesotho",
          "Liberia",
          "Libya",
          "Lithuania",
          "Luxembourg",
          "Madagascar",
          "Malawi",
          "Malaysia",
          "Mali",
          "Malta",
          "Mauritania",
          "Mauritius",
          "Mexico",
          "Moldova",
          "Mongolia",
          "Montenegro",
          "Morocco",
          "Mozambique",
          "Myanmar",
          "Namibia",
          "Nepal",
          "Netherlands",
          "New Zealand",
          "Nicaragua",
          "Niger",
          "Niger",
          "Nigeria",
          "Nigeria",
          "North Macedonia",
          "Norway",
          "Oman",
          "Pakistan",
          "Panama",
          "Papua New Guinea",
          "Paraguay",
          "Peru",
          "Philippines",
          "Poland",
          "Portugal",
          "Qatar",
          "Romania",
          "Russian Federation",
          "Rwanda",
          "Saudi Arabia",
          "Senegal",
          "Serbia",
          "Serbia",
          "Seychelles",
          "Sierra Leone",
          "Singapore",
          "Slovakia",
          "Slovenia",
          "Somalia",
          "South Africa",
          "Spain",
          "Sri Lanka",
          "Sudan",
          "Suriname",
          "Sweden",
          "Switzerland",
          "Syrian Arab Republic",
          "Taiwan",
          "Tajikistan",
          "Tanzania",
          "Thailand",
          "Timor-Leste",
          "Togo",
          "Trinidad and Tobago",
          "Tunisia",
          "Turkey",
          "Uganda",
          "Ukraine",
          "United Arab Emirates",
          "United Kingdom",
          "United States",
          "Uruguay",
          "Venezuela",
          "Vietnam",
          "Yemen",
          "Zambia",
          "Zimbabwe"
         ],
         "y": [
          4.719,
          5.211,
          null,
          6.086,
          4.559,
          7.228,
          7.246,
          5.208,
          null,
          6.199,
          4.456,
          null,
          5.323,
          6.923,
          null,
          4.883,
          5.082,
          5.779,
          5.386,
          3.488,
          6.3,
          null,
          5.011,
          4.587,
          3.775,
          null,
          4.7,
          5.044,
          7.278,
          3.083,
          4.35,
          6.444,
          5.191,
          6.125,
          3.973,
          5.718,
          4.944,
          4.812,
          4.796,
          4.696,
          4.418,
          null,
          7.167,
          5.718,
          4.944,
          4.812,
          4.796,
          4.696,
          4.418,
          5.432,
          6.046,
          6.852,
          7.6,
          null,
          5.425,
          6.028,
          4.166,
          6.253,
          5.893,
          4.212,
          4.286,
          null,
          7.769,
          6.592,
          4.799,
          4.516,
          4.519,
          6.985,
          4.996,
          5.287,
          6.436,
          4.534,
          null,
          null,
          3.597,
          5.86,
          5.718,
          4.944,
          4.812,
          4.796,
          4.696,
          4.418,
          5.758,
          7.494,
          4.015,
          5.192,
          4.548,
          4.437,
          7.021,
          7.139,
          6.223,
          5.89,
          5.886,
          4.906,
          5.809,
          4.509,
          5.895,
          6.021,
          5.261,
          5.718,
          4.944,
          4.812,
          4.796,
          4.696,
          4.418,
          5.94,
          5.197,
          3.802,
          3.975,
          5.525,
          6.149,
          7.09,
          3.933,
          3.41,
          5.339,
          4.39,
          6.726,
          4.49,
          5.888,
          6.595,
          5.529,
          5.285,
          5.523,
          5.208,
          4.466,
          4.36,
          4.639,
          4.913,
          7.488,
          7.307,
          6.105,
          5.265,
          4.628,
          5.265,
          4.628,
          5.274,
          7.554,
          null,
          5.653,
          6.321,
          null,
          5.743,
          5.697,
          5.631,
          6.182,
          5.693,
          6.374,
          6.07,
          5.648,
          3.334,
          6.375,
          4.681,
          6.1,
          5.603,
          null,
          4.374,
          6.262,
          6.198,
          6.118,
          4.668,
          4.722,
          6.354,
          4.366,
          null,
          null,
          7.343,
          7.48,
          3.462,
          6.446,
          5.467,
          3.231,
          6.008,
          null,
          4.085,
          6.192,
          4.461,
          5.373,
          4.189,
          4.332,
          6.825,
          7.054,
          6.892,
          6.293,
          4.707,
          5.175,
          3.38,
          4.107,
          3.663
         ]
        }
       ],
       "layout": {
        "barmode": "group",
        "legend": {
         "title": {
          "text": "Scores"
         }
        },
        "template": {
         "data": {
          "bar": [
           {
            "error_x": {
             "color": "#2a3f5f"
            },
            "error_y": {
             "color": "#2a3f5f"
            },
            "marker": {
             "line": {
              "color": "#E5ECF6",
              "width": 0.5
             },
             "pattern": {
              "fillmode": "overlay",
              "size": 10,
              "solidity": 0.2
             }
            },
            "type": "bar"
           }
          ],
          "barpolar": [
           {
            "marker": {
             "line": {
              "color": "#E5ECF6",
              "width": 0.5
             },
             "pattern": {
              "fillmode": "overlay",
              "size": 10,
              "solidity": 0.2
             }
            },
            "type": "barpolar"
           }
          ],
          "carpet": [
           {
            "aaxis": {
             "endlinecolor": "#2a3f5f",
             "gridcolor": "white",
             "linecolor": "white",
             "minorgridcolor": "white",
             "startlinecolor": "#2a3f5f"
            },
            "baxis": {
             "endlinecolor": "#2a3f5f",
             "gridcolor": "white",
             "linecolor": "white",
             "minorgridcolor": "white",
             "startlinecolor": "#2a3f5f"
            },
            "type": "carpet"
           }
          ],
          "choropleth": [
           {
            "colorbar": {
             "outlinewidth": 0,
             "ticks": ""
            },
            "type": "choropleth"
           }
          ],
          "contour": [
           {
            "colorbar": {
             "outlinewidth": 0,
             "ticks": ""
            },
            "colorscale": [
             [
              0,
              "#0d0887"
             ],
             [
              0.1111111111111111,
              "#46039f"
             ],
             [
              0.2222222222222222,
              "#7201a8"
             ],
             [
              0.3333333333333333,
              "#9c179e"
             ],
             [
              0.4444444444444444,
              "#bd3786"
             ],
             [
              0.5555555555555556,
              "#d8576b"
             ],
             [
              0.6666666666666666,
              "#ed7953"
             ],
             [
              0.7777777777777778,
              "#fb9f3a"
             ],
             [
              0.8888888888888888,
              "#fdca26"
             ],
             [
              1,
              "#f0f921"
             ]
            ],
            "type": "contour"
           }
          ],
          "contourcarpet": [
           {
            "colorbar": {
             "outlinewidth": 0,
             "ticks": ""
            },
            "type": "contourcarpet"
           }
          ],
          "heatmap": [
           {
            "colorbar": {
             "outlinewidth": 0,
             "ticks": ""
            },
            "colorscale": [
             [
              0,
              "#0d0887"
             ],
             [
              0.1111111111111111,
              "#46039f"
             ],
             [
              0.2222222222222222,
              "#7201a8"
             ],
             [
              0.3333333333333333,
              "#9c179e"
             ],
             [
              0.4444444444444444,
              "#bd3786"
             ],
             [
              0.5555555555555556,
              "#d8576b"
             ],
             [
              0.6666666666666666,
              "#ed7953"
             ],
             [
              0.7777777777777778,
              "#fb9f3a"
             ],
             [
              0.8888888888888888,
              "#fdca26"
             ],
             [
              1,
              "#f0f921"
             ]
            ],
            "type": "heatmap"
           }
          ],
          "heatmapgl": [
           {
            "colorbar": {
             "outlinewidth": 0,
             "ticks": ""
            },
            "colorscale": [
             [
              0,
              "#0d0887"
             ],
             [
              0.1111111111111111,
              "#46039f"
             ],
             [
              0.2222222222222222,
              "#7201a8"
             ],
             [
              0.3333333333333333,
              "#9c179e"
             ],
             [
              0.4444444444444444,
              "#bd3786"
             ],
             [
              0.5555555555555556,
              "#d8576b"
             ],
             [
              0.6666666666666666,
              "#ed7953"
             ],
             [
              0.7777777777777778,
              "#fb9f3a"
             ],
             [
              0.8888888888888888,
              "#fdca26"
             ],
             [
              1,
              "#f0f921"
             ]
            ],
            "type": "heatmapgl"
           }
          ],
          "histogram": [
           {
            "marker": {
             "pattern": {
              "fillmode": "overlay",
              "size": 10,
              "solidity": 0.2
             }
            },
            "type": "histogram"
           }
          ],
          "histogram2d": [
           {
            "colorbar": {
             "outlinewidth": 0,
             "ticks": ""
            },
            "colorscale": [
             [
              0,
              "#0d0887"
             ],
             [
              0.1111111111111111,
              "#46039f"
             ],
             [
              0.2222222222222222,
              "#7201a8"
             ],
             [
              0.3333333333333333,
              "#9c179e"
             ],
             [
              0.4444444444444444,
              "#bd3786"
             ],
             [
              0.5555555555555556,
              "#d8576b"
             ],
             [
              0.6666666666666666,
              "#ed7953"
             ],
             [
              0.7777777777777778,
              "#fb9f3a"
             ],
             [
              0.8888888888888888,
              "#fdca26"
             ],
             [
              1,
              "#f0f921"
             ]
            ],
            "type": "histogram2d"
           }
          ],
          "histogram2dcontour": [
           {
            "colorbar": {
             "outlinewidth": 0,
             "ticks": ""
            },
            "colorscale": [
             [
              0,
              "#0d0887"
             ],
             [
              0.1111111111111111,
              "#46039f"
             ],
             [
              0.2222222222222222,
              "#7201a8"
             ],
             [
              0.3333333333333333,
              "#9c179e"
             ],
             [
              0.4444444444444444,
              "#bd3786"
             ],
             [
              0.5555555555555556,
              "#d8576b"
             ],
             [
              0.6666666666666666,
              "#ed7953"
             ],
             [
              0.7777777777777778,
              "#fb9f3a"
             ],
             [
              0.8888888888888888,
              "#fdca26"
             ],
             [
              1,
              "#f0f921"
             ]
            ],
            "type": "histogram2dcontour"
           }
          ],
          "mesh3d": [
           {
            "colorbar": {
             "outlinewidth": 0,
             "ticks": ""
            },
            "type": "mesh3d"
           }
          ],
          "parcoords": [
           {
            "line": {
             "colorbar": {
              "outlinewidth": 0,
              "ticks": ""
             }
            },
            "type": "parcoords"
           }
          ],
          "pie": [
           {
            "automargin": true,
            "type": "pie"
           }
          ],
          "scatter": [
           {
            "fillpattern": {
             "fillmode": "overlay",
             "size": 10,
             "solidity": 0.2
            },
            "type": "scatter"
           }
          ],
          "scatter3d": [
           {
            "line": {
             "colorbar": {
              "outlinewidth": 0,
              "ticks": ""
             }
            },
            "marker": {
             "colorbar": {
              "outlinewidth": 0,
              "ticks": ""
             }
            },
            "type": "scatter3d"
           }
          ],
          "scattercarpet": [
           {
            "marker": {
             "colorbar": {
              "outlinewidth": 0,
              "ticks": ""
             }
            },
            "type": "scattercarpet"
           }
          ],
          "scattergeo": [
           {
            "marker": {
             "colorbar": {
              "outlinewidth": 0,
              "ticks": ""
             }
            },
            "type": "scattergeo"
           }
          ],
          "scattergl": [
           {
            "marker": {
             "colorbar": {
              "outlinewidth": 0,
              "ticks": ""
             }
            },
            "type": "scattergl"
           }
          ],
          "scattermapbox": [
           {
            "marker": {
             "colorbar": {
              "outlinewidth": 0,
              "ticks": ""
             }
            },
            "type": "scattermapbox"
           }
          ],
          "scatterpolar": [
           {
            "marker": {
             "colorbar": {
              "outlinewidth": 0,
              "ticks": ""
             }
            },
            "type": "scatterpolar"
           }
          ],
          "scatterpolargl": [
           {
            "marker": {
             "colorbar": {
              "outlinewidth": 0,
              "ticks": ""
             }
            },
            "type": "scatterpolargl"
           }
          ],
          "scatterternary": [
           {
            "marker": {
             "colorbar": {
              "outlinewidth": 0,
              "ticks": ""
             }
            },
            "type": "scatterternary"
           }
          ],
          "surface": [
           {
            "colorbar": {
             "outlinewidth": 0,
             "ticks": ""
            },
            "colorscale": [
             [
              0,
              "#0d0887"
             ],
             [
              0.1111111111111111,
              "#46039f"
             ],
             [
              0.2222222222222222,
              "#7201a8"
             ],
             [
              0.3333333333333333,
              "#9c179e"
             ],
             [
              0.4444444444444444,
              "#bd3786"
             ],
             [
              0.5555555555555556,
              "#d8576b"
             ],
             [
              0.6666666666666666,
              "#ed7953"
             ],
             [
              0.7777777777777778,
              "#fb9f3a"
             ],
             [
              0.8888888888888888,
              "#fdca26"
             ],
             [
              1,
              "#f0f921"
             ]
            ],
            "type": "surface"
           }
          ],
          "table": [
           {
            "cells": {
             "fill": {
              "color": "#EBF0F8"
             },
             "line": {
              "color": "white"
             }
            },
            "header": {
             "fill": {
              "color": "#C8D4E3"
             },
             "line": {
              "color": "white"
             }
            },
            "type": "table"
           }
          ]
         },
         "layout": {
          "annotationdefaults": {
           "arrowcolor": "#2a3f5f",
           "arrowhead": 0,
           "arrowwidth": 1
          },
          "autotypenumbers": "strict",
          "coloraxis": {
           "colorbar": {
            "outlinewidth": 0,
            "ticks": ""
           }
          },
          "colorscale": {
           "diverging": [
            [
             0,
             "#8e0152"
            ],
            [
             0.1,
             "#c51b7d"
            ],
            [
             0.2,
             "#de77ae"
            ],
            [
             0.3,
             "#f1b6da"
            ],
            [
             0.4,
             "#fde0ef"
            ],
            [
             0.5,
             "#f7f7f7"
            ],
            [
             0.6,
             "#e6f5d0"
            ],
            [
             0.7,
             "#b8e186"
            ],
            [
             0.8,
             "#7fbc41"
            ],
            [
             0.9,
             "#4d9221"
            ],
            [
             1,
             "#276419"
            ]
           ],
           "sequential": [
            [
             0,
             "#0d0887"
            ],
            [
             0.1111111111111111,
             "#46039f"
            ],
            [
             0.2222222222222222,
             "#7201a8"
            ],
            [
             0.3333333333333333,
             "#9c179e"
            ],
            [
             0.4444444444444444,
             "#bd3786"
            ],
            [
             0.5555555555555556,
             "#d8576b"
            ],
            [
             0.6666666666666666,
             "#ed7953"
            ],
            [
             0.7777777777777778,
             "#fb9f3a"
            ],
            [
             0.8888888888888888,
             "#fdca26"
            ],
            [
             1,
             "#f0f921"
            ]
           ],
           "sequentialminus": [
            [
             0,
             "#0d0887"
            ],
            [
             0.1111111111111111,
             "#46039f"
            ],
            [
             0.2222222222222222,
             "#7201a8"
            ],
            [
             0.3333333333333333,
             "#9c179e"
            ],
            [
             0.4444444444444444,
             "#bd3786"
            ],
            [
             0.5555555555555556,
             "#d8576b"
            ],
            [
             0.6666666666666666,
             "#ed7953"
            ],
            [
             0.7777777777777778,
             "#fb9f3a"
            ],
            [
             0.8888888888888888,
             "#fdca26"
            ],
            [
             1,
             "#f0f921"
            ]
           ]
          },
          "colorway": [
           "#636efa",
           "#EF553B",
           "#00cc96",
           "#ab63fa",
           "#FFA15A",
           "#19d3f3",
           "#FF6692",
           "#B6E880",
           "#FF97FF",
           "#FECB52"
          ],
          "font": {
           "color": "#2a3f5f"
          },
          "geo": {
           "bgcolor": "white",
           "lakecolor": "white",
           "landcolor": "#E5ECF6",
           "showlakes": true,
           "showland": true,
           "subunitcolor": "white"
          },
          "hoverlabel": {
           "align": "left"
          },
          "hovermode": "closest",
          "mapbox": {
           "style": "light"
          },
          "paper_bgcolor": "white",
          "plot_bgcolor": "#E5ECF6",
          "polar": {
           "angularaxis": {
            "gridcolor": "white",
            "linecolor": "white",
            "ticks": ""
           },
           "bgcolor": "#E5ECF6",
           "radialaxis": {
            "gridcolor": "white",
            "linecolor": "white",
            "ticks": ""
           }
          },
          "scene": {
           "xaxis": {
            "backgroundcolor": "#E5ECF6",
            "gridcolor": "white",
            "gridwidth": 2,
            "linecolor": "white",
            "showbackground": true,
            "ticks": "",
            "zerolinecolor": "white"
           },
           "yaxis": {
            "backgroundcolor": "#E5ECF6",
            "gridcolor": "white",
            "gridwidth": 2,
            "linecolor": "white",
            "showbackground": true,
            "ticks": "",
            "zerolinecolor": "white"
           },
           "zaxis": {
            "backgroundcolor": "#E5ECF6",
            "gridcolor": "white",
            "gridwidth": 2,
            "linecolor": "white",
            "showbackground": true,
            "ticks": "",
            "zerolinecolor": "white"
           }
          },
          "shapedefaults": {
           "line": {
            "color": "#2a3f5f"
           }
          },
          "ternary": {
           "aaxis": {
            "gridcolor": "white",
            "linecolor": "white",
            "ticks": ""
           },
           "baxis": {
            "gridcolor": "white",
            "linecolor": "white",
            "ticks": ""
           },
           "bgcolor": "#E5ECF6",
           "caxis": {
            "gridcolor": "white",
            "linecolor": "white",
            "ticks": ""
           }
          },
          "title": {
           "x": 0.05
          },
          "xaxis": {
           "automargin": true,
           "gridcolor": "white",
           "linecolor": "white",
           "ticks": "",
           "title": {
            "standoff": 15
           },
           "zerolinecolor": "white",
           "zerolinewidth": 2
          },
          "yaxis": {
           "automargin": true,
           "gridcolor": "white",
           "linecolor": "white",
           "ticks": "",
           "title": {
            "standoff": 15
           },
           "zerolinecolor": "white",
           "zerolinewidth": 2
          }
         }
        },
        "title": {
         "text": "Freedom and Happiness Scores Across Countries"
        },
        "xaxis": {
         "title": {
          "text": "Country"
         }
        },
        "yaxis": {
         "title": {
          "text": "Score"
         }
        }
       }
      },
      "text/html": [
       "<div>                            <div id=\"504ccd86-48b6-4d12-b4f2-3f9456ecb585\" class=\"plotly-graph-div\" style=\"height:525px; width:100%;\"></div>            <script type=\"text/javascript\">                require([\"plotly\"], function(Plotly) {                    window.PLOTLYENV=window.PLOTLYENV || {};                                    if (document.getElementById(\"504ccd86-48b6-4d12-b4f2-3f9456ecb585\")) {                    Plotly.newPlot(                        \"504ccd86-48b6-4d12-b4f2-3f9456ecb585\",                        [{\"marker\":{\"color\":\"blue\"},\"name\":\"Human Freedom Score\",\"x\":[\"Albania\",\"Algeria\",\"Angola\",\"Argentina\",\"Armenia\",\"Australia\",\"Austria\",\"Azerbaijan\",\"Bahamas\",\"Bahrain\",\"Bangladesh\",\"Barbados\",\"Belarus\",\"Belgium\",\"Belize\",\"Benin\",\"Bhutan\",\"Bolivia\",\"Bosnia and Herzegovina\",\"Botswana\",\"Brazil\",\"Brunei Darussalam\",\"Bulgaria\",\"Burkina Faso\",\"Burundi\",\"Cabo Verde\",\"Cambodia\",\"Cameroon\",\"Canada\",\"Central African Republic\",\"Chad\",\"Chile\",\"China\",\"Colombia\",\"Comoros\",\"Congo, Dem. Rep.\",\"Congo, Dem. Rep.\",\"Congo, Dem. Rep.\",\"Congo, Dem. Rep.\",\"Congo, Dem. Rep.\",\"Congo, Dem. Rep.\",\"Congo\",\"Costa Rica\",\"Ivory Coast\",\"Ivory Coast\",\"Ivory Coast\",\"Ivory Coast\",\"Ivory Coast\",\"Ivory Coast\",\"Croatia\",\"Cyprus\",\"Czech Republic\",\"Denmark\",\"Djibouti\",\"Dominican Republic\",\"Ecuador\",\"Egypt\",\"El Salvador\",\"Estonia\",\"Eswatini\",\"Ethiopia\",\"Fiji\",\"Finland\",\"France\",\"Gabon\",\"Gambia\",\"Georgia\",\"Germany\",\"Ghana\",\"Greece\",\"Guatemala\",\"Guinea\",\"Guinea-Bissau\",\"Guyana\",\"Haiti\",\"Honduras\",\"Hong Kong SAR, China\",\"Hong Kong SAR, China\",\"Hong Kong SAR, China\",\"Hong Kong SAR, China\",\"Hong Kong SAR, China\",\"Hong Kong SAR, China\",\"Hungary\",\"Iceland\",\"India\",\"Indonesia\",\"Iran\",\"Iraq\",\"Ireland\",\"Israel\",\"Italy\",\"Jamaica\",\"Japan\",\"Jordan\",\"Kazakhstan\",\"Kenya\",\"South Korea\",\"Kuwait\",\"Kyrgyzstan\",\"Laos\",\"Laos\",\"Laos\",\"Laos\",\"Laos\",\"Laos\",\"Latvia\",\"Lebanon\",\"Lesotho\",\"Liberia\",\"Libya\",\"Lithuania\",\"Luxembourg\",\"Madagascar\",\"Malawi\",\"Malaysia\",\"Mali\",\"Malta\",\"Mauritania\",\"Mauritius\",\"Mexico\",\"Moldova\",\"Mongolia\",\"Montenegro\",\"Morocco\",\"Mozambique\",\"Myanmar\",\"Namibia\",\"Nepal\",\"Netherlands\",\"New Zealand\",\"Nicaragua\",\"Niger\",\"Niger\",\"Nigeria\",\"Nigeria\",\"North Macedonia\",\"Norway\",\"Oman\",\"Pakistan\",\"Panama\",\"Papua New Guinea\",\"Paraguay\",\"Peru\",\"Philippines\",\"Poland\",\"Portugal\",\"Qatar\",\"Romania\",\"Russian Federation\",\"Rwanda\",\"Saudi Arabia\",\"Senegal\",\"Serbia\",\"Serbia\",\"Seychelles\",\"Sierra Leone\",\"Singapore\",\"Slovakia\",\"Slovenia\",\"Somalia\",\"South Africa\",\"Spain\",\"Sri Lanka\",\"Sudan\",\"Suriname\",\"Sweden\",\"Switzerland\",\"Syrian Arab Republic\",\"Taiwan\",\"Tajikistan\",\"Tanzania\",\"Thailand\",\"Timor-Leste\",\"Togo\",\"Trinidad and Tobago\",\"Tunisia\",\"Turkey\",\"Uganda\",\"Ukraine\",\"United Arab Emirates\",\"United Kingdom\",\"United States\",\"Uruguay\",\"Venezuela\",\"Vietnam\",\"Yemen\",\"Zambia\",\"Zimbabwe\"],\"y\":[8.07,5.08,5.96,7.33,8.32,8.83,8.68,6.02,8.15,5.43,5.56,7.93,6.27,8.55,7.48,7.25,6.68,6.88,7.43,7.76,7.25,5.96,7.97,6.83,4.91,8.44,6.43,5.34,8.85,5.68,5.41,8.5,5.27,6.95,5.91,5.49,5.49,5.49,5.49,5.49,5.49,5.33,8.28,6.78,6.78,6.78,6.78,6.78,6.78,8.15,8.49,8.61,9.01,5.63,7.87,7.37,4.35,7.34,8.94,5.73,5.73,7.35,8.87,8.26,6.66,6.82,7.85,8.73,7.46,7.83,7.47,5.82,6.78,7.04,7.2,6.98,8.38,8.38,8.38,8.38,8.38,8.38,7.63,8.84,6.42,6.98,4.27,5.12,8.95,7.61,8.43,7.9,8.75,6.71,6.63,6.57,8.31,6.2,7.02,5.68,5.68,5.68,5.68,5.68,5.68,8.62,6.67,7.0,6.6,4.72,8.72,8.85,6.86,6.92,7.08,6.19,8.43,5.56,8.02,6.8,7.6,7.97,7.91,5.68,6.77,5.4,7.57,7.01,8.8,9.04,6.13,6.14,6.14,6.1,6.1,7.68,8.81,5.77,5.48,7.94,7.17,7.46,7.83,6.69,7.92,8.69,5.96,8.25,6.11,6.19,4.77,6.9,7.5,7.5,7.91,6.47,7.86,8.15,8.33,4.71,7.15,8.49,6.47,4.04,7.51,8.85,9.17,3.36,8.8,5.44,6.29,6.75,7.36,6.28,7.78,6.3,5.63,6.17,6.77,5.89,8.79,8.75,8.4,3.9,5.74,3.99,6.6,5.3],\"type\":\"bar\"},{\"marker\":{\"color\":\"green\"},\"name\":\"Happiness Score\",\"x\":[\"Albania\",\"Algeria\",\"Angola\",\"Argentina\",\"Armenia\",\"Australia\",\"Austria\",\"Azerbaijan\",\"Bahamas\",\"Bahrain\",\"Bangladesh\",\"Barbados\",\"Belarus\",\"Belgium\",\"Belize\",\"Benin\",\"Bhutan\",\"Bolivia\",\"Bosnia and Herzegovina\",\"Botswana\",\"Brazil\",\"Brunei Darussalam\",\"Bulgaria\",\"Burkina Faso\",\"Burundi\",\"Cabo Verde\",\"Cambodia\",\"Cameroon\",\"Canada\",\"Central African Republic\",\"Chad\",\"Chile\",\"China\",\"Colombia\",\"Comoros\",\"Congo, Dem. Rep.\",\"Congo, Dem. Rep.\",\"Congo, Dem. Rep.\",\"Congo, Dem. Rep.\",\"Congo, Dem. Rep.\",\"Congo, Dem. Rep.\",\"Congo\",\"Costa Rica\",\"Ivory Coast\",\"Ivory Coast\",\"Ivory Coast\",\"Ivory Coast\",\"Ivory Coast\",\"Ivory Coast\",\"Croatia\",\"Cyprus\",\"Czech Republic\",\"Denmark\",\"Djibouti\",\"Dominican Republic\",\"Ecuador\",\"Egypt\",\"El Salvador\",\"Estonia\",\"Eswatini\",\"Ethiopia\",\"Fiji\",\"Finland\",\"France\",\"Gabon\",\"Gambia\",\"Georgia\",\"Germany\",\"Ghana\",\"Greece\",\"Guatemala\",\"Guinea\",\"Guinea-Bissau\",\"Guyana\",\"Haiti\",\"Honduras\",\"Hong Kong SAR, China\",\"Hong Kong SAR, China\",\"Hong Kong SAR, China\",\"Hong Kong SAR, China\",\"Hong Kong SAR, China\",\"Hong Kong SAR, China\",\"Hungary\",\"Iceland\",\"India\",\"Indonesia\",\"Iran\",\"Iraq\",\"Ireland\",\"Israel\",\"Italy\",\"Jamaica\",\"Japan\",\"Jordan\",\"Kazakhstan\",\"Kenya\",\"South Korea\",\"Kuwait\",\"Kyrgyzstan\",\"Laos\",\"Laos\",\"Laos\",\"Laos\",\"Laos\",\"Laos\",\"Latvia\",\"Lebanon\",\"Lesotho\",\"Liberia\",\"Libya\",\"Lithuania\",\"Luxembourg\",\"Madagascar\",\"Malawi\",\"Malaysia\",\"Mali\",\"Malta\",\"Mauritania\",\"Mauritius\",\"Mexico\",\"Moldova\",\"Mongolia\",\"Montenegro\",\"Morocco\",\"Mozambique\",\"Myanmar\",\"Namibia\",\"Nepal\",\"Netherlands\",\"New Zealand\",\"Nicaragua\",\"Niger\",\"Niger\",\"Nigeria\",\"Nigeria\",\"North Macedonia\",\"Norway\",\"Oman\",\"Pakistan\",\"Panama\",\"Papua New Guinea\",\"Paraguay\",\"Peru\",\"Philippines\",\"Poland\",\"Portugal\",\"Qatar\",\"Romania\",\"Russian Federation\",\"Rwanda\",\"Saudi Arabia\",\"Senegal\",\"Serbia\",\"Serbia\",\"Seychelles\",\"Sierra Leone\",\"Singapore\",\"Slovakia\",\"Slovenia\",\"Somalia\",\"South Africa\",\"Spain\",\"Sri Lanka\",\"Sudan\",\"Suriname\",\"Sweden\",\"Switzerland\",\"Syrian Arab Republic\",\"Taiwan\",\"Tajikistan\",\"Tanzania\",\"Thailand\",\"Timor-Leste\",\"Togo\",\"Trinidad and Tobago\",\"Tunisia\",\"Turkey\",\"Uganda\",\"Ukraine\",\"United Arab Emirates\",\"United Kingdom\",\"United States\",\"Uruguay\",\"Venezuela\",\"Vietnam\",\"Yemen\",\"Zambia\",\"Zimbabwe\"],\"y\":[4.719,5.211,null,6.086,4.559,7.228,7.246,5.208,null,6.199,4.456,null,5.323,6.923,null,4.883,5.082,5.779,5.386,3.488,6.3,null,5.011,4.587,3.775,null,4.7,5.044,7.278,3.083,4.35,6.444,5.191,6.125,3.973,5.718,4.944,4.812,4.796,4.696,4.418,null,7.167,5.718,4.944,4.812,4.796,4.696,4.418,5.432,6.046,6.852,7.6,null,5.425,6.028,4.166,6.253,5.893,4.212,4.286,null,7.769,6.592,4.799,4.516,4.519,6.985,4.996,5.287,6.436,4.534,null,null,3.597,5.86,5.718,4.944,4.812,4.796,4.696,4.418,5.758,7.494,4.015,5.192,4.548,4.437,7.021,7.139,6.223,5.89,5.886,4.906,5.809,4.509,5.895,6.021,5.261,5.718,4.944,4.812,4.796,4.696,4.418,5.94,5.197,3.802,3.975,5.525,6.149,7.09,3.933,3.41,5.339,4.39,6.726,4.49,5.888,6.595,5.529,5.285,5.523,5.208,4.466,4.36,4.639,4.913,7.488,7.307,6.105,5.265,4.628,5.265,4.628,5.274,7.554,null,5.653,6.321,null,5.743,5.697,5.631,6.182,5.693,6.374,6.07,5.648,3.334,6.375,4.681,6.1,5.603,null,4.374,6.262,6.198,6.118,4.668,4.722,6.354,4.366,null,null,7.343,7.48,3.462,6.446,5.467,3.231,6.008,null,4.085,6.192,4.461,5.373,4.189,4.332,6.825,7.054,6.892,6.293,4.707,5.175,3.38,4.107,3.663],\"type\":\"bar\"}],                        {\"template\":{\"data\":{\"histogram2dcontour\":[{\"type\":\"histogram2dcontour\",\"colorbar\":{\"outlinewidth\":0,\"ticks\":\"\"},\"colorscale\":[[0.0,\"#0d0887\"],[0.1111111111111111,\"#46039f\"],[0.2222222222222222,\"#7201a8\"],[0.3333333333333333,\"#9c179e\"],[0.4444444444444444,\"#bd3786\"],[0.5555555555555556,\"#d8576b\"],[0.6666666666666666,\"#ed7953\"],[0.7777777777777778,\"#fb9f3a\"],[0.8888888888888888,\"#fdca26\"],[1.0,\"#f0f921\"]]}],\"choropleth\":[{\"type\":\"choropleth\",\"colorbar\":{\"outlinewidth\":0,\"ticks\":\"\"}}],\"histogram2d\":[{\"type\":\"histogram2d\",\"colorbar\":{\"outlinewidth\":0,\"ticks\":\"\"},\"colorscale\":[[0.0,\"#0d0887\"],[0.1111111111111111,\"#46039f\"],[0.2222222222222222,\"#7201a8\"],[0.3333333333333333,\"#9c179e\"],[0.4444444444444444,\"#bd3786\"],[0.5555555555555556,\"#d8576b\"],[0.6666666666666666,\"#ed7953\"],[0.7777777777777778,\"#fb9f3a\"],[0.8888888888888888,\"#fdca26\"],[1.0,\"#f0f921\"]]}],\"heatmap\":[{\"type\":\"heatmap\",\"colorbar\":{\"outlinewidth\":0,\"ticks\":\"\"},\"colorscale\":[[0.0,\"#0d0887\"],[0.1111111111111111,\"#46039f\"],[0.2222222222222222,\"#7201a8\"],[0.3333333333333333,\"#9c179e\"],[0.4444444444444444,\"#bd3786\"],[0.5555555555555556,\"#d8576b\"],[0.6666666666666666,\"#ed7953\"],[0.7777777777777778,\"#fb9f3a\"],[0.8888888888888888,\"#fdca26\"],[1.0,\"#f0f921\"]]}],\"heatmapgl\":[{\"type\":\"heatmapgl\",\"colorbar\":{\"outlinewidth\":0,\"ticks\":\"\"},\"colorscale\":[[0.0,\"#0d0887\"],[0.1111111111111111,\"#46039f\"],[0.2222222222222222,\"#7201a8\"],[0.3333333333333333,\"#9c179e\"],[0.4444444444444444,\"#bd3786\"],[0.5555555555555556,\"#d8576b\"],[0.6666666666666666,\"#ed7953\"],[0.7777777777777778,\"#fb9f3a\"],[0.8888888888888888,\"#fdca26\"],[1.0,\"#f0f921\"]]}],\"contourcarpet\":[{\"type\":\"contourcarpet\",\"colorbar\":{\"outlinewidth\":0,\"ticks\":\"\"}}],\"contour\":[{\"type\":\"contour\",\"colorbar\":{\"outlinewidth\":0,\"ticks\":\"\"},\"colorscale\":[[0.0,\"#0d0887\"],[0.1111111111111111,\"#46039f\"],[0.2222222222222222,\"#7201a8\"],[0.3333333333333333,\"#9c179e\"],[0.4444444444444444,\"#bd3786\"],[0.5555555555555556,\"#d8576b\"],[0.6666666666666666,\"#ed7953\"],[0.7777777777777778,\"#fb9f3a\"],[0.8888888888888888,\"#fdca26\"],[1.0,\"#f0f921\"]]}],\"surface\":[{\"type\":\"surface\",\"colorbar\":{\"outlinewidth\":0,\"ticks\":\"\"},\"colorscale\":[[0.0,\"#0d0887\"],[0.1111111111111111,\"#46039f\"],[0.2222222222222222,\"#7201a8\"],[0.3333333333333333,\"#9c179e\"],[0.4444444444444444,\"#bd3786\"],[0.5555555555555556,\"#d8576b\"],[0.6666666666666666,\"#ed7953\"],[0.7777777777777778,\"#fb9f3a\"],[0.8888888888888888,\"#fdca26\"],[1.0,\"#f0f921\"]]}],\"mesh3d\":[{\"type\":\"mesh3d\",\"colorbar\":{\"outlinewidth\":0,\"ticks\":\"\"}}],\"scatter\":[{\"fillpattern\":{\"fillmode\":\"overlay\",\"size\":10,\"solidity\":0.2},\"type\":\"scatter\"}],\"parcoords\":[{\"type\":\"parcoords\",\"line\":{\"colorbar\":{\"outlinewidth\":0,\"ticks\":\"\"}}}],\"scatterpolargl\":[{\"type\":\"scatterpolargl\",\"marker\":{\"colorbar\":{\"outlinewidth\":0,\"ticks\":\"\"}}}],\"bar\":[{\"error_x\":{\"color\":\"#2a3f5f\"},\"error_y\":{\"color\":\"#2a3f5f\"},\"marker\":{\"line\":{\"color\":\"#E5ECF6\",\"width\":0.5},\"pattern\":{\"fillmode\":\"overlay\",\"size\":10,\"solidity\":0.2}},\"type\":\"bar\"}],\"scattergeo\":[{\"type\":\"scattergeo\",\"marker\":{\"colorbar\":{\"outlinewidth\":0,\"ticks\":\"\"}}}],\"scatterpolar\":[{\"type\":\"scatterpolar\",\"marker\":{\"colorbar\":{\"outlinewidth\":0,\"ticks\":\"\"}}}],\"histogram\":[{\"marker\":{\"pattern\":{\"fillmode\":\"overlay\",\"size\":10,\"solidity\":0.2}},\"type\":\"histogram\"}],\"scattergl\":[{\"type\":\"scattergl\",\"marker\":{\"colorbar\":{\"outlinewidth\":0,\"ticks\":\"\"}}}],\"scatter3d\":[{\"type\":\"scatter3d\",\"line\":{\"colorbar\":{\"outlinewidth\":0,\"ticks\":\"\"}},\"marker\":{\"colorbar\":{\"outlinewidth\":0,\"ticks\":\"\"}}}],\"scattermapbox\":[{\"type\":\"scattermapbox\",\"marker\":{\"colorbar\":{\"outlinewidth\":0,\"ticks\":\"\"}}}],\"scatterternary\":[{\"type\":\"scatterternary\",\"marker\":{\"colorbar\":{\"outlinewidth\":0,\"ticks\":\"\"}}}],\"scattercarpet\":[{\"type\":\"scattercarpet\",\"marker\":{\"colorbar\":{\"outlinewidth\":0,\"ticks\":\"\"}}}],\"carpet\":[{\"aaxis\":{\"endlinecolor\":\"#2a3f5f\",\"gridcolor\":\"white\",\"linecolor\":\"white\",\"minorgridcolor\":\"white\",\"startlinecolor\":\"#2a3f5f\"},\"baxis\":{\"endlinecolor\":\"#2a3f5f\",\"gridcolor\":\"white\",\"linecolor\":\"white\",\"minorgridcolor\":\"white\",\"startlinecolor\":\"#2a3f5f\"},\"type\":\"carpet\"}],\"table\":[{\"cells\":{\"fill\":{\"color\":\"#EBF0F8\"},\"line\":{\"color\":\"white\"}},\"header\":{\"fill\":{\"color\":\"#C8D4E3\"},\"line\":{\"color\":\"white\"}},\"type\":\"table\"}],\"barpolar\":[{\"marker\":{\"line\":{\"color\":\"#E5ECF6\",\"width\":0.5},\"pattern\":{\"fillmode\":\"overlay\",\"size\":10,\"solidity\":0.2}},\"type\":\"barpolar\"}],\"pie\":[{\"automargin\":true,\"type\":\"pie\"}]},\"layout\":{\"autotypenumbers\":\"strict\",\"colorway\":[\"#636efa\",\"#EF553B\",\"#00cc96\",\"#ab63fa\",\"#FFA15A\",\"#19d3f3\",\"#FF6692\",\"#B6E880\",\"#FF97FF\",\"#FECB52\"],\"font\":{\"color\":\"#2a3f5f\"},\"hovermode\":\"closest\",\"hoverlabel\":{\"align\":\"left\"},\"paper_bgcolor\":\"white\",\"plot_bgcolor\":\"#E5ECF6\",\"polar\":{\"bgcolor\":\"#E5ECF6\",\"angularaxis\":{\"gridcolor\":\"white\",\"linecolor\":\"white\",\"ticks\":\"\"},\"radialaxis\":{\"gridcolor\":\"white\",\"linecolor\":\"white\",\"ticks\":\"\"}},\"ternary\":{\"bgcolor\":\"#E5ECF6\",\"aaxis\":{\"gridcolor\":\"white\",\"linecolor\":\"white\",\"ticks\":\"\"},\"baxis\":{\"gridcolor\":\"white\",\"linecolor\":\"white\",\"ticks\":\"\"},\"caxis\":{\"gridcolor\":\"white\",\"linecolor\":\"white\",\"ticks\":\"\"}},\"coloraxis\":{\"colorbar\":{\"outlinewidth\":0,\"ticks\":\"\"}},\"colorscale\":{\"sequential\":[[0.0,\"#0d0887\"],[0.1111111111111111,\"#46039f\"],[0.2222222222222222,\"#7201a8\"],[0.3333333333333333,\"#9c179e\"],[0.4444444444444444,\"#bd3786\"],[0.5555555555555556,\"#d8576b\"],[0.6666666666666666,\"#ed7953\"],[0.7777777777777778,\"#fb9f3a\"],[0.8888888888888888,\"#fdca26\"],[1.0,\"#f0f921\"]],\"sequentialminus\":[[0.0,\"#0d0887\"],[0.1111111111111111,\"#46039f\"],[0.2222222222222222,\"#7201a8\"],[0.3333333333333333,\"#9c179e\"],[0.4444444444444444,\"#bd3786\"],[0.5555555555555556,\"#d8576b\"],[0.6666666666666666,\"#ed7953\"],[0.7777777777777778,\"#fb9f3a\"],[0.8888888888888888,\"#fdca26\"],[1.0,\"#f0f921\"]],\"diverging\":[[0,\"#8e0152\"],[0.1,\"#c51b7d\"],[0.2,\"#de77ae\"],[0.3,\"#f1b6da\"],[0.4,\"#fde0ef\"],[0.5,\"#f7f7f7\"],[0.6,\"#e6f5d0\"],[0.7,\"#b8e186\"],[0.8,\"#7fbc41\"],[0.9,\"#4d9221\"],[1,\"#276419\"]]},\"xaxis\":{\"gridcolor\":\"white\",\"linecolor\":\"white\",\"ticks\":\"\",\"title\":{\"standoff\":15},\"zerolinecolor\":\"white\",\"automargin\":true,\"zerolinewidth\":2},\"yaxis\":{\"gridcolor\":\"white\",\"linecolor\":\"white\",\"ticks\":\"\",\"title\":{\"standoff\":15},\"zerolinecolor\":\"white\",\"automargin\":true,\"zerolinewidth\":2},\"scene\":{\"xaxis\":{\"backgroundcolor\":\"#E5ECF6\",\"gridcolor\":\"white\",\"linecolor\":\"white\",\"showbackground\":true,\"ticks\":\"\",\"zerolinecolor\":\"white\",\"gridwidth\":2},\"yaxis\":{\"backgroundcolor\":\"#E5ECF6\",\"gridcolor\":\"white\",\"linecolor\":\"white\",\"showbackground\":true,\"ticks\":\"\",\"zerolinecolor\":\"white\",\"gridwidth\":2},\"zaxis\":{\"backgroundcolor\":\"#E5ECF6\",\"gridcolor\":\"white\",\"linecolor\":\"white\",\"showbackground\":true,\"ticks\":\"\",\"zerolinecolor\":\"white\",\"gridwidth\":2}},\"shapedefaults\":{\"line\":{\"color\":\"#2a3f5f\"}},\"annotationdefaults\":{\"arrowcolor\":\"#2a3f5f\",\"arrowhead\":0,\"arrowwidth\":1},\"geo\":{\"bgcolor\":\"white\",\"landcolor\":\"#E5ECF6\",\"subunitcolor\":\"white\",\"showland\":true,\"showlakes\":true,\"lakecolor\":\"white\"},\"title\":{\"x\":0.05},\"mapbox\":{\"style\":\"light\"}}},\"title\":{\"text\":\"Freedom and Happiness Scores Across Countries\"},\"xaxis\":{\"title\":{\"text\":\"Country\"}},\"yaxis\":{\"title\":{\"text\":\"Score\"}},\"barmode\":\"group\",\"legend\":{\"title\":{\"text\":\"Scores\"}}},                        {\"responsive\": true}                    ).then(function(){\n",
       "                            \n",
       "var gd = document.getElementById('504ccd86-48b6-4d12-b4f2-3f9456ecb585');\n",
       "var x = new MutationObserver(function (mutations, observer) {{\n",
       "        var display = window.getComputedStyle(gd).display;\n",
       "        if (!display || display === 'none') {{\n",
       "            console.log([gd, 'removed!']);\n",
       "            Plotly.purge(gd);\n",
       "            observer.disconnect();\n",
       "        }}\n",
       "}});\n",
       "\n",
       "// Listen for the removal of the full notebook cells\n",
       "var notebookContainer = gd.closest('#notebook-container');\n",
       "if (notebookContainer) {{\n",
       "    x.observe(notebookContainer, {childList: true});\n",
       "}}\n",
       "\n",
       "// Listen for the clearing of the current output cell\n",
       "var outputEl = gd.closest('.output');\n",
       "if (outputEl) {{\n",
       "    x.observe(outputEl, {childList: true});\n",
       "}}\n",
       "\n",
       "                        })                };                });            </script>        </div>"
      ]
     },
     "metadata": {},
     "output_type": "display_data"
    }
   ],
   "source": [
    "fig = go.Figure()\n",
    "\n",
    "# Add freedom scores bar\n",
    "fig.add_trace(go.Bar(\n",
    "    x=data['Country'],\n",
    "    y=data['Human Freedom Score'],\n",
    "    name='Human Freedom Score',\n",
    "    marker_color='blue'\n",
    "))\n",
    "\n",
    "# Add happiness scores bar\n",
    "fig.add_trace(go.Bar(\n",
    "    x=data['Country'],\n",
    "    y=data['Happiness Score'],\n",
    "    name='Happiness Score',\n",
    "    marker_color='green'\n",
    "))\n",
    "\n",
    "# Customize the layout\n",
    "fig.update_layout(\n",
    "    title='Freedom and Happiness Scores Across Countries',\n",
    "    xaxis=dict(title='Country'),\n",
    "    yaxis=dict(title='Score'),\n",
    "    barmode='group',  # Grouped bars\n",
    "    legend=dict(title='Scores'),\n",
    "    template='plotly'\n",
    ")\n",
    "\n",
    "# Show the plot\n",
    "fig.show()"
   ]
  },
  {
   "cell_type": "markdown",
   "metadata": {},
   "source": [
    "*This is a draft, more about the idea instead of the look of the graph. Maybe we will make it with the countries on the y-axis, or split it in multiple graphs.*"
   ]
  },
  {
   "cell_type": "code",
   "execution_count": 42,
   "metadata": {},
   "outputs": [
    {
     "data": {
      "application/vnd.plotly.v1+json": {
       "config": {
        "plotlyServerURL": "https://plot.ly"
       },
       "data": [
        {
         "marker": {
          "color": "red",
          "opacity": 0.7,
          "size": 4
         },
         "mode": "markers",
         "name": "Human Freedom Score",
         "type": "scatter",
         "x": [
          8.07,
          5.08,
          5.96,
          7.33,
          8.32,
          8.83,
          8.68,
          6.02,
          8.15,
          5.43,
          5.56,
          7.93,
          6.27,
          8.55,
          7.48,
          7.25,
          6.68,
          6.88,
          7.43,
          7.76,
          7.25,
          5.96,
          7.97,
          6.83,
          4.91,
          8.44,
          6.43,
          5.34,
          8.85,
          5.68,
          5.41,
          8.5,
          5.27,
          6.95,
          5.91,
          5.49,
          5.49,
          5.49,
          5.49,
          5.49,
          5.49,
          5.33,
          8.28,
          6.78,
          6.78,
          6.78,
          6.78,
          6.78,
          6.78,
          8.15,
          8.49,
          8.61,
          9.01,
          5.63,
          7.87,
          7.37,
          4.35,
          7.34,
          8.94,
          5.73,
          5.73,
          7.35,
          8.87,
          8.26,
          6.66,
          6.82,
          7.85,
          8.73,
          7.46,
          7.83,
          7.47,
          5.82,
          6.78,
          7.04,
          7.2,
          6.98,
          8.38,
          8.38,
          8.38,
          8.38,
          8.38,
          8.38,
          7.63,
          8.84,
          6.42,
          6.98,
          4.27,
          5.12,
          8.95,
          7.61,
          8.43,
          7.9,
          8.75,
          6.71,
          6.63,
          6.57,
          8.31,
          6.2,
          7.02,
          5.68,
          5.68,
          5.68,
          5.68,
          5.68,
          5.68,
          8.62,
          6.67,
          7,
          6.6,
          4.72,
          8.72,
          8.85,
          6.86,
          6.92,
          7.08,
          6.19,
          8.43,
          5.56,
          8.02,
          6.8,
          7.6,
          7.97,
          7.91,
          5.68,
          6.77,
          5.4,
          7.57,
          7.01,
          8.8,
          9.04,
          6.13,
          6.14,
          6.14,
          6.1,
          6.1,
          7.68,
          8.81,
          5.77,
          5.48,
          7.94,
          7.17,
          7.46,
          7.83,
          6.69,
          7.92,
          8.69,
          5.96,
          8.25,
          6.11,
          6.19,
          4.77,
          6.9,
          7.5,
          7.5,
          7.91,
          6.47,
          7.86,
          8.15,
          8.33,
          4.71,
          7.15,
          8.49,
          6.47,
          4.04,
          7.51,
          8.85,
          9.17,
          3.36,
          8.8,
          5.44,
          6.29,
          6.75,
          7.36,
          6.28,
          7.78,
          6.3,
          5.63,
          6.17,
          6.77,
          5.89,
          8.79,
          8.75,
          8.4,
          3.9,
          5.74,
          3.99,
          6.6,
          5.3
         ],
         "xaxis": "x",
         "y": [
          4.719,
          5.211,
          null,
          6.086,
          4.559,
          7.228,
          7.246,
          5.208,
          null,
          6.199,
          4.456,
          null,
          5.323,
          6.923,
          null,
          4.883,
          5.082,
          5.779,
          5.386,
          3.488,
          6.3,
          null,
          5.011,
          4.587,
          3.775,
          null,
          4.7,
          5.044,
          7.278,
          3.083,
          4.35,
          6.444,
          5.191,
          6.125,
          3.973,
          5.718,
          4.944,
          4.812,
          4.796,
          4.696,
          4.418,
          null,
          7.167,
          5.718,
          4.944,
          4.812,
          4.796,
          4.696,
          4.418,
          5.432,
          6.046,
          6.852,
          7.6,
          null,
          5.425,
          6.028,
          4.166,
          6.253,
          5.893,
          4.212,
          4.286,
          null,
          7.769,
          6.592,
          4.799,
          4.516,
          4.519,
          6.985,
          4.996,
          5.287,
          6.436,
          4.534,
          null,
          null,
          3.597,
          5.86,
          5.718,
          4.944,
          4.812,
          4.796,
          4.696,
          4.418,
          5.758,
          7.494,
          4.015,
          5.192,
          4.548,
          4.437,
          7.021,
          7.139,
          6.223,
          5.89,
          5.886,
          4.906,
          5.809,
          4.509,
          5.895,
          6.021,
          5.261,
          5.718,
          4.944,
          4.812,
          4.796,
          4.696,
          4.418,
          5.94,
          5.197,
          3.802,
          3.975,
          5.525,
          6.149,
          7.09,
          3.933,
          3.41,
          5.339,
          4.39,
          6.726,
          4.49,
          5.888,
          6.595,
          5.529,
          5.285,
          5.523,
          5.208,
          4.466,
          4.36,
          4.639,
          4.913,
          7.488,
          7.307,
          6.105,
          5.265,
          4.628,
          5.265,
          4.628,
          5.274,
          7.554,
          null,
          5.653,
          6.321,
          null,
          5.743,
          5.697,
          5.631,
          6.182,
          5.693,
          6.374,
          6.07,
          5.648,
          3.334,
          6.375,
          4.681,
          6.1,
          5.603,
          null,
          4.374,
          6.262,
          6.198,
          6.118,
          4.668,
          4.722,
          6.354,
          4.366,
          null,
          null,
          7.343,
          7.48,
          3.462,
          6.446,
          5.467,
          3.231,
          6.008,
          null,
          4.085,
          6.192,
          4.461,
          5.373,
          4.189,
          4.332,
          6.825,
          7.054,
          6.892,
          6.293,
          4.707,
          5.175,
          3.38,
          4.107,
          3.663
         ],
         "yaxis": "y"
        },
        {
         "marker": {
          "color": "green",
          "opacity": 0.7,
          "size": 4
         },
         "mode": "markers",
         "name": "Economic Freedom Score",
         "type": "scatter",
         "x": [
          7.79,
          4.86,
          5.55,
          5.44,
          7.98,
          8.17,
          7.86,
          6.43,
          7.21,
          7.43,
          6.04,
          7.05,
          6.48,
          7.62,
          6.41,
          6.66,
          6.52,
          6.32,
          6.94,
          7.47,
          6.6,
          7.3,
          7.79,
          6.25,
          5.67,
          7.65,
          7.38,
          5.79,
          8.05,
          5.37,
          5.63,
          7.86,
          6.33,
          6.83,
          6.33,
          5.42,
          5.42,
          5.42,
          5.42,
          5.42,
          5.42,
          4.78,
          7.67,
          6.17,
          6.17,
          6.17,
          6.17,
          6.17,
          6.17,
          7.42,
          7.89,
          7.98,
          8.23,
          6.45,
          7.6,
          6.68,
          5.74,
          7.34,
          8.11,
          6.14,
          5.82,
          6.36,
          7.92,
          7.55,
          5.83,
          7.06,
          8.16,
          7.89,
          6.72,
          7.19,
          7.78,
          5.94,
          5.7,
          5.81,
          6.68,
          7.24,
          8.87,
          8.87,
          8.87,
          8.87,
          8.87,
          8.87,
          7.51,
          7.91,
          6.76,
          7.26,
          5.02,
          5.41,
          8.19,
          7.63,
          7.61,
          7.61,
          7.97,
          7.51,
          7.6,
          7,
          7.62,
          6.74,
          7.17,
          6.65,
          6.65,
          6.65,
          6.65,
          6.65,
          6.65,
          7.94,
          6.85,
          6.46,
          6.16,
          4.47,
          8.22,
          7.89,
          6.32,
          5.94,
          7.52,
          5.9,
          8.02,
          6.55,
          8.2,
          7.2,
          7.32,
          7.42,
          7.63,
          6.74,
          6.47,
          5.56,
          6.75,
          6.73,
          7.96,
          8.56,
          7.04,
          5.62,
          5.62,
          7.03,
          7.03,
          7.17,
          7.75,
          6.77,
          6,
          7.74,
          6.01,
          7.11,
          7.78,
          7.34,
          7.22,
          7.77,
          7.11,
          7.87,
          6.83,
          7.25,
          6.89,
          6.26,
          7.21,
          7.21,
          7.63,
          5.85,
          8.81,
          7.61,
          7.43,
          6.25,
          6.79,
          7.89,
          6.72,
          3.58,
          6,
          7.7,
          8.49,
          4.8,
          8.1,
          6.54,
          6.58,
          6.91,
          5.92,
          6.07,
          7.22,
          5.94,
          6.49,
          7.41,
          6.2,
          7.28,
          8.16,
          8.25,
          7.38,
          2.87,
          6.4,
          5.72,
          6.95,
          4.6
         ],
         "xaxis": "x2",
         "y": [
          4.719,
          5.211,
          null,
          6.086,
          4.559,
          7.228,
          7.246,
          5.208,
          null,
          6.199,
          4.456,
          null,
          5.323,
          6.923,
          null,
          4.883,
          5.082,
          5.779,
          5.386,
          3.488,
          6.3,
          null,
          5.011,
          4.587,
          3.775,
          null,
          4.7,
          5.044,
          7.278,
          3.083,
          4.35,
          6.444,
          5.191,
          6.125,
          3.973,
          5.718,
          4.944,
          4.812,
          4.796,
          4.696,
          4.418,
          null,
          7.167,
          5.718,
          4.944,
          4.812,
          4.796,
          4.696,
          4.418,
          5.432,
          6.046,
          6.852,
          7.6,
          null,
          5.425,
          6.028,
          4.166,
          6.253,
          5.893,
          4.212,
          4.286,
          null,
          7.769,
          6.592,
          4.799,
          4.516,
          4.519,
          6.985,
          4.996,
          5.287,
          6.436,
          4.534,
          null,
          null,
          3.597,
          5.86,
          5.718,
          4.944,
          4.812,
          4.796,
          4.696,
          4.418,
          5.758,
          7.494,
          4.015,
          5.192,
          4.548,
          4.437,
          7.021,
          7.139,
          6.223,
          5.89,
          5.886,
          4.906,
          5.809,
          4.509,
          5.895,
          6.021,
          5.261,
          5.718,
          4.944,
          4.812,
          4.796,
          4.696,
          4.418,
          5.94,
          5.197,
          3.802,
          3.975,
          5.525,
          6.149,
          7.09,
          3.933,
          3.41,
          5.339,
          4.39,
          6.726,
          4.49,
          5.888,
          6.595,
          5.529,
          5.285,
          5.523,
          5.208,
          4.466,
          4.36,
          4.639,
          4.913,
          7.488,
          7.307,
          6.105,
          5.265,
          4.628,
          5.265,
          4.628,
          5.274,
          7.554,
          null,
          5.653,
          6.321,
          null,
          5.743,
          5.697,
          5.631,
          6.182,
          5.693,
          6.374,
          6.07,
          5.648,
          3.334,
          6.375,
          4.681,
          6.1,
          5.603,
          null,
          4.374,
          6.262,
          6.198,
          6.118,
          4.668,
          4.722,
          6.354,
          4.366,
          null,
          null,
          7.343,
          7.48,
          3.462,
          6.446,
          5.467,
          3.231,
          6.008,
          null,
          4.085,
          6.192,
          4.461,
          5.373,
          4.189,
          4.332,
          6.825,
          7.054,
          6.892,
          6.293,
          4.707,
          5.175,
          3.38,
          4.107,
          3.663
         ],
         "yaxis": "y2"
        },
        {
         "marker": {
          "color": "blue",
          "opacity": 0.7,
          "size": 4
         },
         "mode": "markers",
         "name": "Political Freedom Score",
         "type": "scatter",
         "x": [
          8.27,
          5.24,
          6.25,
          8.68,
          8.56,
          9.3,
          9.27,
          5.73,
          8.82,
          4,
          5.21,
          8.56,
          6.12,
          9.22,
          8.24,
          7.67,
          6.8,
          7.27,
          7.78,
          7.97,
          7.71,
          4.85,
          8.1,
          7.24,
          4.38,
          8.99,
          5.75,
          5.02,
          9.43,
          5.9,
          5.25,
          8.95,
          4.52,
          7.03,
          5.62,
          5.54,
          5.54,
          5.54,
          5.54,
          5.54,
          5.54,
          5.72,
          8.71,
          7.21,
          7.21,
          7.21,
          7.21,
          7.21,
          7.21,
          8.67,
          8.91,
          9.06,
          9.57,
          5.05,
          8.07,
          7.87,
          3.36,
          7.35,
          9.54,
          5.44,
          5.67,
          8.07,
          9.56,
          8.77,
          7.26,
          6.65,
          7.62,
          9.32,
          7.99,
          8.28,
          7.25,
          5.74,
          7.55,
          7.92,
          7.57,
          6.79,
          8.03,
          8.03,
          8.03,
          8.03,
          8.03,
          8.03,
          7.72,
          9.5,
          6.18,
          6.78,
          3.73,
          4.91,
          9.49,
          7.6,
          9.02,
          8.1,
          9.31,
          6.15,
          5.95,
          6.26,
          8.81,
          5.82,
          6.92,
          4.99,
          4.99,
          4.99,
          4.99,
          4.99,
          4.99,
          9.1,
          6.54,
          7.38,
          6.93,
          4.9,
          9.08,
          9.53,
          7.26,
          7.63,
          6.77,
          6.39,
          8.73,
          4.86,
          7.88,
          6.51,
          7.79,
          8.36,
          8.11,
          4.93,
          6.98,
          5.28,
          8.16,
          7.2,
          9.41,
          9.38,
          5.47,
          6.52,
          6.52,
          5.44,
          5.44,
          8.04,
          9.56,
          5.06,
          5.1,
          8.09,
          8,
          7.7,
          7.87,
          6.23,
          8.43,
          9.35,
          5.13,
          8.52,
          5.6,
          5.43,
          3.27,
          7.35,
          7.71,
          7.71,
          8.11,
          6.9,
          7.19,
          8.54,
          8.97,
          3.61,
          7.41,
          8.92,
          6.29,
          4.38,
          8.58,
          9.67,
          9.65,
          2.34,
          9.29,
          4.66,
          6.08,
          6.64,
          8.39,
          6.43,
          8.18,
          6.56,
          5.02,
          5.28,
          7.17,
          4.9,
          9.23,
          9.11,
          9.13,
          4.64,
          5.27,
          2.75,
          6.34,
          5.8
         ],
         "xaxis": "x3",
         "y": [
          4.719,
          5.211,
          null,
          6.086,
          4.559,
          7.228,
          7.246,
          5.208,
          null,
          6.199,
          4.456,
          null,
          5.323,
          6.923,
          null,
          4.883,
          5.082,
          5.779,
          5.386,
          3.488,
          6.3,
          null,
          5.011,
          4.587,
          3.775,
          null,
          4.7,
          5.044,
          7.278,
          3.083,
          4.35,
          6.444,
          5.191,
          6.125,
          3.973,
          5.718,
          4.944,
          4.812,
          4.796,
          4.696,
          4.418,
          null,
          7.167,
          5.718,
          4.944,
          4.812,
          4.796,
          4.696,
          4.418,
          5.432,
          6.046,
          6.852,
          7.6,
          null,
          5.425,
          6.028,
          4.166,
          6.253,
          5.893,
          4.212,
          4.286,
          null,
          7.769,
          6.592,
          4.799,
          4.516,
          4.519,
          6.985,
          4.996,
          5.287,
          6.436,
          4.534,
          null,
          null,
          3.597,
          5.86,
          5.718,
          4.944,
          4.812,
          4.796,
          4.696,
          4.418,
          5.758,
          7.494,
          4.015,
          5.192,
          4.548,
          4.437,
          7.021,
          7.139,
          6.223,
          5.89,
          5.886,
          4.906,
          5.809,
          4.509,
          5.895,
          6.021,
          5.261,
          5.718,
          4.944,
          4.812,
          4.796,
          4.696,
          4.418,
          5.94,
          5.197,
          3.802,
          3.975,
          5.525,
          6.149,
          7.09,
          3.933,
          3.41,
          5.339,
          4.39,
          6.726,
          4.49,
          5.888,
          6.595,
          5.529,
          5.285,
          5.523,
          5.208,
          4.466,
          4.36,
          4.639,
          4.913,
          7.488,
          7.307,
          6.105,
          5.265,
          4.628,
          5.265,
          4.628,
          5.274,
          7.554,
          null,
          5.653,
          6.321,
          null,
          5.743,
          5.697,
          5.631,
          6.182,
          5.693,
          6.374,
          6.07,
          5.648,
          3.334,
          6.375,
          4.681,
          6.1,
          5.603,
          null,
          4.374,
          6.262,
          6.198,
          6.118,
          4.668,
          4.722,
          6.354,
          4.366,
          null,
          null,
          7.343,
          7.48,
          3.462,
          6.446,
          5.467,
          3.231,
          6.008,
          null,
          4.085,
          6.192,
          4.461,
          5.373,
          4.189,
          4.332,
          6.825,
          7.054,
          6.892,
          6.293,
          4.707,
          5.175,
          3.38,
          4.107,
          3.663
         ],
         "yaxis": "y3"
        }
       ],
       "layout": {
        "annotations": [
         {
          "font": {
           "size": 16
          },
          "showarrow": false,
          "text": "Human Freedom Score",
          "x": 0.14444444444444446,
          "xanchor": "center",
          "xref": "paper",
          "y": 1,
          "yanchor": "bottom",
          "yref": "paper"
         },
         {
          "font": {
           "size": 16
          },
          "showarrow": false,
          "text": "Economic Freedom Score",
          "x": 0.5,
          "xanchor": "center",
          "xref": "paper",
          "y": 1,
          "yanchor": "bottom",
          "yref": "paper"
         },
         {
          "font": {
           "size": 16
          },
          "showarrow": false,
          "text": "Personal Freedom Score",
          "x": 0.8555555555555556,
          "xanchor": "center",
          "xref": "paper",
          "y": 1,
          "yanchor": "bottom",
          "yref": "paper"
         }
        ],
        "height": 400,
        "showlegend": true,
        "template": {
         "data": {
          "bar": [
           {
            "error_x": {
             "color": "#2a3f5f"
            },
            "error_y": {
             "color": "#2a3f5f"
            },
            "marker": {
             "line": {
              "color": "#E5ECF6",
              "width": 0.5
             },
             "pattern": {
              "fillmode": "overlay",
              "size": 10,
              "solidity": 0.2
             }
            },
            "type": "bar"
           }
          ],
          "barpolar": [
           {
            "marker": {
             "line": {
              "color": "#E5ECF6",
              "width": 0.5
             },
             "pattern": {
              "fillmode": "overlay",
              "size": 10,
              "solidity": 0.2
             }
            },
            "type": "barpolar"
           }
          ],
          "carpet": [
           {
            "aaxis": {
             "endlinecolor": "#2a3f5f",
             "gridcolor": "white",
             "linecolor": "white",
             "minorgridcolor": "white",
             "startlinecolor": "#2a3f5f"
            },
            "baxis": {
             "endlinecolor": "#2a3f5f",
             "gridcolor": "white",
             "linecolor": "white",
             "minorgridcolor": "white",
             "startlinecolor": "#2a3f5f"
            },
            "type": "carpet"
           }
          ],
          "choropleth": [
           {
            "colorbar": {
             "outlinewidth": 0,
             "ticks": ""
            },
            "type": "choropleth"
           }
          ],
          "contour": [
           {
            "colorbar": {
             "outlinewidth": 0,
             "ticks": ""
            },
            "colorscale": [
             [
              0,
              "#0d0887"
             ],
             [
              0.1111111111111111,
              "#46039f"
             ],
             [
              0.2222222222222222,
              "#7201a8"
             ],
             [
              0.3333333333333333,
              "#9c179e"
             ],
             [
              0.4444444444444444,
              "#bd3786"
             ],
             [
              0.5555555555555556,
              "#d8576b"
             ],
             [
              0.6666666666666666,
              "#ed7953"
             ],
             [
              0.7777777777777778,
              "#fb9f3a"
             ],
             [
              0.8888888888888888,
              "#fdca26"
             ],
             [
              1,
              "#f0f921"
             ]
            ],
            "type": "contour"
           }
          ],
          "contourcarpet": [
           {
            "colorbar": {
             "outlinewidth": 0,
             "ticks": ""
            },
            "type": "contourcarpet"
           }
          ],
          "heatmap": [
           {
            "colorbar": {
             "outlinewidth": 0,
             "ticks": ""
            },
            "colorscale": [
             [
              0,
              "#0d0887"
             ],
             [
              0.1111111111111111,
              "#46039f"
             ],
             [
              0.2222222222222222,
              "#7201a8"
             ],
             [
              0.3333333333333333,
              "#9c179e"
             ],
             [
              0.4444444444444444,
              "#bd3786"
             ],
             [
              0.5555555555555556,
              "#d8576b"
             ],
             [
              0.6666666666666666,
              "#ed7953"
             ],
             [
              0.7777777777777778,
              "#fb9f3a"
             ],
             [
              0.8888888888888888,
              "#fdca26"
             ],
             [
              1,
              "#f0f921"
             ]
            ],
            "type": "heatmap"
           }
          ],
          "heatmapgl": [
           {
            "colorbar": {
             "outlinewidth": 0,
             "ticks": ""
            },
            "colorscale": [
             [
              0,
              "#0d0887"
             ],
             [
              0.1111111111111111,
              "#46039f"
             ],
             [
              0.2222222222222222,
              "#7201a8"
             ],
             [
              0.3333333333333333,
              "#9c179e"
             ],
             [
              0.4444444444444444,
              "#bd3786"
             ],
             [
              0.5555555555555556,
              "#d8576b"
             ],
             [
              0.6666666666666666,
              "#ed7953"
             ],
             [
              0.7777777777777778,
              "#fb9f3a"
             ],
             [
              0.8888888888888888,
              "#fdca26"
             ],
             [
              1,
              "#f0f921"
             ]
            ],
            "type": "heatmapgl"
           }
          ],
          "histogram": [
           {
            "marker": {
             "pattern": {
              "fillmode": "overlay",
              "size": 10,
              "solidity": 0.2
             }
            },
            "type": "histogram"
           }
          ],
          "histogram2d": [
           {
            "colorbar": {
             "outlinewidth": 0,
             "ticks": ""
            },
            "colorscale": [
             [
              0,
              "#0d0887"
             ],
             [
              0.1111111111111111,
              "#46039f"
             ],
             [
              0.2222222222222222,
              "#7201a8"
             ],
             [
              0.3333333333333333,
              "#9c179e"
             ],
             [
              0.4444444444444444,
              "#bd3786"
             ],
             [
              0.5555555555555556,
              "#d8576b"
             ],
             [
              0.6666666666666666,
              "#ed7953"
             ],
             [
              0.7777777777777778,
              "#fb9f3a"
             ],
             [
              0.8888888888888888,
              "#fdca26"
             ],
             [
              1,
              "#f0f921"
             ]
            ],
            "type": "histogram2d"
           }
          ],
          "histogram2dcontour": [
           {
            "colorbar": {
             "outlinewidth": 0,
             "ticks": ""
            },
            "colorscale": [
             [
              0,
              "#0d0887"
             ],
             [
              0.1111111111111111,
              "#46039f"
             ],
             [
              0.2222222222222222,
              "#7201a8"
             ],
             [
              0.3333333333333333,
              "#9c179e"
             ],
             [
              0.4444444444444444,
              "#bd3786"
             ],
             [
              0.5555555555555556,
              "#d8576b"
             ],
             [
              0.6666666666666666,
              "#ed7953"
             ],
             [
              0.7777777777777778,
              "#fb9f3a"
             ],
             [
              0.8888888888888888,
              "#fdca26"
             ],
             [
              1,
              "#f0f921"
             ]
            ],
            "type": "histogram2dcontour"
           }
          ],
          "mesh3d": [
           {
            "colorbar": {
             "outlinewidth": 0,
             "ticks": ""
            },
            "type": "mesh3d"
           }
          ],
          "parcoords": [
           {
            "line": {
             "colorbar": {
              "outlinewidth": 0,
              "ticks": ""
             }
            },
            "type": "parcoords"
           }
          ],
          "pie": [
           {
            "automargin": true,
            "type": "pie"
           }
          ],
          "scatter": [
           {
            "fillpattern": {
             "fillmode": "overlay",
             "size": 10,
             "solidity": 0.2
            },
            "type": "scatter"
           }
          ],
          "scatter3d": [
           {
            "line": {
             "colorbar": {
              "outlinewidth": 0,
              "ticks": ""
             }
            },
            "marker": {
             "colorbar": {
              "outlinewidth": 0,
              "ticks": ""
             }
            },
            "type": "scatter3d"
           }
          ],
          "scattercarpet": [
           {
            "marker": {
             "colorbar": {
              "outlinewidth": 0,
              "ticks": ""
             }
            },
            "type": "scattercarpet"
           }
          ],
          "scattergeo": [
           {
            "marker": {
             "colorbar": {
              "outlinewidth": 0,
              "ticks": ""
             }
            },
            "type": "scattergeo"
           }
          ],
          "scattergl": [
           {
            "marker": {
             "colorbar": {
              "outlinewidth": 0,
              "ticks": ""
             }
            },
            "type": "scattergl"
           }
          ],
          "scattermapbox": [
           {
            "marker": {
             "colorbar": {
              "outlinewidth": 0,
              "ticks": ""
             }
            },
            "type": "scattermapbox"
           }
          ],
          "scatterpolar": [
           {
            "marker": {
             "colorbar": {
              "outlinewidth": 0,
              "ticks": ""
             }
            },
            "type": "scatterpolar"
           }
          ],
          "scatterpolargl": [
           {
            "marker": {
             "colorbar": {
              "outlinewidth": 0,
              "ticks": ""
             }
            },
            "type": "scatterpolargl"
           }
          ],
          "scatterternary": [
           {
            "marker": {
             "colorbar": {
              "outlinewidth": 0,
              "ticks": ""
             }
            },
            "type": "scatterternary"
           }
          ],
          "surface": [
           {
            "colorbar": {
             "outlinewidth": 0,
             "ticks": ""
            },
            "colorscale": [
             [
              0,
              "#0d0887"
             ],
             [
              0.1111111111111111,
              "#46039f"
             ],
             [
              0.2222222222222222,
              "#7201a8"
             ],
             [
              0.3333333333333333,
              "#9c179e"
             ],
             [
              0.4444444444444444,
              "#bd3786"
             ],
             [
              0.5555555555555556,
              "#d8576b"
             ],
             [
              0.6666666666666666,
              "#ed7953"
             ],
             [
              0.7777777777777778,
              "#fb9f3a"
             ],
             [
              0.8888888888888888,
              "#fdca26"
             ],
             [
              1,
              "#f0f921"
             ]
            ],
            "type": "surface"
           }
          ],
          "table": [
           {
            "cells": {
             "fill": {
              "color": "#EBF0F8"
             },
             "line": {
              "color": "white"
             }
            },
            "header": {
             "fill": {
              "color": "#C8D4E3"
             },
             "line": {
              "color": "white"
             }
            },
            "type": "table"
           }
          ]
         },
         "layout": {
          "annotationdefaults": {
           "arrowcolor": "#2a3f5f",
           "arrowhead": 0,
           "arrowwidth": 1
          },
          "autotypenumbers": "strict",
          "coloraxis": {
           "colorbar": {
            "outlinewidth": 0,
            "ticks": ""
           }
          },
          "colorscale": {
           "diverging": [
            [
             0,
             "#8e0152"
            ],
            [
             0.1,
             "#c51b7d"
            ],
            [
             0.2,
             "#de77ae"
            ],
            [
             0.3,
             "#f1b6da"
            ],
            [
             0.4,
             "#fde0ef"
            ],
            [
             0.5,
             "#f7f7f7"
            ],
            [
             0.6,
             "#e6f5d0"
            ],
            [
             0.7,
             "#b8e186"
            ],
            [
             0.8,
             "#7fbc41"
            ],
            [
             0.9,
             "#4d9221"
            ],
            [
             1,
             "#276419"
            ]
           ],
           "sequential": [
            [
             0,
             "#0d0887"
            ],
            [
             0.1111111111111111,
             "#46039f"
            ],
            [
             0.2222222222222222,
             "#7201a8"
            ],
            [
             0.3333333333333333,
             "#9c179e"
            ],
            [
             0.4444444444444444,
             "#bd3786"
            ],
            [
             0.5555555555555556,
             "#d8576b"
            ],
            [
             0.6666666666666666,
             "#ed7953"
            ],
            [
             0.7777777777777778,
             "#fb9f3a"
            ],
            [
             0.8888888888888888,
             "#fdca26"
            ],
            [
             1,
             "#f0f921"
            ]
           ],
           "sequentialminus": [
            [
             0,
             "#0d0887"
            ],
            [
             0.1111111111111111,
             "#46039f"
            ],
            [
             0.2222222222222222,
             "#7201a8"
            ],
            [
             0.3333333333333333,
             "#9c179e"
            ],
            [
             0.4444444444444444,
             "#bd3786"
            ],
            [
             0.5555555555555556,
             "#d8576b"
            ],
            [
             0.6666666666666666,
             "#ed7953"
            ],
            [
             0.7777777777777778,
             "#fb9f3a"
            ],
            [
             0.8888888888888888,
             "#fdca26"
            ],
            [
             1,
             "#f0f921"
            ]
           ]
          },
          "colorway": [
           "#636efa",
           "#EF553B",
           "#00cc96",
           "#ab63fa",
           "#FFA15A",
           "#19d3f3",
           "#FF6692",
           "#B6E880",
           "#FF97FF",
           "#FECB52"
          ],
          "font": {
           "color": "#2a3f5f"
          },
          "geo": {
           "bgcolor": "white",
           "lakecolor": "white",
           "landcolor": "#E5ECF6",
           "showlakes": true,
           "showland": true,
           "subunitcolor": "white"
          },
          "hoverlabel": {
           "align": "left"
          },
          "hovermode": "closest",
          "mapbox": {
           "style": "light"
          },
          "paper_bgcolor": "white",
          "plot_bgcolor": "#E5ECF6",
          "polar": {
           "angularaxis": {
            "gridcolor": "white",
            "linecolor": "white",
            "ticks": ""
           },
           "bgcolor": "#E5ECF6",
           "radialaxis": {
            "gridcolor": "white",
            "linecolor": "white",
            "ticks": ""
           }
          },
          "scene": {
           "xaxis": {
            "backgroundcolor": "#E5ECF6",
            "gridcolor": "white",
            "gridwidth": 2,
            "linecolor": "white",
            "showbackground": true,
            "ticks": "",
            "zerolinecolor": "white"
           },
           "yaxis": {
            "backgroundcolor": "#E5ECF6",
            "gridcolor": "white",
            "gridwidth": 2,
            "linecolor": "white",
            "showbackground": true,
            "ticks": "",
            "zerolinecolor": "white"
           },
           "zaxis": {
            "backgroundcolor": "#E5ECF6",
            "gridcolor": "white",
            "gridwidth": 2,
            "linecolor": "white",
            "showbackground": true,
            "ticks": "",
            "zerolinecolor": "white"
           }
          },
          "shapedefaults": {
           "line": {
            "color": "#2a3f5f"
           }
          },
          "ternary": {
           "aaxis": {
            "gridcolor": "white",
            "linecolor": "white",
            "ticks": ""
           },
           "baxis": {
            "gridcolor": "white",
            "linecolor": "white",
            "ticks": ""
           },
           "bgcolor": "#E5ECF6",
           "caxis": {
            "gridcolor": "white",
            "linecolor": "white",
            "ticks": ""
           }
          },
          "title": {
           "x": 0.05
          },
          "xaxis": {
           "automargin": true,
           "gridcolor": "white",
           "linecolor": "white",
           "ticks": "",
           "title": {
            "standoff": 15
           },
           "zerolinecolor": "white",
           "zerolinewidth": 2
          },
          "yaxis": {
           "automargin": true,
           "gridcolor": "white",
           "linecolor": "white",
           "ticks": "",
           "title": {
            "standoff": 15
           },
           "zerolinecolor": "white",
           "zerolinewidth": 2
          }
         }
        },
        "title": {
         "text": "Freedom Scores Against Happiness"
        },
        "width": 1200,
        "xaxis": {
         "anchor": "y",
         "domain": [
          0,
          0.2888888888888889
         ],
         "title": {
          "text": "Human Freedom Score"
         }
        },
        "xaxis2": {
         "anchor": "y2",
         "domain": [
          0.35555555555555557,
          0.6444444444444445
         ],
         "title": {
          "text": "Economic Freedom Score"
         }
        },
        "xaxis3": {
         "anchor": "y3",
         "domain": [
          0.7111111111111111,
          1
         ],
         "title": {
          "text": "Political Freedom Score"
         }
        },
        "yaxis": {
         "anchor": "x",
         "domain": [
          0,
          1
         ],
         "title": {
          "text": "Happiness Score"
         }
        },
        "yaxis2": {
         "anchor": "x2",
         "domain": [
          0,
          1
         ],
         "title": {
          "text": "Happiness Score"
         }
        },
        "yaxis3": {
         "anchor": "x3",
         "domain": [
          0,
          1
         ],
         "title": {
          "text": "Happiness Score"
         }
        }
       }
      },
      "text/html": [
       "<div>                            <div id=\"9a23bfb7-b626-4dbb-a22e-4e48202b28eb\" class=\"plotly-graph-div\" style=\"height:400px; width:1200px;\"></div>            <script type=\"text/javascript\">                require([\"plotly\"], function(Plotly) {                    window.PLOTLYENV=window.PLOTLYENV || {};                                    if (document.getElementById(\"9a23bfb7-b626-4dbb-a22e-4e48202b28eb\")) {                    Plotly.newPlot(                        \"9a23bfb7-b626-4dbb-a22e-4e48202b28eb\",                        [{\"marker\":{\"color\":\"red\",\"opacity\":0.7,\"size\":4},\"mode\":\"markers\",\"name\":\"Human Freedom Score\",\"x\":[8.07,5.08,5.96,7.33,8.32,8.83,8.68,6.02,8.15,5.43,5.56,7.93,6.27,8.55,7.48,7.25,6.68,6.88,7.43,7.76,7.25,5.96,7.97,6.83,4.91,8.44,6.43,5.34,8.85,5.68,5.41,8.5,5.27,6.95,5.91,5.49,5.49,5.49,5.49,5.49,5.49,5.33,8.28,6.78,6.78,6.78,6.78,6.78,6.78,8.15,8.49,8.61,9.01,5.63,7.87,7.37,4.35,7.34,8.94,5.73,5.73,7.35,8.87,8.26,6.66,6.82,7.85,8.73,7.46,7.83,7.47,5.82,6.78,7.04,7.2,6.98,8.38,8.38,8.38,8.38,8.38,8.38,7.63,8.84,6.42,6.98,4.27,5.12,8.95,7.61,8.43,7.9,8.75,6.71,6.63,6.57,8.31,6.2,7.02,5.68,5.68,5.68,5.68,5.68,5.68,8.62,6.67,7.0,6.6,4.72,8.72,8.85,6.86,6.92,7.08,6.19,8.43,5.56,8.02,6.8,7.6,7.97,7.91,5.68,6.77,5.4,7.57,7.01,8.8,9.04,6.13,6.14,6.14,6.1,6.1,7.68,8.81,5.77,5.48,7.94,7.17,7.46,7.83,6.69,7.92,8.69,5.96,8.25,6.11,6.19,4.77,6.9,7.5,7.5,7.91,6.47,7.86,8.15,8.33,4.71,7.15,8.49,6.47,4.04,7.51,8.85,9.17,3.36,8.8,5.44,6.29,6.75,7.36,6.28,7.78,6.3,5.63,6.17,6.77,5.89,8.79,8.75,8.4,3.9,5.74,3.99,6.6,5.3],\"y\":[4.719,5.211,null,6.086,4.559,7.228,7.246,5.208,null,6.199,4.456,null,5.323,6.923,null,4.883,5.082,5.779,5.386,3.488,6.3,null,5.011,4.587,3.775,null,4.7,5.044,7.278,3.083,4.35,6.444,5.191,6.125,3.973,5.718,4.944,4.812,4.796,4.696,4.418,null,7.167,5.718,4.944,4.812,4.796,4.696,4.418,5.432,6.046,6.852,7.6,null,5.425,6.028,4.166,6.253,5.893,4.212,4.286,null,7.769,6.592,4.799,4.516,4.519,6.985,4.996,5.287,6.436,4.534,null,null,3.597,5.86,5.718,4.944,4.812,4.796,4.696,4.418,5.758,7.494,4.015,5.192,4.548,4.437,7.021,7.139,6.223,5.89,5.886,4.906,5.809,4.509,5.895,6.021,5.261,5.718,4.944,4.812,4.796,4.696,4.418,5.94,5.197,3.802,3.975,5.525,6.149,7.09,3.933,3.41,5.339,4.39,6.726,4.49,5.888,6.595,5.529,5.285,5.523,5.208,4.466,4.36,4.639,4.913,7.488,7.307,6.105,5.265,4.628,5.265,4.628,5.274,7.554,null,5.653,6.321,null,5.743,5.697,5.631,6.182,5.693,6.374,6.07,5.648,3.334,6.375,4.681,6.1,5.603,null,4.374,6.262,6.198,6.118,4.668,4.722,6.354,4.366,null,null,7.343,7.48,3.462,6.446,5.467,3.231,6.008,null,4.085,6.192,4.461,5.373,4.189,4.332,6.825,7.054,6.892,6.293,4.707,5.175,3.38,4.107,3.663],\"type\":\"scatter\",\"xaxis\":\"x\",\"yaxis\":\"y\"},{\"marker\":{\"color\":\"green\",\"opacity\":0.7,\"size\":4},\"mode\":\"markers\",\"name\":\"Economic Freedom Score\",\"x\":[7.79,4.86,5.55,5.44,7.98,8.17,7.86,6.43,7.21,7.43,6.04,7.05,6.48,7.62,6.41,6.66,6.52,6.32,6.94,7.47,6.6,7.3,7.79,6.25,5.67,7.65,7.38,5.79,8.05,5.37,5.63,7.86,6.33,6.83,6.33,5.42,5.42,5.42,5.42,5.42,5.42,4.78,7.67,6.17,6.17,6.17,6.17,6.17,6.17,7.42,7.89,7.98,8.23,6.45,7.6,6.68,5.74,7.34,8.11,6.14,5.82,6.36,7.92,7.55,5.83,7.06,8.16,7.89,6.72,7.19,7.78,5.94,5.7,5.81,6.68,7.24,8.87,8.87,8.87,8.87,8.87,8.87,7.51,7.91,6.76,7.26,5.02,5.41,8.19,7.63,7.61,7.61,7.97,7.51,7.6,7.0,7.62,6.74,7.17,6.65,6.65,6.65,6.65,6.65,6.65,7.94,6.85,6.46,6.16,4.47,8.22,7.89,6.32,5.94,7.52,5.9,8.02,6.55,8.2,7.2,7.32,7.42,7.63,6.74,6.47,5.56,6.75,6.73,7.96,8.56,7.04,5.62,5.62,7.03,7.03,7.17,7.75,6.77,6.0,7.74,6.01,7.11,7.78,7.34,7.22,7.77,7.11,7.87,6.83,7.25,6.89,6.26,7.21,7.21,7.63,5.85,8.81,7.61,7.43,6.25,6.79,7.89,6.72,3.58,6.0,7.7,8.49,4.8,8.1,6.54,6.58,6.91,5.92,6.07,7.22,5.94,6.49,7.41,6.2,7.28,8.16,8.25,7.38,2.87,6.4,5.72,6.95,4.6],\"y\":[4.719,5.211,null,6.086,4.559,7.228,7.246,5.208,null,6.199,4.456,null,5.323,6.923,null,4.883,5.082,5.779,5.386,3.488,6.3,null,5.011,4.587,3.775,null,4.7,5.044,7.278,3.083,4.35,6.444,5.191,6.125,3.973,5.718,4.944,4.812,4.796,4.696,4.418,null,7.167,5.718,4.944,4.812,4.796,4.696,4.418,5.432,6.046,6.852,7.6,null,5.425,6.028,4.166,6.253,5.893,4.212,4.286,null,7.769,6.592,4.799,4.516,4.519,6.985,4.996,5.287,6.436,4.534,null,null,3.597,5.86,5.718,4.944,4.812,4.796,4.696,4.418,5.758,7.494,4.015,5.192,4.548,4.437,7.021,7.139,6.223,5.89,5.886,4.906,5.809,4.509,5.895,6.021,5.261,5.718,4.944,4.812,4.796,4.696,4.418,5.94,5.197,3.802,3.975,5.525,6.149,7.09,3.933,3.41,5.339,4.39,6.726,4.49,5.888,6.595,5.529,5.285,5.523,5.208,4.466,4.36,4.639,4.913,7.488,7.307,6.105,5.265,4.628,5.265,4.628,5.274,7.554,null,5.653,6.321,null,5.743,5.697,5.631,6.182,5.693,6.374,6.07,5.648,3.334,6.375,4.681,6.1,5.603,null,4.374,6.262,6.198,6.118,4.668,4.722,6.354,4.366,null,null,7.343,7.48,3.462,6.446,5.467,3.231,6.008,null,4.085,6.192,4.461,5.373,4.189,4.332,6.825,7.054,6.892,6.293,4.707,5.175,3.38,4.107,3.663],\"type\":\"scatter\",\"xaxis\":\"x2\",\"yaxis\":\"y2\"},{\"marker\":{\"color\":\"blue\",\"opacity\":0.7,\"size\":4},\"mode\":\"markers\",\"name\":\"Political Freedom Score\",\"x\":[8.27,5.24,6.25,8.68,8.56,9.3,9.27,5.73,8.82,4.0,5.21,8.56,6.12,9.22,8.24,7.67,6.8,7.27,7.78,7.97,7.71,4.85,8.1,7.24,4.38,8.99,5.75,5.02,9.43,5.9,5.25,8.95,4.52,7.03,5.62,5.54,5.54,5.54,5.54,5.54,5.54,5.72,8.71,7.21,7.21,7.21,7.21,7.21,7.21,8.67,8.91,9.06,9.57,5.05,8.07,7.87,3.36,7.35,9.54,5.44,5.67,8.07,9.56,8.77,7.26,6.65,7.62,9.32,7.99,8.28,7.25,5.74,7.55,7.92,7.57,6.79,8.03,8.03,8.03,8.03,8.03,8.03,7.72,9.5,6.18,6.78,3.73,4.91,9.49,7.6,9.02,8.1,9.31,6.15,5.95,6.26,8.81,5.82,6.92,4.99,4.99,4.99,4.99,4.99,4.99,9.1,6.54,7.38,6.93,4.9,9.08,9.53,7.26,7.63,6.77,6.39,8.73,4.86,7.88,6.51,7.79,8.36,8.11,4.93,6.98,5.28,8.16,7.2,9.41,9.38,5.47,6.52,6.52,5.44,5.44,8.04,9.56,5.06,5.1,8.09,8.0,7.7,7.87,6.23,8.43,9.35,5.13,8.52,5.6,5.43,3.27,7.35,7.71,7.71,8.11,6.9,7.19,8.54,8.97,3.61,7.41,8.92,6.29,4.38,8.58,9.67,9.65,2.34,9.29,4.66,6.08,6.64,8.39,6.43,8.18,6.56,5.02,5.28,7.17,4.9,9.23,9.11,9.13,4.64,5.27,2.75,6.34,5.8],\"y\":[4.719,5.211,null,6.086,4.559,7.228,7.246,5.208,null,6.199,4.456,null,5.323,6.923,null,4.883,5.082,5.779,5.386,3.488,6.3,null,5.011,4.587,3.775,null,4.7,5.044,7.278,3.083,4.35,6.444,5.191,6.125,3.973,5.718,4.944,4.812,4.796,4.696,4.418,null,7.167,5.718,4.944,4.812,4.796,4.696,4.418,5.432,6.046,6.852,7.6,null,5.425,6.028,4.166,6.253,5.893,4.212,4.286,null,7.769,6.592,4.799,4.516,4.519,6.985,4.996,5.287,6.436,4.534,null,null,3.597,5.86,5.718,4.944,4.812,4.796,4.696,4.418,5.758,7.494,4.015,5.192,4.548,4.437,7.021,7.139,6.223,5.89,5.886,4.906,5.809,4.509,5.895,6.021,5.261,5.718,4.944,4.812,4.796,4.696,4.418,5.94,5.197,3.802,3.975,5.525,6.149,7.09,3.933,3.41,5.339,4.39,6.726,4.49,5.888,6.595,5.529,5.285,5.523,5.208,4.466,4.36,4.639,4.913,7.488,7.307,6.105,5.265,4.628,5.265,4.628,5.274,7.554,null,5.653,6.321,null,5.743,5.697,5.631,6.182,5.693,6.374,6.07,5.648,3.334,6.375,4.681,6.1,5.603,null,4.374,6.262,6.198,6.118,4.668,4.722,6.354,4.366,null,null,7.343,7.48,3.462,6.446,5.467,3.231,6.008,null,4.085,6.192,4.461,5.373,4.189,4.332,6.825,7.054,6.892,6.293,4.707,5.175,3.38,4.107,3.663],\"type\":\"scatter\",\"xaxis\":\"x3\",\"yaxis\":\"y3\"}],                        {\"template\":{\"data\":{\"histogram2dcontour\":[{\"type\":\"histogram2dcontour\",\"colorbar\":{\"outlinewidth\":0,\"ticks\":\"\"},\"colorscale\":[[0.0,\"#0d0887\"],[0.1111111111111111,\"#46039f\"],[0.2222222222222222,\"#7201a8\"],[0.3333333333333333,\"#9c179e\"],[0.4444444444444444,\"#bd3786\"],[0.5555555555555556,\"#d8576b\"],[0.6666666666666666,\"#ed7953\"],[0.7777777777777778,\"#fb9f3a\"],[0.8888888888888888,\"#fdca26\"],[1.0,\"#f0f921\"]]}],\"choropleth\":[{\"type\":\"choropleth\",\"colorbar\":{\"outlinewidth\":0,\"ticks\":\"\"}}],\"histogram2d\":[{\"type\":\"histogram2d\",\"colorbar\":{\"outlinewidth\":0,\"ticks\":\"\"},\"colorscale\":[[0.0,\"#0d0887\"],[0.1111111111111111,\"#46039f\"],[0.2222222222222222,\"#7201a8\"],[0.3333333333333333,\"#9c179e\"],[0.4444444444444444,\"#bd3786\"],[0.5555555555555556,\"#d8576b\"],[0.6666666666666666,\"#ed7953\"],[0.7777777777777778,\"#fb9f3a\"],[0.8888888888888888,\"#fdca26\"],[1.0,\"#f0f921\"]]}],\"heatmap\":[{\"type\":\"heatmap\",\"colorbar\":{\"outlinewidth\":0,\"ticks\":\"\"},\"colorscale\":[[0.0,\"#0d0887\"],[0.1111111111111111,\"#46039f\"],[0.2222222222222222,\"#7201a8\"],[0.3333333333333333,\"#9c179e\"],[0.4444444444444444,\"#bd3786\"],[0.5555555555555556,\"#d8576b\"],[0.6666666666666666,\"#ed7953\"],[0.7777777777777778,\"#fb9f3a\"],[0.8888888888888888,\"#fdca26\"],[1.0,\"#f0f921\"]]}],\"heatmapgl\":[{\"type\":\"heatmapgl\",\"colorbar\":{\"outlinewidth\":0,\"ticks\":\"\"},\"colorscale\":[[0.0,\"#0d0887\"],[0.1111111111111111,\"#46039f\"],[0.2222222222222222,\"#7201a8\"],[0.3333333333333333,\"#9c179e\"],[0.4444444444444444,\"#bd3786\"],[0.5555555555555556,\"#d8576b\"],[0.6666666666666666,\"#ed7953\"],[0.7777777777777778,\"#fb9f3a\"],[0.8888888888888888,\"#fdca26\"],[1.0,\"#f0f921\"]]}],\"contourcarpet\":[{\"type\":\"contourcarpet\",\"colorbar\":{\"outlinewidth\":0,\"ticks\":\"\"}}],\"contour\":[{\"type\":\"contour\",\"colorbar\":{\"outlinewidth\":0,\"ticks\":\"\"},\"colorscale\":[[0.0,\"#0d0887\"],[0.1111111111111111,\"#46039f\"],[0.2222222222222222,\"#7201a8\"],[0.3333333333333333,\"#9c179e\"],[0.4444444444444444,\"#bd3786\"],[0.5555555555555556,\"#d8576b\"],[0.6666666666666666,\"#ed7953\"],[0.7777777777777778,\"#fb9f3a\"],[0.8888888888888888,\"#fdca26\"],[1.0,\"#f0f921\"]]}],\"surface\":[{\"type\":\"surface\",\"colorbar\":{\"outlinewidth\":0,\"ticks\":\"\"},\"colorscale\":[[0.0,\"#0d0887\"],[0.1111111111111111,\"#46039f\"],[0.2222222222222222,\"#7201a8\"],[0.3333333333333333,\"#9c179e\"],[0.4444444444444444,\"#bd3786\"],[0.5555555555555556,\"#d8576b\"],[0.6666666666666666,\"#ed7953\"],[0.7777777777777778,\"#fb9f3a\"],[0.8888888888888888,\"#fdca26\"],[1.0,\"#f0f921\"]]}],\"mesh3d\":[{\"type\":\"mesh3d\",\"colorbar\":{\"outlinewidth\":0,\"ticks\":\"\"}}],\"scatter\":[{\"fillpattern\":{\"fillmode\":\"overlay\",\"size\":10,\"solidity\":0.2},\"type\":\"scatter\"}],\"parcoords\":[{\"type\":\"parcoords\",\"line\":{\"colorbar\":{\"outlinewidth\":0,\"ticks\":\"\"}}}],\"scatterpolargl\":[{\"type\":\"scatterpolargl\",\"marker\":{\"colorbar\":{\"outlinewidth\":0,\"ticks\":\"\"}}}],\"bar\":[{\"error_x\":{\"color\":\"#2a3f5f\"},\"error_y\":{\"color\":\"#2a3f5f\"},\"marker\":{\"line\":{\"color\":\"#E5ECF6\",\"width\":0.5},\"pattern\":{\"fillmode\":\"overlay\",\"size\":10,\"solidity\":0.2}},\"type\":\"bar\"}],\"scattergeo\":[{\"type\":\"scattergeo\",\"marker\":{\"colorbar\":{\"outlinewidth\":0,\"ticks\":\"\"}}}],\"scatterpolar\":[{\"type\":\"scatterpolar\",\"marker\":{\"colorbar\":{\"outlinewidth\":0,\"ticks\":\"\"}}}],\"histogram\":[{\"marker\":{\"pattern\":{\"fillmode\":\"overlay\",\"size\":10,\"solidity\":0.2}},\"type\":\"histogram\"}],\"scattergl\":[{\"type\":\"scattergl\",\"marker\":{\"colorbar\":{\"outlinewidth\":0,\"ticks\":\"\"}}}],\"scatter3d\":[{\"type\":\"scatter3d\",\"line\":{\"colorbar\":{\"outlinewidth\":0,\"ticks\":\"\"}},\"marker\":{\"colorbar\":{\"outlinewidth\":0,\"ticks\":\"\"}}}],\"scattermapbox\":[{\"type\":\"scattermapbox\",\"marker\":{\"colorbar\":{\"outlinewidth\":0,\"ticks\":\"\"}}}],\"scatterternary\":[{\"type\":\"scatterternary\",\"marker\":{\"colorbar\":{\"outlinewidth\":0,\"ticks\":\"\"}}}],\"scattercarpet\":[{\"type\":\"scattercarpet\",\"marker\":{\"colorbar\":{\"outlinewidth\":0,\"ticks\":\"\"}}}],\"carpet\":[{\"aaxis\":{\"endlinecolor\":\"#2a3f5f\",\"gridcolor\":\"white\",\"linecolor\":\"white\",\"minorgridcolor\":\"white\",\"startlinecolor\":\"#2a3f5f\"},\"baxis\":{\"endlinecolor\":\"#2a3f5f\",\"gridcolor\":\"white\",\"linecolor\":\"white\",\"minorgridcolor\":\"white\",\"startlinecolor\":\"#2a3f5f\"},\"type\":\"carpet\"}],\"table\":[{\"cells\":{\"fill\":{\"color\":\"#EBF0F8\"},\"line\":{\"color\":\"white\"}},\"header\":{\"fill\":{\"color\":\"#C8D4E3\"},\"line\":{\"color\":\"white\"}},\"type\":\"table\"}],\"barpolar\":[{\"marker\":{\"line\":{\"color\":\"#E5ECF6\",\"width\":0.5},\"pattern\":{\"fillmode\":\"overlay\",\"size\":10,\"solidity\":0.2}},\"type\":\"barpolar\"}],\"pie\":[{\"automargin\":true,\"type\":\"pie\"}]},\"layout\":{\"autotypenumbers\":\"strict\",\"colorway\":[\"#636efa\",\"#EF553B\",\"#00cc96\",\"#ab63fa\",\"#FFA15A\",\"#19d3f3\",\"#FF6692\",\"#B6E880\",\"#FF97FF\",\"#FECB52\"],\"font\":{\"color\":\"#2a3f5f\"},\"hovermode\":\"closest\",\"hoverlabel\":{\"align\":\"left\"},\"paper_bgcolor\":\"white\",\"plot_bgcolor\":\"#E5ECF6\",\"polar\":{\"bgcolor\":\"#E5ECF6\",\"angularaxis\":{\"gridcolor\":\"white\",\"linecolor\":\"white\",\"ticks\":\"\"},\"radialaxis\":{\"gridcolor\":\"white\",\"linecolor\":\"white\",\"ticks\":\"\"}},\"ternary\":{\"bgcolor\":\"#E5ECF6\",\"aaxis\":{\"gridcolor\":\"white\",\"linecolor\":\"white\",\"ticks\":\"\"},\"baxis\":{\"gridcolor\":\"white\",\"linecolor\":\"white\",\"ticks\":\"\"},\"caxis\":{\"gridcolor\":\"white\",\"linecolor\":\"white\",\"ticks\":\"\"}},\"coloraxis\":{\"colorbar\":{\"outlinewidth\":0,\"ticks\":\"\"}},\"colorscale\":{\"sequential\":[[0.0,\"#0d0887\"],[0.1111111111111111,\"#46039f\"],[0.2222222222222222,\"#7201a8\"],[0.3333333333333333,\"#9c179e\"],[0.4444444444444444,\"#bd3786\"],[0.5555555555555556,\"#d8576b\"],[0.6666666666666666,\"#ed7953\"],[0.7777777777777778,\"#fb9f3a\"],[0.8888888888888888,\"#fdca26\"],[1.0,\"#f0f921\"]],\"sequentialminus\":[[0.0,\"#0d0887\"],[0.1111111111111111,\"#46039f\"],[0.2222222222222222,\"#7201a8\"],[0.3333333333333333,\"#9c179e\"],[0.4444444444444444,\"#bd3786\"],[0.5555555555555556,\"#d8576b\"],[0.6666666666666666,\"#ed7953\"],[0.7777777777777778,\"#fb9f3a\"],[0.8888888888888888,\"#fdca26\"],[1.0,\"#f0f921\"]],\"diverging\":[[0,\"#8e0152\"],[0.1,\"#c51b7d\"],[0.2,\"#de77ae\"],[0.3,\"#f1b6da\"],[0.4,\"#fde0ef\"],[0.5,\"#f7f7f7\"],[0.6,\"#e6f5d0\"],[0.7,\"#b8e186\"],[0.8,\"#7fbc41\"],[0.9,\"#4d9221\"],[1,\"#276419\"]]},\"xaxis\":{\"gridcolor\":\"white\",\"linecolor\":\"white\",\"ticks\":\"\",\"title\":{\"standoff\":15},\"zerolinecolor\":\"white\",\"automargin\":true,\"zerolinewidth\":2},\"yaxis\":{\"gridcolor\":\"white\",\"linecolor\":\"white\",\"ticks\":\"\",\"title\":{\"standoff\":15},\"zerolinecolor\":\"white\",\"automargin\":true,\"zerolinewidth\":2},\"scene\":{\"xaxis\":{\"backgroundcolor\":\"#E5ECF6\",\"gridcolor\":\"white\",\"linecolor\":\"white\",\"showbackground\":true,\"ticks\":\"\",\"zerolinecolor\":\"white\",\"gridwidth\":2},\"yaxis\":{\"backgroundcolor\":\"#E5ECF6\",\"gridcolor\":\"white\",\"linecolor\":\"white\",\"showbackground\":true,\"ticks\":\"\",\"zerolinecolor\":\"white\",\"gridwidth\":2},\"zaxis\":{\"backgroundcolor\":\"#E5ECF6\",\"gridcolor\":\"white\",\"linecolor\":\"white\",\"showbackground\":true,\"ticks\":\"\",\"zerolinecolor\":\"white\",\"gridwidth\":2}},\"shapedefaults\":{\"line\":{\"color\":\"#2a3f5f\"}},\"annotationdefaults\":{\"arrowcolor\":\"#2a3f5f\",\"arrowhead\":0,\"arrowwidth\":1},\"geo\":{\"bgcolor\":\"white\",\"landcolor\":\"#E5ECF6\",\"subunitcolor\":\"white\",\"showland\":true,\"showlakes\":true,\"lakecolor\":\"white\"},\"title\":{\"x\":0.05},\"mapbox\":{\"style\":\"light\"}}},\"xaxis\":{\"anchor\":\"y\",\"domain\":[0.0,0.2888888888888889],\"title\":{\"text\":\"Human Freedom Score\"}},\"yaxis\":{\"anchor\":\"x\",\"domain\":[0.0,1.0],\"title\":{\"text\":\"Happiness Score\"}},\"xaxis2\":{\"anchor\":\"y2\",\"domain\":[0.35555555555555557,0.6444444444444445],\"title\":{\"text\":\"Economic Freedom Score\"}},\"yaxis2\":{\"anchor\":\"x2\",\"domain\":[0.0,1.0],\"title\":{\"text\":\"Happiness Score\"}},\"xaxis3\":{\"anchor\":\"y3\",\"domain\":[0.7111111111111111,1.0],\"title\":{\"text\":\"Political Freedom Score\"}},\"yaxis3\":{\"anchor\":\"x3\",\"domain\":[0.0,1.0],\"title\":{\"text\":\"Happiness Score\"}},\"annotations\":[{\"font\":{\"size\":16},\"showarrow\":false,\"text\":\"Human Freedom Score\",\"x\":0.14444444444444446,\"xanchor\":\"center\",\"xref\":\"paper\",\"y\":1.0,\"yanchor\":\"bottom\",\"yref\":\"paper\"},{\"font\":{\"size\":16},\"showarrow\":false,\"text\":\"Economic Freedom Score\",\"x\":0.5,\"xanchor\":\"center\",\"xref\":\"paper\",\"y\":1.0,\"yanchor\":\"bottom\",\"yref\":\"paper\"},{\"font\":{\"size\":16},\"showarrow\":false,\"text\":\"Personal Freedom Score\",\"x\":0.8555555555555556,\"xanchor\":\"center\",\"xref\":\"paper\",\"y\":1.0,\"yanchor\":\"bottom\",\"yref\":\"paper\"}],\"title\":{\"text\":\"Freedom Scores Against Happiness\"},\"height\":400,\"width\":1200,\"showlegend\":true},                        {\"responsive\": true}                    ).then(function(){\n",
       "                            \n",
       "var gd = document.getElementById('9a23bfb7-b626-4dbb-a22e-4e48202b28eb');\n",
       "var x = new MutationObserver(function (mutations, observer) {{\n",
       "        var display = window.getComputedStyle(gd).display;\n",
       "        if (!display || display === 'none') {{\n",
       "            console.log([gd, 'removed!']);\n",
       "            Plotly.purge(gd);\n",
       "            observer.disconnect();\n",
       "        }}\n",
       "}});\n",
       "\n",
       "// Listen for the removal of the full notebook cells\n",
       "var notebookContainer = gd.closest('#notebook-container');\n",
       "if (notebookContainer) {{\n",
       "    x.observe(notebookContainer, {childList: true});\n",
       "}}\n",
       "\n",
       "// Listen for the clearing of the current output cell\n",
       "var outputEl = gd.closest('.output');\n",
       "if (outputEl) {{\n",
       "    x.observe(outputEl, {childList: true});\n",
       "}}\n",
       "\n",
       "                        })                };                });            </script>        </div>"
      ]
     },
     "metadata": {},
     "output_type": "display_data"
    }
   ],
   "source": [
    "fig = make_subplots(rows=1, cols=3, subplot_titles=(\"Human Freedom Score\", \"Economic Freedom Score\", \"Personal Freedom Score\"))\n",
    "\n",
    "# Create scatter plots\n",
    "scatter1 = go.Scatter(\n",
    "    x=data[\"Human Freedom Score\"], y=data[\"Happiness Score\"],\n",
    "    mode='markers',\n",
    "    marker=dict(size=4, color='red', opacity=0.7),\n",
    "    name='Human Freedom Score'\n",
    ")\n",
    "\n",
    "scatter2 = go.Scatter(\n",
    "    x=data[\"Economic Freedom Score\"], y=data[\"Happiness Score\"],\n",
    "    mode='markers',\n",
    "    marker=dict(size=4, color='green', opacity=0.7),\n",
    "    name='Economic Freedom Score'\n",
    ")\n",
    "\n",
    "scatter3 = go.Scatter(\n",
    "    x=data[\"Political Freedom Score\"], y=data[\"Happiness Score\"],\n",
    "    mode='markers',\n",
    "    marker=dict(size=4, color='blue', opacity=0.7),\n",
    "    name='Political Freedom Score',\n",
    ")\n",
    "\n",
    "# Add the scatter plots to the figure\n",
    "fig.add_trace(scatter1, row=1, col=1)\n",
    "fig.add_trace(scatter2, row=1, col=2)\n",
    "fig.add_trace(scatter3, row=1, col=3)\n",
    "\n",
    "# Update layout for each subplot\n",
    "fig.update_xaxes(title_text=\"Human Freedom Score\", row=1, col=1)\n",
    "fig.update_yaxes(title_text=\"Happiness Score\", row=1, col=1)\n",
    "\n",
    "fig.update_xaxes(title_text=\"Economic Freedom Score\", row=1, col=2)\n",
    "fig.update_yaxes(title_text=\"Happiness Score\", row=1, col=2)\n",
    "\n",
    "fig.update_xaxes(title_text=\"Political Freedom Score\", row=1, col=3)\n",
    "fig.update_yaxes(title_text=\"Happiness Score\", row=1, col=3)\n",
    "\n",
    "# Update overall layout\n",
    "fig.update_layout(\n",
    "    height=400,\n",
    "    width=1200,\n",
    "    title_text=\"Freedom Scores Against Happiness\",\n",
    "    showlegend=True\n",
    ")\n",
    "\n",
    "# Show the plot\n",
    "fig.show()"
   ]
  },
  {
   "cell_type": "code",
   "execution_count": 43,
   "metadata": {},
   "outputs": [
    {
     "data": {
      "application/vnd.plotly.v1+json": {
       "config": {
        "plotlyServerURL": "https://plot.ly"
       },
       "data": [
        {
         "coloraxis": "coloraxis",
         "customdata": [
          [
           "ALB"
          ],
          [
           "DZA"
          ],
          [
           "AGO"
          ],
          [
           "ARG"
          ],
          [
           "ARM"
          ],
          [
           "AUS"
          ],
          [
           "AUT"
          ],
          [
           "AZE"
          ],
          [
           "BHS"
          ],
          [
           "BHR"
          ],
          [
           "BGD"
          ],
          [
           "BRB"
          ],
          [
           "BLR"
          ],
          [
           "BEL"
          ],
          [
           "BLZ"
          ],
          [
           "BEN"
          ],
          [
           "BTN"
          ],
          [
           "BOL"
          ],
          [
           "BIH"
          ],
          [
           "BWA"
          ],
          [
           "BRA"
          ],
          [
           "BRN"
          ],
          [
           "BGR"
          ],
          [
           "BFA"
          ],
          [
           "BDI"
          ],
          [
           "CPV"
          ],
          [
           "KHM"
          ],
          [
           "CMR"
          ],
          [
           "CAN"
          ],
          [
           "CAF"
          ],
          [
           "TCD"
          ],
          [
           "CHL"
          ],
          [
           "CHN"
          ],
          [
           "COL"
          ],
          [
           "COM"
          ],
          [
           ""
          ],
          [
           ""
          ],
          [
           ""
          ],
          [
           ""
          ],
          [
           ""
          ],
          [
           ""
          ],
          [
           "COG"
          ],
          [
           "CRI"
          ],
          [
           ""
          ],
          [
           ""
          ],
          [
           ""
          ],
          [
           ""
          ],
          [
           ""
          ],
          [
           ""
          ],
          [
           "HRV"
          ],
          [
           "CYP"
          ],
          [
           "CZE"
          ],
          [
           "DNK"
          ],
          [
           "DJI"
          ],
          [
           "DOM"
          ],
          [
           "ECU"
          ],
          [
           "EGY"
          ],
          [
           "SLV"
          ],
          [
           "EST"
          ],
          [
           "SWZ"
          ],
          [
           "ETH"
          ],
          [
           "FJI"
          ],
          [
           "FIN"
          ],
          [
           "FRA"
          ],
          [
           "GAB"
          ],
          [
           "GMB"
          ],
          [
           "GEO"
          ],
          [
           "DEU"
          ],
          [
           "GHA"
          ],
          [
           "GRC"
          ],
          [
           "GTM"
          ],
          [
           "GIN"
          ],
          [
           "GNB"
          ],
          [
           "GUY"
          ],
          [
           "HTI"
          ],
          [
           "HND"
          ],
          [
           ""
          ],
          [
           ""
          ],
          [
           ""
          ],
          [
           ""
          ],
          [
           ""
          ],
          [
           ""
          ],
          [
           "HUN"
          ],
          [
           "ISL"
          ],
          [
           "IND"
          ],
          [
           "IDN"
          ],
          [
           "IRN"
          ],
          [
           "IRQ"
          ],
          [
           "IRL"
          ],
          [
           "ISR"
          ],
          [
           "ITA"
          ],
          [
           "JAM"
          ],
          [
           "JPN"
          ],
          [
           "JOR"
          ],
          [
           "KAZ"
          ],
          [
           "KEN"
          ],
          [
           "KOR"
          ],
          [
           "KWT"
          ],
          [
           "KGZ"
          ],
          [
           ""
          ],
          [
           ""
          ],
          [
           ""
          ],
          [
           ""
          ],
          [
           ""
          ],
          [
           ""
          ],
          [
           "LVA"
          ],
          [
           "LBN"
          ],
          [
           "LSO"
          ],
          [
           "LBR"
          ],
          [
           "LBY"
          ],
          [
           "LTU"
          ],
          [
           "LUX"
          ],
          [
           "MDG"
          ],
          [
           "MWI"
          ],
          [
           "MYS"
          ],
          [
           "MLI"
          ],
          [
           "MLT"
          ],
          [
           "MRT"
          ],
          [
           "MUS"
          ],
          [
           "MEX"
          ],
          [
           "MDA"
          ],
          [
           "MNG"
          ],
          [
           "MNE"
          ],
          [
           "MAR"
          ],
          [
           "MOZ"
          ],
          [
           "MMR"
          ],
          [
           "NAM"
          ],
          [
           "NPL"
          ],
          [
           "NLD"
          ],
          [
           "NZL"
          ],
          [
           "NIC"
          ],
          [
           "NGA"
          ],
          [
           "NGA"
          ],
          [
           "NGA"
          ],
          [
           "NGA"
          ],
          [
           "MKD"
          ],
          [
           "NOR"
          ],
          [
           "OMN"
          ],
          [
           "PAK"
          ],
          [
           "PAN"
          ],
          [
           "PNG"
          ],
          [
           "PRY"
          ],
          [
           "PER"
          ],
          [
           "PHL"
          ],
          [
           "POL"
          ],
          [
           "PRT"
          ],
          [
           "QAT"
          ],
          [
           "ROU"
          ],
          [
           "RUS"
          ],
          [
           "RWA"
          ],
          [
           "SAU"
          ],
          [
           "SEN"
          ],
          [
           "SRB"
          ],
          [
           "SRB"
          ],
          [
           "SYC"
          ],
          [
           "SLE"
          ],
          [
           "SGP"
          ],
          [
           "SVK"
          ],
          [
           "SVN"
          ],
          [
           "SOM"
          ],
          [
           "ZAF"
          ],
          [
           "ESP"
          ],
          [
           "LKA"
          ],
          [
           "SDN"
          ],
          [
           "SUR"
          ],
          [
           "SWE"
          ],
          [
           "CHE"
          ],
          [
           "SYR"
          ],
          [
           "TWN"
          ],
          [
           "TJK"
          ],
          [
           "TZA"
          ],
          [
           "THA"
          ],
          [
           "TLS"
          ],
          [
           "TGO"
          ],
          [
           "TTO"
          ],
          [
           "TUN"
          ],
          [
           "TUR"
          ],
          [
           "UGA"
          ],
          [
           "UKR"
          ],
          [
           "ARE"
          ],
          [
           "GBR"
          ],
          [
           "USA"
          ],
          [
           "URY"
          ],
          [
           "VEN"
          ],
          [
           "VNM"
          ],
          [
           "YEM"
          ],
          [
           "ZMB"
          ],
          [
           "ZWE"
          ]
         ],
         "geo": "geo",
         "hovertemplate": "<b>%{hovertext}</b><br><br>iso=%{customdata[0]}<br>Human Freedom Score=%{z}<extra></extra>",
         "hovertext": [
          "ALB",
          "DZA",
          "AGO",
          "ARG",
          "ARM",
          "AUS",
          "AUT",
          "AZE",
          "BHS",
          "BHR",
          "BGD",
          "BRB",
          "BLR",
          "BEL",
          "BLZ",
          "BEN",
          "BTN",
          "BOL",
          "BIH",
          "BWA",
          "BRA",
          "BRN",
          "BGR",
          "BFA",
          "BDI",
          "CPV",
          "KHM",
          "CMR",
          "CAN",
          "CAF",
          "TCD",
          "CHL",
          "CHN",
          "COL",
          "COM",
          "",
          "",
          "",
          "",
          "",
          "",
          "COG",
          "CRI",
          "",
          "",
          "",
          "",
          "",
          "",
          "HRV",
          "CYP",
          "CZE",
          "DNK",
          "DJI",
          "DOM",
          "ECU",
          "EGY",
          "SLV",
          "EST",
          "SWZ",
          "ETH",
          "FJI",
          "FIN",
          "FRA",
          "GAB",
          "GMB",
          "GEO",
          "DEU",
          "GHA",
          "GRC",
          "GTM",
          "GIN",
          "GNB",
          "GUY",
          "HTI",
          "HND",
          "",
          "",
          "",
          "",
          "",
          "",
          "HUN",
          "ISL",
          "IND",
          "IDN",
          "IRN",
          "IRQ",
          "IRL",
          "ISR",
          "ITA",
          "JAM",
          "JPN",
          "JOR",
          "KAZ",
          "KEN",
          "KOR",
          "KWT",
          "KGZ",
          "",
          "",
          "",
          "",
          "",
          "",
          "LVA",
          "LBN",
          "LSO",
          "LBR",
          "LBY",
          "LTU",
          "LUX",
          "MDG",
          "MWI",
          "MYS",
          "MLI",
          "MLT",
          "MRT",
          "MUS",
          "MEX",
          "MDA",
          "MNG",
          "MNE",
          "MAR",
          "MOZ",
          "MMR",
          "NAM",
          "NPL",
          "NLD",
          "NZL",
          "NIC",
          "NGA",
          "NGA",
          "NGA",
          "NGA",
          "MKD",
          "NOR",
          "OMN",
          "PAK",
          "PAN",
          "PNG",
          "PRY",
          "PER",
          "PHL",
          "POL",
          "PRT",
          "QAT",
          "ROU",
          "RUS",
          "RWA",
          "SAU",
          "SEN",
          "SRB",
          "SRB",
          "SYC",
          "SLE",
          "SGP",
          "SVK",
          "SVN",
          "SOM",
          "ZAF",
          "ESP",
          "LKA",
          "SDN",
          "SUR",
          "SWE",
          "CHE",
          "SYR",
          "TWN",
          "TJK",
          "TZA",
          "THA",
          "TLS",
          "TGO",
          "TTO",
          "TUN",
          "TUR",
          "UGA",
          "UKR",
          "ARE",
          "GBR",
          "USA",
          "URY",
          "VEN",
          "VNM",
          "YEM",
          "ZMB",
          "ZWE"
         ],
         "locations": [
          "ALB",
          "DZA",
          "AGO",
          "ARG",
          "ARM",
          "AUS",
          "AUT",
          "AZE",
          "BHS",
          "BHR",
          "BGD",
          "BRB",
          "BLR",
          "BEL",
          "BLZ",
          "BEN",
          "BTN",
          "BOL",
          "BIH",
          "BWA",
          "BRA",
          "BRN",
          "BGR",
          "BFA",
          "BDI",
          "CPV",
          "KHM",
          "CMR",
          "CAN",
          "CAF",
          "TCD",
          "CHL",
          "CHN",
          "COL",
          "COM",
          "",
          "",
          "",
          "",
          "",
          "",
          "COG",
          "CRI",
          "",
          "",
          "",
          "",
          "",
          "",
          "HRV",
          "CYP",
          "CZE",
          "DNK",
          "DJI",
          "DOM",
          "ECU",
          "EGY",
          "SLV",
          "EST",
          "SWZ",
          "ETH",
          "FJI",
          "FIN",
          "FRA",
          "GAB",
          "GMB",
          "GEO",
          "DEU",
          "GHA",
          "GRC",
          "GTM",
          "GIN",
          "GNB",
          "GUY",
          "HTI",
          "HND",
          "",
          "",
          "",
          "",
          "",
          "",
          "HUN",
          "ISL",
          "IND",
          "IDN",
          "IRN",
          "IRQ",
          "IRL",
          "ISR",
          "ITA",
          "JAM",
          "JPN",
          "JOR",
          "KAZ",
          "KEN",
          "KOR",
          "KWT",
          "KGZ",
          "",
          "",
          "",
          "",
          "",
          "",
          "LVA",
          "LBN",
          "LSO",
          "LBR",
          "LBY",
          "LTU",
          "LUX",
          "MDG",
          "MWI",
          "MYS",
          "MLI",
          "MLT",
          "MRT",
          "MUS",
          "MEX",
          "MDA",
          "MNG",
          "MNE",
          "MAR",
          "MOZ",
          "MMR",
          "NAM",
          "NPL",
          "NLD",
          "NZL",
          "NIC",
          "NGA",
          "NGA",
          "NGA",
          "NGA",
          "MKD",
          "NOR",
          "OMN",
          "PAK",
          "PAN",
          "PNG",
          "PRY",
          "PER",
          "PHL",
          "POL",
          "PRT",
          "QAT",
          "ROU",
          "RUS",
          "RWA",
          "SAU",
          "SEN",
          "SRB",
          "SRB",
          "SYC",
          "SLE",
          "SGP",
          "SVK",
          "SVN",
          "SOM",
          "ZAF",
          "ESP",
          "LKA",
          "SDN",
          "SUR",
          "SWE",
          "CHE",
          "SYR",
          "TWN",
          "TJK",
          "TZA",
          "THA",
          "TLS",
          "TGO",
          "TTO",
          "TUN",
          "TUR",
          "UGA",
          "UKR",
          "ARE",
          "GBR",
          "USA",
          "URY",
          "VEN",
          "VNM",
          "YEM",
          "ZMB",
          "ZWE"
         ],
         "name": "",
         "type": "choropleth",
         "z": [
          8.07,
          5.08,
          5.96,
          7.33,
          8.32,
          8.83,
          8.68,
          6.02,
          8.15,
          5.43,
          5.56,
          7.93,
          6.27,
          8.55,
          7.48,
          7.25,
          6.68,
          6.88,
          7.43,
          7.76,
          7.25,
          5.96,
          7.97,
          6.83,
          4.91,
          8.44,
          6.43,
          5.34,
          8.85,
          5.68,
          5.41,
          8.5,
          5.27,
          6.95,
          5.91,
          5.49,
          5.49,
          5.49,
          5.49,
          5.49,
          5.49,
          5.33,
          8.28,
          6.78,
          6.78,
          6.78,
          6.78,
          6.78,
          6.78,
          8.15,
          8.49,
          8.61,
          9.01,
          5.63,
          7.87,
          7.37,
          4.35,
          7.34,
          8.94,
          5.73,
          5.73,
          7.35,
          8.87,
          8.26,
          6.66,
          6.82,
          7.85,
          8.73,
          7.46,
          7.83,
          7.47,
          5.82,
          6.78,
          7.04,
          7.2,
          6.98,
          8.38,
          8.38,
          8.38,
          8.38,
          8.38,
          8.38,
          7.63,
          8.84,
          6.42,
          6.98,
          4.27,
          5.12,
          8.95,
          7.61,
          8.43,
          7.9,
          8.75,
          6.71,
          6.63,
          6.57,
          8.31,
          6.2,
          7.02,
          5.68,
          5.68,
          5.68,
          5.68,
          5.68,
          5.68,
          8.62,
          6.67,
          7,
          6.6,
          4.72,
          8.72,
          8.85,
          6.86,
          6.92,
          7.08,
          6.19,
          8.43,
          5.56,
          8.02,
          6.8,
          7.6,
          7.97,
          7.91,
          5.68,
          6.77,
          5.4,
          7.57,
          7.01,
          8.8,
          9.04,
          6.13,
          6.14,
          6.14,
          6.1,
          6.1,
          7.68,
          8.81,
          5.77,
          5.48,
          7.94,
          7.17,
          7.46,
          7.83,
          6.69,
          7.92,
          8.69,
          5.96,
          8.25,
          6.11,
          6.19,
          4.77,
          6.9,
          7.5,
          7.5,
          7.91,
          6.47,
          7.86,
          8.15,
          8.33,
          4.71,
          7.15,
          8.49,
          6.47,
          4.04,
          7.51,
          8.85,
          9.17,
          3.36,
          8.8,
          5.44,
          6.29,
          6.75,
          7.36,
          6.28,
          7.78,
          6.3,
          5.63,
          6.17,
          6.77,
          5.89,
          8.79,
          8.75,
          8.4,
          3.9,
          5.74,
          3.99,
          6.6,
          5.3
         ]
        }
       ],
       "layout": {
        "annotations": [
         {
          "align": "center",
          "font": {
           "size": 10
          },
          "showarrow": false,
          "text": "Correlation Matrix of Freedom, Happiness, and Health Indicators: This heatmap illustrates the<br>relationships between various measures of freedom (human, economic, and personal), happiness scores,<br>healthy life expectancy, and perceptions of corruption, with correlation coefficients<br>ranging from 0 (no correlation) to 1 (perfect correlation).",
          "width": 700,
          "x": 0.5,
          "xref": "paper",
          "y": -0.2,
          "yref": "paper"
         }
        ],
        "coloraxis": {
         "colorbar": {
          "title": {
           "text": "Human Freedom Score"
          }
         },
         "colorscale": [
          [
           0,
           "rgb(177, 63, 100)"
          ],
          [
           0.16666666666666666,
           "rgb(202, 82, 104)"
          ],
          [
           0.3333333333333333,
           "rgb(221, 104, 108)"
          ],
          [
           0.5,
           "rgb(234, 129, 113)"
          ],
          [
           0.6666666666666666,
           "rgb(241, 156, 124)"
          ],
          [
           0.8333333333333334,
           "rgb(245, 183, 142)"
          ],
          [
           1,
           "rgb(246, 210, 169)"
          ]
         ]
        },
        "geo": {
         "center": {},
         "domain": {
          "x": [
           0,
           1
          ],
          "y": [
           0,
           1
          ]
         }
        },
        "height": 500,
        "legend": {
         "tracegroupgap": 0
        },
        "template": {
         "data": {
          "bar": [
           {
            "error_x": {
             "color": "#2a3f5f"
            },
            "error_y": {
             "color": "#2a3f5f"
            },
            "marker": {
             "line": {
              "color": "#E5ECF6",
              "width": 0.5
             },
             "pattern": {
              "fillmode": "overlay",
              "size": 10,
              "solidity": 0.2
             }
            },
            "type": "bar"
           }
          ],
          "barpolar": [
           {
            "marker": {
             "line": {
              "color": "#E5ECF6",
              "width": 0.5
             },
             "pattern": {
              "fillmode": "overlay",
              "size": 10,
              "solidity": 0.2
             }
            },
            "type": "barpolar"
           }
          ],
          "carpet": [
           {
            "aaxis": {
             "endlinecolor": "#2a3f5f",
             "gridcolor": "white",
             "linecolor": "white",
             "minorgridcolor": "white",
             "startlinecolor": "#2a3f5f"
            },
            "baxis": {
             "endlinecolor": "#2a3f5f",
             "gridcolor": "white",
             "linecolor": "white",
             "minorgridcolor": "white",
             "startlinecolor": "#2a3f5f"
            },
            "type": "carpet"
           }
          ],
          "choropleth": [
           {
            "colorbar": {
             "outlinewidth": 0,
             "ticks": ""
            },
            "type": "choropleth"
           }
          ],
          "contour": [
           {
            "colorbar": {
             "outlinewidth": 0,
             "ticks": ""
            },
            "colorscale": [
             [
              0,
              "#0d0887"
             ],
             [
              0.1111111111111111,
              "#46039f"
             ],
             [
              0.2222222222222222,
              "#7201a8"
             ],
             [
              0.3333333333333333,
              "#9c179e"
             ],
             [
              0.4444444444444444,
              "#bd3786"
             ],
             [
              0.5555555555555556,
              "#d8576b"
             ],
             [
              0.6666666666666666,
              "#ed7953"
             ],
             [
              0.7777777777777778,
              "#fb9f3a"
             ],
             [
              0.8888888888888888,
              "#fdca26"
             ],
             [
              1,
              "#f0f921"
             ]
            ],
            "type": "contour"
           }
          ],
          "contourcarpet": [
           {
            "colorbar": {
             "outlinewidth": 0,
             "ticks": ""
            },
            "type": "contourcarpet"
           }
          ],
          "heatmap": [
           {
            "colorbar": {
             "outlinewidth": 0,
             "ticks": ""
            },
            "colorscale": [
             [
              0,
              "#0d0887"
             ],
             [
              0.1111111111111111,
              "#46039f"
             ],
             [
              0.2222222222222222,
              "#7201a8"
             ],
             [
              0.3333333333333333,
              "#9c179e"
             ],
             [
              0.4444444444444444,
              "#bd3786"
             ],
             [
              0.5555555555555556,
              "#d8576b"
             ],
             [
              0.6666666666666666,
              "#ed7953"
             ],
             [
              0.7777777777777778,
              "#fb9f3a"
             ],
             [
              0.8888888888888888,
              "#fdca26"
             ],
             [
              1,
              "#f0f921"
             ]
            ],
            "type": "heatmap"
           }
          ],
          "heatmapgl": [
           {
            "colorbar": {
             "outlinewidth": 0,
             "ticks": ""
            },
            "colorscale": [
             [
              0,
              "#0d0887"
             ],
             [
              0.1111111111111111,
              "#46039f"
             ],
             [
              0.2222222222222222,
              "#7201a8"
             ],
             [
              0.3333333333333333,
              "#9c179e"
             ],
             [
              0.4444444444444444,
              "#bd3786"
             ],
             [
              0.5555555555555556,
              "#d8576b"
             ],
             [
              0.6666666666666666,
              "#ed7953"
             ],
             [
              0.7777777777777778,
              "#fb9f3a"
             ],
             [
              0.8888888888888888,
              "#fdca26"
             ],
             [
              1,
              "#f0f921"
             ]
            ],
            "type": "heatmapgl"
           }
          ],
          "histogram": [
           {
            "marker": {
             "pattern": {
              "fillmode": "overlay",
              "size": 10,
              "solidity": 0.2
             }
            },
            "type": "histogram"
           }
          ],
          "histogram2d": [
           {
            "colorbar": {
             "outlinewidth": 0,
             "ticks": ""
            },
            "colorscale": [
             [
              0,
              "#0d0887"
             ],
             [
              0.1111111111111111,
              "#46039f"
             ],
             [
              0.2222222222222222,
              "#7201a8"
             ],
             [
              0.3333333333333333,
              "#9c179e"
             ],
             [
              0.4444444444444444,
              "#bd3786"
             ],
             [
              0.5555555555555556,
              "#d8576b"
             ],
             [
              0.6666666666666666,
              "#ed7953"
             ],
             [
              0.7777777777777778,
              "#fb9f3a"
             ],
             [
              0.8888888888888888,
              "#fdca26"
             ],
             [
              1,
              "#f0f921"
             ]
            ],
            "type": "histogram2d"
           }
          ],
          "histogram2dcontour": [
           {
            "colorbar": {
             "outlinewidth": 0,
             "ticks": ""
            },
            "colorscale": [
             [
              0,
              "#0d0887"
             ],
             [
              0.1111111111111111,
              "#46039f"
             ],
             [
              0.2222222222222222,
              "#7201a8"
             ],
             [
              0.3333333333333333,
              "#9c179e"
             ],
             [
              0.4444444444444444,
              "#bd3786"
             ],
             [
              0.5555555555555556,
              "#d8576b"
             ],
             [
              0.6666666666666666,
              "#ed7953"
             ],
             [
              0.7777777777777778,
              "#fb9f3a"
             ],
             [
              0.8888888888888888,
              "#fdca26"
             ],
             [
              1,
              "#f0f921"
             ]
            ],
            "type": "histogram2dcontour"
           }
          ],
          "mesh3d": [
           {
            "colorbar": {
             "outlinewidth": 0,
             "ticks": ""
            },
            "type": "mesh3d"
           }
          ],
          "parcoords": [
           {
            "line": {
             "colorbar": {
              "outlinewidth": 0,
              "ticks": ""
             }
            },
            "type": "parcoords"
           }
          ],
          "pie": [
           {
            "automargin": true,
            "type": "pie"
           }
          ],
          "scatter": [
           {
            "fillpattern": {
             "fillmode": "overlay",
             "size": 10,
             "solidity": 0.2
            },
            "type": "scatter"
           }
          ],
          "scatter3d": [
           {
            "line": {
             "colorbar": {
              "outlinewidth": 0,
              "ticks": ""
             }
            },
            "marker": {
             "colorbar": {
              "outlinewidth": 0,
              "ticks": ""
             }
            },
            "type": "scatter3d"
           }
          ],
          "scattercarpet": [
           {
            "marker": {
             "colorbar": {
              "outlinewidth": 0,
              "ticks": ""
             }
            },
            "type": "scattercarpet"
           }
          ],
          "scattergeo": [
           {
            "marker": {
             "colorbar": {
              "outlinewidth": 0,
              "ticks": ""
             }
            },
            "type": "scattergeo"
           }
          ],
          "scattergl": [
           {
            "marker": {
             "colorbar": {
              "outlinewidth": 0,
              "ticks": ""
             }
            },
            "type": "scattergl"
           }
          ],
          "scattermapbox": [
           {
            "marker": {
             "colorbar": {
              "outlinewidth": 0,
              "ticks": ""
             }
            },
            "type": "scattermapbox"
           }
          ],
          "scatterpolar": [
           {
            "marker": {
             "colorbar": {
              "outlinewidth": 0,
              "ticks": ""
             }
            },
            "type": "scatterpolar"
           }
          ],
          "scatterpolargl": [
           {
            "marker": {
             "colorbar": {
              "outlinewidth": 0,
              "ticks": ""
             }
            },
            "type": "scatterpolargl"
           }
          ],
          "scatterternary": [
           {
            "marker": {
             "colorbar": {
              "outlinewidth": 0,
              "ticks": ""
             }
            },
            "type": "scatterternary"
           }
          ],
          "surface": [
           {
            "colorbar": {
             "outlinewidth": 0,
             "ticks": ""
            },
            "colorscale": [
             [
              0,
              "#0d0887"
             ],
             [
              0.1111111111111111,
              "#46039f"
             ],
             [
              0.2222222222222222,
              "#7201a8"
             ],
             [
              0.3333333333333333,
              "#9c179e"
             ],
             [
              0.4444444444444444,
              "#bd3786"
             ],
             [
              0.5555555555555556,
              "#d8576b"
             ],
             [
              0.6666666666666666,
              "#ed7953"
             ],
             [
              0.7777777777777778,
              "#fb9f3a"
             ],
             [
              0.8888888888888888,
              "#fdca26"
             ],
             [
              1,
              "#f0f921"
             ]
            ],
            "type": "surface"
           }
          ],
          "table": [
           {
            "cells": {
             "fill": {
              "color": "#EBF0F8"
             },
             "line": {
              "color": "white"
             }
            },
            "header": {
             "fill": {
              "color": "#C8D4E3"
             },
             "line": {
              "color": "white"
             }
            },
            "type": "table"
           }
          ]
         },
         "layout": {
          "annotationdefaults": {
           "arrowcolor": "#2a3f5f",
           "arrowhead": 0,
           "arrowwidth": 1
          },
          "autotypenumbers": "strict",
          "coloraxis": {
           "colorbar": {
            "outlinewidth": 0,
            "ticks": ""
           }
          },
          "colorscale": {
           "diverging": [
            [
             0,
             "#8e0152"
            ],
            [
             0.1,
             "#c51b7d"
            ],
            [
             0.2,
             "#de77ae"
            ],
            [
             0.3,
             "#f1b6da"
            ],
            [
             0.4,
             "#fde0ef"
            ],
            [
             0.5,
             "#f7f7f7"
            ],
            [
             0.6,
             "#e6f5d0"
            ],
            [
             0.7,
             "#b8e186"
            ],
            [
             0.8,
             "#7fbc41"
            ],
            [
             0.9,
             "#4d9221"
            ],
            [
             1,
             "#276419"
            ]
           ],
           "sequential": [
            [
             0,
             "#0d0887"
            ],
            [
             0.1111111111111111,
             "#46039f"
            ],
            [
             0.2222222222222222,
             "#7201a8"
            ],
            [
             0.3333333333333333,
             "#9c179e"
            ],
            [
             0.4444444444444444,
             "#bd3786"
            ],
            [
             0.5555555555555556,
             "#d8576b"
            ],
            [
             0.6666666666666666,
             "#ed7953"
            ],
            [
             0.7777777777777778,
             "#fb9f3a"
            ],
            [
             0.8888888888888888,
             "#fdca26"
            ],
            [
             1,
             "#f0f921"
            ]
           ],
           "sequentialminus": [
            [
             0,
             "#0d0887"
            ],
            [
             0.1111111111111111,
             "#46039f"
            ],
            [
             0.2222222222222222,
             "#7201a8"
            ],
            [
             0.3333333333333333,
             "#9c179e"
            ],
            [
             0.4444444444444444,
             "#bd3786"
            ],
            [
             0.5555555555555556,
             "#d8576b"
            ],
            [
             0.6666666666666666,
             "#ed7953"
            ],
            [
             0.7777777777777778,
             "#fb9f3a"
            ],
            [
             0.8888888888888888,
             "#fdca26"
            ],
            [
             1,
             "#f0f921"
            ]
           ]
          },
          "colorway": [
           "#636efa",
           "#EF553B",
           "#00cc96",
           "#ab63fa",
           "#FFA15A",
           "#19d3f3",
           "#FF6692",
           "#B6E880",
           "#FF97FF",
           "#FECB52"
          ],
          "font": {
           "color": "#2a3f5f"
          },
          "geo": {
           "bgcolor": "white",
           "lakecolor": "white",
           "landcolor": "#E5ECF6",
           "showlakes": true,
           "showland": true,
           "subunitcolor": "white"
          },
          "hoverlabel": {
           "align": "left"
          },
          "hovermode": "closest",
          "mapbox": {
           "style": "light"
          },
          "paper_bgcolor": "white",
          "plot_bgcolor": "#E5ECF6",
          "polar": {
           "angularaxis": {
            "gridcolor": "white",
            "linecolor": "white",
            "ticks": ""
           },
           "bgcolor": "#E5ECF6",
           "radialaxis": {
            "gridcolor": "white",
            "linecolor": "white",
            "ticks": ""
           }
          },
          "scene": {
           "xaxis": {
            "backgroundcolor": "#E5ECF6",
            "gridcolor": "white",
            "gridwidth": 2,
            "linecolor": "white",
            "showbackground": true,
            "ticks": "",
            "zerolinecolor": "white"
           },
           "yaxis": {
            "backgroundcolor": "#E5ECF6",
            "gridcolor": "white",
            "gridwidth": 2,
            "linecolor": "white",
            "showbackground": true,
            "ticks": "",
            "zerolinecolor": "white"
           },
           "zaxis": {
            "backgroundcolor": "#E5ECF6",
            "gridcolor": "white",
            "gridwidth": 2,
            "linecolor": "white",
            "showbackground": true,
            "ticks": "",
            "zerolinecolor": "white"
           }
          },
          "shapedefaults": {
           "line": {
            "color": "#2a3f5f"
           }
          },
          "ternary": {
           "aaxis": {
            "gridcolor": "white",
            "linecolor": "white",
            "ticks": ""
           },
           "baxis": {
            "gridcolor": "white",
            "linecolor": "white",
            "ticks": ""
           },
           "bgcolor": "#E5ECF6",
           "caxis": {
            "gridcolor": "white",
            "linecolor": "white",
            "ticks": ""
           }
          },
          "title": {
           "x": 0.05
          },
          "xaxis": {
           "automargin": true,
           "gridcolor": "white",
           "linecolor": "white",
           "ticks": "",
           "title": {
            "standoff": 15
           },
           "zerolinecolor": "white",
           "zerolinewidth": 2
          },
          "yaxis": {
           "automargin": true,
           "gridcolor": "white",
           "linecolor": "white",
           "ticks": "",
           "title": {
            "standoff": 15
           },
           "zerolinecolor": "white",
           "zerolinewidth": 2
          }
         }
        },
        "title": {
         "text": "Freedom around the world"
        },
        "width": 1000
       }
      },
      "text/html": [
       "<div>                            <div id=\"18c4005c-0be2-4378-8dc0-78bc5c2683c6\" class=\"plotly-graph-div\" style=\"height:500px; width:1000px;\"></div>            <script type=\"text/javascript\">                require([\"plotly\"], function(Plotly) {                    window.PLOTLYENV=window.PLOTLYENV || {};                                    if (document.getElementById(\"18c4005c-0be2-4378-8dc0-78bc5c2683c6\")) {                    Plotly.newPlot(                        \"18c4005c-0be2-4378-8dc0-78bc5c2683c6\",                        [{\"coloraxis\":\"coloraxis\",\"customdata\":[[\"ALB\"],[\"DZA\"],[\"AGO\"],[\"ARG\"],[\"ARM\"],[\"AUS\"],[\"AUT\"],[\"AZE\"],[\"BHS\"],[\"BHR\"],[\"BGD\"],[\"BRB\"],[\"BLR\"],[\"BEL\"],[\"BLZ\"],[\"BEN\"],[\"BTN\"],[\"BOL\"],[\"BIH\"],[\"BWA\"],[\"BRA\"],[\"BRN\"],[\"BGR\"],[\"BFA\"],[\"BDI\"],[\"CPV\"],[\"KHM\"],[\"CMR\"],[\"CAN\"],[\"CAF\"],[\"TCD\"],[\"CHL\"],[\"CHN\"],[\"COL\"],[\"COM\"],[\"\"],[\"\"],[\"\"],[\"\"],[\"\"],[\"\"],[\"COG\"],[\"CRI\"],[\"\"],[\"\"],[\"\"],[\"\"],[\"\"],[\"\"],[\"HRV\"],[\"CYP\"],[\"CZE\"],[\"DNK\"],[\"DJI\"],[\"DOM\"],[\"ECU\"],[\"EGY\"],[\"SLV\"],[\"EST\"],[\"SWZ\"],[\"ETH\"],[\"FJI\"],[\"FIN\"],[\"FRA\"],[\"GAB\"],[\"GMB\"],[\"GEO\"],[\"DEU\"],[\"GHA\"],[\"GRC\"],[\"GTM\"],[\"GIN\"],[\"GNB\"],[\"GUY\"],[\"HTI\"],[\"HND\"],[\"\"],[\"\"],[\"\"],[\"\"],[\"\"],[\"\"],[\"HUN\"],[\"ISL\"],[\"IND\"],[\"IDN\"],[\"IRN\"],[\"IRQ\"],[\"IRL\"],[\"ISR\"],[\"ITA\"],[\"JAM\"],[\"JPN\"],[\"JOR\"],[\"KAZ\"],[\"KEN\"],[\"KOR\"],[\"KWT\"],[\"KGZ\"],[\"\"],[\"\"],[\"\"],[\"\"],[\"\"],[\"\"],[\"LVA\"],[\"LBN\"],[\"LSO\"],[\"LBR\"],[\"LBY\"],[\"LTU\"],[\"LUX\"],[\"MDG\"],[\"MWI\"],[\"MYS\"],[\"MLI\"],[\"MLT\"],[\"MRT\"],[\"MUS\"],[\"MEX\"],[\"MDA\"],[\"MNG\"],[\"MNE\"],[\"MAR\"],[\"MOZ\"],[\"MMR\"],[\"NAM\"],[\"NPL\"],[\"NLD\"],[\"NZL\"],[\"NIC\"],[\"NGA\"],[\"NGA\"],[\"NGA\"],[\"NGA\"],[\"MKD\"],[\"NOR\"],[\"OMN\"],[\"PAK\"],[\"PAN\"],[\"PNG\"],[\"PRY\"],[\"PER\"],[\"PHL\"],[\"POL\"],[\"PRT\"],[\"QAT\"],[\"ROU\"],[\"RUS\"],[\"RWA\"],[\"SAU\"],[\"SEN\"],[\"SRB\"],[\"SRB\"],[\"SYC\"],[\"SLE\"],[\"SGP\"],[\"SVK\"],[\"SVN\"],[\"SOM\"],[\"ZAF\"],[\"ESP\"],[\"LKA\"],[\"SDN\"],[\"SUR\"],[\"SWE\"],[\"CHE\"],[\"SYR\"],[\"TWN\"],[\"TJK\"],[\"TZA\"],[\"THA\"],[\"TLS\"],[\"TGO\"],[\"TTO\"],[\"TUN\"],[\"TUR\"],[\"UGA\"],[\"UKR\"],[\"ARE\"],[\"GBR\"],[\"USA\"],[\"URY\"],[\"VEN\"],[\"VNM\"],[\"YEM\"],[\"ZMB\"],[\"ZWE\"]],\"geo\":\"geo\",\"hovertemplate\":\"\\u003cb\\u003e%{hovertext}\\u003c\\u002fb\\u003e\\u003cbr\\u003e\\u003cbr\\u003eiso=%{customdata[0]}\\u003cbr\\u003eHuman Freedom Score=%{z}\\u003cextra\\u003e\\u003c\\u002fextra\\u003e\",\"hovertext\":[\"ALB\",\"DZA\",\"AGO\",\"ARG\",\"ARM\",\"AUS\",\"AUT\",\"AZE\",\"BHS\",\"BHR\",\"BGD\",\"BRB\",\"BLR\",\"BEL\",\"BLZ\",\"BEN\",\"BTN\",\"BOL\",\"BIH\",\"BWA\",\"BRA\",\"BRN\",\"BGR\",\"BFA\",\"BDI\",\"CPV\",\"KHM\",\"CMR\",\"CAN\",\"CAF\",\"TCD\",\"CHL\",\"CHN\",\"COL\",\"COM\",\"\",\"\",\"\",\"\",\"\",\"\",\"COG\",\"CRI\",\"\",\"\",\"\",\"\",\"\",\"\",\"HRV\",\"CYP\",\"CZE\",\"DNK\",\"DJI\",\"DOM\",\"ECU\",\"EGY\",\"SLV\",\"EST\",\"SWZ\",\"ETH\",\"FJI\",\"FIN\",\"FRA\",\"GAB\",\"GMB\",\"GEO\",\"DEU\",\"GHA\",\"GRC\",\"GTM\",\"GIN\",\"GNB\",\"GUY\",\"HTI\",\"HND\",\"\",\"\",\"\",\"\",\"\",\"\",\"HUN\",\"ISL\",\"IND\",\"IDN\",\"IRN\",\"IRQ\",\"IRL\",\"ISR\",\"ITA\",\"JAM\",\"JPN\",\"JOR\",\"KAZ\",\"KEN\",\"KOR\",\"KWT\",\"KGZ\",\"\",\"\",\"\",\"\",\"\",\"\",\"LVA\",\"LBN\",\"LSO\",\"LBR\",\"LBY\",\"LTU\",\"LUX\",\"MDG\",\"MWI\",\"MYS\",\"MLI\",\"MLT\",\"MRT\",\"MUS\",\"MEX\",\"MDA\",\"MNG\",\"MNE\",\"MAR\",\"MOZ\",\"MMR\",\"NAM\",\"NPL\",\"NLD\",\"NZL\",\"NIC\",\"NGA\",\"NGA\",\"NGA\",\"NGA\",\"MKD\",\"NOR\",\"OMN\",\"PAK\",\"PAN\",\"PNG\",\"PRY\",\"PER\",\"PHL\",\"POL\",\"PRT\",\"QAT\",\"ROU\",\"RUS\",\"RWA\",\"SAU\",\"SEN\",\"SRB\",\"SRB\",\"SYC\",\"SLE\",\"SGP\",\"SVK\",\"SVN\",\"SOM\",\"ZAF\",\"ESP\",\"LKA\",\"SDN\",\"SUR\",\"SWE\",\"CHE\",\"SYR\",\"TWN\",\"TJK\",\"TZA\",\"THA\",\"TLS\",\"TGO\",\"TTO\",\"TUN\",\"TUR\",\"UGA\",\"UKR\",\"ARE\",\"GBR\",\"USA\",\"URY\",\"VEN\",\"VNM\",\"YEM\",\"ZMB\",\"ZWE\"],\"locations\":[\"ALB\",\"DZA\",\"AGO\",\"ARG\",\"ARM\",\"AUS\",\"AUT\",\"AZE\",\"BHS\",\"BHR\",\"BGD\",\"BRB\",\"BLR\",\"BEL\",\"BLZ\",\"BEN\",\"BTN\",\"BOL\",\"BIH\",\"BWA\",\"BRA\",\"BRN\",\"BGR\",\"BFA\",\"BDI\",\"CPV\",\"KHM\",\"CMR\",\"CAN\",\"CAF\",\"TCD\",\"CHL\",\"CHN\",\"COL\",\"COM\",\"\",\"\",\"\",\"\",\"\",\"\",\"COG\",\"CRI\",\"\",\"\",\"\",\"\",\"\",\"\",\"HRV\",\"CYP\",\"CZE\",\"DNK\",\"DJI\",\"DOM\",\"ECU\",\"EGY\",\"SLV\",\"EST\",\"SWZ\",\"ETH\",\"FJI\",\"FIN\",\"FRA\",\"GAB\",\"GMB\",\"GEO\",\"DEU\",\"GHA\",\"GRC\",\"GTM\",\"GIN\",\"GNB\",\"GUY\",\"HTI\",\"HND\",\"\",\"\",\"\",\"\",\"\",\"\",\"HUN\",\"ISL\",\"IND\",\"IDN\",\"IRN\",\"IRQ\",\"IRL\",\"ISR\",\"ITA\",\"JAM\",\"JPN\",\"JOR\",\"KAZ\",\"KEN\",\"KOR\",\"KWT\",\"KGZ\",\"\",\"\",\"\",\"\",\"\",\"\",\"LVA\",\"LBN\",\"LSO\",\"LBR\",\"LBY\",\"LTU\",\"LUX\",\"MDG\",\"MWI\",\"MYS\",\"MLI\",\"MLT\",\"MRT\",\"MUS\",\"MEX\",\"MDA\",\"MNG\",\"MNE\",\"MAR\",\"MOZ\",\"MMR\",\"NAM\",\"NPL\",\"NLD\",\"NZL\",\"NIC\",\"NGA\",\"NGA\",\"NGA\",\"NGA\",\"MKD\",\"NOR\",\"OMN\",\"PAK\",\"PAN\",\"PNG\",\"PRY\",\"PER\",\"PHL\",\"POL\",\"PRT\",\"QAT\",\"ROU\",\"RUS\",\"RWA\",\"SAU\",\"SEN\",\"SRB\",\"SRB\",\"SYC\",\"SLE\",\"SGP\",\"SVK\",\"SVN\",\"SOM\",\"ZAF\",\"ESP\",\"LKA\",\"SDN\",\"SUR\",\"SWE\",\"CHE\",\"SYR\",\"TWN\",\"TJK\",\"TZA\",\"THA\",\"TLS\",\"TGO\",\"TTO\",\"TUN\",\"TUR\",\"UGA\",\"UKR\",\"ARE\",\"GBR\",\"USA\",\"URY\",\"VEN\",\"VNM\",\"YEM\",\"ZMB\",\"ZWE\"],\"name\":\"\",\"z\":[8.07,5.08,5.96,7.33,8.32,8.83,8.68,6.02,8.15,5.43,5.56,7.93,6.27,8.55,7.48,7.25,6.68,6.88,7.43,7.76,7.25,5.96,7.97,6.83,4.91,8.44,6.43,5.34,8.85,5.68,5.41,8.5,5.27,6.95,5.91,5.49,5.49,5.49,5.49,5.49,5.49,5.33,8.28,6.78,6.78,6.78,6.78,6.78,6.78,8.15,8.49,8.61,9.01,5.63,7.87,7.37,4.35,7.34,8.94,5.73,5.73,7.35,8.87,8.26,6.66,6.82,7.85,8.73,7.46,7.83,7.47,5.82,6.78,7.04,7.2,6.98,8.38,8.38,8.38,8.38,8.38,8.38,7.63,8.84,6.42,6.98,4.27,5.12,8.95,7.61,8.43,7.9,8.75,6.71,6.63,6.57,8.31,6.2,7.02,5.68,5.68,5.68,5.68,5.68,5.68,8.62,6.67,7.0,6.6,4.72,8.72,8.85,6.86,6.92,7.08,6.19,8.43,5.56,8.02,6.8,7.6,7.97,7.91,5.68,6.77,5.4,7.57,7.01,8.8,9.04,6.13,6.14,6.14,6.1,6.1,7.68,8.81,5.77,5.48,7.94,7.17,7.46,7.83,6.69,7.92,8.69,5.96,8.25,6.11,6.19,4.77,6.9,7.5,7.5,7.91,6.47,7.86,8.15,8.33,4.71,7.15,8.49,6.47,4.04,7.51,8.85,9.17,3.36,8.8,5.44,6.29,6.75,7.36,6.28,7.78,6.3,5.63,6.17,6.77,5.89,8.79,8.75,8.4,3.9,5.74,3.99,6.6,5.3],\"type\":\"choropleth\"}],                        {\"template\":{\"data\":{\"histogram2dcontour\":[{\"type\":\"histogram2dcontour\",\"colorbar\":{\"outlinewidth\":0,\"ticks\":\"\"},\"colorscale\":[[0.0,\"#0d0887\"],[0.1111111111111111,\"#46039f\"],[0.2222222222222222,\"#7201a8\"],[0.3333333333333333,\"#9c179e\"],[0.4444444444444444,\"#bd3786\"],[0.5555555555555556,\"#d8576b\"],[0.6666666666666666,\"#ed7953\"],[0.7777777777777778,\"#fb9f3a\"],[0.8888888888888888,\"#fdca26\"],[1.0,\"#f0f921\"]]}],\"choropleth\":[{\"type\":\"choropleth\",\"colorbar\":{\"outlinewidth\":0,\"ticks\":\"\"}}],\"histogram2d\":[{\"type\":\"histogram2d\",\"colorbar\":{\"outlinewidth\":0,\"ticks\":\"\"},\"colorscale\":[[0.0,\"#0d0887\"],[0.1111111111111111,\"#46039f\"],[0.2222222222222222,\"#7201a8\"],[0.3333333333333333,\"#9c179e\"],[0.4444444444444444,\"#bd3786\"],[0.5555555555555556,\"#d8576b\"],[0.6666666666666666,\"#ed7953\"],[0.7777777777777778,\"#fb9f3a\"],[0.8888888888888888,\"#fdca26\"],[1.0,\"#f0f921\"]]}],\"heatmap\":[{\"type\":\"heatmap\",\"colorbar\":{\"outlinewidth\":0,\"ticks\":\"\"},\"colorscale\":[[0.0,\"#0d0887\"],[0.1111111111111111,\"#46039f\"],[0.2222222222222222,\"#7201a8\"],[0.3333333333333333,\"#9c179e\"],[0.4444444444444444,\"#bd3786\"],[0.5555555555555556,\"#d8576b\"],[0.6666666666666666,\"#ed7953\"],[0.7777777777777778,\"#fb9f3a\"],[0.8888888888888888,\"#fdca26\"],[1.0,\"#f0f921\"]]}],\"heatmapgl\":[{\"type\":\"heatmapgl\",\"colorbar\":{\"outlinewidth\":0,\"ticks\":\"\"},\"colorscale\":[[0.0,\"#0d0887\"],[0.1111111111111111,\"#46039f\"],[0.2222222222222222,\"#7201a8\"],[0.3333333333333333,\"#9c179e\"],[0.4444444444444444,\"#bd3786\"],[0.5555555555555556,\"#d8576b\"],[0.6666666666666666,\"#ed7953\"],[0.7777777777777778,\"#fb9f3a\"],[0.8888888888888888,\"#fdca26\"],[1.0,\"#f0f921\"]]}],\"contourcarpet\":[{\"type\":\"contourcarpet\",\"colorbar\":{\"outlinewidth\":0,\"ticks\":\"\"}}],\"contour\":[{\"type\":\"contour\",\"colorbar\":{\"outlinewidth\":0,\"ticks\":\"\"},\"colorscale\":[[0.0,\"#0d0887\"],[0.1111111111111111,\"#46039f\"],[0.2222222222222222,\"#7201a8\"],[0.3333333333333333,\"#9c179e\"],[0.4444444444444444,\"#bd3786\"],[0.5555555555555556,\"#d8576b\"],[0.6666666666666666,\"#ed7953\"],[0.7777777777777778,\"#fb9f3a\"],[0.8888888888888888,\"#fdca26\"],[1.0,\"#f0f921\"]]}],\"surface\":[{\"type\":\"surface\",\"colorbar\":{\"outlinewidth\":0,\"ticks\":\"\"},\"colorscale\":[[0.0,\"#0d0887\"],[0.1111111111111111,\"#46039f\"],[0.2222222222222222,\"#7201a8\"],[0.3333333333333333,\"#9c179e\"],[0.4444444444444444,\"#bd3786\"],[0.5555555555555556,\"#d8576b\"],[0.6666666666666666,\"#ed7953\"],[0.7777777777777778,\"#fb9f3a\"],[0.8888888888888888,\"#fdca26\"],[1.0,\"#f0f921\"]]}],\"mesh3d\":[{\"type\":\"mesh3d\",\"colorbar\":{\"outlinewidth\":0,\"ticks\":\"\"}}],\"scatter\":[{\"fillpattern\":{\"fillmode\":\"overlay\",\"size\":10,\"solidity\":0.2},\"type\":\"scatter\"}],\"parcoords\":[{\"type\":\"parcoords\",\"line\":{\"colorbar\":{\"outlinewidth\":0,\"ticks\":\"\"}}}],\"scatterpolargl\":[{\"type\":\"scatterpolargl\",\"marker\":{\"colorbar\":{\"outlinewidth\":0,\"ticks\":\"\"}}}],\"bar\":[{\"error_x\":{\"color\":\"#2a3f5f\"},\"error_y\":{\"color\":\"#2a3f5f\"},\"marker\":{\"line\":{\"color\":\"#E5ECF6\",\"width\":0.5},\"pattern\":{\"fillmode\":\"overlay\",\"size\":10,\"solidity\":0.2}},\"type\":\"bar\"}],\"scattergeo\":[{\"type\":\"scattergeo\",\"marker\":{\"colorbar\":{\"outlinewidth\":0,\"ticks\":\"\"}}}],\"scatterpolar\":[{\"type\":\"scatterpolar\",\"marker\":{\"colorbar\":{\"outlinewidth\":0,\"ticks\":\"\"}}}],\"histogram\":[{\"marker\":{\"pattern\":{\"fillmode\":\"overlay\",\"size\":10,\"solidity\":0.2}},\"type\":\"histogram\"}],\"scattergl\":[{\"type\":\"scattergl\",\"marker\":{\"colorbar\":{\"outlinewidth\":0,\"ticks\":\"\"}}}],\"scatter3d\":[{\"type\":\"scatter3d\",\"line\":{\"colorbar\":{\"outlinewidth\":0,\"ticks\":\"\"}},\"marker\":{\"colorbar\":{\"outlinewidth\":0,\"ticks\":\"\"}}}],\"scattermapbox\":[{\"type\":\"scattermapbox\",\"marker\":{\"colorbar\":{\"outlinewidth\":0,\"ticks\":\"\"}}}],\"scatterternary\":[{\"type\":\"scatterternary\",\"marker\":{\"colorbar\":{\"outlinewidth\":0,\"ticks\":\"\"}}}],\"scattercarpet\":[{\"type\":\"scattercarpet\",\"marker\":{\"colorbar\":{\"outlinewidth\":0,\"ticks\":\"\"}}}],\"carpet\":[{\"aaxis\":{\"endlinecolor\":\"#2a3f5f\",\"gridcolor\":\"white\",\"linecolor\":\"white\",\"minorgridcolor\":\"white\",\"startlinecolor\":\"#2a3f5f\"},\"baxis\":{\"endlinecolor\":\"#2a3f5f\",\"gridcolor\":\"white\",\"linecolor\":\"white\",\"minorgridcolor\":\"white\",\"startlinecolor\":\"#2a3f5f\"},\"type\":\"carpet\"}],\"table\":[{\"cells\":{\"fill\":{\"color\":\"#EBF0F8\"},\"line\":{\"color\":\"white\"}},\"header\":{\"fill\":{\"color\":\"#C8D4E3\"},\"line\":{\"color\":\"white\"}},\"type\":\"table\"}],\"barpolar\":[{\"marker\":{\"line\":{\"color\":\"#E5ECF6\",\"width\":0.5},\"pattern\":{\"fillmode\":\"overlay\",\"size\":10,\"solidity\":0.2}},\"type\":\"barpolar\"}],\"pie\":[{\"automargin\":true,\"type\":\"pie\"}]},\"layout\":{\"autotypenumbers\":\"strict\",\"colorway\":[\"#636efa\",\"#EF553B\",\"#00cc96\",\"#ab63fa\",\"#FFA15A\",\"#19d3f3\",\"#FF6692\",\"#B6E880\",\"#FF97FF\",\"#FECB52\"],\"font\":{\"color\":\"#2a3f5f\"},\"hovermode\":\"closest\",\"hoverlabel\":{\"align\":\"left\"},\"paper_bgcolor\":\"white\",\"plot_bgcolor\":\"#E5ECF6\",\"polar\":{\"bgcolor\":\"#E5ECF6\",\"angularaxis\":{\"gridcolor\":\"white\",\"linecolor\":\"white\",\"ticks\":\"\"},\"radialaxis\":{\"gridcolor\":\"white\",\"linecolor\":\"white\",\"ticks\":\"\"}},\"ternary\":{\"bgcolor\":\"#E5ECF6\",\"aaxis\":{\"gridcolor\":\"white\",\"linecolor\":\"white\",\"ticks\":\"\"},\"baxis\":{\"gridcolor\":\"white\",\"linecolor\":\"white\",\"ticks\":\"\"},\"caxis\":{\"gridcolor\":\"white\",\"linecolor\":\"white\",\"ticks\":\"\"}},\"coloraxis\":{\"colorbar\":{\"outlinewidth\":0,\"ticks\":\"\"}},\"colorscale\":{\"sequential\":[[0.0,\"#0d0887\"],[0.1111111111111111,\"#46039f\"],[0.2222222222222222,\"#7201a8\"],[0.3333333333333333,\"#9c179e\"],[0.4444444444444444,\"#bd3786\"],[0.5555555555555556,\"#d8576b\"],[0.6666666666666666,\"#ed7953\"],[0.7777777777777778,\"#fb9f3a\"],[0.8888888888888888,\"#fdca26\"],[1.0,\"#f0f921\"]],\"sequentialminus\":[[0.0,\"#0d0887\"],[0.1111111111111111,\"#46039f\"],[0.2222222222222222,\"#7201a8\"],[0.3333333333333333,\"#9c179e\"],[0.4444444444444444,\"#bd3786\"],[0.5555555555555556,\"#d8576b\"],[0.6666666666666666,\"#ed7953\"],[0.7777777777777778,\"#fb9f3a\"],[0.8888888888888888,\"#fdca26\"],[1.0,\"#f0f921\"]],\"diverging\":[[0,\"#8e0152\"],[0.1,\"#c51b7d\"],[0.2,\"#de77ae\"],[0.3,\"#f1b6da\"],[0.4,\"#fde0ef\"],[0.5,\"#f7f7f7\"],[0.6,\"#e6f5d0\"],[0.7,\"#b8e186\"],[0.8,\"#7fbc41\"],[0.9,\"#4d9221\"],[1,\"#276419\"]]},\"xaxis\":{\"gridcolor\":\"white\",\"linecolor\":\"white\",\"ticks\":\"\",\"title\":{\"standoff\":15},\"zerolinecolor\":\"white\",\"automargin\":true,\"zerolinewidth\":2},\"yaxis\":{\"gridcolor\":\"white\",\"linecolor\":\"white\",\"ticks\":\"\",\"title\":{\"standoff\":15},\"zerolinecolor\":\"white\",\"automargin\":true,\"zerolinewidth\":2},\"scene\":{\"xaxis\":{\"backgroundcolor\":\"#E5ECF6\",\"gridcolor\":\"white\",\"linecolor\":\"white\",\"showbackground\":true,\"ticks\":\"\",\"zerolinecolor\":\"white\",\"gridwidth\":2},\"yaxis\":{\"backgroundcolor\":\"#E5ECF6\",\"gridcolor\":\"white\",\"linecolor\":\"white\",\"showbackground\":true,\"ticks\":\"\",\"zerolinecolor\":\"white\",\"gridwidth\":2},\"zaxis\":{\"backgroundcolor\":\"#E5ECF6\",\"gridcolor\":\"white\",\"linecolor\":\"white\",\"showbackground\":true,\"ticks\":\"\",\"zerolinecolor\":\"white\",\"gridwidth\":2}},\"shapedefaults\":{\"line\":{\"color\":\"#2a3f5f\"}},\"annotationdefaults\":{\"arrowcolor\":\"#2a3f5f\",\"arrowhead\":0,\"arrowwidth\":1},\"geo\":{\"bgcolor\":\"white\",\"landcolor\":\"#E5ECF6\",\"subunitcolor\":\"white\",\"showland\":true,\"showlakes\":true,\"lakecolor\":\"white\"},\"title\":{\"x\":0.05},\"mapbox\":{\"style\":\"light\"}}},\"geo\":{\"domain\":{\"x\":[0.0,1.0],\"y\":[0.0,1.0]},\"center\":{}},\"coloraxis\":{\"colorbar\":{\"title\":{\"text\":\"Human Freedom Score\"}},\"colorscale\":[[0.0,\"rgb(177, 63, 100)\"],[0.16666666666666666,\"rgb(202, 82, 104)\"],[0.3333333333333333,\"rgb(221, 104, 108)\"],[0.5,\"rgb(234, 129, 113)\"],[0.6666666666666666,\"rgb(241, 156, 124)\"],[0.8333333333333334,\"rgb(245, 183, 142)\"],[1.0,\"rgb(246, 210, 169)\"]]},\"legend\":{\"tracegroupgap\":0},\"title\":{\"text\":\"Freedom around the world\"},\"width\":1000,\"height\":500,\"annotations\":[{\"align\":\"center\",\"font\":{\"size\":10},\"showarrow\":false,\"text\":\"Correlation Matrix of Freedom, Happiness, and Health Indicators: This heatmap illustrates the\\u003cbr\\u003erelationships between various measures of freedom (human, economic, and personal), happiness scores,\\u003cbr\\u003ehealthy life expectancy, and perceptions of corruption, with correlation coefficients\\u003cbr\\u003eranging from 0 (no correlation) to 1 (perfect correlation).\",\"width\":700,\"x\":0.5,\"xref\":\"paper\",\"y\":-0.2,\"yref\":\"paper\"}]},                        {\"responsive\": true}                    ).then(function(){\n",
       "                            \n",
       "var gd = document.getElementById('18c4005c-0be2-4378-8dc0-78bc5c2683c6');\n",
       "var x = new MutationObserver(function (mutations, observer) {{\n",
       "        var display = window.getComputedStyle(gd).display;\n",
       "        if (!display || display === 'none') {{\n",
       "            console.log([gd, 'removed!']);\n",
       "            Plotly.purge(gd);\n",
       "            observer.disconnect();\n",
       "        }}\n",
       "}});\n",
       "\n",
       "// Listen for the removal of the full notebook cells\n",
       "var notebookContainer = gd.closest('#notebook-container');\n",
       "if (notebookContainer) {{\n",
       "    x.observe(notebookContainer, {childList: true});\n",
       "}}\n",
       "\n",
       "// Listen for the clearing of the current output cell\n",
       "var outputEl = gd.closest('.output');\n",
       "if (outputEl) {{\n",
       "    x.observe(outputEl, {childList: true});\n",
       "}}\n",
       "\n",
       "                        })                };                });            </script>        </div>"
      ]
     },
     "metadata": {},
     "output_type": "display_data"
    },
    {
     "data": {
      "application/vnd.plotly.v1+json": {
       "config": {
        "plotlyServerURL": "https://plot.ly"
       },
       "data": [
        {
         "coloraxis": "coloraxis",
         "customdata": [
          [
           "ALB"
          ],
          [
           "DZA"
          ],
          [
           "AGO"
          ],
          [
           "ARG"
          ],
          [
           "ARM"
          ],
          [
           "AUS"
          ],
          [
           "AUT"
          ],
          [
           "AZE"
          ],
          [
           "BHS"
          ],
          [
           "BHR"
          ],
          [
           "BGD"
          ],
          [
           "BRB"
          ],
          [
           "BLR"
          ],
          [
           "BEL"
          ],
          [
           "BLZ"
          ],
          [
           "BEN"
          ],
          [
           "BTN"
          ],
          [
           "BOL"
          ],
          [
           "BIH"
          ],
          [
           "BWA"
          ],
          [
           "BRA"
          ],
          [
           "BRN"
          ],
          [
           "BGR"
          ],
          [
           "BFA"
          ],
          [
           "BDI"
          ],
          [
           "CPV"
          ],
          [
           "KHM"
          ],
          [
           "CMR"
          ],
          [
           "CAN"
          ],
          [
           "CAF"
          ],
          [
           "TCD"
          ],
          [
           "CHL"
          ],
          [
           "CHN"
          ],
          [
           "COL"
          ],
          [
           "COM"
          ],
          [
           ""
          ],
          [
           ""
          ],
          [
           ""
          ],
          [
           ""
          ],
          [
           ""
          ],
          [
           ""
          ],
          [
           "COG"
          ],
          [
           "CRI"
          ],
          [
           ""
          ],
          [
           ""
          ],
          [
           ""
          ],
          [
           ""
          ],
          [
           ""
          ],
          [
           ""
          ],
          [
           "HRV"
          ],
          [
           "CYP"
          ],
          [
           "CZE"
          ],
          [
           "DNK"
          ],
          [
           "DJI"
          ],
          [
           "DOM"
          ],
          [
           "ECU"
          ],
          [
           "EGY"
          ],
          [
           "SLV"
          ],
          [
           "EST"
          ],
          [
           "SWZ"
          ],
          [
           "ETH"
          ],
          [
           "FJI"
          ],
          [
           "FIN"
          ],
          [
           "FRA"
          ],
          [
           "GAB"
          ],
          [
           "GMB"
          ],
          [
           "GEO"
          ],
          [
           "DEU"
          ],
          [
           "GHA"
          ],
          [
           "GRC"
          ],
          [
           "GTM"
          ],
          [
           "GIN"
          ],
          [
           "GNB"
          ],
          [
           "GUY"
          ],
          [
           "HTI"
          ],
          [
           "HND"
          ],
          [
           ""
          ],
          [
           ""
          ],
          [
           ""
          ],
          [
           ""
          ],
          [
           ""
          ],
          [
           ""
          ],
          [
           "HUN"
          ],
          [
           "ISL"
          ],
          [
           "IND"
          ],
          [
           "IDN"
          ],
          [
           "IRN"
          ],
          [
           "IRQ"
          ],
          [
           "IRL"
          ],
          [
           "ISR"
          ],
          [
           "ITA"
          ],
          [
           "JAM"
          ],
          [
           "JPN"
          ],
          [
           "JOR"
          ],
          [
           "KAZ"
          ],
          [
           "KEN"
          ],
          [
           "KOR"
          ],
          [
           "KWT"
          ],
          [
           "KGZ"
          ],
          [
           ""
          ],
          [
           ""
          ],
          [
           ""
          ],
          [
           ""
          ],
          [
           ""
          ],
          [
           ""
          ],
          [
           "LVA"
          ],
          [
           "LBN"
          ],
          [
           "LSO"
          ],
          [
           "LBR"
          ],
          [
           "LBY"
          ],
          [
           "LTU"
          ],
          [
           "LUX"
          ],
          [
           "MDG"
          ],
          [
           "MWI"
          ],
          [
           "MYS"
          ],
          [
           "MLI"
          ],
          [
           "MLT"
          ],
          [
           "MRT"
          ],
          [
           "MUS"
          ],
          [
           "MEX"
          ],
          [
           "MDA"
          ],
          [
           "MNG"
          ],
          [
           "MNE"
          ],
          [
           "MAR"
          ],
          [
           "MOZ"
          ],
          [
           "MMR"
          ],
          [
           "NAM"
          ],
          [
           "NPL"
          ],
          [
           "NLD"
          ],
          [
           "NZL"
          ],
          [
           "NIC"
          ],
          [
           "NGA"
          ],
          [
           "NGA"
          ],
          [
           "NGA"
          ],
          [
           "NGA"
          ],
          [
           "MKD"
          ],
          [
           "NOR"
          ],
          [
           "OMN"
          ],
          [
           "PAK"
          ],
          [
           "PAN"
          ],
          [
           "PNG"
          ],
          [
           "PRY"
          ],
          [
           "PER"
          ],
          [
           "PHL"
          ],
          [
           "POL"
          ],
          [
           "PRT"
          ],
          [
           "QAT"
          ],
          [
           "ROU"
          ],
          [
           "RUS"
          ],
          [
           "RWA"
          ],
          [
           "SAU"
          ],
          [
           "SEN"
          ],
          [
           "SRB"
          ],
          [
           "SRB"
          ],
          [
           "SYC"
          ],
          [
           "SLE"
          ],
          [
           "SGP"
          ],
          [
           "SVK"
          ],
          [
           "SVN"
          ],
          [
           "SOM"
          ],
          [
           "ZAF"
          ],
          [
           "ESP"
          ],
          [
           "LKA"
          ],
          [
           "SDN"
          ],
          [
           "SUR"
          ],
          [
           "SWE"
          ],
          [
           "CHE"
          ],
          [
           "SYR"
          ],
          [
           "TWN"
          ],
          [
           "TJK"
          ],
          [
           "TZA"
          ],
          [
           "THA"
          ],
          [
           "TLS"
          ],
          [
           "TGO"
          ],
          [
           "TTO"
          ],
          [
           "TUN"
          ],
          [
           "TUR"
          ],
          [
           "UGA"
          ],
          [
           "UKR"
          ],
          [
           "ARE"
          ],
          [
           "GBR"
          ],
          [
           "USA"
          ],
          [
           "URY"
          ],
          [
           "VEN"
          ],
          [
           "VNM"
          ],
          [
           "YEM"
          ],
          [
           "ZMB"
          ],
          [
           "ZWE"
          ]
         ],
         "geo": "geo",
         "hovertemplate": "<b>%{hovertext}</b><br><br>iso=%{customdata[0]}<br>Happiness Score=%{z}<extra></extra>",
         "hovertext": [
          "ALB",
          "DZA",
          "AGO",
          "ARG",
          "ARM",
          "AUS",
          "AUT",
          "AZE",
          "BHS",
          "BHR",
          "BGD",
          "BRB",
          "BLR",
          "BEL",
          "BLZ",
          "BEN",
          "BTN",
          "BOL",
          "BIH",
          "BWA",
          "BRA",
          "BRN",
          "BGR",
          "BFA",
          "BDI",
          "CPV",
          "KHM",
          "CMR",
          "CAN",
          "CAF",
          "TCD",
          "CHL",
          "CHN",
          "COL",
          "COM",
          "",
          "",
          "",
          "",
          "",
          "",
          "COG",
          "CRI",
          "",
          "",
          "",
          "",
          "",
          "",
          "HRV",
          "CYP",
          "CZE",
          "DNK",
          "DJI",
          "DOM",
          "ECU",
          "EGY",
          "SLV",
          "EST",
          "SWZ",
          "ETH",
          "FJI",
          "FIN",
          "FRA",
          "GAB",
          "GMB",
          "GEO",
          "DEU",
          "GHA",
          "GRC",
          "GTM",
          "GIN",
          "GNB",
          "GUY",
          "HTI",
          "HND",
          "",
          "",
          "",
          "",
          "",
          "",
          "HUN",
          "ISL",
          "IND",
          "IDN",
          "IRN",
          "IRQ",
          "IRL",
          "ISR",
          "ITA",
          "JAM",
          "JPN",
          "JOR",
          "KAZ",
          "KEN",
          "KOR",
          "KWT",
          "KGZ",
          "",
          "",
          "",
          "",
          "",
          "",
          "LVA",
          "LBN",
          "LSO",
          "LBR",
          "LBY",
          "LTU",
          "LUX",
          "MDG",
          "MWI",
          "MYS",
          "MLI",
          "MLT",
          "MRT",
          "MUS",
          "MEX",
          "MDA",
          "MNG",
          "MNE",
          "MAR",
          "MOZ",
          "MMR",
          "NAM",
          "NPL",
          "NLD",
          "NZL",
          "NIC",
          "NGA",
          "NGA",
          "NGA",
          "NGA",
          "MKD",
          "NOR",
          "OMN",
          "PAK",
          "PAN",
          "PNG",
          "PRY",
          "PER",
          "PHL",
          "POL",
          "PRT",
          "QAT",
          "ROU",
          "RUS",
          "RWA",
          "SAU",
          "SEN",
          "SRB",
          "SRB",
          "SYC",
          "SLE",
          "SGP",
          "SVK",
          "SVN",
          "SOM",
          "ZAF",
          "ESP",
          "LKA",
          "SDN",
          "SUR",
          "SWE",
          "CHE",
          "SYR",
          "TWN",
          "TJK",
          "TZA",
          "THA",
          "TLS",
          "TGO",
          "TTO",
          "TUN",
          "TUR",
          "UGA",
          "UKR",
          "ARE",
          "GBR",
          "USA",
          "URY",
          "VEN",
          "VNM",
          "YEM",
          "ZMB",
          "ZWE"
         ],
         "locations": [
          "ALB",
          "DZA",
          "AGO",
          "ARG",
          "ARM",
          "AUS",
          "AUT",
          "AZE",
          "BHS",
          "BHR",
          "BGD",
          "BRB",
          "BLR",
          "BEL",
          "BLZ",
          "BEN",
          "BTN",
          "BOL",
          "BIH",
          "BWA",
          "BRA",
          "BRN",
          "BGR",
          "BFA",
          "BDI",
          "CPV",
          "KHM",
          "CMR",
          "CAN",
          "CAF",
          "TCD",
          "CHL",
          "CHN",
          "COL",
          "COM",
          "",
          "",
          "",
          "",
          "",
          "",
          "COG",
          "CRI",
          "",
          "",
          "",
          "",
          "",
          "",
          "HRV",
          "CYP",
          "CZE",
          "DNK",
          "DJI",
          "DOM",
          "ECU",
          "EGY",
          "SLV",
          "EST",
          "SWZ",
          "ETH",
          "FJI",
          "FIN",
          "FRA",
          "GAB",
          "GMB",
          "GEO",
          "DEU",
          "GHA",
          "GRC",
          "GTM",
          "GIN",
          "GNB",
          "GUY",
          "HTI",
          "HND",
          "",
          "",
          "",
          "",
          "",
          "",
          "HUN",
          "ISL",
          "IND",
          "IDN",
          "IRN",
          "IRQ",
          "IRL",
          "ISR",
          "ITA",
          "JAM",
          "JPN",
          "JOR",
          "KAZ",
          "KEN",
          "KOR",
          "KWT",
          "KGZ",
          "",
          "",
          "",
          "",
          "",
          "",
          "LVA",
          "LBN",
          "LSO",
          "LBR",
          "LBY",
          "LTU",
          "LUX",
          "MDG",
          "MWI",
          "MYS",
          "MLI",
          "MLT",
          "MRT",
          "MUS",
          "MEX",
          "MDA",
          "MNG",
          "MNE",
          "MAR",
          "MOZ",
          "MMR",
          "NAM",
          "NPL",
          "NLD",
          "NZL",
          "NIC",
          "NGA",
          "NGA",
          "NGA",
          "NGA",
          "MKD",
          "NOR",
          "OMN",
          "PAK",
          "PAN",
          "PNG",
          "PRY",
          "PER",
          "PHL",
          "POL",
          "PRT",
          "QAT",
          "ROU",
          "RUS",
          "RWA",
          "SAU",
          "SEN",
          "SRB",
          "SRB",
          "SYC",
          "SLE",
          "SGP",
          "SVK",
          "SVN",
          "SOM",
          "ZAF",
          "ESP",
          "LKA",
          "SDN",
          "SUR",
          "SWE",
          "CHE",
          "SYR",
          "TWN",
          "TJK",
          "TZA",
          "THA",
          "TLS",
          "TGO",
          "TTO",
          "TUN",
          "TUR",
          "UGA",
          "UKR",
          "ARE",
          "GBR",
          "USA",
          "URY",
          "VEN",
          "VNM",
          "YEM",
          "ZMB",
          "ZWE"
         ],
         "name": "",
         "type": "choropleth",
         "z": [
          4.719,
          5.211,
          null,
          6.086,
          4.559,
          7.228,
          7.246,
          5.208,
          null,
          6.199,
          4.456,
          null,
          5.323,
          6.923,
          null,
          4.883,
          5.082,
          5.779,
          5.386,
          3.488,
          6.3,
          null,
          5.011,
          4.587,
          3.775,
          null,
          4.7,
          5.044,
          7.278,
          3.083,
          4.35,
          6.444,
          5.191,
          6.125,
          3.973,
          5.718,
          4.944,
          4.812,
          4.796,
          4.696,
          4.418,
          null,
          7.167,
          5.718,
          4.944,
          4.812,
          4.796,
          4.696,
          4.418,
          5.432,
          6.046,
          6.852,
          7.6,
          null,
          5.425,
          6.028,
          4.166,
          6.253,
          5.893,
          4.212,
          4.286,
          null,
          7.769,
          6.592,
          4.799,
          4.516,
          4.519,
          6.985,
          4.996,
          5.287,
          6.436,
          4.534,
          null,
          null,
          3.597,
          5.86,
          5.718,
          4.944,
          4.812,
          4.796,
          4.696,
          4.418,
          5.758,
          7.494,
          4.015,
          5.192,
          4.548,
          4.437,
          7.021,
          7.139,
          6.223,
          5.89,
          5.886,
          4.906,
          5.809,
          4.509,
          5.895,
          6.021,
          5.261,
          5.718,
          4.944,
          4.812,
          4.796,
          4.696,
          4.418,
          5.94,
          5.197,
          3.802,
          3.975,
          5.525,
          6.149,
          7.09,
          3.933,
          3.41,
          5.339,
          4.39,
          6.726,
          4.49,
          5.888,
          6.595,
          5.529,
          5.285,
          5.523,
          5.208,
          4.466,
          4.36,
          4.639,
          4.913,
          7.488,
          7.307,
          6.105,
          5.265,
          4.628,
          5.265,
          4.628,
          5.274,
          7.554,
          null,
          5.653,
          6.321,
          null,
          5.743,
          5.697,
          5.631,
          6.182,
          5.693,
          6.374,
          6.07,
          5.648,
          3.334,
          6.375,
          4.681,
          6.1,
          5.603,
          null,
          4.374,
          6.262,
          6.198,
          6.118,
          4.668,
          4.722,
          6.354,
          4.366,
          null,
          null,
          7.343,
          7.48,
          3.462,
          6.446,
          5.467,
          3.231,
          6.008,
          null,
          4.085,
          6.192,
          4.461,
          5.373,
          4.189,
          4.332,
          6.825,
          7.054,
          6.892,
          6.293,
          4.707,
          5.175,
          3.38,
          4.107,
          3.663
         ]
        }
       ],
       "layout": {
        "annotations": [
         {
          "align": "center",
          "font": {
           "size": 10
          },
          "showarrow": false,
          "text": "Global Distribution of Personal Freedom Scores: A map showcasing the varying levels of personal freedom<br>experienced by citizens around the world, with scores ranging from low (red) to high (yellow).",
          "width": 700,
          "x": 0.5,
          "xref": "paper",
          "y": -0.2,
          "yref": "paper"
         }
        ],
        "coloraxis": {
         "colorbar": {
          "title": {
           "text": "Happiness Score"
          }
         },
         "colorscale": [
          [
           0,
           "rgb(177, 63, 100)"
          ],
          [
           0.16666666666666666,
           "rgb(202, 82, 104)"
          ],
          [
           0.3333333333333333,
           "rgb(221, 104, 108)"
          ],
          [
           0.5,
           "rgb(234, 129, 113)"
          ],
          [
           0.6666666666666666,
           "rgb(241, 156, 124)"
          ],
          [
           0.8333333333333334,
           "rgb(245, 183, 142)"
          ],
          [
           1,
           "rgb(246, 210, 169)"
          ]
         ]
        },
        "geo": {
         "center": {},
         "domain": {
          "x": [
           0,
           1
          ],
          "y": [
           0,
           1
          ]
         }
        },
        "height": 500,
        "legend": {
         "tracegroupgap": 0
        },
        "template": {
         "data": {
          "bar": [
           {
            "error_x": {
             "color": "#2a3f5f"
            },
            "error_y": {
             "color": "#2a3f5f"
            },
            "marker": {
             "line": {
              "color": "#E5ECF6",
              "width": 0.5
             },
             "pattern": {
              "fillmode": "overlay",
              "size": 10,
              "solidity": 0.2
             }
            },
            "type": "bar"
           }
          ],
          "barpolar": [
           {
            "marker": {
             "line": {
              "color": "#E5ECF6",
              "width": 0.5
             },
             "pattern": {
              "fillmode": "overlay",
              "size": 10,
              "solidity": 0.2
             }
            },
            "type": "barpolar"
           }
          ],
          "carpet": [
           {
            "aaxis": {
             "endlinecolor": "#2a3f5f",
             "gridcolor": "white",
             "linecolor": "white",
             "minorgridcolor": "white",
             "startlinecolor": "#2a3f5f"
            },
            "baxis": {
             "endlinecolor": "#2a3f5f",
             "gridcolor": "white",
             "linecolor": "white",
             "minorgridcolor": "white",
             "startlinecolor": "#2a3f5f"
            },
            "type": "carpet"
           }
          ],
          "choropleth": [
           {
            "colorbar": {
             "outlinewidth": 0,
             "ticks": ""
            },
            "type": "choropleth"
           }
          ],
          "contour": [
           {
            "colorbar": {
             "outlinewidth": 0,
             "ticks": ""
            },
            "colorscale": [
             [
              0,
              "#0d0887"
             ],
             [
              0.1111111111111111,
              "#46039f"
             ],
             [
              0.2222222222222222,
              "#7201a8"
             ],
             [
              0.3333333333333333,
              "#9c179e"
             ],
             [
              0.4444444444444444,
              "#bd3786"
             ],
             [
              0.5555555555555556,
              "#d8576b"
             ],
             [
              0.6666666666666666,
              "#ed7953"
             ],
             [
              0.7777777777777778,
              "#fb9f3a"
             ],
             [
              0.8888888888888888,
              "#fdca26"
             ],
             [
              1,
              "#f0f921"
             ]
            ],
            "type": "contour"
           }
          ],
          "contourcarpet": [
           {
            "colorbar": {
             "outlinewidth": 0,
             "ticks": ""
            },
            "type": "contourcarpet"
           }
          ],
          "heatmap": [
           {
            "colorbar": {
             "outlinewidth": 0,
             "ticks": ""
            },
            "colorscale": [
             [
              0,
              "#0d0887"
             ],
             [
              0.1111111111111111,
              "#46039f"
             ],
             [
              0.2222222222222222,
              "#7201a8"
             ],
             [
              0.3333333333333333,
              "#9c179e"
             ],
             [
              0.4444444444444444,
              "#bd3786"
             ],
             [
              0.5555555555555556,
              "#d8576b"
             ],
             [
              0.6666666666666666,
              "#ed7953"
             ],
             [
              0.7777777777777778,
              "#fb9f3a"
             ],
             [
              0.8888888888888888,
              "#fdca26"
             ],
             [
              1,
              "#f0f921"
             ]
            ],
            "type": "heatmap"
           }
          ],
          "heatmapgl": [
           {
            "colorbar": {
             "outlinewidth": 0,
             "ticks": ""
            },
            "colorscale": [
             [
              0,
              "#0d0887"
             ],
             [
              0.1111111111111111,
              "#46039f"
             ],
             [
              0.2222222222222222,
              "#7201a8"
             ],
             [
              0.3333333333333333,
              "#9c179e"
             ],
             [
              0.4444444444444444,
              "#bd3786"
             ],
             [
              0.5555555555555556,
              "#d8576b"
             ],
             [
              0.6666666666666666,
              "#ed7953"
             ],
             [
              0.7777777777777778,
              "#fb9f3a"
             ],
             [
              0.8888888888888888,
              "#fdca26"
             ],
             [
              1,
              "#f0f921"
             ]
            ],
            "type": "heatmapgl"
           }
          ],
          "histogram": [
           {
            "marker": {
             "pattern": {
              "fillmode": "overlay",
              "size": 10,
              "solidity": 0.2
             }
            },
            "type": "histogram"
           }
          ],
          "histogram2d": [
           {
            "colorbar": {
             "outlinewidth": 0,
             "ticks": ""
            },
            "colorscale": [
             [
              0,
              "#0d0887"
             ],
             [
              0.1111111111111111,
              "#46039f"
             ],
             [
              0.2222222222222222,
              "#7201a8"
             ],
             [
              0.3333333333333333,
              "#9c179e"
             ],
             [
              0.4444444444444444,
              "#bd3786"
             ],
             [
              0.5555555555555556,
              "#d8576b"
             ],
             [
              0.6666666666666666,
              "#ed7953"
             ],
             [
              0.7777777777777778,
              "#fb9f3a"
             ],
             [
              0.8888888888888888,
              "#fdca26"
             ],
             [
              1,
              "#f0f921"
             ]
            ],
            "type": "histogram2d"
           }
          ],
          "histogram2dcontour": [
           {
            "colorbar": {
             "outlinewidth": 0,
             "ticks": ""
            },
            "colorscale": [
             [
              0,
              "#0d0887"
             ],
             [
              0.1111111111111111,
              "#46039f"
             ],
             [
              0.2222222222222222,
              "#7201a8"
             ],
             [
              0.3333333333333333,
              "#9c179e"
             ],
             [
              0.4444444444444444,
              "#bd3786"
             ],
             [
              0.5555555555555556,
              "#d8576b"
             ],
             [
              0.6666666666666666,
              "#ed7953"
             ],
             [
              0.7777777777777778,
              "#fb9f3a"
             ],
             [
              0.8888888888888888,
              "#fdca26"
             ],
             [
              1,
              "#f0f921"
             ]
            ],
            "type": "histogram2dcontour"
           }
          ],
          "mesh3d": [
           {
            "colorbar": {
             "outlinewidth": 0,
             "ticks": ""
            },
            "type": "mesh3d"
           }
          ],
          "parcoords": [
           {
            "line": {
             "colorbar": {
              "outlinewidth": 0,
              "ticks": ""
             }
            },
            "type": "parcoords"
           }
          ],
          "pie": [
           {
            "automargin": true,
            "type": "pie"
           }
          ],
          "scatter": [
           {
            "fillpattern": {
             "fillmode": "overlay",
             "size": 10,
             "solidity": 0.2
            },
            "type": "scatter"
           }
          ],
          "scatter3d": [
           {
            "line": {
             "colorbar": {
              "outlinewidth": 0,
              "ticks": ""
             }
            },
            "marker": {
             "colorbar": {
              "outlinewidth": 0,
              "ticks": ""
             }
            },
            "type": "scatter3d"
           }
          ],
          "scattercarpet": [
           {
            "marker": {
             "colorbar": {
              "outlinewidth": 0,
              "ticks": ""
             }
            },
            "type": "scattercarpet"
           }
          ],
          "scattergeo": [
           {
            "marker": {
             "colorbar": {
              "outlinewidth": 0,
              "ticks": ""
             }
            },
            "type": "scattergeo"
           }
          ],
          "scattergl": [
           {
            "marker": {
             "colorbar": {
              "outlinewidth": 0,
              "ticks": ""
             }
            },
            "type": "scattergl"
           }
          ],
          "scattermapbox": [
           {
            "marker": {
             "colorbar": {
              "outlinewidth": 0,
              "ticks": ""
             }
            },
            "type": "scattermapbox"
           }
          ],
          "scatterpolar": [
           {
            "marker": {
             "colorbar": {
              "outlinewidth": 0,
              "ticks": ""
             }
            },
            "type": "scatterpolar"
           }
          ],
          "scatterpolargl": [
           {
            "marker": {
             "colorbar": {
              "outlinewidth": 0,
              "ticks": ""
             }
            },
            "type": "scatterpolargl"
           }
          ],
          "scatterternary": [
           {
            "marker": {
             "colorbar": {
              "outlinewidth": 0,
              "ticks": ""
             }
            },
            "type": "scatterternary"
           }
          ],
          "surface": [
           {
            "colorbar": {
             "outlinewidth": 0,
             "ticks": ""
            },
            "colorscale": [
             [
              0,
              "#0d0887"
             ],
             [
              0.1111111111111111,
              "#46039f"
             ],
             [
              0.2222222222222222,
              "#7201a8"
             ],
             [
              0.3333333333333333,
              "#9c179e"
             ],
             [
              0.4444444444444444,
              "#bd3786"
             ],
             [
              0.5555555555555556,
              "#d8576b"
             ],
             [
              0.6666666666666666,
              "#ed7953"
             ],
             [
              0.7777777777777778,
              "#fb9f3a"
             ],
             [
              0.8888888888888888,
              "#fdca26"
             ],
             [
              1,
              "#f0f921"
             ]
            ],
            "type": "surface"
           }
          ],
          "table": [
           {
            "cells": {
             "fill": {
              "color": "#EBF0F8"
             },
             "line": {
              "color": "white"
             }
            },
            "header": {
             "fill": {
              "color": "#C8D4E3"
             },
             "line": {
              "color": "white"
             }
            },
            "type": "table"
           }
          ]
         },
         "layout": {
          "annotationdefaults": {
           "arrowcolor": "#2a3f5f",
           "arrowhead": 0,
           "arrowwidth": 1
          },
          "autotypenumbers": "strict",
          "coloraxis": {
           "colorbar": {
            "outlinewidth": 0,
            "ticks": ""
           }
          },
          "colorscale": {
           "diverging": [
            [
             0,
             "#8e0152"
            ],
            [
             0.1,
             "#c51b7d"
            ],
            [
             0.2,
             "#de77ae"
            ],
            [
             0.3,
             "#f1b6da"
            ],
            [
             0.4,
             "#fde0ef"
            ],
            [
             0.5,
             "#f7f7f7"
            ],
            [
             0.6,
             "#e6f5d0"
            ],
            [
             0.7,
             "#b8e186"
            ],
            [
             0.8,
             "#7fbc41"
            ],
            [
             0.9,
             "#4d9221"
            ],
            [
             1,
             "#276419"
            ]
           ],
           "sequential": [
            [
             0,
             "#0d0887"
            ],
            [
             0.1111111111111111,
             "#46039f"
            ],
            [
             0.2222222222222222,
             "#7201a8"
            ],
            [
             0.3333333333333333,
             "#9c179e"
            ],
            [
             0.4444444444444444,
             "#bd3786"
            ],
            [
             0.5555555555555556,
             "#d8576b"
            ],
            [
             0.6666666666666666,
             "#ed7953"
            ],
            [
             0.7777777777777778,
             "#fb9f3a"
            ],
            [
             0.8888888888888888,
             "#fdca26"
            ],
            [
             1,
             "#f0f921"
            ]
           ],
           "sequentialminus": [
            [
             0,
             "#0d0887"
            ],
            [
             0.1111111111111111,
             "#46039f"
            ],
            [
             0.2222222222222222,
             "#7201a8"
            ],
            [
             0.3333333333333333,
             "#9c179e"
            ],
            [
             0.4444444444444444,
             "#bd3786"
            ],
            [
             0.5555555555555556,
             "#d8576b"
            ],
            [
             0.6666666666666666,
             "#ed7953"
            ],
            [
             0.7777777777777778,
             "#fb9f3a"
            ],
            [
             0.8888888888888888,
             "#fdca26"
            ],
            [
             1,
             "#f0f921"
            ]
           ]
          },
          "colorway": [
           "#636efa",
           "#EF553B",
           "#00cc96",
           "#ab63fa",
           "#FFA15A",
           "#19d3f3",
           "#FF6692",
           "#B6E880",
           "#FF97FF",
           "#FECB52"
          ],
          "font": {
           "color": "#2a3f5f"
          },
          "geo": {
           "bgcolor": "white",
           "lakecolor": "white",
           "landcolor": "#E5ECF6",
           "showlakes": true,
           "showland": true,
           "subunitcolor": "white"
          },
          "hoverlabel": {
           "align": "left"
          },
          "hovermode": "closest",
          "mapbox": {
           "style": "light"
          },
          "paper_bgcolor": "white",
          "plot_bgcolor": "#E5ECF6",
          "polar": {
           "angularaxis": {
            "gridcolor": "white",
            "linecolor": "white",
            "ticks": ""
           },
           "bgcolor": "#E5ECF6",
           "radialaxis": {
            "gridcolor": "white",
            "linecolor": "white",
            "ticks": ""
           }
          },
          "scene": {
           "xaxis": {
            "backgroundcolor": "#E5ECF6",
            "gridcolor": "white",
            "gridwidth": 2,
            "linecolor": "white",
            "showbackground": true,
            "ticks": "",
            "zerolinecolor": "white"
           },
           "yaxis": {
            "backgroundcolor": "#E5ECF6",
            "gridcolor": "white",
            "gridwidth": 2,
            "linecolor": "white",
            "showbackground": true,
            "ticks": "",
            "zerolinecolor": "white"
           },
           "zaxis": {
            "backgroundcolor": "#E5ECF6",
            "gridcolor": "white",
            "gridwidth": 2,
            "linecolor": "white",
            "showbackground": true,
            "ticks": "",
            "zerolinecolor": "white"
           }
          },
          "shapedefaults": {
           "line": {
            "color": "#2a3f5f"
           }
          },
          "ternary": {
           "aaxis": {
            "gridcolor": "white",
            "linecolor": "white",
            "ticks": ""
           },
           "baxis": {
            "gridcolor": "white",
            "linecolor": "white",
            "ticks": ""
           },
           "bgcolor": "#E5ECF6",
           "caxis": {
            "gridcolor": "white",
            "linecolor": "white",
            "ticks": ""
           }
          },
          "title": {
           "x": 0.05
          },
          "xaxis": {
           "automargin": true,
           "gridcolor": "white",
           "linecolor": "white",
           "ticks": "",
           "title": {
            "standoff": 15
           },
           "zerolinecolor": "white",
           "zerolinewidth": 2
          },
          "yaxis": {
           "automargin": true,
           "gridcolor": "white",
           "linecolor": "white",
           "ticks": "",
           "title": {
            "standoff": 15
           },
           "zerolinecolor": "white",
           "zerolinewidth": 2
          }
         }
        },
        "title": {
         "text": "Happiness"
        },
        "width": 1000
       }
      },
      "text/html": [
       "<div>                            <div id=\"a8de2135-db82-43e5-aed8-73cd37e7bd98\" class=\"plotly-graph-div\" style=\"height:500px; width:1000px;\"></div>            <script type=\"text/javascript\">                require([\"plotly\"], function(Plotly) {                    window.PLOTLYENV=window.PLOTLYENV || {};                                    if (document.getElementById(\"a8de2135-db82-43e5-aed8-73cd37e7bd98\")) {                    Plotly.newPlot(                        \"a8de2135-db82-43e5-aed8-73cd37e7bd98\",                        [{\"coloraxis\":\"coloraxis\",\"customdata\":[[\"ALB\"],[\"DZA\"],[\"AGO\"],[\"ARG\"],[\"ARM\"],[\"AUS\"],[\"AUT\"],[\"AZE\"],[\"BHS\"],[\"BHR\"],[\"BGD\"],[\"BRB\"],[\"BLR\"],[\"BEL\"],[\"BLZ\"],[\"BEN\"],[\"BTN\"],[\"BOL\"],[\"BIH\"],[\"BWA\"],[\"BRA\"],[\"BRN\"],[\"BGR\"],[\"BFA\"],[\"BDI\"],[\"CPV\"],[\"KHM\"],[\"CMR\"],[\"CAN\"],[\"CAF\"],[\"TCD\"],[\"CHL\"],[\"CHN\"],[\"COL\"],[\"COM\"],[\"\"],[\"\"],[\"\"],[\"\"],[\"\"],[\"\"],[\"COG\"],[\"CRI\"],[\"\"],[\"\"],[\"\"],[\"\"],[\"\"],[\"\"],[\"HRV\"],[\"CYP\"],[\"CZE\"],[\"DNK\"],[\"DJI\"],[\"DOM\"],[\"ECU\"],[\"EGY\"],[\"SLV\"],[\"EST\"],[\"SWZ\"],[\"ETH\"],[\"FJI\"],[\"FIN\"],[\"FRA\"],[\"GAB\"],[\"GMB\"],[\"GEO\"],[\"DEU\"],[\"GHA\"],[\"GRC\"],[\"GTM\"],[\"GIN\"],[\"GNB\"],[\"GUY\"],[\"HTI\"],[\"HND\"],[\"\"],[\"\"],[\"\"],[\"\"],[\"\"],[\"\"],[\"HUN\"],[\"ISL\"],[\"IND\"],[\"IDN\"],[\"IRN\"],[\"IRQ\"],[\"IRL\"],[\"ISR\"],[\"ITA\"],[\"JAM\"],[\"JPN\"],[\"JOR\"],[\"KAZ\"],[\"KEN\"],[\"KOR\"],[\"KWT\"],[\"KGZ\"],[\"\"],[\"\"],[\"\"],[\"\"],[\"\"],[\"\"],[\"LVA\"],[\"LBN\"],[\"LSO\"],[\"LBR\"],[\"LBY\"],[\"LTU\"],[\"LUX\"],[\"MDG\"],[\"MWI\"],[\"MYS\"],[\"MLI\"],[\"MLT\"],[\"MRT\"],[\"MUS\"],[\"MEX\"],[\"MDA\"],[\"MNG\"],[\"MNE\"],[\"MAR\"],[\"MOZ\"],[\"MMR\"],[\"NAM\"],[\"NPL\"],[\"NLD\"],[\"NZL\"],[\"NIC\"],[\"NGA\"],[\"NGA\"],[\"NGA\"],[\"NGA\"],[\"MKD\"],[\"NOR\"],[\"OMN\"],[\"PAK\"],[\"PAN\"],[\"PNG\"],[\"PRY\"],[\"PER\"],[\"PHL\"],[\"POL\"],[\"PRT\"],[\"QAT\"],[\"ROU\"],[\"RUS\"],[\"RWA\"],[\"SAU\"],[\"SEN\"],[\"SRB\"],[\"SRB\"],[\"SYC\"],[\"SLE\"],[\"SGP\"],[\"SVK\"],[\"SVN\"],[\"SOM\"],[\"ZAF\"],[\"ESP\"],[\"LKA\"],[\"SDN\"],[\"SUR\"],[\"SWE\"],[\"CHE\"],[\"SYR\"],[\"TWN\"],[\"TJK\"],[\"TZA\"],[\"THA\"],[\"TLS\"],[\"TGO\"],[\"TTO\"],[\"TUN\"],[\"TUR\"],[\"UGA\"],[\"UKR\"],[\"ARE\"],[\"GBR\"],[\"USA\"],[\"URY\"],[\"VEN\"],[\"VNM\"],[\"YEM\"],[\"ZMB\"],[\"ZWE\"]],\"geo\":\"geo\",\"hovertemplate\":\"\\u003cb\\u003e%{hovertext}\\u003c\\u002fb\\u003e\\u003cbr\\u003e\\u003cbr\\u003eiso=%{customdata[0]}\\u003cbr\\u003eHappiness Score=%{z}\\u003cextra\\u003e\\u003c\\u002fextra\\u003e\",\"hovertext\":[\"ALB\",\"DZA\",\"AGO\",\"ARG\",\"ARM\",\"AUS\",\"AUT\",\"AZE\",\"BHS\",\"BHR\",\"BGD\",\"BRB\",\"BLR\",\"BEL\",\"BLZ\",\"BEN\",\"BTN\",\"BOL\",\"BIH\",\"BWA\",\"BRA\",\"BRN\",\"BGR\",\"BFA\",\"BDI\",\"CPV\",\"KHM\",\"CMR\",\"CAN\",\"CAF\",\"TCD\",\"CHL\",\"CHN\",\"COL\",\"COM\",\"\",\"\",\"\",\"\",\"\",\"\",\"COG\",\"CRI\",\"\",\"\",\"\",\"\",\"\",\"\",\"HRV\",\"CYP\",\"CZE\",\"DNK\",\"DJI\",\"DOM\",\"ECU\",\"EGY\",\"SLV\",\"EST\",\"SWZ\",\"ETH\",\"FJI\",\"FIN\",\"FRA\",\"GAB\",\"GMB\",\"GEO\",\"DEU\",\"GHA\",\"GRC\",\"GTM\",\"GIN\",\"GNB\",\"GUY\",\"HTI\",\"HND\",\"\",\"\",\"\",\"\",\"\",\"\",\"HUN\",\"ISL\",\"IND\",\"IDN\",\"IRN\",\"IRQ\",\"IRL\",\"ISR\",\"ITA\",\"JAM\",\"JPN\",\"JOR\",\"KAZ\",\"KEN\",\"KOR\",\"KWT\",\"KGZ\",\"\",\"\",\"\",\"\",\"\",\"\",\"LVA\",\"LBN\",\"LSO\",\"LBR\",\"LBY\",\"LTU\",\"LUX\",\"MDG\",\"MWI\",\"MYS\",\"MLI\",\"MLT\",\"MRT\",\"MUS\",\"MEX\",\"MDA\",\"MNG\",\"MNE\",\"MAR\",\"MOZ\",\"MMR\",\"NAM\",\"NPL\",\"NLD\",\"NZL\",\"NIC\",\"NGA\",\"NGA\",\"NGA\",\"NGA\",\"MKD\",\"NOR\",\"OMN\",\"PAK\",\"PAN\",\"PNG\",\"PRY\",\"PER\",\"PHL\",\"POL\",\"PRT\",\"QAT\",\"ROU\",\"RUS\",\"RWA\",\"SAU\",\"SEN\",\"SRB\",\"SRB\",\"SYC\",\"SLE\",\"SGP\",\"SVK\",\"SVN\",\"SOM\",\"ZAF\",\"ESP\",\"LKA\",\"SDN\",\"SUR\",\"SWE\",\"CHE\",\"SYR\",\"TWN\",\"TJK\",\"TZA\",\"THA\",\"TLS\",\"TGO\",\"TTO\",\"TUN\",\"TUR\",\"UGA\",\"UKR\",\"ARE\",\"GBR\",\"USA\",\"URY\",\"VEN\",\"VNM\",\"YEM\",\"ZMB\",\"ZWE\"],\"locations\":[\"ALB\",\"DZA\",\"AGO\",\"ARG\",\"ARM\",\"AUS\",\"AUT\",\"AZE\",\"BHS\",\"BHR\",\"BGD\",\"BRB\",\"BLR\",\"BEL\",\"BLZ\",\"BEN\",\"BTN\",\"BOL\",\"BIH\",\"BWA\",\"BRA\",\"BRN\",\"BGR\",\"BFA\",\"BDI\",\"CPV\",\"KHM\",\"CMR\",\"CAN\",\"CAF\",\"TCD\",\"CHL\",\"CHN\",\"COL\",\"COM\",\"\",\"\",\"\",\"\",\"\",\"\",\"COG\",\"CRI\",\"\",\"\",\"\",\"\",\"\",\"\",\"HRV\",\"CYP\",\"CZE\",\"DNK\",\"DJI\",\"DOM\",\"ECU\",\"EGY\",\"SLV\",\"EST\",\"SWZ\",\"ETH\",\"FJI\",\"FIN\",\"FRA\",\"GAB\",\"GMB\",\"GEO\",\"DEU\",\"GHA\",\"GRC\",\"GTM\",\"GIN\",\"GNB\",\"GUY\",\"HTI\",\"HND\",\"\",\"\",\"\",\"\",\"\",\"\",\"HUN\",\"ISL\",\"IND\",\"IDN\",\"IRN\",\"IRQ\",\"IRL\",\"ISR\",\"ITA\",\"JAM\",\"JPN\",\"JOR\",\"KAZ\",\"KEN\",\"KOR\",\"KWT\",\"KGZ\",\"\",\"\",\"\",\"\",\"\",\"\",\"LVA\",\"LBN\",\"LSO\",\"LBR\",\"LBY\",\"LTU\",\"LUX\",\"MDG\",\"MWI\",\"MYS\",\"MLI\",\"MLT\",\"MRT\",\"MUS\",\"MEX\",\"MDA\",\"MNG\",\"MNE\",\"MAR\",\"MOZ\",\"MMR\",\"NAM\",\"NPL\",\"NLD\",\"NZL\",\"NIC\",\"NGA\",\"NGA\",\"NGA\",\"NGA\",\"MKD\",\"NOR\",\"OMN\",\"PAK\",\"PAN\",\"PNG\",\"PRY\",\"PER\",\"PHL\",\"POL\",\"PRT\",\"QAT\",\"ROU\",\"RUS\",\"RWA\",\"SAU\",\"SEN\",\"SRB\",\"SRB\",\"SYC\",\"SLE\",\"SGP\",\"SVK\",\"SVN\",\"SOM\",\"ZAF\",\"ESP\",\"LKA\",\"SDN\",\"SUR\",\"SWE\",\"CHE\",\"SYR\",\"TWN\",\"TJK\",\"TZA\",\"THA\",\"TLS\",\"TGO\",\"TTO\",\"TUN\",\"TUR\",\"UGA\",\"UKR\",\"ARE\",\"GBR\",\"USA\",\"URY\",\"VEN\",\"VNM\",\"YEM\",\"ZMB\",\"ZWE\"],\"name\":\"\",\"z\":[4.719,5.211,null,6.086,4.559,7.228,7.246,5.208,null,6.199,4.456,null,5.323,6.923,null,4.883,5.082,5.779,5.386,3.488,6.3,null,5.011,4.587,3.775,null,4.7,5.044,7.278,3.083,4.35,6.444,5.191,6.125,3.973,5.718,4.944,4.812,4.796,4.696,4.418,null,7.167,5.718,4.944,4.812,4.796,4.696,4.418,5.432,6.046,6.852,7.6,null,5.425,6.028,4.166,6.253,5.893,4.212,4.286,null,7.769,6.592,4.799,4.516,4.519,6.985,4.996,5.287,6.436,4.534,null,null,3.597,5.86,5.718,4.944,4.812,4.796,4.696,4.418,5.758,7.494,4.015,5.192,4.548,4.437,7.021,7.139,6.223,5.89,5.886,4.906,5.809,4.509,5.895,6.021,5.261,5.718,4.944,4.812,4.796,4.696,4.418,5.94,5.197,3.802,3.975,5.525,6.149,7.09,3.933,3.41,5.339,4.39,6.726,4.49,5.888,6.595,5.529,5.285,5.523,5.208,4.466,4.36,4.639,4.913,7.488,7.307,6.105,5.265,4.628,5.265,4.628,5.274,7.554,null,5.653,6.321,null,5.743,5.697,5.631,6.182,5.693,6.374,6.07,5.648,3.334,6.375,4.681,6.1,5.603,null,4.374,6.262,6.198,6.118,4.668,4.722,6.354,4.366,null,null,7.343,7.48,3.462,6.446,5.467,3.231,6.008,null,4.085,6.192,4.461,5.373,4.189,4.332,6.825,7.054,6.892,6.293,4.707,5.175,3.38,4.107,3.663],\"type\":\"choropleth\"}],                        {\"template\":{\"data\":{\"histogram2dcontour\":[{\"type\":\"histogram2dcontour\",\"colorbar\":{\"outlinewidth\":0,\"ticks\":\"\"},\"colorscale\":[[0.0,\"#0d0887\"],[0.1111111111111111,\"#46039f\"],[0.2222222222222222,\"#7201a8\"],[0.3333333333333333,\"#9c179e\"],[0.4444444444444444,\"#bd3786\"],[0.5555555555555556,\"#d8576b\"],[0.6666666666666666,\"#ed7953\"],[0.7777777777777778,\"#fb9f3a\"],[0.8888888888888888,\"#fdca26\"],[1.0,\"#f0f921\"]]}],\"choropleth\":[{\"type\":\"choropleth\",\"colorbar\":{\"outlinewidth\":0,\"ticks\":\"\"}}],\"histogram2d\":[{\"type\":\"histogram2d\",\"colorbar\":{\"outlinewidth\":0,\"ticks\":\"\"},\"colorscale\":[[0.0,\"#0d0887\"],[0.1111111111111111,\"#46039f\"],[0.2222222222222222,\"#7201a8\"],[0.3333333333333333,\"#9c179e\"],[0.4444444444444444,\"#bd3786\"],[0.5555555555555556,\"#d8576b\"],[0.6666666666666666,\"#ed7953\"],[0.7777777777777778,\"#fb9f3a\"],[0.8888888888888888,\"#fdca26\"],[1.0,\"#f0f921\"]]}],\"heatmap\":[{\"type\":\"heatmap\",\"colorbar\":{\"outlinewidth\":0,\"ticks\":\"\"},\"colorscale\":[[0.0,\"#0d0887\"],[0.1111111111111111,\"#46039f\"],[0.2222222222222222,\"#7201a8\"],[0.3333333333333333,\"#9c179e\"],[0.4444444444444444,\"#bd3786\"],[0.5555555555555556,\"#d8576b\"],[0.6666666666666666,\"#ed7953\"],[0.7777777777777778,\"#fb9f3a\"],[0.8888888888888888,\"#fdca26\"],[1.0,\"#f0f921\"]]}],\"heatmapgl\":[{\"type\":\"heatmapgl\",\"colorbar\":{\"outlinewidth\":0,\"ticks\":\"\"},\"colorscale\":[[0.0,\"#0d0887\"],[0.1111111111111111,\"#46039f\"],[0.2222222222222222,\"#7201a8\"],[0.3333333333333333,\"#9c179e\"],[0.4444444444444444,\"#bd3786\"],[0.5555555555555556,\"#d8576b\"],[0.6666666666666666,\"#ed7953\"],[0.7777777777777778,\"#fb9f3a\"],[0.8888888888888888,\"#fdca26\"],[1.0,\"#f0f921\"]]}],\"contourcarpet\":[{\"type\":\"contourcarpet\",\"colorbar\":{\"outlinewidth\":0,\"ticks\":\"\"}}],\"contour\":[{\"type\":\"contour\",\"colorbar\":{\"outlinewidth\":0,\"ticks\":\"\"},\"colorscale\":[[0.0,\"#0d0887\"],[0.1111111111111111,\"#46039f\"],[0.2222222222222222,\"#7201a8\"],[0.3333333333333333,\"#9c179e\"],[0.4444444444444444,\"#bd3786\"],[0.5555555555555556,\"#d8576b\"],[0.6666666666666666,\"#ed7953\"],[0.7777777777777778,\"#fb9f3a\"],[0.8888888888888888,\"#fdca26\"],[1.0,\"#f0f921\"]]}],\"surface\":[{\"type\":\"surface\",\"colorbar\":{\"outlinewidth\":0,\"ticks\":\"\"},\"colorscale\":[[0.0,\"#0d0887\"],[0.1111111111111111,\"#46039f\"],[0.2222222222222222,\"#7201a8\"],[0.3333333333333333,\"#9c179e\"],[0.4444444444444444,\"#bd3786\"],[0.5555555555555556,\"#d8576b\"],[0.6666666666666666,\"#ed7953\"],[0.7777777777777778,\"#fb9f3a\"],[0.8888888888888888,\"#fdca26\"],[1.0,\"#f0f921\"]]}],\"mesh3d\":[{\"type\":\"mesh3d\",\"colorbar\":{\"outlinewidth\":0,\"ticks\":\"\"}}],\"scatter\":[{\"fillpattern\":{\"fillmode\":\"overlay\",\"size\":10,\"solidity\":0.2},\"type\":\"scatter\"}],\"parcoords\":[{\"type\":\"parcoords\",\"line\":{\"colorbar\":{\"outlinewidth\":0,\"ticks\":\"\"}}}],\"scatterpolargl\":[{\"type\":\"scatterpolargl\",\"marker\":{\"colorbar\":{\"outlinewidth\":0,\"ticks\":\"\"}}}],\"bar\":[{\"error_x\":{\"color\":\"#2a3f5f\"},\"error_y\":{\"color\":\"#2a3f5f\"},\"marker\":{\"line\":{\"color\":\"#E5ECF6\",\"width\":0.5},\"pattern\":{\"fillmode\":\"overlay\",\"size\":10,\"solidity\":0.2}},\"type\":\"bar\"}],\"scattergeo\":[{\"type\":\"scattergeo\",\"marker\":{\"colorbar\":{\"outlinewidth\":0,\"ticks\":\"\"}}}],\"scatterpolar\":[{\"type\":\"scatterpolar\",\"marker\":{\"colorbar\":{\"outlinewidth\":0,\"ticks\":\"\"}}}],\"histogram\":[{\"marker\":{\"pattern\":{\"fillmode\":\"overlay\",\"size\":10,\"solidity\":0.2}},\"type\":\"histogram\"}],\"scattergl\":[{\"type\":\"scattergl\",\"marker\":{\"colorbar\":{\"outlinewidth\":0,\"ticks\":\"\"}}}],\"scatter3d\":[{\"type\":\"scatter3d\",\"line\":{\"colorbar\":{\"outlinewidth\":0,\"ticks\":\"\"}},\"marker\":{\"colorbar\":{\"outlinewidth\":0,\"ticks\":\"\"}}}],\"scattermapbox\":[{\"type\":\"scattermapbox\",\"marker\":{\"colorbar\":{\"outlinewidth\":0,\"ticks\":\"\"}}}],\"scatterternary\":[{\"type\":\"scatterternary\",\"marker\":{\"colorbar\":{\"outlinewidth\":0,\"ticks\":\"\"}}}],\"scattercarpet\":[{\"type\":\"scattercarpet\",\"marker\":{\"colorbar\":{\"outlinewidth\":0,\"ticks\":\"\"}}}],\"carpet\":[{\"aaxis\":{\"endlinecolor\":\"#2a3f5f\",\"gridcolor\":\"white\",\"linecolor\":\"white\",\"minorgridcolor\":\"white\",\"startlinecolor\":\"#2a3f5f\"},\"baxis\":{\"endlinecolor\":\"#2a3f5f\",\"gridcolor\":\"white\",\"linecolor\":\"white\",\"minorgridcolor\":\"white\",\"startlinecolor\":\"#2a3f5f\"},\"type\":\"carpet\"}],\"table\":[{\"cells\":{\"fill\":{\"color\":\"#EBF0F8\"},\"line\":{\"color\":\"white\"}},\"header\":{\"fill\":{\"color\":\"#C8D4E3\"},\"line\":{\"color\":\"white\"}},\"type\":\"table\"}],\"barpolar\":[{\"marker\":{\"line\":{\"color\":\"#E5ECF6\",\"width\":0.5},\"pattern\":{\"fillmode\":\"overlay\",\"size\":10,\"solidity\":0.2}},\"type\":\"barpolar\"}],\"pie\":[{\"automargin\":true,\"type\":\"pie\"}]},\"layout\":{\"autotypenumbers\":\"strict\",\"colorway\":[\"#636efa\",\"#EF553B\",\"#00cc96\",\"#ab63fa\",\"#FFA15A\",\"#19d3f3\",\"#FF6692\",\"#B6E880\",\"#FF97FF\",\"#FECB52\"],\"font\":{\"color\":\"#2a3f5f\"},\"hovermode\":\"closest\",\"hoverlabel\":{\"align\":\"left\"},\"paper_bgcolor\":\"white\",\"plot_bgcolor\":\"#E5ECF6\",\"polar\":{\"bgcolor\":\"#E5ECF6\",\"angularaxis\":{\"gridcolor\":\"white\",\"linecolor\":\"white\",\"ticks\":\"\"},\"radialaxis\":{\"gridcolor\":\"white\",\"linecolor\":\"white\",\"ticks\":\"\"}},\"ternary\":{\"bgcolor\":\"#E5ECF6\",\"aaxis\":{\"gridcolor\":\"white\",\"linecolor\":\"white\",\"ticks\":\"\"},\"baxis\":{\"gridcolor\":\"white\",\"linecolor\":\"white\",\"ticks\":\"\"},\"caxis\":{\"gridcolor\":\"white\",\"linecolor\":\"white\",\"ticks\":\"\"}},\"coloraxis\":{\"colorbar\":{\"outlinewidth\":0,\"ticks\":\"\"}},\"colorscale\":{\"sequential\":[[0.0,\"#0d0887\"],[0.1111111111111111,\"#46039f\"],[0.2222222222222222,\"#7201a8\"],[0.3333333333333333,\"#9c179e\"],[0.4444444444444444,\"#bd3786\"],[0.5555555555555556,\"#d8576b\"],[0.6666666666666666,\"#ed7953\"],[0.7777777777777778,\"#fb9f3a\"],[0.8888888888888888,\"#fdca26\"],[1.0,\"#f0f921\"]],\"sequentialminus\":[[0.0,\"#0d0887\"],[0.1111111111111111,\"#46039f\"],[0.2222222222222222,\"#7201a8\"],[0.3333333333333333,\"#9c179e\"],[0.4444444444444444,\"#bd3786\"],[0.5555555555555556,\"#d8576b\"],[0.6666666666666666,\"#ed7953\"],[0.7777777777777778,\"#fb9f3a\"],[0.8888888888888888,\"#fdca26\"],[1.0,\"#f0f921\"]],\"diverging\":[[0,\"#8e0152\"],[0.1,\"#c51b7d\"],[0.2,\"#de77ae\"],[0.3,\"#f1b6da\"],[0.4,\"#fde0ef\"],[0.5,\"#f7f7f7\"],[0.6,\"#e6f5d0\"],[0.7,\"#b8e186\"],[0.8,\"#7fbc41\"],[0.9,\"#4d9221\"],[1,\"#276419\"]]},\"xaxis\":{\"gridcolor\":\"white\",\"linecolor\":\"white\",\"ticks\":\"\",\"title\":{\"standoff\":15},\"zerolinecolor\":\"white\",\"automargin\":true,\"zerolinewidth\":2},\"yaxis\":{\"gridcolor\":\"white\",\"linecolor\":\"white\",\"ticks\":\"\",\"title\":{\"standoff\":15},\"zerolinecolor\":\"white\",\"automargin\":true,\"zerolinewidth\":2},\"scene\":{\"xaxis\":{\"backgroundcolor\":\"#E5ECF6\",\"gridcolor\":\"white\",\"linecolor\":\"white\",\"showbackground\":true,\"ticks\":\"\",\"zerolinecolor\":\"white\",\"gridwidth\":2},\"yaxis\":{\"backgroundcolor\":\"#E5ECF6\",\"gridcolor\":\"white\",\"linecolor\":\"white\",\"showbackground\":true,\"ticks\":\"\",\"zerolinecolor\":\"white\",\"gridwidth\":2},\"zaxis\":{\"backgroundcolor\":\"#E5ECF6\",\"gridcolor\":\"white\",\"linecolor\":\"white\",\"showbackground\":true,\"ticks\":\"\",\"zerolinecolor\":\"white\",\"gridwidth\":2}},\"shapedefaults\":{\"line\":{\"color\":\"#2a3f5f\"}},\"annotationdefaults\":{\"arrowcolor\":\"#2a3f5f\",\"arrowhead\":0,\"arrowwidth\":1},\"geo\":{\"bgcolor\":\"white\",\"landcolor\":\"#E5ECF6\",\"subunitcolor\":\"white\",\"showland\":true,\"showlakes\":true,\"lakecolor\":\"white\"},\"title\":{\"x\":0.05},\"mapbox\":{\"style\":\"light\"}}},\"geo\":{\"domain\":{\"x\":[0.0,1.0],\"y\":[0.0,1.0]},\"center\":{}},\"coloraxis\":{\"colorbar\":{\"title\":{\"text\":\"Happiness Score\"}},\"colorscale\":[[0.0,\"rgb(177, 63, 100)\"],[0.16666666666666666,\"rgb(202, 82, 104)\"],[0.3333333333333333,\"rgb(221, 104, 108)\"],[0.5,\"rgb(234, 129, 113)\"],[0.6666666666666666,\"rgb(241, 156, 124)\"],[0.8333333333333334,\"rgb(245, 183, 142)\"],[1.0,\"rgb(246, 210, 169)\"]]},\"legend\":{\"tracegroupgap\":0},\"title\":{\"text\":\"Happiness\"},\"width\":1000,\"height\":500,\"annotations\":[{\"align\":\"center\",\"font\":{\"size\":10},\"showarrow\":false,\"text\":\"Global Distribution of Personal Freedom Scores: A map showcasing the varying levels of personal freedom\\u003cbr\\u003eexperienced by citizens around the world, with scores ranging from low (red) to high (yellow).\",\"width\":700,\"x\":0.5,\"xref\":\"paper\",\"y\":-0.2,\"yref\":\"paper\"}]},                        {\"responsive\": true}                    ).then(function(){\n",
       "                            \n",
       "var gd = document.getElementById('a8de2135-db82-43e5-aed8-73cd37e7bd98');\n",
       "var x = new MutationObserver(function (mutations, observer) {{\n",
       "        var display = window.getComputedStyle(gd).display;\n",
       "        if (!display || display === 'none') {{\n",
       "            console.log([gd, 'removed!']);\n",
       "            Plotly.purge(gd);\n",
       "            observer.disconnect();\n",
       "        }}\n",
       "}});\n",
       "\n",
       "// Listen for the removal of the full notebook cells\n",
       "var notebookContainer = gd.closest('#notebook-container');\n",
       "if (notebookContainer) {{\n",
       "    x.observe(notebookContainer, {childList: true});\n",
       "}}\n",
       "\n",
       "// Listen for the clearing of the current output cell\n",
       "var outputEl = gd.closest('.output');\n",
       "if (outputEl) {{\n",
       "    x.observe(outputEl, {childList: true});\n",
       "}}\n",
       "\n",
       "                        })                };                });            </script>        </div>"
      ]
     },
     "metadata": {},
     "output_type": "display_data"
    }
   ],
   "source": [
    "fig = px.choropleth(data, locations=\"iso\",\n",
    "                   title='Freedom around the world',\n",
    "                   color=\"Human Freedom Score\",\n",
    "                   hover_name=\"iso\",\n",
    "                   hover_data=['iso'],\n",
    "                   color_continuous_scale=px.colors.sequential.Redor_r, \n",
    "                   )\n",
    "\n",
    "\n",
    "fig_2 = px.choropleth(data, locations=\"iso\",\n",
    "                   title='Happiness',\n",
    "                   color=\"Happiness Score\",\n",
    "                   hover_name=\"iso\",\n",
    "                   hover_data=['iso'],\n",
    "                   color_continuous_scale=px.colors.sequential.Redor_r, \n",
    "                   )\n",
    "fig.update_layout(\n",
    "   width=1000,\n",
    "   height=500  \n",
    ")\n",
    "fig_2.update_layout(\n",
    "   width=1000,  \n",
    "   height=500  \n",
    ")\n",
    "fig.add_annotation(\n",
    "   x=0.5,\n",
    "   y=-0.2,\n",
    "   xref='paper',\n",
    "   yref='paper',\n",
    "   showarrow=False,\n",
    "   text=(\n",
    "       'Correlation Matrix of Freedom, Happiness, and Health Indicators: This heatmap illustrates the<br>'\n",
    "       'relationships between various measures of freedom (human, economic, and personal), happiness scores,<br>'\n",
    "       'healthy life expectancy, and perceptions of corruption, with correlation coefficients<br>'\n",
    "       'ranging from 0 (no correlation) to 1 (perfect correlation).'\n",
    "   ),\n",
    "   font=dict(size=10),\n",
    "   align='center',\n",
    "   width=700  \n",
    ")\n",
    "\n",
    "fig_2.add_annotation(\n",
    "   x=0.5,\n",
    "   y=-0.2,\n",
    "   xref='paper',\n",
    "   yref='paper',\n",
    "   showarrow=False,\n",
    "   text=(\n",
    "       'Global Distribution of Personal Freedom Scores: A map showcasing the varying levels of personal freedom<br>'\n",
    "       'experienced by citizens around the world, with scores ranging from low (red) to high (yellow).'\n",
    "   ),\n",
    "   font=dict(size=10),\n",
    "   align='center',\n",
    "   width=700\n",
    ")\n",
    "fig.show()\n",
    "fig_2.show()\n",
    "\n"
   ]
  },
  {
   "cell_type": "code",
   "execution_count": 45,
   "metadata": {},
   "outputs": [
    {
     "data": {
      "application/vnd.plotly.v1+json": {
       "config": {
        "plotlyServerURL": "https://plot.ly"
       },
       "data": [
        {
         "coloraxis": "coloraxis",
         "hovertemplate": "x: %{x}<br>y: %{y}<br>color: %{z}<extra></extra>",
         "name": "0",
         "type": "heatmap",
         "x": [
          "Human Freedom Score",
          "Economic Freedom Score",
          "Political Freedom Score",
          "Happiness Score",
          "Healthy life expectancy",
          "Perceptions of corruption"
         ],
         "xaxis": "x",
         "y": [
          "Human Freedom Score",
          "Economic Freedom Score",
          "Political Freedom Score",
          "Happiness Score",
          "Healthy life expectancy",
          "Perceptions of corruption"
         ],
         "yaxis": "y",
         "z": [
          [
           1,
           0.8142747644857781,
           0.9658622523363167,
           0.6171812548223395,
           0.54484766132205,
           0.206120927605187
          ],
          [
           0.8142747644857781,
           1,
           0.6361659031554617,
           0.5575627704492747,
           0.49882947638381686,
           0.24513106336701995
          ],
          [
           0.9658622523363167,
           0.6361659031554617,
           1,
           0.5804616361645178,
           0.5096158251148728,
           0.16836079302971163
          ],
          [
           0.6171812548223395,
           0.5575627704492747,
           0.5804616361645178,
           1,
           0.7569315255097905,
           0.38847145584960785
          ],
          [
           0.54484766132205,
           0.49882947638381686,
           0.5096158251148728,
           0.7569315255097905,
           1,
           0.28786880621578337
          ],
          [
           0.206120927605187,
           0.24513106336701995,
           0.16836079302971163,
           0.38847145584960785,
           0.28786880621578337,
           1
          ]
         ]
        }
       ],
       "layout": {
        "coloraxis": {
         "colorscale": [
          [
           0,
           "#0d0887"
          ],
          [
           0.1111111111111111,
           "#46039f"
          ],
          [
           0.2222222222222222,
           "#7201a8"
          ],
          [
           0.3333333333333333,
           "#9c179e"
          ],
          [
           0.4444444444444444,
           "#bd3786"
          ],
          [
           0.5555555555555556,
           "#d8576b"
          ],
          [
           0.6666666666666666,
           "#ed7953"
          ],
          [
           0.7777777777777778,
           "#fb9f3a"
          ],
          [
           0.8888888888888888,
           "#fdca26"
          ],
          [
           1,
           "#f0f921"
          ]
         ]
        },
        "height": 500,
        "template": {
         "data": {
          "bar": [
           {
            "error_x": {
             "color": "#2a3f5f"
            },
            "error_y": {
             "color": "#2a3f5f"
            },
            "marker": {
             "line": {
              "color": "#E5ECF6",
              "width": 0.5
             },
             "pattern": {
              "fillmode": "overlay",
              "size": 10,
              "solidity": 0.2
             }
            },
            "type": "bar"
           }
          ],
          "barpolar": [
           {
            "marker": {
             "line": {
              "color": "#E5ECF6",
              "width": 0.5
             },
             "pattern": {
              "fillmode": "overlay",
              "size": 10,
              "solidity": 0.2
             }
            },
            "type": "barpolar"
           }
          ],
          "carpet": [
           {
            "aaxis": {
             "endlinecolor": "#2a3f5f",
             "gridcolor": "white",
             "linecolor": "white",
             "minorgridcolor": "white",
             "startlinecolor": "#2a3f5f"
            },
            "baxis": {
             "endlinecolor": "#2a3f5f",
             "gridcolor": "white",
             "linecolor": "white",
             "minorgridcolor": "white",
             "startlinecolor": "#2a3f5f"
            },
            "type": "carpet"
           }
          ],
          "choropleth": [
           {
            "colorbar": {
             "outlinewidth": 0,
             "ticks": ""
            },
            "type": "choropleth"
           }
          ],
          "contour": [
           {
            "colorbar": {
             "outlinewidth": 0,
             "ticks": ""
            },
            "colorscale": [
             [
              0,
              "#0d0887"
             ],
             [
              0.1111111111111111,
              "#46039f"
             ],
             [
              0.2222222222222222,
              "#7201a8"
             ],
             [
              0.3333333333333333,
              "#9c179e"
             ],
             [
              0.4444444444444444,
              "#bd3786"
             ],
             [
              0.5555555555555556,
              "#d8576b"
             ],
             [
              0.6666666666666666,
              "#ed7953"
             ],
             [
              0.7777777777777778,
              "#fb9f3a"
             ],
             [
              0.8888888888888888,
              "#fdca26"
             ],
             [
              1,
              "#f0f921"
             ]
            ],
            "type": "contour"
           }
          ],
          "contourcarpet": [
           {
            "colorbar": {
             "outlinewidth": 0,
             "ticks": ""
            },
            "type": "contourcarpet"
           }
          ],
          "heatmap": [
           {
            "colorbar": {
             "outlinewidth": 0,
             "ticks": ""
            },
            "colorscale": [
             [
              0,
              "#0d0887"
             ],
             [
              0.1111111111111111,
              "#46039f"
             ],
             [
              0.2222222222222222,
              "#7201a8"
             ],
             [
              0.3333333333333333,
              "#9c179e"
             ],
             [
              0.4444444444444444,
              "#bd3786"
             ],
             [
              0.5555555555555556,
              "#d8576b"
             ],
             [
              0.6666666666666666,
              "#ed7953"
             ],
             [
              0.7777777777777778,
              "#fb9f3a"
             ],
             [
              0.8888888888888888,
              "#fdca26"
             ],
             [
              1,
              "#f0f921"
             ]
            ],
            "type": "heatmap"
           }
          ],
          "heatmapgl": [
           {
            "colorbar": {
             "outlinewidth": 0,
             "ticks": ""
            },
            "colorscale": [
             [
              0,
              "#0d0887"
             ],
             [
              0.1111111111111111,
              "#46039f"
             ],
             [
              0.2222222222222222,
              "#7201a8"
             ],
             [
              0.3333333333333333,
              "#9c179e"
             ],
             [
              0.4444444444444444,
              "#bd3786"
             ],
             [
              0.5555555555555556,
              "#d8576b"
             ],
             [
              0.6666666666666666,
              "#ed7953"
             ],
             [
              0.7777777777777778,
              "#fb9f3a"
             ],
             [
              0.8888888888888888,
              "#fdca26"
             ],
             [
              1,
              "#f0f921"
             ]
            ],
            "type": "heatmapgl"
           }
          ],
          "histogram": [
           {
            "marker": {
             "pattern": {
              "fillmode": "overlay",
              "size": 10,
              "solidity": 0.2
             }
            },
            "type": "histogram"
           }
          ],
          "histogram2d": [
           {
            "colorbar": {
             "outlinewidth": 0,
             "ticks": ""
            },
            "colorscale": [
             [
              0,
              "#0d0887"
             ],
             [
              0.1111111111111111,
              "#46039f"
             ],
             [
              0.2222222222222222,
              "#7201a8"
             ],
             [
              0.3333333333333333,
              "#9c179e"
             ],
             [
              0.4444444444444444,
              "#bd3786"
             ],
             [
              0.5555555555555556,
              "#d8576b"
             ],
             [
              0.6666666666666666,
              "#ed7953"
             ],
             [
              0.7777777777777778,
              "#fb9f3a"
             ],
             [
              0.8888888888888888,
              "#fdca26"
             ],
             [
              1,
              "#f0f921"
             ]
            ],
            "type": "histogram2d"
           }
          ],
          "histogram2dcontour": [
           {
            "colorbar": {
             "outlinewidth": 0,
             "ticks": ""
            },
            "colorscale": [
             [
              0,
              "#0d0887"
             ],
             [
              0.1111111111111111,
              "#46039f"
             ],
             [
              0.2222222222222222,
              "#7201a8"
             ],
             [
              0.3333333333333333,
              "#9c179e"
             ],
             [
              0.4444444444444444,
              "#bd3786"
             ],
             [
              0.5555555555555556,
              "#d8576b"
             ],
             [
              0.6666666666666666,
              "#ed7953"
             ],
             [
              0.7777777777777778,
              "#fb9f3a"
             ],
             [
              0.8888888888888888,
              "#fdca26"
             ],
             [
              1,
              "#f0f921"
             ]
            ],
            "type": "histogram2dcontour"
           }
          ],
          "mesh3d": [
           {
            "colorbar": {
             "outlinewidth": 0,
             "ticks": ""
            },
            "type": "mesh3d"
           }
          ],
          "parcoords": [
           {
            "line": {
             "colorbar": {
              "outlinewidth": 0,
              "ticks": ""
             }
            },
            "type": "parcoords"
           }
          ],
          "pie": [
           {
            "automargin": true,
            "type": "pie"
           }
          ],
          "scatter": [
           {
            "fillpattern": {
             "fillmode": "overlay",
             "size": 10,
             "solidity": 0.2
            },
            "type": "scatter"
           }
          ],
          "scatter3d": [
           {
            "line": {
             "colorbar": {
              "outlinewidth": 0,
              "ticks": ""
             }
            },
            "marker": {
             "colorbar": {
              "outlinewidth": 0,
              "ticks": ""
             }
            },
            "type": "scatter3d"
           }
          ],
          "scattercarpet": [
           {
            "marker": {
             "colorbar": {
              "outlinewidth": 0,
              "ticks": ""
             }
            },
            "type": "scattercarpet"
           }
          ],
          "scattergeo": [
           {
            "marker": {
             "colorbar": {
              "outlinewidth": 0,
              "ticks": ""
             }
            },
            "type": "scattergeo"
           }
          ],
          "scattergl": [
           {
            "marker": {
             "colorbar": {
              "outlinewidth": 0,
              "ticks": ""
             }
            },
            "type": "scattergl"
           }
          ],
          "scattermapbox": [
           {
            "marker": {
             "colorbar": {
              "outlinewidth": 0,
              "ticks": ""
             }
            },
            "type": "scattermapbox"
           }
          ],
          "scatterpolar": [
           {
            "marker": {
             "colorbar": {
              "outlinewidth": 0,
              "ticks": ""
             }
            },
            "type": "scatterpolar"
           }
          ],
          "scatterpolargl": [
           {
            "marker": {
             "colorbar": {
              "outlinewidth": 0,
              "ticks": ""
             }
            },
            "type": "scatterpolargl"
           }
          ],
          "scatterternary": [
           {
            "marker": {
             "colorbar": {
              "outlinewidth": 0,
              "ticks": ""
             }
            },
            "type": "scatterternary"
           }
          ],
          "surface": [
           {
            "colorbar": {
             "outlinewidth": 0,
             "ticks": ""
            },
            "colorscale": [
             [
              0,
              "#0d0887"
             ],
             [
              0.1111111111111111,
              "#46039f"
             ],
             [
              0.2222222222222222,
              "#7201a8"
             ],
             [
              0.3333333333333333,
              "#9c179e"
             ],
             [
              0.4444444444444444,
              "#bd3786"
             ],
             [
              0.5555555555555556,
              "#d8576b"
             ],
             [
              0.6666666666666666,
              "#ed7953"
             ],
             [
              0.7777777777777778,
              "#fb9f3a"
             ],
             [
              0.8888888888888888,
              "#fdca26"
             ],
             [
              1,
              "#f0f921"
             ]
            ],
            "type": "surface"
           }
          ],
          "table": [
           {
            "cells": {
             "fill": {
              "color": "#EBF0F8"
             },
             "line": {
              "color": "white"
             }
            },
            "header": {
             "fill": {
              "color": "#C8D4E3"
             },
             "line": {
              "color": "white"
             }
            },
            "type": "table"
           }
          ]
         },
         "layout": {
          "annotationdefaults": {
           "arrowcolor": "#2a3f5f",
           "arrowhead": 0,
           "arrowwidth": 1
          },
          "autotypenumbers": "strict",
          "coloraxis": {
           "colorbar": {
            "outlinewidth": 0,
            "ticks": ""
           }
          },
          "colorscale": {
           "diverging": [
            [
             0,
             "#8e0152"
            ],
            [
             0.1,
             "#c51b7d"
            ],
            [
             0.2,
             "#de77ae"
            ],
            [
             0.3,
             "#f1b6da"
            ],
            [
             0.4,
             "#fde0ef"
            ],
            [
             0.5,
             "#f7f7f7"
            ],
            [
             0.6,
             "#e6f5d0"
            ],
            [
             0.7,
             "#b8e186"
            ],
            [
             0.8,
             "#7fbc41"
            ],
            [
             0.9,
             "#4d9221"
            ],
            [
             1,
             "#276419"
            ]
           ],
           "sequential": [
            [
             0,
             "#0d0887"
            ],
            [
             0.1111111111111111,
             "#46039f"
            ],
            [
             0.2222222222222222,
             "#7201a8"
            ],
            [
             0.3333333333333333,
             "#9c179e"
            ],
            [
             0.4444444444444444,
             "#bd3786"
            ],
            [
             0.5555555555555556,
             "#d8576b"
            ],
            [
             0.6666666666666666,
             "#ed7953"
            ],
            [
             0.7777777777777778,
             "#fb9f3a"
            ],
            [
             0.8888888888888888,
             "#fdca26"
            ],
            [
             1,
             "#f0f921"
            ]
           ],
           "sequentialminus": [
            [
             0,
             "#0d0887"
            ],
            [
             0.1111111111111111,
             "#46039f"
            ],
            [
             0.2222222222222222,
             "#7201a8"
            ],
            [
             0.3333333333333333,
             "#9c179e"
            ],
            [
             0.4444444444444444,
             "#bd3786"
            ],
            [
             0.5555555555555556,
             "#d8576b"
            ],
            [
             0.6666666666666666,
             "#ed7953"
            ],
            [
             0.7777777777777778,
             "#fb9f3a"
            ],
            [
             0.8888888888888888,
             "#fdca26"
            ],
            [
             1,
             "#f0f921"
            ]
           ]
          },
          "colorway": [
           "#636efa",
           "#EF553B",
           "#00cc96",
           "#ab63fa",
           "#FFA15A",
           "#19d3f3",
           "#FF6692",
           "#B6E880",
           "#FF97FF",
           "#FECB52"
          ],
          "font": {
           "color": "#2a3f5f"
          },
          "geo": {
           "bgcolor": "white",
           "lakecolor": "white",
           "landcolor": "#E5ECF6",
           "showlakes": true,
           "showland": true,
           "subunitcolor": "white"
          },
          "hoverlabel": {
           "align": "left"
          },
          "hovermode": "closest",
          "mapbox": {
           "style": "light"
          },
          "paper_bgcolor": "white",
          "plot_bgcolor": "#E5ECF6",
          "polar": {
           "angularaxis": {
            "gridcolor": "white",
            "linecolor": "white",
            "ticks": ""
           },
           "bgcolor": "#E5ECF6",
           "radialaxis": {
            "gridcolor": "white",
            "linecolor": "white",
            "ticks": ""
           }
          },
          "scene": {
           "xaxis": {
            "backgroundcolor": "#E5ECF6",
            "gridcolor": "white",
            "gridwidth": 2,
            "linecolor": "white",
            "showbackground": true,
            "ticks": "",
            "zerolinecolor": "white"
           },
           "yaxis": {
            "backgroundcolor": "#E5ECF6",
            "gridcolor": "white",
            "gridwidth": 2,
            "linecolor": "white",
            "showbackground": true,
            "ticks": "",
            "zerolinecolor": "white"
           },
           "zaxis": {
            "backgroundcolor": "#E5ECF6",
            "gridcolor": "white",
            "gridwidth": 2,
            "linecolor": "white",
            "showbackground": true,
            "ticks": "",
            "zerolinecolor": "white"
           }
          },
          "shapedefaults": {
           "line": {
            "color": "#2a3f5f"
           }
          },
          "ternary": {
           "aaxis": {
            "gridcolor": "white",
            "linecolor": "white",
            "ticks": ""
           },
           "baxis": {
            "gridcolor": "white",
            "linecolor": "white",
            "ticks": ""
           },
           "bgcolor": "#E5ECF6",
           "caxis": {
            "gridcolor": "white",
            "linecolor": "white",
            "ticks": ""
           }
          },
          "title": {
           "x": 0.05
          },
          "xaxis": {
           "automargin": true,
           "gridcolor": "white",
           "linecolor": "white",
           "ticks": "",
           "title": {
            "standoff": 15
           },
           "zerolinecolor": "white",
           "zerolinewidth": 2
          },
          "yaxis": {
           "automargin": true,
           "gridcolor": "white",
           "linecolor": "white",
           "ticks": "",
           "title": {
            "standoff": 15
           },
           "zerolinecolor": "white",
           "zerolinewidth": 2
          }
         }
        },
        "title": {
         "text": "Correlation Matrix of Freedom, Happiness, and Health Indicators"
        },
        "width": 1000,
        "xaxis": {
         "anchor": "y",
         "constrain": "domain",
         "domain": [
          0,
          1
         ],
         "scaleanchor": "y"
        },
        "yaxis": {
         "anchor": "x",
         "autorange": "reversed",
         "constrain": "domain",
         "domain": [
          0,
          1
         ]
        }
       }
      },
      "text/html": [
       "<div>                            <div id=\"8decadb0-462e-4cda-8760-88ad7f00e52b\" class=\"plotly-graph-div\" style=\"height:500px; width:1000px;\"></div>            <script type=\"text/javascript\">                require([\"plotly\"], function(Plotly) {                    window.PLOTLYENV=window.PLOTLYENV || {};                                    if (document.getElementById(\"8decadb0-462e-4cda-8760-88ad7f00e52b\")) {                    Plotly.newPlot(                        \"8decadb0-462e-4cda-8760-88ad7f00e52b\",                        [{\"coloraxis\":\"coloraxis\",\"name\":\"0\",\"x\":[\"Human Freedom Score\",\"Economic Freedom Score\",\"Political Freedom Score\",\"Happiness Score\",\"Healthy life expectancy\",\"Perceptions of corruption\"],\"y\":[\"Human Freedom Score\",\"Economic Freedom Score\",\"Political Freedom Score\",\"Happiness Score\",\"Healthy life expectancy\",\"Perceptions of corruption\"],\"z\":[[1.0,0.8142747644857781,0.9658622523363167,0.6171812548223395,0.54484766132205,0.206120927605187],[0.8142747644857781,1.0,0.6361659031554617,0.5575627704492747,0.49882947638381686,0.24513106336701995],[0.9658622523363167,0.6361659031554617,1.0,0.5804616361645178,0.5096158251148728,0.16836079302971163],[0.6171812548223395,0.5575627704492747,0.5804616361645178,1.0,0.7569315255097905,0.38847145584960785],[0.54484766132205,0.49882947638381686,0.5096158251148728,0.7569315255097905,1.0,0.28786880621578337],[0.206120927605187,0.24513106336701995,0.16836079302971163,0.38847145584960785,0.28786880621578337,1.0]],\"type\":\"heatmap\",\"xaxis\":\"x\",\"yaxis\":\"y\",\"hovertemplate\":\"x: %{x}\\u003cbr\\u003ey: %{y}\\u003cbr\\u003ecolor: %{z}\\u003cextra\\u003e\\u003c\\u002fextra\\u003e\"}],                        {\"template\":{\"data\":{\"histogram2dcontour\":[{\"type\":\"histogram2dcontour\",\"colorbar\":{\"outlinewidth\":0,\"ticks\":\"\"},\"colorscale\":[[0.0,\"#0d0887\"],[0.1111111111111111,\"#46039f\"],[0.2222222222222222,\"#7201a8\"],[0.3333333333333333,\"#9c179e\"],[0.4444444444444444,\"#bd3786\"],[0.5555555555555556,\"#d8576b\"],[0.6666666666666666,\"#ed7953\"],[0.7777777777777778,\"#fb9f3a\"],[0.8888888888888888,\"#fdca26\"],[1.0,\"#f0f921\"]]}],\"choropleth\":[{\"type\":\"choropleth\",\"colorbar\":{\"outlinewidth\":0,\"ticks\":\"\"}}],\"histogram2d\":[{\"type\":\"histogram2d\",\"colorbar\":{\"outlinewidth\":0,\"ticks\":\"\"},\"colorscale\":[[0.0,\"#0d0887\"],[0.1111111111111111,\"#46039f\"],[0.2222222222222222,\"#7201a8\"],[0.3333333333333333,\"#9c179e\"],[0.4444444444444444,\"#bd3786\"],[0.5555555555555556,\"#d8576b\"],[0.6666666666666666,\"#ed7953\"],[0.7777777777777778,\"#fb9f3a\"],[0.8888888888888888,\"#fdca26\"],[1.0,\"#f0f921\"]]}],\"heatmap\":[{\"type\":\"heatmap\",\"colorbar\":{\"outlinewidth\":0,\"ticks\":\"\"},\"colorscale\":[[0.0,\"#0d0887\"],[0.1111111111111111,\"#46039f\"],[0.2222222222222222,\"#7201a8\"],[0.3333333333333333,\"#9c179e\"],[0.4444444444444444,\"#bd3786\"],[0.5555555555555556,\"#d8576b\"],[0.6666666666666666,\"#ed7953\"],[0.7777777777777778,\"#fb9f3a\"],[0.8888888888888888,\"#fdca26\"],[1.0,\"#f0f921\"]]}],\"heatmapgl\":[{\"type\":\"heatmapgl\",\"colorbar\":{\"outlinewidth\":0,\"ticks\":\"\"},\"colorscale\":[[0.0,\"#0d0887\"],[0.1111111111111111,\"#46039f\"],[0.2222222222222222,\"#7201a8\"],[0.3333333333333333,\"#9c179e\"],[0.4444444444444444,\"#bd3786\"],[0.5555555555555556,\"#d8576b\"],[0.6666666666666666,\"#ed7953\"],[0.7777777777777778,\"#fb9f3a\"],[0.8888888888888888,\"#fdca26\"],[1.0,\"#f0f921\"]]}],\"contourcarpet\":[{\"type\":\"contourcarpet\",\"colorbar\":{\"outlinewidth\":0,\"ticks\":\"\"}}],\"contour\":[{\"type\":\"contour\",\"colorbar\":{\"outlinewidth\":0,\"ticks\":\"\"},\"colorscale\":[[0.0,\"#0d0887\"],[0.1111111111111111,\"#46039f\"],[0.2222222222222222,\"#7201a8\"],[0.3333333333333333,\"#9c179e\"],[0.4444444444444444,\"#bd3786\"],[0.5555555555555556,\"#d8576b\"],[0.6666666666666666,\"#ed7953\"],[0.7777777777777778,\"#fb9f3a\"],[0.8888888888888888,\"#fdca26\"],[1.0,\"#f0f921\"]]}],\"surface\":[{\"type\":\"surface\",\"colorbar\":{\"outlinewidth\":0,\"ticks\":\"\"},\"colorscale\":[[0.0,\"#0d0887\"],[0.1111111111111111,\"#46039f\"],[0.2222222222222222,\"#7201a8\"],[0.3333333333333333,\"#9c179e\"],[0.4444444444444444,\"#bd3786\"],[0.5555555555555556,\"#d8576b\"],[0.6666666666666666,\"#ed7953\"],[0.7777777777777778,\"#fb9f3a\"],[0.8888888888888888,\"#fdca26\"],[1.0,\"#f0f921\"]]}],\"mesh3d\":[{\"type\":\"mesh3d\",\"colorbar\":{\"outlinewidth\":0,\"ticks\":\"\"}}],\"scatter\":[{\"fillpattern\":{\"fillmode\":\"overlay\",\"size\":10,\"solidity\":0.2},\"type\":\"scatter\"}],\"parcoords\":[{\"type\":\"parcoords\",\"line\":{\"colorbar\":{\"outlinewidth\":0,\"ticks\":\"\"}}}],\"scatterpolargl\":[{\"type\":\"scatterpolargl\",\"marker\":{\"colorbar\":{\"outlinewidth\":0,\"ticks\":\"\"}}}],\"bar\":[{\"error_x\":{\"color\":\"#2a3f5f\"},\"error_y\":{\"color\":\"#2a3f5f\"},\"marker\":{\"line\":{\"color\":\"#E5ECF6\",\"width\":0.5},\"pattern\":{\"fillmode\":\"overlay\",\"size\":10,\"solidity\":0.2}},\"type\":\"bar\"}],\"scattergeo\":[{\"type\":\"scattergeo\",\"marker\":{\"colorbar\":{\"outlinewidth\":0,\"ticks\":\"\"}}}],\"scatterpolar\":[{\"type\":\"scatterpolar\",\"marker\":{\"colorbar\":{\"outlinewidth\":0,\"ticks\":\"\"}}}],\"histogram\":[{\"marker\":{\"pattern\":{\"fillmode\":\"overlay\",\"size\":10,\"solidity\":0.2}},\"type\":\"histogram\"}],\"scattergl\":[{\"type\":\"scattergl\",\"marker\":{\"colorbar\":{\"outlinewidth\":0,\"ticks\":\"\"}}}],\"scatter3d\":[{\"type\":\"scatter3d\",\"line\":{\"colorbar\":{\"outlinewidth\":0,\"ticks\":\"\"}},\"marker\":{\"colorbar\":{\"outlinewidth\":0,\"ticks\":\"\"}}}],\"scattermapbox\":[{\"type\":\"scattermapbox\",\"marker\":{\"colorbar\":{\"outlinewidth\":0,\"ticks\":\"\"}}}],\"scatterternary\":[{\"type\":\"scatterternary\",\"marker\":{\"colorbar\":{\"outlinewidth\":0,\"ticks\":\"\"}}}],\"scattercarpet\":[{\"type\":\"scattercarpet\",\"marker\":{\"colorbar\":{\"outlinewidth\":0,\"ticks\":\"\"}}}],\"carpet\":[{\"aaxis\":{\"endlinecolor\":\"#2a3f5f\",\"gridcolor\":\"white\",\"linecolor\":\"white\",\"minorgridcolor\":\"white\",\"startlinecolor\":\"#2a3f5f\"},\"baxis\":{\"endlinecolor\":\"#2a3f5f\",\"gridcolor\":\"white\",\"linecolor\":\"white\",\"minorgridcolor\":\"white\",\"startlinecolor\":\"#2a3f5f\"},\"type\":\"carpet\"}],\"table\":[{\"cells\":{\"fill\":{\"color\":\"#EBF0F8\"},\"line\":{\"color\":\"white\"}},\"header\":{\"fill\":{\"color\":\"#C8D4E3\"},\"line\":{\"color\":\"white\"}},\"type\":\"table\"}],\"barpolar\":[{\"marker\":{\"line\":{\"color\":\"#E5ECF6\",\"width\":0.5},\"pattern\":{\"fillmode\":\"overlay\",\"size\":10,\"solidity\":0.2}},\"type\":\"barpolar\"}],\"pie\":[{\"automargin\":true,\"type\":\"pie\"}]},\"layout\":{\"autotypenumbers\":\"strict\",\"colorway\":[\"#636efa\",\"#EF553B\",\"#00cc96\",\"#ab63fa\",\"#FFA15A\",\"#19d3f3\",\"#FF6692\",\"#B6E880\",\"#FF97FF\",\"#FECB52\"],\"font\":{\"color\":\"#2a3f5f\"},\"hovermode\":\"closest\",\"hoverlabel\":{\"align\":\"left\"},\"paper_bgcolor\":\"white\",\"plot_bgcolor\":\"#E5ECF6\",\"polar\":{\"bgcolor\":\"#E5ECF6\",\"angularaxis\":{\"gridcolor\":\"white\",\"linecolor\":\"white\",\"ticks\":\"\"},\"radialaxis\":{\"gridcolor\":\"white\",\"linecolor\":\"white\",\"ticks\":\"\"}},\"ternary\":{\"bgcolor\":\"#E5ECF6\",\"aaxis\":{\"gridcolor\":\"white\",\"linecolor\":\"white\",\"ticks\":\"\"},\"baxis\":{\"gridcolor\":\"white\",\"linecolor\":\"white\",\"ticks\":\"\"},\"caxis\":{\"gridcolor\":\"white\",\"linecolor\":\"white\",\"ticks\":\"\"}},\"coloraxis\":{\"colorbar\":{\"outlinewidth\":0,\"ticks\":\"\"}},\"colorscale\":{\"sequential\":[[0.0,\"#0d0887\"],[0.1111111111111111,\"#46039f\"],[0.2222222222222222,\"#7201a8\"],[0.3333333333333333,\"#9c179e\"],[0.4444444444444444,\"#bd3786\"],[0.5555555555555556,\"#d8576b\"],[0.6666666666666666,\"#ed7953\"],[0.7777777777777778,\"#fb9f3a\"],[0.8888888888888888,\"#fdca26\"],[1.0,\"#f0f921\"]],\"sequentialminus\":[[0.0,\"#0d0887\"],[0.1111111111111111,\"#46039f\"],[0.2222222222222222,\"#7201a8\"],[0.3333333333333333,\"#9c179e\"],[0.4444444444444444,\"#bd3786\"],[0.5555555555555556,\"#d8576b\"],[0.6666666666666666,\"#ed7953\"],[0.7777777777777778,\"#fb9f3a\"],[0.8888888888888888,\"#fdca26\"],[1.0,\"#f0f921\"]],\"diverging\":[[0,\"#8e0152\"],[0.1,\"#c51b7d\"],[0.2,\"#de77ae\"],[0.3,\"#f1b6da\"],[0.4,\"#fde0ef\"],[0.5,\"#f7f7f7\"],[0.6,\"#e6f5d0\"],[0.7,\"#b8e186\"],[0.8,\"#7fbc41\"],[0.9,\"#4d9221\"],[1,\"#276419\"]]},\"xaxis\":{\"gridcolor\":\"white\",\"linecolor\":\"white\",\"ticks\":\"\",\"title\":{\"standoff\":15},\"zerolinecolor\":\"white\",\"automargin\":true,\"zerolinewidth\":2},\"yaxis\":{\"gridcolor\":\"white\",\"linecolor\":\"white\",\"ticks\":\"\",\"title\":{\"standoff\":15},\"zerolinecolor\":\"white\",\"automargin\":true,\"zerolinewidth\":2},\"scene\":{\"xaxis\":{\"backgroundcolor\":\"#E5ECF6\",\"gridcolor\":\"white\",\"linecolor\":\"white\",\"showbackground\":true,\"ticks\":\"\",\"zerolinecolor\":\"white\",\"gridwidth\":2},\"yaxis\":{\"backgroundcolor\":\"#E5ECF6\",\"gridcolor\":\"white\",\"linecolor\":\"white\",\"showbackground\":true,\"ticks\":\"\",\"zerolinecolor\":\"white\",\"gridwidth\":2},\"zaxis\":{\"backgroundcolor\":\"#E5ECF6\",\"gridcolor\":\"white\",\"linecolor\":\"white\",\"showbackground\":true,\"ticks\":\"\",\"zerolinecolor\":\"white\",\"gridwidth\":2}},\"shapedefaults\":{\"line\":{\"color\":\"#2a3f5f\"}},\"annotationdefaults\":{\"arrowcolor\":\"#2a3f5f\",\"arrowhead\":0,\"arrowwidth\":1},\"geo\":{\"bgcolor\":\"white\",\"landcolor\":\"#E5ECF6\",\"subunitcolor\":\"white\",\"showland\":true,\"showlakes\":true,\"lakecolor\":\"white\"},\"title\":{\"x\":0.05},\"mapbox\":{\"style\":\"light\"}}},\"xaxis\":{\"anchor\":\"y\",\"domain\":[0.0,1.0],\"scaleanchor\":\"y\",\"constrain\":\"domain\"},\"yaxis\":{\"anchor\":\"x\",\"domain\":[0.0,1.0],\"autorange\":\"reversed\",\"constrain\":\"domain\"},\"coloraxis\":{\"colorscale\":[[0.0,\"#0d0887\"],[0.1111111111111111,\"#46039f\"],[0.2222222222222222,\"#7201a8\"],[0.3333333333333333,\"#9c179e\"],[0.4444444444444444,\"#bd3786\"],[0.5555555555555556,\"#d8576b\"],[0.6666666666666666,\"#ed7953\"],[0.7777777777777778,\"#fb9f3a\"],[0.8888888888888888,\"#fdca26\"],[1.0,\"#f0f921\"]]},\"title\":{\"text\":\"Correlation Matrix of Freedom, Happiness, and Health Indicators\"},\"width\":1000,\"height\":500},                        {\"responsive\": true}                    ).then(function(){\n",
       "                            \n",
       "var gd = document.getElementById('8decadb0-462e-4cda-8760-88ad7f00e52b');\n",
       "var x = new MutationObserver(function (mutations, observer) {{\n",
       "        var display = window.getComputedStyle(gd).display;\n",
       "        if (!display || display === 'none') {{\n",
       "            console.log([gd, 'removed!']);\n",
       "            Plotly.purge(gd);\n",
       "            observer.disconnect();\n",
       "        }}\n",
       "}});\n",
       "\n",
       "// Listen for the removal of the full notebook cells\n",
       "var notebookContainer = gd.closest('#notebook-container');\n",
       "if (notebookContainer) {{\n",
       "    x.observe(notebookContainer, {childList: true});\n",
       "}}\n",
       "\n",
       "// Listen for the clearing of the current output cell\n",
       "var outputEl = gd.closest('.output');\n",
       "if (outputEl) {{\n",
       "    x.observe(outputEl, {childList: true});\n",
       "}}\n",
       "\n",
       "                        })                };                });            </script>        </div>"
      ]
     },
     "metadata": {},
     "output_type": "display_data"
    }
   ],
   "source": [
    "columns_to_use = [\"Human Freedom Score\", \"Economic Freedom Score\", \"Political Freedom Score\", \"Happiness Score\", \"Healthy life expectancy\", \"Perceptions of corruption\"]\n",
    "corr_matrix = data[columns_to_use].corr()\n",
    "\n",
    "\n",
    "fig_corr_matrix = px.imshow(corr_matrix,title='Correlation Matrix of Freedom, Happiness, and Health Indicators')\n",
    "fig_corr_matrix.update_layout(\n",
    "    width=1000,\n",
    "    height=500\n",
    ")\n",
    "fig_corr_matrix.show()"
   ]
  },
  {
   "cell_type": "code",
   "execution_count": 53,
   "metadata": {},
   "outputs": [
    {
     "data": {
      "application/vnd.plotly.v1+json": {
       "config": {
        "plotlyServerURL": "https://plot.ly"
       },
       "data": [
        {
         "dimensions": [
          {
           "label": "Happiness Score",
           "values": [
            4.719,
            5.211,
            null,
            6.086,
            4.559,
            7.228,
            7.246,
            5.208,
            null,
            6.199,
            4.456,
            null,
            5.323,
            6.923,
            null,
            4.883,
            5.082,
            5.779,
            5.386,
            3.488,
            6.3,
            null,
            5.011,
            4.587,
            3.775,
            null,
            4.7,
            5.044,
            7.278,
            3.083,
            4.35,
            6.444,
            5.191,
            6.125,
            3.973,
            5.718,
            4.944,
            4.812,
            4.796,
            4.696,
            4.418,
            null,
            7.167,
            5.718,
            4.944,
            4.812,
            4.796,
            4.696,
            4.418,
            5.432,
            6.046,
            6.852,
            7.6,
            null,
            5.425,
            6.028,
            4.166,
            6.253,
            5.893,
            4.212,
            4.286,
            null,
            7.769,
            6.592,
            4.799,
            4.516,
            4.519,
            6.985,
            4.996,
            5.287,
            6.436,
            4.534,
            null,
            null,
            3.597,
            5.86,
            5.718,
            4.944,
            4.812,
            4.796,
            4.696,
            4.418,
            5.758,
            7.494,
            4.015,
            5.192,
            4.548,
            4.437,
            7.021,
            7.139,
            6.223,
            5.89,
            5.886,
            4.906,
            5.809,
            4.509,
            5.895,
            6.021,
            5.261,
            5.718,
            4.944,
            4.812,
            4.796,
            4.696,
            4.418,
            5.94,
            5.197,
            3.802,
            3.975,
            5.525,
            6.149,
            7.09,
            3.933,
            3.41,
            5.339,
            4.39,
            6.726,
            4.49,
            5.888,
            6.595,
            5.529,
            5.285,
            5.523,
            5.208,
            4.466,
            4.36,
            4.639,
            4.913,
            7.488,
            7.307,
            6.105,
            5.265,
            4.628,
            5.265,
            4.628,
            5.274,
            7.554,
            null,
            5.653,
            6.321,
            null,
            5.743,
            5.697,
            5.631,
            6.182,
            5.693,
            6.374,
            6.07,
            5.648,
            3.334,
            6.375,
            4.681,
            6.1,
            5.603,
            null,
            4.374,
            6.262,
            6.198,
            6.118,
            4.668,
            4.722,
            6.354,
            4.366,
            null,
            null,
            7.343,
            7.48,
            3.462,
            6.446,
            5.467,
            3.231,
            6.008,
            null,
            4.085,
            6.192,
            4.461,
            5.373,
            4.189,
            4.332,
            6.825,
            7.054,
            6.892,
            6.293,
            4.707,
            5.175,
            3.38,
            4.107,
            3.663
           ]
          },
          {
           "label": "ef_government",
           "values": [
            7.914392576649189,
            4.49347202137394,
            8.052208698738351,
            6.5478855013395005,
            7.769870950014884,
            6.538491161587251,
            5.426613239301171,
            5.007234332425068,
            8.836840839878185,
            7.10616046185285,
            8.105720468023723,
            6.964655313351498,
            5.388496053053374,
            4.748736576374419,
            7.111722556062549,
            7.963811733933804,
            7.387839019531519,
            6.027890687610194,
            6.850712030316214,
            6.106443557804593,
            6.8284956723833945,
            6.666666666666667,
            7.351462161976507,
            7.095353685343346,
            6.349401680672268,
            7.593060105786184,
            9.20158467474183,
            7.232736358848716,
            6.321841595493783,
            7.20111160490662,
            8.603365511872322,
            7.819068680878345,
            5.020834577427702,
            7.025266395180959,
            6.355252100840336,
            7.668180637922745,
            7.668180637922745,
            7.668180637922745,
            7.668180637922745,
            7.668180637922745,
            7.668180637922745,
            6.6688546241384845,
            7.453989272548256,
            6.86731872094887,
            6.86731872094887,
            6.86731872094887,
            6.86731872094887,
            6.86731872094887,
            6.86731872094887,
            5.504224990268587,
            7.25002700753326,
            6.637021031300803,
            5.343283619169739,
            6.820527950310559,
            8.765538066997916,
            7.148050248437249,
            5.2884398010875575,
            8.46926526686969,
            6.601595413642296,
            5.86389405353422,
            6.227258718201176,
            6.660901472305544,
            5.1308903670460015,
            5.079722036498524,
            6.79399094406155,
            7.293935623406833,
            7.590750520916814,
            6.0008730565795805,
            8.517958086231767,
            5.413735385707417,
            9.227898301009777,
            6.057253151260504,
            7.911948114395621,
            3.9474690402476784,
            9.113672864241064,
            8.949764705882354,
            8.386882410184782,
            8.386882410184782,
            8.386882410184782,
            8.386882410184782,
            8.386882410184782,
            8.386882410184782,
            5.9244449659972975,
            6.048855322510476,
            7.580041272639846,
            8.1601872094887,
            6.654769743319671,
            4.934771369038079,
            6.686180076935406,
            6.4332207885879145,
            5.718832986055458,
            8.215555394865289,
            5.747943872932703,
            7.397703901724176,
            7.956236175669178,
            7.084612426441966,
            6.434307753073982,
            5.871116702477016,
            7.3317674106427315,
            7.212634623636065,
            7.212634623636065,
            7.212634623636065,
            7.212634623636065,
            7.212634623636065,
            7.212634623636065,
            6.404050065257711,
            8.123097691937812,
            5.204750658301469,
            7.147374733169935,
            4.98,
            7.656797563712132,
            5.69713482014059,
            7.703109381082133,
            6.315984784649555,
            7.043271449179128,
            6.396665502713346,
            6.944420259656996,
            7.228713235294117,
            7.905090078538227,
            8.249316637281614,
            7.819018352300048,
            7.334423751516956,
            6.41156512605042,
            6.693048840244545,
            6.755141826757951,
            7.344872220822934,
            6.96334438898175,
            8.10056610491608,
            5.096153733427975,
            6.716763183202436,
            6.244655462184873,
            6.641986066906327,
            6.641986066906327,
            8.70811639431208,
            8.70811639431208,
            7.08362188308566,
            5.059890229661347,
            4.7516189915521405,
            8.227939570186214,
            7.803474847159572,
            5.687146181445575,
            8.13394117647059,
            7.728770819499462,
            8.162487005701461,
            6.115690861630756,
            6.281709248276968,
            5.937786996847097,
            7.220314072768072,
            6.060830341400866,
            5.083671032445676,
            4.907235752066494,
            7.207464440272021,
            6.661789148902068,
            6.661789148902068,
            7.107135919217823,
            7.714441176470588,
            7.544697582030087,
            6.314940260572894,
            5.449309310100063,
            7.892500000000001,
            6.143962310809882,
            6.417766308703318,
            8.163623863714424,
            6.661717823369129,
            5.747513616421463,
            4.668378551965746,
            7.717781936207726,
            6.446893389508392,
            7.724416027647396,
            5.743550488860395,
            6.106958517932132,
            7.129171913997206,
            4.504509536784741,
            7.4264827009823,
            6.90865100071077,
            5.176545547811498,
            6.533271517871453,
            7.542273109243697,
            6.94771160671353,
            5.406459689052733,
            6.554639296590571,
            7.320837405261832,
            6.520619753623519,
            4.337428203496832,
            6.9552153361344535,
            8.267578063694865,
            6.578024179699128,
            5.628478361916974
           ]
          },
          {
           "label": "ef_gender",
           "values": [
            1,
            0.7058823529411765,
            0.8823529411764706,
            0.8823529411764706,
            1,
            1,
            1,
            0.8235294117647058,
            1,
            0.4705882352941176,
            0.7647058823529411,
            0.8823529411764706,
            0.8823529411764706,
            1,
            0.8823529411764706,
            0.7647058823529411,
            0.9411764705882352,
            1,
            0.8823529411764706,
            0.8823529411764706,
            1,
            0.7058823529411765,
            1,
            0.8235294117647058,
            0.8235294117647058,
            1,
            1,
            0.4705882352941176,
            1,
            0.7647058823529411,
            0.5294117647058824,
            0.8235294117647058,
            0.8823529411764706,
            0.9411764705882352,
            0.7058823529411765,
            0.7647058823529411,
            0.7647058823529411,
            0.7647058823529411,
            0.7647058823529411,
            0.7647058823529411,
            0.7647058823529411,
            0.5882352941176471,
            0.8823529411764706,
            0.8823529411764706,
            0.8823529411764706,
            0.8823529411764706,
            0.8823529411764706,
            0.8823529411764706,
            0.8823529411764706,
            1,
            0.8823529411764706,
            1,
            1,
            0.6470588235294118,
            1,
            1,
            0.4117647058823529,
            1,
            1,
            0.5294117647058824,
            0.8823529411764706,
            0.8823529411764706,
            1,
            1,
            0.4117647058823529,
            0.8823529411764706,
            1,
            1,
            0.9411764705882352,
            1,
            0.9411764705882352,
            0.8235294117647058,
            0.4117647058823529,
            0.9411764705882352,
            0.8235294117647058,
            0.9411764705882352,
            1,
            1,
            1,
            1,
            1,
            1,
            1,
            1,
            0.8823529411764706,
            0.8235294117647058,
            0.4117647058823529,
            0.4705882352941176,
            1,
            0.8823529411764706,
            1,
            0.9411764705882352,
            0.9411764705882352,
            0.4117647058823529,
            0.8823529411764706,
            0.8823529411764706,
            0.8823529411764706,
            0.4705882352941176,
            0.8823529411764706,
            1,
            1,
            1,
            1,
            1,
            1,
            1,
            0.8235294117647058,
            0.9411764705882352,
            1,
            0.7058823529411765,
            1,
            1,
            0.7647058823529411,
            0.8823529411764706,
            0.6470588235294118,
            0.6470588235294118,
            0.9411764705882352,
            0.4705882352941176,
            1,
            1,
            1,
            1,
            0.8235294117647058,
            0.7647058823529411,
            0.9411764705882352,
            0.8823529411764706,
            0.9411764705882352,
            0.9411764705882352,
            1,
            1,
            1,
            0.5294117647058824,
            0.5294117647058824,
            0.8235294117647058,
            0.8235294117647058,
            0.9411764705882352,
            1,
            0.4705882352941176,
            0.6470588235294118,
            0.9411764705882352,
            0.8235294117647058,
            1,
            1,
            0.8235294117647058,
            1,
            1,
            0.5294117647058824,
            1,
            0.8823529411764706,
            1,
            0.7058823529411765,
            0.6470588235294118,
            1,
            1,
            0.9411764705882352,
            0.9411764705882352,
            1,
            1,
            0.9411764705882352,
            0.6470588235294118,
            1,
            1,
            0.8823529411764706,
            0.2941176470588235,
            0.9411764705882352,
            1,
            1,
            0.4705882352941176,
            1,
            0.8823529411764706,
            0.8823529411764706,
            0.9411764705882352,
            1,
            1,
            0.9411764705882352,
            0.7058823529411765,
            0.9411764705882352,
            0.8235294117647058,
            0.8235294117647058,
            0.5882352941176471,
            1,
            1,
            0.9411764705882352,
            1,
            0.8823529411764706,
            0.4117647058823529,
            0.9411764705882352,
            1
           ]
          },
          {
           "label": "ef_legal",
           "values": [
            5.258757491689963,
            4.1422082580610695,
            3.667890825945221,
            4.7975476609758525,
            6.250505585339432,
            8.296988683127012,
            8.330700997632993,
            5.24111286439943,
            6.320795026480703,
            4.728228065955101,
            2.8736483507289856,
            5.794533825566639,
            5.657423425355415,
            7.445478460572353,
            5.045897661593664,
            4.574789594478258,
            5.93033692510428,
            3.922091504395261,
            4.268834187754029,
            6.111605533497208,
            5.1090839704264575,
            4.984731921891781,
            5.938530704717112,
            4.054106067677203,
            4.097359930481212,
            6.397208005399725,
            3.702686385798738,
            2.764192518887637,
            8.035536824103549,
            3.4628091613015526,
            2.68887649007495,
            6.623113106199391,
            5.1514098604026834,
            4.927195335918425,
            3.4800000000000004,
            2.689841384022707,
            2.689841384022707,
            2.689841384022707,
            2.689841384022707,
            2.689841384022707,
            2.689841384022707,
            2.9530672557775253,
            6.399241615196361,
            4.467732742058056,
            4.467732742058056,
            4.467732742058056,
            4.467732742058056,
            4.467732742058056,
            4.467732742058056,
            6.069863336041266,
            6.3160986034847,
            6.992208648459023,
            8.605796252086613,
            4.00921568627451,
            4.749735649427644,
            4.655373502138641,
            3.58034495263512,
            4.331459524252386,
            7.696341697928213,
            3.810476463402044,
            4.4548638094827,
            5.160571065417965,
            8.602986901482684,
            7.154802852664002,
            2.688558182587351,
            5.013637841102779,
            6.720674791756975,
            7.709181647885487,
            5.205447091214878,
            5.927943278073433,
            4.865090297444405,
            3.94178802465849,
            2.774040592606026,
            5.33156784884741,
            2.408066698553552,
            4.153854673148908,
            7.531857916991866,
            7.531857916991866,
            7.531857916991866,
            7.531857916991866,
            7.531857916991866,
            7.531857916991866,
            6.305296826669604,
            8.451374387369832,
            5.517044092316395,
            4.895132381253468,
            3.6007525738711386,
            3.180100501335078,
            7.68089644625452,
            6.083140960644192,
            6.472363236810601,
            5.754606729119606,
            7.665740227251912,
            4.302781097366405,
            5.581507054398319,
            4.9622069121927685,
            6.602218410775043,
            4.943297336577032,
            4.907736083430317,
            4.764904382345963,
            4.764904382345963,
            4.764904382345963,
            4.764904382345963,
            4.764904382345963,
            4.764904382345963,
            6.9950523766774335,
            4.231804023876879,
            5.211265553692325,
            4.290159925578637,
            3.472946933504644,
            7.1813593754215965,
            8.16734119752572,
            3.0169420333859884,
            4.807790246600227,
            5.834802209950095,
            3.4945318474392444,
            6.419534412896171,
            3.558801540679286,
            6.859303535886845,
            4.694573591571895,
            5.668547899677334,
            6.0443208209715,
            5.436204798197009,
            5.699474684718698,
            4.462468023404975,
            3.813683754503306,
            6.277622069755697,
            4.969448390060689,
            8.349726230637657,
            8.679973222497665,
            4.280716831197071,
            3.69375473972035,
            3.69375473972035,
            3.69770495054667,
            3.69770495054667,
            4.573261740837103,
            8.507389660102287,
            5.243832250352202,
            3.622415013743236,
            5.529820238688018,
            4.581816218818496,
            4.371504733843485,
            5.30761014003057,
            4.409038885593081,
            6.127137144263894,
            7.208440793810393,
            5.367534813497958,
            6.41409309214697,
            5.144406466787102,
            6.192757427584823,
            6.141654992754326,
            4.347678037052567,
            5.512129092228886,
            5.512129092228886,
            5.709401947649056,
            4.417633840023868,
            8.2755312963346,
            6.2570196276758905,
            6.6272203275092565,
            2.318464052287582,
            5.898749557015569,
            7.309351603759941,
            5.07433507814827,
            2.7368932718838512,
            4.4719478838618,
            7.872216698035411,
            8.678721430242115,
            3.026045488930663,
            7.104801268396467,
            4.747869641246007,
            5.350224667090009,
            4.918084358741504,
            3.3745789344449446,
            5.098196968776965,
            5.233695634628721,
            5.043184233132214,
            4.8502985958655085,
            4.469116572504459,
            4.93541496042662,
            5.94375874287339,
            7.692716227040677,
            7.644437587126622,
            5.839073435861533,
            2.441573127865991,
            4.983558986075879,
            2.7442017620825507,
            5.014832357645439,
            4.026722198613408
           ]
          },
          {
           "label": "ef_money",
           "values": [
            9.826979080174429,
            7.287095106246504,
            4.665603276648,
            3.879031118722267,
            9.51974477425814,
            9.554925163337035,
            9.42336414752316,
            7.291847982358467,
            8.255860360513687,
            9.337522141617828,
            6.9130467766800585,
            8.138482641553107,
            9.012653551718204,
            9.41399778308748,
            7.352248831886211,
            7.324091484507923,
            6.835498881501571,
            9.403035364746671,
            8.400046489646888,
            9.34223505428128,
            9.262210938827128,
            8.83666818397328,
            9.499403035378162,
            6.712105939999336,
            8.772094067272718,
            9.7668693937585,
            9.265953096119254,
            7.153698395147114,
            9.59912778225074,
            6.59770666503338,
            6.906439677147629,
            9.686109980384556,
            8.406503044866572,
            8.320903709001136,
            7.024031846318778,
            5.882172989091277,
            5.882172989091277,
            5.882172989091277,
            5.882172989091277,
            5.882172989091277,
            5.882172989091277,
            5.173896271025358,
            9.782642408121657,
            7.166738669422986,
            7.166738669422986,
            7.166738669422986,
            7.166738669422986,
            7.166738669422986,
            7.166738669422986,
            9.72030698290528,
            9.338532290710296,
            9.53934133545969,
            9.901594956910705,
            7.202986651462176,
            9.633624153225838,
            8.508586411578406,
            8.164629956055714,
            9.723761178787342,
            9.361638308531456,
            7.8552707015428895,
            5.948536754222644,
            7.138529550105324,
            9.386091204415662,
            9.413703315470189,
            6.62358634014832,
            9.20317152111955,
            9.223706773267878,
            9.409925306808072,
            6.283502935042856,
            9.298154500223196,
            9.61964792523707,
            7.301192332230145,
            6.919855349994014,
            8.304738498497704,
            6.952256422387611,
            9.309396642246348,
            9.60745521660707,
            9.60745521660707,
            9.60745521660707,
            9.60745521660707,
            9.60745521660707,
            9.60745521660707,
            9.433909764581738,
            9.621231372154307,
            8.153091350457533,
            9.662632999528984,
            5.939100669439263,
            7.820143208713799,
            9.466827831615424,
            9.7626957513004,
            9.405549313694952,
            9.27589604387939,
            9.808897086849448,
            9.904163189290117,
            9.27863918113372,
            9.401611038204956,
            9.698633628456438,
            8.232610291683274,
            9.442874912407513,
            7.5319869010031555,
            7.5319869010031555,
            7.5319869010031555,
            7.5319869010031555,
            7.5319869010031555,
            7.5319869010031555,
            9.309865199130993,
            9.528858877539284,
            8.097993051337115,
            8.319382518713402,
            7.807171842339318,
            9.32824796467862,
            9.300667470406909,
            7.969798261074698,
            6.994273622904176,
            8.414791586395243,
            7.1851616343048486,
            9.533611899951364,
            8.017969699474053,
            9.753287151428523,
            8.230087681603136,
            8.115102642936161,
            8.777749649796892,
            9.725295303699635,
            7.424318868659528,
            8.009398781713823,
            6.4933487851256615,
            6.697164184462156,
            6.666956649040286,
            9.259991183334428,
            9.668847587410244,
            9.54681545115468,
            7.1616974885898586,
            7.1616974885898586,
            8.731148542342847,
            8.731148542342847,
            8.336274968267926,
            9.350750823530888,
            8.642079067216535,
            6.420046131757513,
            9.50413178577782,
            6.619140400075092,
            9.497221110983334,
            9.717459990694294,
            9.558173543273416,
            8.374622541343463,
            9.439317201113676,
            8.421675516224932,
            9.3679984801539,
            9.31246834919044,
            9.30191182111646,
            8.710174670403156,
            7.106551661480305,
            8.356811499198882,
            8.356811499198882,
            9.26026324068321,
            7.102187283860394,
            9.75928021791004,
            9.315774726122925,
            9.575788542288883,
            6.659103022672055,
            8.242209154723609,
            9.45224267102741,
            7.988426972637047,
            1.943091710822872,
            7.87929465182474,
            9.683147738882266,
            9.874369043243998,
            6.049648509973773,
            9.738232818831564,
            8.940392352986503,
            8.36748562951531,
            8.584609892320595,
            8.717760604985385,
            7.214475044186399,
            9.255380682553636,
            6.7120879425090045,
            8.260802221456528,
            9.444137776178938,
            5.595327311473172,
            9.07405184327396,
            9.707107327533556,
            9.748028677519772,
            9.216420347013102,
            0.9449345936218932,
            6.892571102234293,
            8.727527196441635,
            9.029453706370472,
            1.4146785364922612
           ]
          },
          {
           "label": "ef_trade",
           "values": [
            8.230921222593553,
            2.549231459018942,
            5.406229629486642,
            5.975559494182014,
            8.525585950935806,
            7.952605905846455,
            8.448313503570635,
            7.236792247564661,
            5.401509808473472,
            8.267520769254084,
            5.757207922662095,
            6.738027587632372,
            6.18000423689776,
            8.385667287256531,
            5.834743964399881,
            6.1817363931437965,
            5.4007589238934495,
            7.015907640440243,
            7.811464538785636,
            7.935272329937506,
            6.99118477865729,
            7.210074994646036,
            8.337526262039418,
            6.3077419367903325,
            2.702274879225634,
            7.168270028784987,
            7.7224957717003235,
            5.123258066177589,
            7.692067032489946,
            4.779179459486304,
            5.068142872491787,
            8.157798777509806,
            6.712135381186055,
            6.574642798177505,
            7.129358755975038,
            5.428082612531845,
            5.428082612531845,
            5.428082612531845,
            5.428082612531845,
            5.428082612531845,
            5.428082612531845,
            4.898541492372304,
            8.087953616617265,
            5.454102103948053,
            5.454102103948053,
            5.454102103948053,
            5.454102103948053,
            5.454102103948053,
            5.454102103948053,
            8.333609717101208,
            8.638470028820182,
            8.434255549403968,
            8.774736124500121,
            6.953030096355922,
            8.197420951495609,
            6.770285430701696,
            6.244056925725634,
            7.846993269758211,
            8.680978270502838,
            6.000922627922269,
            5.64011521202118,
            5.5105552784266605,
            8.502249375480229,
            8.55947543233666,
            5.928013784303815,
            6.6697427246925765,
            9.115731462171697,
            8.335670063540878,
            6.468851647943188,
            8.135210880814768,
            8.294744120807131,
            5.530160764193378,
            5.848225555763549,
            5.764719488881449,
            7.804206687535064,
            6.842639101319967,
            9.555910399702222,
            9.555910399702222,
            9.555910399702222,
            9.555910399702222,
            9.555910399702222,
            9.555910399702222,
            8.392751737191148,
            7.784227226715485,
            5.860152405511316,
            7.021857920865866,
            3.4105890914242587,
            5.175960394306273,
            8.730446109289867,
            8.434961812102987,
            8.689500091791787,
            6.630127259900257,
            8.315043651678582,
            8.01857577604976,
            7.203878494773749,
            6.64112788987037,
            7.990920152606966,
            7.286071393995042,
            7.124135192587497,
            7.254094246009296,
            7.254094246009296,
            7.254094246009296,
            7.254094246009296,
            7.254094246009296,
            7.254094246009296,
            8.712081620806387,
            5.913066177834068,
            6.568097298920613,
            5.686529974486613,
            1.0026729042170917,
            8.680558582202014,
            8.204561488813216,
            6.690980797494902,
            5.003571228446856,
            7.628333764463597,
            6.0649752923054,
            8.74912076985525,
            6.703325993489877,
            8.533119693164862,
            7.713070028490085,
            7.572299033779311,
            7.039303312945899,
            8.51446697160069,
            6.899925628186025,
            6.909761326055715,
            4.888129651762187,
            6.171932485836429,
            6.554346552860021,
            8.958195950413582,
            8.764251187177656,
            8.13495705040582,
            4.960672490958984,
            4.960672490958984,
            6.061461956370255,
            6.061461956370255,
            7.744462261229224,
            7.91333420399906,
            7.607971455126962,
            5.670817591483577,
            8.926765932072712,
            6.748346672886608,
            7.200951205635959,
            8.698180344514121,
            7.071513668043595,
            8.01920868481531,
            8.789785548522557,
            8.363602674173016,
            8.845594850534736,
            6.817974971887944,
            7.916185205835797,
            7.383093929494624,
            6.811576342851296,
            7.943778881162967,
            7.943778881162967,
            8.341370101898995,
            5.855117232087178,
            9.439686997957864,
            8.361541072964432,
            8.214139669126206,
            8.76694239746794,
            6.503682022288484,
            8.4417527208623,
            5.46567264773327,
            2.4149112553587084,
            5.55451528434896,
            8.48882600164924,
            7.893538992162519,
            4.225711666709417,
            7.890089144526859,
            6.545691713178794,
            6.022118462736951,
            7.031911181205849,
            7.85061230290888,
            5.02517548672138,
            7.935360233758752,
            6.313162912811482,
            6.98018612073289,
            7.76470628178058,
            6.885740773412314,
            8.47568351656086,
            8.433408156942935,
            7.830031507418689,
            8.329118607893376,
            4.087179287339767,
            6.18397607261049,
            5.377538791779919,
            7.693313287670813,
            5.782428757856938
           ]
          },
          {
           "label": "ef_regulation",
           "values": [
            7.700885438046011,
            5.840164017697066,
            5.974672216889689,
            5.994264971283058,
            7.819774170946967,
            8.522243067819574,
            7.651273820389231,
            7.366151572996511,
            7.23211659993122,
            7.707362612478126,
            6.559703367102293,
            7.624462786635191,
            6.166868864280716,
            8.119238960628794,
            6.691672517516031,
            7.240734545267787,
            7.0469754662977815,
            5.234398246434778,
            7.388392882687697,
            7.848360076244915,
            4.805464939821509,
            8.782159033410453,
            7.809822758185853,
            7.057618834226765,
            6.414695630937875,
            7.332777612351156,
            7.00583479253644,
            6.697377179092753,
            8.62297006400779,
            4.7943038470406085,
            4.867346534631516,
            7.02830900780645,
            6.334523981459305,
            7.291507227909887,
            7.652048392292816,
            5.416882210089409,
            5.416882210089409,
            5.416882210089409,
            5.416882210089409,
            5.416882210089409,
            5.416882210089409,
            4.181182568251351,
            6.631761275738476,
            6.889005492505095,
            6.889005492505095,
            6.889005492505095,
            6.889005492505095,
            6.889005492505095,
            6.889005492505095,
            7.460736570666558,
            7.926096828146871,
            8.31331264602172,
            8.539323149884753,
            7.263190901281354,
            6.646133842521446,
            6.340445165614336,
            5.425883671256611,
            6.338417720582593,
            8.224881245379274,
            7.150196410551582,
            6.842295961092261,
            7.316857801376642,
            7.958895818508566,
            7.556318151656968,
            7.095451527368955,
            7.127114875806505,
            8.159666407148118,
            7.985994206731679,
            7.104060735151112,
            7.175459203544903,
            6.90393195683495,
            6.869810589031559,
            5.023096716736515,
            5.687224113446696,
            7.107564351660364,
            6.942183667527453,
            9.287207753319256,
            9.287207753319256,
            9.287207753319256,
            9.287207753319256,
            9.287207753319256,
            9.287207753319256,
            7.485904565954129,
            7.657500940541745,
            6.669678140229098,
            6.577035189801408,
            5.500165516693666,
            5.938161896755801,
            8.39613616304113,
            7.419096868170922,
            7.78080129882424,
            8.174051260903754,
            8.33675814506234,
            7.902228662637444,
            7.959518596611793,
            6.917307121825146,
            7.389147140886865,
            7.380227439838806,
            7.025507919488171,
            6.47859899961616,
            6.47859899961616,
            6.47859899961616,
            6.47859899961616,
            6.47859899961616,
            6.47859899961616,
            8.263957734714754,
            6.456325958528519,
            7.238032975319896,
            5.33635050313946,
            5.10063067407734,
            8.273870202171546,
            8.057081651016363,
            6.197243275599772,
            6.587275686000467,
            8.668824997675044,
            6.342790540330462,
            8.42908356272653,
            7.2166902593399485,
            7.9503988402860175,
            7.096735462084207,
            7.44198008966424,
            7.89411195500051,
            8.086435458491795,
            6.991636166702741,
            6.22916183923692,
            5.251206612722412,
            7.629787275707366,
            7.369010891216813,
            8.116903860801521,
            8.976067150615409,
            6.988862600579966,
            5.6426177612240345,
            5.6426177612240345,
            7.932378232462124,
            7.932378232462124,
            8.103909880524833,
            7.92805401978504,
            7.613795947059611,
            6.048558042934523,
            6.957388556331281,
            6.43073242646494,
            6.355637216322118,
            7.447549635425493,
            7.4798246818050975,
            7.440587522728088,
            7.126458976269382,
            7.465230029091084,
            7.518355292508008,
            6.829729302315111,
            7.767977287476467,
            7.286863257725417,
            5.829608671202944,
            7.575464047357658,
            7.575464047357658,
            7.713738602745104,
            4.184895682150992,
            9.006491934155873,
            7.817965053129221,
            7.279837829574602,
            5.599966340534256,
            7.159530541751546,
            7.838456967281304,
            6.886956311644279,
            4.127384690609307,
            6.364967664808436,
            7.806967009351016,
            8.26946983638827,
            4.254569157133646,
            8.048510646315925,
            6.713451691639137,
            7.034957898066593,
            6.881550187939395,
            5.150415436685848,
            5.589745126159978,
            6.771848992763149,
            6.464989093171535,
            5.817052589452803,
            7.835990583330897,
            6.613970861875086,
            7.506220917679474,
            8.43580707940532,
            8.682921495365475,
            6.983482865556614,
            2.5172352739020867,
            6.983629068500249,
            3.50263998757036,
            6.455084693306445,
            6.132667741206869
           ]
          }
         ],
         "domain": {
          "x": [
           0,
           1
          ],
          "y": [
           0,
           1
          ]
         },
         "line": {
          "color": [
           4.719,
           5.211,
           null,
           6.086,
           4.559,
           7.228,
           7.246,
           5.208,
           null,
           6.199,
           4.456,
           null,
           5.323,
           6.923,
           null,
           4.883,
           5.082,
           5.779,
           5.386,
           3.488,
           6.3,
           null,
           5.011,
           4.587,
           3.775,
           null,
           4.7,
           5.044,
           7.278,
           3.083,
           4.35,
           6.444,
           5.191,
           6.125,
           3.973,
           5.718,
           4.944,
           4.812,
           4.796,
           4.696,
           4.418,
           null,
           7.167,
           5.718,
           4.944,
           4.812,
           4.796,
           4.696,
           4.418,
           5.432,
           6.046,
           6.852,
           7.6,
           null,
           5.425,
           6.028,
           4.166,
           6.253,
           5.893,
           4.212,
           4.286,
           null,
           7.769,
           6.592,
           4.799,
           4.516,
           4.519,
           6.985,
           4.996,
           5.287,
           6.436,
           4.534,
           null,
           null,
           3.597,
           5.86,
           5.718,
           4.944,
           4.812,
           4.796,
           4.696,
           4.418,
           5.758,
           7.494,
           4.015,
           5.192,
           4.548,
           4.437,
           7.021,
           7.139,
           6.223,
           5.89,
           5.886,
           4.906,
           5.809,
           4.509,
           5.895,
           6.021,
           5.261,
           5.718,
           4.944,
           4.812,
           4.796,
           4.696,
           4.418,
           5.94,
           5.197,
           3.802,
           3.975,
           5.525,
           6.149,
           7.09,
           3.933,
           3.41,
           5.339,
           4.39,
           6.726,
           4.49,
           5.888,
           6.595,
           5.529,
           5.285,
           5.523,
           5.208,
           4.466,
           4.36,
           4.639,
           4.913,
           7.488,
           7.307,
           6.105,
           5.265,
           4.628,
           5.265,
           4.628,
           5.274,
           7.554,
           null,
           5.653,
           6.321,
           null,
           5.743,
           5.697,
           5.631,
           6.182,
           5.693,
           6.374,
           6.07,
           5.648,
           3.334,
           6.375,
           4.681,
           6.1,
           5.603,
           null,
           4.374,
           6.262,
           6.198,
           6.118,
           4.668,
           4.722,
           6.354,
           4.366,
           null,
           null,
           7.343,
           7.48,
           3.462,
           6.446,
           5.467,
           3.231,
           6.008,
           null,
           4.085,
           6.192,
           4.461,
           5.373,
           4.189,
           4.332,
           6.825,
           7.054,
           6.892,
           6.293,
           4.707,
           5.175,
           3.38,
           4.107,
           3.663
          ],
          "coloraxis": "coloraxis"
         },
         "name": "",
         "type": "parcoords"
        }
       ],
       "layout": {
        "coloraxis": {
         "colorbar": {
          "title": {
           "text": "Happiness Score"
          }
         },
         "colorscale": [
          [
           0,
           "rgb(0, 147, 146)"
          ],
          [
           0.16666666666666666,
           "rgb(114, 170, 161)"
          ],
          [
           0.3333333333333333,
           "rgb(177, 199, 179)"
          ],
          [
           0.5,
           "rgb(241, 234, 200)"
          ],
          [
           0.6666666666666666,
           "rgb(229, 185, 173)"
          ],
          [
           0.8333333333333334,
           "rgb(217, 137, 148)"
          ],
          [
           1,
           "rgb(208, 88, 126)"
          ]
         ]
        },
        "legend": {
         "tracegroupgap": 0
        },
        "template": {
         "data": {
          "bar": [
           {
            "error_x": {
             "color": "#2a3f5f"
            },
            "error_y": {
             "color": "#2a3f5f"
            },
            "marker": {
             "line": {
              "color": "#E5ECF6",
              "width": 0.5
             },
             "pattern": {
              "fillmode": "overlay",
              "size": 10,
              "solidity": 0.2
             }
            },
            "type": "bar"
           }
          ],
          "barpolar": [
           {
            "marker": {
             "line": {
              "color": "#E5ECF6",
              "width": 0.5
             },
             "pattern": {
              "fillmode": "overlay",
              "size": 10,
              "solidity": 0.2
             }
            },
            "type": "barpolar"
           }
          ],
          "carpet": [
           {
            "aaxis": {
             "endlinecolor": "#2a3f5f",
             "gridcolor": "white",
             "linecolor": "white",
             "minorgridcolor": "white",
             "startlinecolor": "#2a3f5f"
            },
            "baxis": {
             "endlinecolor": "#2a3f5f",
             "gridcolor": "white",
             "linecolor": "white",
             "minorgridcolor": "white",
             "startlinecolor": "#2a3f5f"
            },
            "type": "carpet"
           }
          ],
          "choropleth": [
           {
            "colorbar": {
             "outlinewidth": 0,
             "ticks": ""
            },
            "type": "choropleth"
           }
          ],
          "contour": [
           {
            "colorbar": {
             "outlinewidth": 0,
             "ticks": ""
            },
            "colorscale": [
             [
              0,
              "#0d0887"
             ],
             [
              0.1111111111111111,
              "#46039f"
             ],
             [
              0.2222222222222222,
              "#7201a8"
             ],
             [
              0.3333333333333333,
              "#9c179e"
             ],
             [
              0.4444444444444444,
              "#bd3786"
             ],
             [
              0.5555555555555556,
              "#d8576b"
             ],
             [
              0.6666666666666666,
              "#ed7953"
             ],
             [
              0.7777777777777778,
              "#fb9f3a"
             ],
             [
              0.8888888888888888,
              "#fdca26"
             ],
             [
              1,
              "#f0f921"
             ]
            ],
            "type": "contour"
           }
          ],
          "contourcarpet": [
           {
            "colorbar": {
             "outlinewidth": 0,
             "ticks": ""
            },
            "type": "contourcarpet"
           }
          ],
          "heatmap": [
           {
            "colorbar": {
             "outlinewidth": 0,
             "ticks": ""
            },
            "colorscale": [
             [
              0,
              "#0d0887"
             ],
             [
              0.1111111111111111,
              "#46039f"
             ],
             [
              0.2222222222222222,
              "#7201a8"
             ],
             [
              0.3333333333333333,
              "#9c179e"
             ],
             [
              0.4444444444444444,
              "#bd3786"
             ],
             [
              0.5555555555555556,
              "#d8576b"
             ],
             [
              0.6666666666666666,
              "#ed7953"
             ],
             [
              0.7777777777777778,
              "#fb9f3a"
             ],
             [
              0.8888888888888888,
              "#fdca26"
             ],
             [
              1,
              "#f0f921"
             ]
            ],
            "type": "heatmap"
           }
          ],
          "heatmapgl": [
           {
            "colorbar": {
             "outlinewidth": 0,
             "ticks": ""
            },
            "colorscale": [
             [
              0,
              "#0d0887"
             ],
             [
              0.1111111111111111,
              "#46039f"
             ],
             [
              0.2222222222222222,
              "#7201a8"
             ],
             [
              0.3333333333333333,
              "#9c179e"
             ],
             [
              0.4444444444444444,
              "#bd3786"
             ],
             [
              0.5555555555555556,
              "#d8576b"
             ],
             [
              0.6666666666666666,
              "#ed7953"
             ],
             [
              0.7777777777777778,
              "#fb9f3a"
             ],
             [
              0.8888888888888888,
              "#fdca26"
             ],
             [
              1,
              "#f0f921"
             ]
            ],
            "type": "heatmapgl"
           }
          ],
          "histogram": [
           {
            "marker": {
             "pattern": {
              "fillmode": "overlay",
              "size": 10,
              "solidity": 0.2
             }
            },
            "type": "histogram"
           }
          ],
          "histogram2d": [
           {
            "colorbar": {
             "outlinewidth": 0,
             "ticks": ""
            },
            "colorscale": [
             [
              0,
              "#0d0887"
             ],
             [
              0.1111111111111111,
              "#46039f"
             ],
             [
              0.2222222222222222,
              "#7201a8"
             ],
             [
              0.3333333333333333,
              "#9c179e"
             ],
             [
              0.4444444444444444,
              "#bd3786"
             ],
             [
              0.5555555555555556,
              "#d8576b"
             ],
             [
              0.6666666666666666,
              "#ed7953"
             ],
             [
              0.7777777777777778,
              "#fb9f3a"
             ],
             [
              0.8888888888888888,
              "#fdca26"
             ],
             [
              1,
              "#f0f921"
             ]
            ],
            "type": "histogram2d"
           }
          ],
          "histogram2dcontour": [
           {
            "colorbar": {
             "outlinewidth": 0,
             "ticks": ""
            },
            "colorscale": [
             [
              0,
              "#0d0887"
             ],
             [
              0.1111111111111111,
              "#46039f"
             ],
             [
              0.2222222222222222,
              "#7201a8"
             ],
             [
              0.3333333333333333,
              "#9c179e"
             ],
             [
              0.4444444444444444,
              "#bd3786"
             ],
             [
              0.5555555555555556,
              "#d8576b"
             ],
             [
              0.6666666666666666,
              "#ed7953"
             ],
             [
              0.7777777777777778,
              "#fb9f3a"
             ],
             [
              0.8888888888888888,
              "#fdca26"
             ],
             [
              1,
              "#f0f921"
             ]
            ],
            "type": "histogram2dcontour"
           }
          ],
          "mesh3d": [
           {
            "colorbar": {
             "outlinewidth": 0,
             "ticks": ""
            },
            "type": "mesh3d"
           }
          ],
          "parcoords": [
           {
            "line": {
             "colorbar": {
              "outlinewidth": 0,
              "ticks": ""
             }
            },
            "type": "parcoords"
           }
          ],
          "pie": [
           {
            "automargin": true,
            "type": "pie"
           }
          ],
          "scatter": [
           {
            "fillpattern": {
             "fillmode": "overlay",
             "size": 10,
             "solidity": 0.2
            },
            "type": "scatter"
           }
          ],
          "scatter3d": [
           {
            "line": {
             "colorbar": {
              "outlinewidth": 0,
              "ticks": ""
             }
            },
            "marker": {
             "colorbar": {
              "outlinewidth": 0,
              "ticks": ""
             }
            },
            "type": "scatter3d"
           }
          ],
          "scattercarpet": [
           {
            "marker": {
             "colorbar": {
              "outlinewidth": 0,
              "ticks": ""
             }
            },
            "type": "scattercarpet"
           }
          ],
          "scattergeo": [
           {
            "marker": {
             "colorbar": {
              "outlinewidth": 0,
              "ticks": ""
             }
            },
            "type": "scattergeo"
           }
          ],
          "scattergl": [
           {
            "marker": {
             "colorbar": {
              "outlinewidth": 0,
              "ticks": ""
             }
            },
            "type": "scattergl"
           }
          ],
          "scattermapbox": [
           {
            "marker": {
             "colorbar": {
              "outlinewidth": 0,
              "ticks": ""
             }
            },
            "type": "scattermapbox"
           }
          ],
          "scatterpolar": [
           {
            "marker": {
             "colorbar": {
              "outlinewidth": 0,
              "ticks": ""
             }
            },
            "type": "scatterpolar"
           }
          ],
          "scatterpolargl": [
           {
            "marker": {
             "colorbar": {
              "outlinewidth": 0,
              "ticks": ""
             }
            },
            "type": "scatterpolargl"
           }
          ],
          "scatterternary": [
           {
            "marker": {
             "colorbar": {
              "outlinewidth": 0,
              "ticks": ""
             }
            },
            "type": "scatterternary"
           }
          ],
          "surface": [
           {
            "colorbar": {
             "outlinewidth": 0,
             "ticks": ""
            },
            "colorscale": [
             [
              0,
              "#0d0887"
             ],
             [
              0.1111111111111111,
              "#46039f"
             ],
             [
              0.2222222222222222,
              "#7201a8"
             ],
             [
              0.3333333333333333,
              "#9c179e"
             ],
             [
              0.4444444444444444,
              "#bd3786"
             ],
             [
              0.5555555555555556,
              "#d8576b"
             ],
             [
              0.6666666666666666,
              "#ed7953"
             ],
             [
              0.7777777777777778,
              "#fb9f3a"
             ],
             [
              0.8888888888888888,
              "#fdca26"
             ],
             [
              1,
              "#f0f921"
             ]
            ],
            "type": "surface"
           }
          ],
          "table": [
           {
            "cells": {
             "fill": {
              "color": "#EBF0F8"
             },
             "line": {
              "color": "white"
             }
            },
            "header": {
             "fill": {
              "color": "#C8D4E3"
             },
             "line": {
              "color": "white"
             }
            },
            "type": "table"
           }
          ]
         },
         "layout": {
          "annotationdefaults": {
           "arrowcolor": "#2a3f5f",
           "arrowhead": 0,
           "arrowwidth": 1
          },
          "autotypenumbers": "strict",
          "coloraxis": {
           "colorbar": {
            "outlinewidth": 0,
            "ticks": ""
           }
          },
          "colorscale": {
           "diverging": [
            [
             0,
             "#8e0152"
            ],
            [
             0.1,
             "#c51b7d"
            ],
            [
             0.2,
             "#de77ae"
            ],
            [
             0.3,
             "#f1b6da"
            ],
            [
             0.4,
             "#fde0ef"
            ],
            [
             0.5,
             "#f7f7f7"
            ],
            [
             0.6,
             "#e6f5d0"
            ],
            [
             0.7,
             "#b8e186"
            ],
            [
             0.8,
             "#7fbc41"
            ],
            [
             0.9,
             "#4d9221"
            ],
            [
             1,
             "#276419"
            ]
           ],
           "sequential": [
            [
             0,
             "#0d0887"
            ],
            [
             0.1111111111111111,
             "#46039f"
            ],
            [
             0.2222222222222222,
             "#7201a8"
            ],
            [
             0.3333333333333333,
             "#9c179e"
            ],
            [
             0.4444444444444444,
             "#bd3786"
            ],
            [
             0.5555555555555556,
             "#d8576b"
            ],
            [
             0.6666666666666666,
             "#ed7953"
            ],
            [
             0.7777777777777778,
             "#fb9f3a"
            ],
            [
             0.8888888888888888,
             "#fdca26"
            ],
            [
             1,
             "#f0f921"
            ]
           ],
           "sequentialminus": [
            [
             0,
             "#0d0887"
            ],
            [
             0.1111111111111111,
             "#46039f"
            ],
            [
             0.2222222222222222,
             "#7201a8"
            ],
            [
             0.3333333333333333,
             "#9c179e"
            ],
            [
             0.4444444444444444,
             "#bd3786"
            ],
            [
             0.5555555555555556,
             "#d8576b"
            ],
            [
             0.6666666666666666,
             "#ed7953"
            ],
            [
             0.7777777777777778,
             "#fb9f3a"
            ],
            [
             0.8888888888888888,
             "#fdca26"
            ],
            [
             1,
             "#f0f921"
            ]
           ]
          },
          "colorway": [
           "#636efa",
           "#EF553B",
           "#00cc96",
           "#ab63fa",
           "#FFA15A",
           "#19d3f3",
           "#FF6692",
           "#B6E880",
           "#FF97FF",
           "#FECB52"
          ],
          "font": {
           "color": "#2a3f5f"
          },
          "geo": {
           "bgcolor": "white",
           "lakecolor": "white",
           "landcolor": "#E5ECF6",
           "showlakes": true,
           "showland": true,
           "subunitcolor": "white"
          },
          "hoverlabel": {
           "align": "left"
          },
          "hovermode": "closest",
          "mapbox": {
           "style": "light"
          },
          "paper_bgcolor": "white",
          "plot_bgcolor": "#E5ECF6",
          "polar": {
           "angularaxis": {
            "gridcolor": "white",
            "linecolor": "white",
            "ticks": ""
           },
           "bgcolor": "#E5ECF6",
           "radialaxis": {
            "gridcolor": "white",
            "linecolor": "white",
            "ticks": ""
           }
          },
          "scene": {
           "xaxis": {
            "backgroundcolor": "#E5ECF6",
            "gridcolor": "white",
            "gridwidth": 2,
            "linecolor": "white",
            "showbackground": true,
            "ticks": "",
            "zerolinecolor": "white"
           },
           "yaxis": {
            "backgroundcolor": "#E5ECF6",
            "gridcolor": "white",
            "gridwidth": 2,
            "linecolor": "white",
            "showbackground": true,
            "ticks": "",
            "zerolinecolor": "white"
           },
           "zaxis": {
            "backgroundcolor": "#E5ECF6",
            "gridcolor": "white",
            "gridwidth": 2,
            "linecolor": "white",
            "showbackground": true,
            "ticks": "",
            "zerolinecolor": "white"
           }
          },
          "shapedefaults": {
           "line": {
            "color": "#2a3f5f"
           }
          },
          "ternary": {
           "aaxis": {
            "gridcolor": "white",
            "linecolor": "white",
            "ticks": ""
           },
           "baxis": {
            "gridcolor": "white",
            "linecolor": "white",
            "ticks": ""
           },
           "bgcolor": "#E5ECF6",
           "caxis": {
            "gridcolor": "white",
            "linecolor": "white",
            "ticks": ""
           }
          },
          "title": {
           "x": 0.05
          },
          "xaxis": {
           "automargin": true,
           "gridcolor": "white",
           "linecolor": "white",
           "ticks": "",
           "title": {
            "standoff": 15
           },
           "zerolinecolor": "white",
           "zerolinewidth": 2
          },
          "yaxis": {
           "automargin": true,
           "gridcolor": "white",
           "linecolor": "white",
           "ticks": "",
           "title": {
            "standoff": 15
           },
           "zerolinecolor": "white",
           "zerolinewidth": 2
          }
         }
        },
        "title": {
         "text": "Economic Freedom Dimensions and Happiness"
        }
       }
      },
      "text/html": [
       "<div>                            <div id=\"84df6c5e-62a5-464b-acc5-d836dbd7b7b3\" class=\"plotly-graph-div\" style=\"height:525px; width:100%;\"></div>            <script type=\"text/javascript\">                require([\"plotly\"], function(Plotly) {                    window.PLOTLYENV=window.PLOTLYENV || {};                                    if (document.getElementById(\"84df6c5e-62a5-464b-acc5-d836dbd7b7b3\")) {                    Plotly.newPlot(                        \"84df6c5e-62a5-464b-acc5-d836dbd7b7b3\",                        [{\"dimensions\":[{\"label\":\"Happiness Score\",\"values\":[4.719,5.211,null,6.086,4.559,7.228,7.246,5.208,null,6.199,4.456,null,5.323,6.923,null,4.883,5.082,5.779,5.386,3.488,6.3,null,5.011,4.587,3.775,null,4.7,5.044,7.278,3.083,4.35,6.444,5.191,6.125,3.973,5.718,4.944,4.812,4.796,4.696,4.418,null,7.167,5.718,4.944,4.812,4.796,4.696,4.418,5.432,6.046,6.852,7.6,null,5.425,6.028,4.166,6.253,5.893,4.212,4.286,null,7.769,6.592,4.799,4.516,4.519,6.985,4.996,5.287,6.436,4.534,null,null,3.597,5.86,5.718,4.944,4.812,4.796,4.696,4.418,5.758,7.494,4.015,5.192,4.548,4.437,7.021,7.139,6.223,5.89,5.886,4.906,5.809,4.509,5.895,6.021,5.261,5.718,4.944,4.812,4.796,4.696,4.418,5.94,5.197,3.802,3.975,5.525,6.149,7.09,3.933,3.41,5.339,4.39,6.726,4.49,5.888,6.595,5.529,5.285,5.523,5.208,4.466,4.36,4.639,4.913,7.488,7.307,6.105,5.265,4.628,5.265,4.628,5.274,7.554,null,5.653,6.321,null,5.743,5.697,5.631,6.182,5.693,6.374,6.07,5.648,3.334,6.375,4.681,6.1,5.603,null,4.374,6.262,6.198,6.118,4.668,4.722,6.354,4.366,null,null,7.343,7.48,3.462,6.446,5.467,3.231,6.008,null,4.085,6.192,4.461,5.373,4.189,4.332,6.825,7.054,6.892,6.293,4.707,5.175,3.38,4.107,3.663]},{\"label\":\"ef_government\",\"values\":[7.914392576649189,4.49347202137394,8.052208698738351,6.5478855013395005,7.769870950014884,6.538491161587251,5.426613239301171,5.007234332425068,8.836840839878185,7.10616046185285,8.105720468023723,6.964655313351498,5.388496053053374,4.748736576374419,7.111722556062549,7.963811733933804,7.387839019531519,6.027890687610194,6.850712030316214,6.106443557804593,6.8284956723833945,6.666666666666667,7.351462161976507,7.095353685343346,6.349401680672268,7.593060105786184,9.20158467474183,7.232736358848716,6.321841595493783,7.20111160490662,8.603365511872322,7.819068680878345,5.020834577427702,7.025266395180959,6.355252100840336,7.668180637922745,7.668180637922745,7.668180637922745,7.668180637922745,7.668180637922745,7.668180637922745,6.6688546241384845,7.453989272548256,6.86731872094887,6.86731872094887,6.86731872094887,6.86731872094887,6.86731872094887,6.86731872094887,5.504224990268587,7.25002700753326,6.637021031300803,5.343283619169739,6.820527950310559,8.765538066997916,7.148050248437249,5.2884398010875575,8.46926526686969,6.601595413642296,5.86389405353422,6.227258718201176,6.660901472305544,5.1308903670460015,5.079722036498524,6.79399094406155,7.293935623406833,7.590750520916814,6.0008730565795805,8.517958086231767,5.413735385707417,9.227898301009777,6.057253151260504,7.911948114395621,3.9474690402476784,9.113672864241064,8.949764705882354,8.386882410184782,8.386882410184782,8.386882410184782,8.386882410184782,8.386882410184782,8.386882410184782,5.9244449659972975,6.048855322510476,7.580041272639846,8.1601872094887,6.654769743319671,4.934771369038079,6.686180076935406,6.4332207885879145,5.718832986055458,8.215555394865289,5.747943872932703,7.397703901724176,7.956236175669178,7.084612426441966,6.434307753073982,5.871116702477016,7.3317674106427315,7.212634623636065,7.212634623636065,7.212634623636065,7.212634623636065,7.212634623636065,7.212634623636065,6.404050065257711,8.123097691937812,5.204750658301469,7.147374733169935,4.98,7.656797563712132,5.69713482014059,7.703109381082133,6.315984784649555,7.043271449179128,6.396665502713346,6.944420259656996,7.228713235294117,7.905090078538227,8.249316637281614,7.819018352300048,7.334423751516956,6.41156512605042,6.693048840244545,6.755141826757951,7.344872220822934,6.96334438898175,8.10056610491608,5.096153733427975,6.716763183202436,6.244655462184873,6.641986066906327,6.641986066906327,8.70811639431208,8.70811639431208,7.08362188308566,5.059890229661347,4.7516189915521405,8.227939570186214,7.803474847159572,5.687146181445575,8.13394117647059,7.728770819499462,8.162487005701461,6.115690861630756,6.281709248276968,5.937786996847097,7.220314072768072,6.060830341400866,5.083671032445676,4.907235752066494,7.207464440272021,6.661789148902068,6.661789148902068,7.107135919217823,7.714441176470588,7.544697582030087,6.314940260572894,5.449309310100063,7.892500000000001,6.143962310809882,6.417766308703318,8.163623863714424,6.661717823369129,5.747513616421463,4.668378551965746,7.717781936207726,6.446893389508392,7.724416027647396,5.743550488860395,6.106958517932132,7.129171913997206,4.504509536784741,7.4264827009823,6.90865100071077,5.176545547811498,6.533271517871453,7.542273109243697,6.94771160671353,5.406459689052733,6.554639296590571,7.320837405261832,6.520619753623519,4.337428203496832,6.9552153361344535,8.267578063694865,6.578024179699128,5.628478361916974]},{\"label\":\"ef_gender\",\"values\":[1.0,0.7058823529411765,0.8823529411764706,0.8823529411764706,1.0,1.0,1.0,0.8235294117647058,1.0,0.4705882352941176,0.7647058823529411,0.8823529411764706,0.8823529411764706,1.0,0.8823529411764706,0.7647058823529411,0.9411764705882352,1.0,0.8823529411764706,0.8823529411764706,1.0,0.7058823529411765,1.0,0.8235294117647058,0.8235294117647058,1.0,1.0,0.4705882352941176,1.0,0.7647058823529411,0.5294117647058824,0.8235294117647058,0.8823529411764706,0.9411764705882352,0.7058823529411765,0.7647058823529411,0.7647058823529411,0.7647058823529411,0.7647058823529411,0.7647058823529411,0.7647058823529411,0.5882352941176471,0.8823529411764706,0.8823529411764706,0.8823529411764706,0.8823529411764706,0.8823529411764706,0.8823529411764706,0.8823529411764706,1.0,0.8823529411764706,1.0,1.0,0.6470588235294118,1.0,1.0,0.4117647058823529,1.0,1.0,0.5294117647058824,0.8823529411764706,0.8823529411764706,1.0,1.0,0.4117647058823529,0.8823529411764706,1.0,1.0,0.9411764705882352,1.0,0.9411764705882352,0.8235294117647058,0.4117647058823529,0.9411764705882352,0.8235294117647058,0.9411764705882352,1.0,1.0,1.0,1.0,1.0,1.0,1.0,1.0,0.8823529411764706,0.8235294117647058,0.4117647058823529,0.4705882352941176,1.0,0.8823529411764706,1.0,0.9411764705882352,0.9411764705882352,0.4117647058823529,0.8823529411764706,0.8823529411764706,0.8823529411764706,0.4705882352941176,0.8823529411764706,1.0,1.0,1.0,1.0,1.0,1.0,1.0,0.8235294117647058,0.9411764705882352,1.0,0.7058823529411765,1.0,1.0,0.7647058823529411,0.8823529411764706,0.6470588235294118,0.6470588235294118,0.9411764705882352,0.4705882352941176,1.0,1.0,1.0,1.0,0.8235294117647058,0.7647058823529411,0.9411764705882352,0.8823529411764706,0.9411764705882352,0.9411764705882352,1.0,1.0,1.0,0.5294117647058824,0.5294117647058824,0.8235294117647058,0.8235294117647058,0.9411764705882352,1.0,0.4705882352941176,0.6470588235294118,0.9411764705882352,0.8235294117647058,1.0,1.0,0.8235294117647058,1.0,1.0,0.5294117647058824,1.0,0.8823529411764706,1.0,0.7058823529411765,0.6470588235294118,1.0,1.0,0.9411764705882352,0.9411764705882352,1.0,1.0,0.9411764705882352,0.6470588235294118,1.0,1.0,0.8823529411764706,0.2941176470588235,0.9411764705882352,1.0,1.0,0.4705882352941176,1.0,0.8823529411764706,0.8823529411764706,0.9411764705882352,1.0,1.0,0.9411764705882352,0.7058823529411765,0.9411764705882352,0.8235294117647058,0.8235294117647058,0.5882352941176471,1.0,1.0,0.9411764705882352,1.0,0.8823529411764706,0.4117647058823529,0.9411764705882352,1.0]},{\"label\":\"ef_legal\",\"values\":[5.258757491689963,4.1422082580610695,3.667890825945221,4.7975476609758525,6.250505585339432,8.296988683127012,8.330700997632993,5.24111286439943,6.320795026480703,4.728228065955101,2.8736483507289856,5.794533825566639,5.657423425355415,7.445478460572353,5.045897661593664,4.574789594478258,5.93033692510428,3.922091504395261,4.268834187754029,6.111605533497208,5.1090839704264575,4.984731921891781,5.938530704717112,4.054106067677203,4.097359930481212,6.397208005399725,3.702686385798738,2.764192518887637,8.035536824103549,3.4628091613015526,2.68887649007495,6.623113106199391,5.1514098604026834,4.927195335918425,3.4800000000000004,2.689841384022707,2.689841384022707,2.689841384022707,2.689841384022707,2.689841384022707,2.689841384022707,2.9530672557775253,6.399241615196361,4.467732742058056,4.467732742058056,4.467732742058056,4.467732742058056,4.467732742058056,4.467732742058056,6.069863336041266,6.3160986034847,6.992208648459023,8.605796252086613,4.00921568627451,4.749735649427644,4.655373502138641,3.58034495263512,4.331459524252386,7.696341697928213,3.810476463402044,4.4548638094827,5.160571065417965,8.602986901482684,7.154802852664002,2.688558182587351,5.013637841102779,6.720674791756975,7.709181647885487,5.205447091214878,5.927943278073433,4.865090297444405,3.94178802465849,2.774040592606026,5.33156784884741,2.408066698553552,4.153854673148908,7.531857916991866,7.531857916991866,7.531857916991866,7.531857916991866,7.531857916991866,7.531857916991866,6.305296826669604,8.451374387369832,5.517044092316395,4.895132381253468,3.6007525738711386,3.180100501335078,7.68089644625452,6.083140960644192,6.472363236810601,5.754606729119606,7.665740227251912,4.302781097366405,5.581507054398319,4.9622069121927685,6.602218410775043,4.943297336577032,4.907736083430317,4.764904382345963,4.764904382345963,4.764904382345963,4.764904382345963,4.764904382345963,4.764904382345963,6.9950523766774335,4.231804023876879,5.211265553692325,4.290159925578637,3.472946933504644,7.1813593754215965,8.16734119752572,3.0169420333859884,4.807790246600227,5.834802209950095,3.4945318474392444,6.419534412896171,3.558801540679286,6.859303535886845,4.694573591571895,5.668547899677334,6.0443208209715,5.436204798197009,5.699474684718698,4.462468023404975,3.813683754503306,6.277622069755697,4.969448390060689,8.349726230637657,8.679973222497665,4.280716831197071,3.69375473972035,3.69375473972035,3.69770495054667,3.69770495054667,4.573261740837103,8.507389660102287,5.243832250352202,3.622415013743236,5.529820238688018,4.581816218818496,4.371504733843485,5.30761014003057,4.409038885593081,6.127137144263894,7.208440793810393,5.367534813497958,6.41409309214697,5.144406466787102,6.192757427584823,6.141654992754326,4.347678037052567,5.512129092228886,5.512129092228886,5.709401947649056,4.417633840023868,8.2755312963346,6.2570196276758905,6.6272203275092565,2.318464052287582,5.898749557015569,7.309351603759941,5.07433507814827,2.7368932718838512,4.4719478838618,7.872216698035411,8.678721430242115,3.026045488930663,7.104801268396467,4.747869641246007,5.350224667090009,4.918084358741504,3.3745789344449446,5.098196968776965,5.233695634628721,5.043184233132214,4.8502985958655085,4.469116572504459,4.93541496042662,5.94375874287339,7.692716227040677,7.644437587126622,5.839073435861533,2.441573127865991,4.983558986075879,2.7442017620825507,5.014832357645439,4.026722198613408]},{\"label\":\"ef_money\",\"values\":[9.826979080174429,7.287095106246504,4.665603276648,3.879031118722267,9.51974477425814,9.554925163337035,9.42336414752316,7.291847982358467,8.255860360513687,9.337522141617828,6.9130467766800585,8.138482641553107,9.012653551718204,9.41399778308748,7.352248831886211,7.324091484507923,6.835498881501571,9.403035364746671,8.400046489646888,9.34223505428128,9.262210938827128,8.83666818397328,9.499403035378162,6.712105939999336,8.772094067272718,9.7668693937585,9.265953096119254,7.153698395147114,9.59912778225074,6.59770666503338,6.906439677147629,9.686109980384556,8.406503044866572,8.320903709001136,7.024031846318778,5.882172989091277,5.882172989091277,5.882172989091277,5.882172989091277,5.882172989091277,5.882172989091277,5.173896271025358,9.782642408121657,7.166738669422986,7.166738669422986,7.166738669422986,7.166738669422986,7.166738669422986,7.166738669422986,9.72030698290528,9.338532290710296,9.53934133545969,9.901594956910705,7.202986651462176,9.633624153225838,8.508586411578406,8.164629956055714,9.723761178787342,9.361638308531456,7.8552707015428895,5.948536754222644,7.138529550105324,9.386091204415662,9.413703315470189,6.62358634014832,9.20317152111955,9.223706773267878,9.409925306808072,6.283502935042856,9.298154500223196,9.61964792523707,7.301192332230145,6.919855349994014,8.304738498497704,6.952256422387611,9.309396642246348,9.60745521660707,9.60745521660707,9.60745521660707,9.60745521660707,9.60745521660707,9.60745521660707,9.433909764581738,9.621231372154307,8.153091350457533,9.662632999528984,5.939100669439263,7.820143208713799,9.466827831615424,9.7626957513004,9.405549313694952,9.27589604387939,9.808897086849448,9.904163189290117,9.27863918113372,9.401611038204956,9.698633628456438,8.232610291683274,9.442874912407513,7.5319869010031555,7.5319869010031555,7.5319869010031555,7.5319869010031555,7.5319869010031555,7.5319869010031555,9.309865199130993,9.528858877539284,8.097993051337115,8.319382518713402,7.807171842339318,9.32824796467862,9.300667470406909,7.969798261074698,6.994273622904176,8.414791586395243,7.1851616343048486,9.533611899951364,8.017969699474053,9.753287151428523,8.230087681603136,8.115102642936161,8.777749649796892,9.725295303699635,7.424318868659528,8.009398781713823,6.4933487851256615,6.697164184462156,6.666956649040286,9.259991183334428,9.668847587410244,9.54681545115468,7.1616974885898586,7.1616974885898586,8.731148542342847,8.731148542342847,8.336274968267926,9.350750823530888,8.642079067216535,6.420046131757513,9.50413178577782,6.619140400075092,9.497221110983334,9.717459990694294,9.558173543273416,8.374622541343463,9.439317201113676,8.421675516224932,9.3679984801539,9.31246834919044,9.30191182111646,8.710174670403156,7.106551661480305,8.356811499198882,8.356811499198882,9.26026324068321,7.102187283860394,9.75928021791004,9.315774726122925,9.575788542288883,6.659103022672055,8.242209154723609,9.45224267102741,7.988426972637047,1.943091710822872,7.87929465182474,9.683147738882266,9.874369043243998,6.049648509973773,9.738232818831564,8.940392352986503,8.36748562951531,8.584609892320595,8.717760604985385,7.214475044186399,9.255380682553636,6.7120879425090045,8.260802221456528,9.444137776178938,5.595327311473172,9.07405184327396,9.707107327533556,9.748028677519772,9.216420347013102,0.9449345936218932,6.892571102234293,8.727527196441635,9.029453706370472,1.4146785364922612]},{\"label\":\"ef_trade\",\"values\":[8.230921222593553,2.549231459018942,5.406229629486642,5.975559494182014,8.525585950935806,7.952605905846455,8.448313503570635,7.236792247564661,5.401509808473472,8.267520769254084,5.757207922662095,6.738027587632372,6.18000423689776,8.385667287256531,5.834743964399881,6.1817363931437965,5.4007589238934495,7.015907640440243,7.811464538785636,7.935272329937506,6.99118477865729,7.210074994646036,8.337526262039418,6.3077419367903325,2.702274879225634,7.168270028784987,7.7224957717003235,5.123258066177589,7.692067032489946,4.779179459486304,5.068142872491787,8.157798777509806,6.712135381186055,6.574642798177505,7.129358755975038,5.428082612531845,5.428082612531845,5.428082612531845,5.428082612531845,5.428082612531845,5.428082612531845,4.898541492372304,8.087953616617265,5.454102103948053,5.454102103948053,5.454102103948053,5.454102103948053,5.454102103948053,5.454102103948053,8.333609717101208,8.638470028820182,8.434255549403968,8.774736124500121,6.953030096355922,8.197420951495609,6.770285430701696,6.244056925725634,7.846993269758211,8.680978270502838,6.000922627922269,5.64011521202118,5.5105552784266605,8.502249375480229,8.55947543233666,5.928013784303815,6.6697427246925765,9.115731462171697,8.335670063540878,6.468851647943188,8.135210880814768,8.294744120807131,5.530160764193378,5.848225555763549,5.764719488881449,7.804206687535064,6.842639101319967,9.555910399702222,9.555910399702222,9.555910399702222,9.555910399702222,9.555910399702222,9.555910399702222,8.392751737191148,7.784227226715485,5.860152405511316,7.021857920865866,3.4105890914242587,5.175960394306273,8.730446109289867,8.434961812102987,8.689500091791787,6.630127259900257,8.315043651678582,8.01857577604976,7.203878494773749,6.64112788987037,7.990920152606966,7.286071393995042,7.124135192587497,7.254094246009296,7.254094246009296,7.254094246009296,7.254094246009296,7.254094246009296,7.254094246009296,8.712081620806387,5.913066177834068,6.568097298920613,5.686529974486613,1.0026729042170917,8.680558582202014,8.204561488813216,6.690980797494902,5.003571228446856,7.628333764463597,6.0649752923054,8.74912076985525,6.703325993489877,8.533119693164862,7.713070028490085,7.572299033779311,7.039303312945899,8.51446697160069,6.899925628186025,6.909761326055715,4.888129651762187,6.171932485836429,6.554346552860021,8.958195950413582,8.764251187177656,8.13495705040582,4.960672490958984,4.960672490958984,6.061461956370255,6.061461956370255,7.744462261229224,7.91333420399906,7.607971455126962,5.670817591483577,8.926765932072712,6.748346672886608,7.200951205635959,8.698180344514121,7.071513668043595,8.01920868481531,8.789785548522557,8.363602674173016,8.845594850534736,6.817974971887944,7.916185205835797,7.383093929494624,6.811576342851296,7.943778881162967,7.943778881162967,8.341370101898995,5.855117232087178,9.439686997957864,8.361541072964432,8.214139669126206,8.76694239746794,6.503682022288484,8.4417527208623,5.46567264773327,2.4149112553587084,5.55451528434896,8.48882600164924,7.893538992162519,4.225711666709417,7.890089144526859,6.545691713178794,6.022118462736951,7.031911181205849,7.85061230290888,5.02517548672138,7.935360233758752,6.313162912811482,6.98018612073289,7.76470628178058,6.885740773412314,8.47568351656086,8.433408156942935,7.830031507418689,8.329118607893376,4.087179287339767,6.18397607261049,5.377538791779919,7.693313287670813,5.782428757856938]},{\"label\":\"ef_regulation\",\"values\":[7.700885438046011,5.840164017697066,5.974672216889689,5.994264971283058,7.819774170946967,8.522243067819574,7.651273820389231,7.366151572996511,7.23211659993122,7.707362612478126,6.559703367102293,7.624462786635191,6.166868864280716,8.119238960628794,6.691672517516031,7.240734545267787,7.0469754662977815,5.234398246434778,7.388392882687697,7.848360076244915,4.805464939821509,8.782159033410453,7.809822758185853,7.057618834226765,6.414695630937875,7.332777612351156,7.00583479253644,6.697377179092753,8.62297006400779,4.7943038470406085,4.867346534631516,7.02830900780645,6.334523981459305,7.291507227909887,7.652048392292816,5.416882210089409,5.416882210089409,5.416882210089409,5.416882210089409,5.416882210089409,5.416882210089409,4.181182568251351,6.631761275738476,6.889005492505095,6.889005492505095,6.889005492505095,6.889005492505095,6.889005492505095,6.889005492505095,7.460736570666558,7.926096828146871,8.31331264602172,8.539323149884753,7.263190901281354,6.646133842521446,6.340445165614336,5.425883671256611,6.338417720582593,8.224881245379274,7.150196410551582,6.842295961092261,7.316857801376642,7.958895818508566,7.556318151656968,7.095451527368955,7.127114875806505,8.159666407148118,7.985994206731679,7.104060735151112,7.175459203544903,6.90393195683495,6.869810589031559,5.023096716736515,5.687224113446696,7.107564351660364,6.942183667527453,9.287207753319256,9.287207753319256,9.287207753319256,9.287207753319256,9.287207753319256,9.287207753319256,7.485904565954129,7.657500940541745,6.669678140229098,6.577035189801408,5.500165516693666,5.938161896755801,8.39613616304113,7.419096868170922,7.78080129882424,8.174051260903754,8.33675814506234,7.902228662637444,7.959518596611793,6.917307121825146,7.389147140886865,7.380227439838806,7.025507919488171,6.47859899961616,6.47859899961616,6.47859899961616,6.47859899961616,6.47859899961616,6.47859899961616,8.263957734714754,6.456325958528519,7.238032975319896,5.33635050313946,5.10063067407734,8.273870202171546,8.057081651016363,6.197243275599772,6.587275686000467,8.668824997675044,6.342790540330462,8.42908356272653,7.2166902593399485,7.9503988402860175,7.096735462084207,7.44198008966424,7.89411195500051,8.086435458491795,6.991636166702741,6.22916183923692,5.251206612722412,7.629787275707366,7.369010891216813,8.116903860801521,8.976067150615409,6.988862600579966,5.6426177612240345,5.6426177612240345,7.932378232462124,7.932378232462124,8.103909880524833,7.92805401978504,7.613795947059611,6.048558042934523,6.957388556331281,6.43073242646494,6.355637216322118,7.447549635425493,7.4798246818050975,7.440587522728088,7.126458976269382,7.465230029091084,7.518355292508008,6.829729302315111,7.767977287476467,7.286863257725417,5.829608671202944,7.575464047357658,7.575464047357658,7.713738602745104,4.184895682150992,9.006491934155873,7.817965053129221,7.279837829574602,5.599966340534256,7.159530541751546,7.838456967281304,6.886956311644279,4.127384690609307,6.364967664808436,7.806967009351016,8.26946983638827,4.254569157133646,8.048510646315925,6.713451691639137,7.034957898066593,6.881550187939395,5.150415436685848,5.589745126159978,6.771848992763149,6.464989093171535,5.817052589452803,7.835990583330897,6.613970861875086,7.506220917679474,8.43580707940532,8.682921495365475,6.983482865556614,2.5172352739020867,6.983629068500249,3.50263998757036,6.455084693306445,6.132667741206869]}],\"domain\":{\"x\":[0.0,1.0],\"y\":[0.0,1.0]},\"line\":{\"color\":[4.719,5.211,null,6.086,4.559,7.228,7.246,5.208,null,6.199,4.456,null,5.323,6.923,null,4.883,5.082,5.779,5.386,3.488,6.3,null,5.011,4.587,3.775,null,4.7,5.044,7.278,3.083,4.35,6.444,5.191,6.125,3.973,5.718,4.944,4.812,4.796,4.696,4.418,null,7.167,5.718,4.944,4.812,4.796,4.696,4.418,5.432,6.046,6.852,7.6,null,5.425,6.028,4.166,6.253,5.893,4.212,4.286,null,7.769,6.592,4.799,4.516,4.519,6.985,4.996,5.287,6.436,4.534,null,null,3.597,5.86,5.718,4.944,4.812,4.796,4.696,4.418,5.758,7.494,4.015,5.192,4.548,4.437,7.021,7.139,6.223,5.89,5.886,4.906,5.809,4.509,5.895,6.021,5.261,5.718,4.944,4.812,4.796,4.696,4.418,5.94,5.197,3.802,3.975,5.525,6.149,7.09,3.933,3.41,5.339,4.39,6.726,4.49,5.888,6.595,5.529,5.285,5.523,5.208,4.466,4.36,4.639,4.913,7.488,7.307,6.105,5.265,4.628,5.265,4.628,5.274,7.554,null,5.653,6.321,null,5.743,5.697,5.631,6.182,5.693,6.374,6.07,5.648,3.334,6.375,4.681,6.1,5.603,null,4.374,6.262,6.198,6.118,4.668,4.722,6.354,4.366,null,null,7.343,7.48,3.462,6.446,5.467,3.231,6.008,null,4.085,6.192,4.461,5.373,4.189,4.332,6.825,7.054,6.892,6.293,4.707,5.175,3.38,4.107,3.663],\"coloraxis\":\"coloraxis\"},\"name\":\"\",\"type\":\"parcoords\"}],                        {\"template\":{\"data\":{\"histogram2dcontour\":[{\"type\":\"histogram2dcontour\",\"colorbar\":{\"outlinewidth\":0,\"ticks\":\"\"},\"colorscale\":[[0.0,\"#0d0887\"],[0.1111111111111111,\"#46039f\"],[0.2222222222222222,\"#7201a8\"],[0.3333333333333333,\"#9c179e\"],[0.4444444444444444,\"#bd3786\"],[0.5555555555555556,\"#d8576b\"],[0.6666666666666666,\"#ed7953\"],[0.7777777777777778,\"#fb9f3a\"],[0.8888888888888888,\"#fdca26\"],[1.0,\"#f0f921\"]]}],\"choropleth\":[{\"type\":\"choropleth\",\"colorbar\":{\"outlinewidth\":0,\"ticks\":\"\"}}],\"histogram2d\":[{\"type\":\"histogram2d\",\"colorbar\":{\"outlinewidth\":0,\"ticks\":\"\"},\"colorscale\":[[0.0,\"#0d0887\"],[0.1111111111111111,\"#46039f\"],[0.2222222222222222,\"#7201a8\"],[0.3333333333333333,\"#9c179e\"],[0.4444444444444444,\"#bd3786\"],[0.5555555555555556,\"#d8576b\"],[0.6666666666666666,\"#ed7953\"],[0.7777777777777778,\"#fb9f3a\"],[0.8888888888888888,\"#fdca26\"],[1.0,\"#f0f921\"]]}],\"heatmap\":[{\"type\":\"heatmap\",\"colorbar\":{\"outlinewidth\":0,\"ticks\":\"\"},\"colorscale\":[[0.0,\"#0d0887\"],[0.1111111111111111,\"#46039f\"],[0.2222222222222222,\"#7201a8\"],[0.3333333333333333,\"#9c179e\"],[0.4444444444444444,\"#bd3786\"],[0.5555555555555556,\"#d8576b\"],[0.6666666666666666,\"#ed7953\"],[0.7777777777777778,\"#fb9f3a\"],[0.8888888888888888,\"#fdca26\"],[1.0,\"#f0f921\"]]}],\"heatmapgl\":[{\"type\":\"heatmapgl\",\"colorbar\":{\"outlinewidth\":0,\"ticks\":\"\"},\"colorscale\":[[0.0,\"#0d0887\"],[0.1111111111111111,\"#46039f\"],[0.2222222222222222,\"#7201a8\"],[0.3333333333333333,\"#9c179e\"],[0.4444444444444444,\"#bd3786\"],[0.5555555555555556,\"#d8576b\"],[0.6666666666666666,\"#ed7953\"],[0.7777777777777778,\"#fb9f3a\"],[0.8888888888888888,\"#fdca26\"],[1.0,\"#f0f921\"]]}],\"contourcarpet\":[{\"type\":\"contourcarpet\",\"colorbar\":{\"outlinewidth\":0,\"ticks\":\"\"}}],\"contour\":[{\"type\":\"contour\",\"colorbar\":{\"outlinewidth\":0,\"ticks\":\"\"},\"colorscale\":[[0.0,\"#0d0887\"],[0.1111111111111111,\"#46039f\"],[0.2222222222222222,\"#7201a8\"],[0.3333333333333333,\"#9c179e\"],[0.4444444444444444,\"#bd3786\"],[0.5555555555555556,\"#d8576b\"],[0.6666666666666666,\"#ed7953\"],[0.7777777777777778,\"#fb9f3a\"],[0.8888888888888888,\"#fdca26\"],[1.0,\"#f0f921\"]]}],\"surface\":[{\"type\":\"surface\",\"colorbar\":{\"outlinewidth\":0,\"ticks\":\"\"},\"colorscale\":[[0.0,\"#0d0887\"],[0.1111111111111111,\"#46039f\"],[0.2222222222222222,\"#7201a8\"],[0.3333333333333333,\"#9c179e\"],[0.4444444444444444,\"#bd3786\"],[0.5555555555555556,\"#d8576b\"],[0.6666666666666666,\"#ed7953\"],[0.7777777777777778,\"#fb9f3a\"],[0.8888888888888888,\"#fdca26\"],[1.0,\"#f0f921\"]]}],\"mesh3d\":[{\"type\":\"mesh3d\",\"colorbar\":{\"outlinewidth\":0,\"ticks\":\"\"}}],\"scatter\":[{\"fillpattern\":{\"fillmode\":\"overlay\",\"size\":10,\"solidity\":0.2},\"type\":\"scatter\"}],\"parcoords\":[{\"type\":\"parcoords\",\"line\":{\"colorbar\":{\"outlinewidth\":0,\"ticks\":\"\"}}}],\"scatterpolargl\":[{\"type\":\"scatterpolargl\",\"marker\":{\"colorbar\":{\"outlinewidth\":0,\"ticks\":\"\"}}}],\"bar\":[{\"error_x\":{\"color\":\"#2a3f5f\"},\"error_y\":{\"color\":\"#2a3f5f\"},\"marker\":{\"line\":{\"color\":\"#E5ECF6\",\"width\":0.5},\"pattern\":{\"fillmode\":\"overlay\",\"size\":10,\"solidity\":0.2}},\"type\":\"bar\"}],\"scattergeo\":[{\"type\":\"scattergeo\",\"marker\":{\"colorbar\":{\"outlinewidth\":0,\"ticks\":\"\"}}}],\"scatterpolar\":[{\"type\":\"scatterpolar\",\"marker\":{\"colorbar\":{\"outlinewidth\":0,\"ticks\":\"\"}}}],\"histogram\":[{\"marker\":{\"pattern\":{\"fillmode\":\"overlay\",\"size\":10,\"solidity\":0.2}},\"type\":\"histogram\"}],\"scattergl\":[{\"type\":\"scattergl\",\"marker\":{\"colorbar\":{\"outlinewidth\":0,\"ticks\":\"\"}}}],\"scatter3d\":[{\"type\":\"scatter3d\",\"line\":{\"colorbar\":{\"outlinewidth\":0,\"ticks\":\"\"}},\"marker\":{\"colorbar\":{\"outlinewidth\":0,\"ticks\":\"\"}}}],\"scattermapbox\":[{\"type\":\"scattermapbox\",\"marker\":{\"colorbar\":{\"outlinewidth\":0,\"ticks\":\"\"}}}],\"scatterternary\":[{\"type\":\"scatterternary\",\"marker\":{\"colorbar\":{\"outlinewidth\":0,\"ticks\":\"\"}}}],\"scattercarpet\":[{\"type\":\"scattercarpet\",\"marker\":{\"colorbar\":{\"outlinewidth\":0,\"ticks\":\"\"}}}],\"carpet\":[{\"aaxis\":{\"endlinecolor\":\"#2a3f5f\",\"gridcolor\":\"white\",\"linecolor\":\"white\",\"minorgridcolor\":\"white\",\"startlinecolor\":\"#2a3f5f\"},\"baxis\":{\"endlinecolor\":\"#2a3f5f\",\"gridcolor\":\"white\",\"linecolor\":\"white\",\"minorgridcolor\":\"white\",\"startlinecolor\":\"#2a3f5f\"},\"type\":\"carpet\"}],\"table\":[{\"cells\":{\"fill\":{\"color\":\"#EBF0F8\"},\"line\":{\"color\":\"white\"}},\"header\":{\"fill\":{\"color\":\"#C8D4E3\"},\"line\":{\"color\":\"white\"}},\"type\":\"table\"}],\"barpolar\":[{\"marker\":{\"line\":{\"color\":\"#E5ECF6\",\"width\":0.5},\"pattern\":{\"fillmode\":\"overlay\",\"size\":10,\"solidity\":0.2}},\"type\":\"barpolar\"}],\"pie\":[{\"automargin\":true,\"type\":\"pie\"}]},\"layout\":{\"autotypenumbers\":\"strict\",\"colorway\":[\"#636efa\",\"#EF553B\",\"#00cc96\",\"#ab63fa\",\"#FFA15A\",\"#19d3f3\",\"#FF6692\",\"#B6E880\",\"#FF97FF\",\"#FECB52\"],\"font\":{\"color\":\"#2a3f5f\"},\"hovermode\":\"closest\",\"hoverlabel\":{\"align\":\"left\"},\"paper_bgcolor\":\"white\",\"plot_bgcolor\":\"#E5ECF6\",\"polar\":{\"bgcolor\":\"#E5ECF6\",\"angularaxis\":{\"gridcolor\":\"white\",\"linecolor\":\"white\",\"ticks\":\"\"},\"radialaxis\":{\"gridcolor\":\"white\",\"linecolor\":\"white\",\"ticks\":\"\"}},\"ternary\":{\"bgcolor\":\"#E5ECF6\",\"aaxis\":{\"gridcolor\":\"white\",\"linecolor\":\"white\",\"ticks\":\"\"},\"baxis\":{\"gridcolor\":\"white\",\"linecolor\":\"white\",\"ticks\":\"\"},\"caxis\":{\"gridcolor\":\"white\",\"linecolor\":\"white\",\"ticks\":\"\"}},\"coloraxis\":{\"colorbar\":{\"outlinewidth\":0,\"ticks\":\"\"}},\"colorscale\":{\"sequential\":[[0.0,\"#0d0887\"],[0.1111111111111111,\"#46039f\"],[0.2222222222222222,\"#7201a8\"],[0.3333333333333333,\"#9c179e\"],[0.4444444444444444,\"#bd3786\"],[0.5555555555555556,\"#d8576b\"],[0.6666666666666666,\"#ed7953\"],[0.7777777777777778,\"#fb9f3a\"],[0.8888888888888888,\"#fdca26\"],[1.0,\"#f0f921\"]],\"sequentialminus\":[[0.0,\"#0d0887\"],[0.1111111111111111,\"#46039f\"],[0.2222222222222222,\"#7201a8\"],[0.3333333333333333,\"#9c179e\"],[0.4444444444444444,\"#bd3786\"],[0.5555555555555556,\"#d8576b\"],[0.6666666666666666,\"#ed7953\"],[0.7777777777777778,\"#fb9f3a\"],[0.8888888888888888,\"#fdca26\"],[1.0,\"#f0f921\"]],\"diverging\":[[0,\"#8e0152\"],[0.1,\"#c51b7d\"],[0.2,\"#de77ae\"],[0.3,\"#f1b6da\"],[0.4,\"#fde0ef\"],[0.5,\"#f7f7f7\"],[0.6,\"#e6f5d0\"],[0.7,\"#b8e186\"],[0.8,\"#7fbc41\"],[0.9,\"#4d9221\"],[1,\"#276419\"]]},\"xaxis\":{\"gridcolor\":\"white\",\"linecolor\":\"white\",\"ticks\":\"\",\"title\":{\"standoff\":15},\"zerolinecolor\":\"white\",\"automargin\":true,\"zerolinewidth\":2},\"yaxis\":{\"gridcolor\":\"white\",\"linecolor\":\"white\",\"ticks\":\"\",\"title\":{\"standoff\":15},\"zerolinecolor\":\"white\",\"automargin\":true,\"zerolinewidth\":2},\"scene\":{\"xaxis\":{\"backgroundcolor\":\"#E5ECF6\",\"gridcolor\":\"white\",\"linecolor\":\"white\",\"showbackground\":true,\"ticks\":\"\",\"zerolinecolor\":\"white\",\"gridwidth\":2},\"yaxis\":{\"backgroundcolor\":\"#E5ECF6\",\"gridcolor\":\"white\",\"linecolor\":\"white\",\"showbackground\":true,\"ticks\":\"\",\"zerolinecolor\":\"white\",\"gridwidth\":2},\"zaxis\":{\"backgroundcolor\":\"#E5ECF6\",\"gridcolor\":\"white\",\"linecolor\":\"white\",\"showbackground\":true,\"ticks\":\"\",\"zerolinecolor\":\"white\",\"gridwidth\":2}},\"shapedefaults\":{\"line\":{\"color\":\"#2a3f5f\"}},\"annotationdefaults\":{\"arrowcolor\":\"#2a3f5f\",\"arrowhead\":0,\"arrowwidth\":1},\"geo\":{\"bgcolor\":\"white\",\"landcolor\":\"#E5ECF6\",\"subunitcolor\":\"white\",\"showland\":true,\"showlakes\":true,\"lakecolor\":\"white\"},\"title\":{\"x\":0.05},\"mapbox\":{\"style\":\"light\"}}},\"coloraxis\":{\"colorbar\":{\"title\":{\"text\":\"Happiness Score\"}},\"colorscale\":[[0.0,\"rgb(0, 147, 146)\"],[0.16666666666666666,\"rgb(114, 170, 161)\"],[0.3333333333333333,\"rgb(177, 199, 179)\"],[0.5,\"rgb(241, 234, 200)\"],[0.6666666666666666,\"rgb(229, 185, 173)\"],[0.8333333333333334,\"rgb(217, 137, 148)\"],[1.0,\"rgb(208, 88, 126)\"]]},\"legend\":{\"tracegroupgap\":0},\"title\":{\"text\":\"Economic Freedom Dimensions and Happiness\"}},                        {\"responsive\": true}                    ).then(function(){\n",
       "                            \n",
       "var gd = document.getElementById('84df6c5e-62a5-464b-acc5-d836dbd7b7b3');\n",
       "var x = new MutationObserver(function (mutations, observer) {{\n",
       "        var display = window.getComputedStyle(gd).display;\n",
       "        if (!display || display === 'none') {{\n",
       "            console.log([gd, 'removed!']);\n",
       "            Plotly.purge(gd);\n",
       "            observer.disconnect();\n",
       "        }}\n",
       "}});\n",
       "\n",
       "// Listen for the removal of the full notebook cells\n",
       "var notebookContainer = gd.closest('#notebook-container');\n",
       "if (notebookContainer) {{\n",
       "    x.observe(notebookContainer, {childList: true});\n",
       "}}\n",
       "\n",
       "// Listen for the clearing of the current output cell\n",
       "var outputEl = gd.closest('.output');\n",
       "if (outputEl) {{\n",
       "    x.observe(outputEl, {childList: true});\n",
       "}}\n",
       "\n",
       "                        })                };                });            </script>        </div>"
      ]
     },
     "metadata": {},
     "output_type": "display_data"
    }
   ],
   "source": [
    "fig = px.parallel_coordinates(data, color='Happiness Score',\n",
    "                              dimensions=['Happiness Score','ef_government','ef_gender','ef_legal','ef_money','ef_trade','ef_regulation'],\n",
    "                              color_continuous_scale=px.colors.diverging.Tealrose,\n",
    "                              title='Economic Freedom Dimensions and Happiness')\n",
    "fig.show()"
   ]
  },
  {
   "cell_type": "code",
   "execution_count": null,
   "metadata": {},
   "outputs": [],
   "source": []
  }
 ],
 "metadata": {
  "kernelspec": {
   "display_name": "Python 3",
   "language": "python",
   "name": "python3"
  },
  "language_info": {
   "codemirror_mode": {
    "name": "ipython",
    "version": 3
   },
   "file_extension": ".py",
   "mimetype": "text/x-python",
   "name": "python",
   "nbconvert_exporter": "python",
   "pygments_lexer": "ipython3",
   "version": "3.11.1"
  }
 },
 "nbformat": 4,
 "nbformat_minor": 2
}
