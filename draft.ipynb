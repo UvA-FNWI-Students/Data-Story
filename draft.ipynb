{
 "cells": [
  {
   "cell_type": "markdown",
   "metadata": {},
   "source": [
    "# Data Story Draft\n",
    "* Hugo Krijgsman (14667851)\n",
    "* Ingmar Hartman (15206149)\n",
    "* Julius de Groot (14362104)\n"
   ]
  },
  {
   "cell_type": "markdown",
   "metadata": {},
   "source": [
    "## Introduction\n",
    "The relationship between freedom and happiness is a crucial area of investigation, especially for informing the development of effective public policies. In Western society, there is a prevalent belief that increased freedom directly correlates with higher levels of happiness. This belief drives significant efforts to enhance personal and political freedoms. However, the reality is more complex. There are countries where people face greater limitations in their freedoms but still report high levels of happiness.\n",
    "\n",
    "This report utilizes two key datasets to explore the relationship between freedom and happiness. The first dataset, from the Human Freedom Index, measures various aspects of freedom including personal, civil, and economic dimensions. The second dataset, from the World Happiness Report, provides happiness scores based on indicators such as GDP per capita, social support, and life expectancy.\n",
    "\n",
    "By comparing these datasets, we aim to uncover correlations and patterns that reveal how different dimensions of freedom influence overall happiness across countries."
   ]
  },
  {
   "cell_type": "markdown",
   "metadata": {},
   "source": [
    "### Perspectives\n",
    "**The more freedom citizens of a country experience, the happier they are.**\n",
    "\n",
    "This perspective suggests that increased personal freedoms, such as freedom of speech, movement, and choice, correlate directly with higher levels of happiness among citizens. It posits that when individuals have greater autonomy and fewer restrictions, their overall well-being and satisfaction with life improve.\n",
    "* When people have more control, there overall well-being increases.\n",
    "* Societies with more personal freedom provide more opportunities for personal growth.\n",
    "* Countries with more economical freedom have higher standards of living.\n",
    "\n",
    "**There is no correlation between freedom and happiness citizens of a country experience.**\n",
    "\n",
    "This perspective argues that the level of personal freedom in a country does not necessarily affect the happiness of its citizens. It suggests that other factors, such as economic stability, cultural values, and social support, may play a more significant role in determining overall happiness.\n",
    "* Some societies prioritize communities over personal autonomy, yet report high levels of happiness.\n",
    "* Citizens might adjust their expectations and find joy in everyday life, family, and social relationships.\n",
    "* Authoritarian regimes provide economic benefits and social services, leading to high life satisfaction."
   ]
  },
  {
   "cell_type": "markdown",
   "metadata": {},
   "source": [
    "### Dependencies \n",
    "\n"
   ]
  },
  {
   "cell_type": "markdown",
   "metadata": {},
   "source": [
    "### Imports"
   ]
  },
  {
   "cell_type": "code",
   "execution_count": 25,
   "metadata": {},
   "outputs": [
    {
     "data": {
      "text/html": [
       "        <script type=\"text/javascript\">\n",
       "        window.PlotlyConfig = {MathJaxConfig: 'local'};\n",
       "        if (window.MathJax && window.MathJax.Hub && window.MathJax.Hub.Config) {window.MathJax.Hub.Config({SVG: {font: \"STIX-Web\"}});}\n",
       "        if (typeof require !== 'undefined') {\n",
       "        require.undef(\"plotly\");\n",
       "        requirejs.config({\n",
       "            paths: {\n",
       "                'plotly': ['https://cdn.plot.ly/plotly-2.24.1.min']\n",
       "            }\n",
       "        });\n",
       "        require(['plotly'], function(Plotly) {\n",
       "            window._Plotly = Plotly;\n",
       "        });\n",
       "        }\n",
       "        </script>\n",
       "        "
      ]
     },
     "metadata": {},
     "output_type": "display_data"
    }
   ],
   "source": [
    "import pandas as pd\n",
    "import plotly.io as pio\n",
    "import plotly.graph_objects as go\n",
    "from plotly.subplots import make_subplots\n",
    "import plotly.express as px\n",
    "import pycountry \n",
    "\n",
    "from plotly.offline import init_notebook_mode\n",
    "init_notebook_mode(connected=True)"
   ]
  },
  {
   "cell_type": "markdown",
   "metadata": {},
   "source": [
    "## Datasets"
   ]
  },
  {
   "cell_type": "markdown",
   "metadata": {},
   "source": [
    "\n",
    "### World Happiness Report\n",
    "The World Happiness Report dataset on Kaggle contains data from the annual World Happiness Report, offering insights into the happiness levels of countries worldwide. The dataset includes information on several key indicators such as GDP per capita, social support, healthy life expectancy, freedom to make life choices, generosity, and perceptions of corruption. This comprehensive dataset allows for detailed analysis and comparison of the well-being and happiness of different nations, aiding researchers and analysts in understanding the factors that contribute to a country's overall happiness.\n",
    "\n",
    "The script processes this dataset as follows:\n",
    "\n",
    "1. The dataset is loaded as a pandas DataFrame from a CSV file named \"happiness.csv\".\n",
    "2. The column \"Country or region\" is renamed to \"Country\" for consistency.\n",
    "3. The columns \"Country or region\" and \"Overall rank\" are removed from the DataFrame.\n",
    "4. The \"Score\" column is renamed to \"Happiness Score\" for clarity.\n",
    "5. Finally, the first few rows of the modified DataFrame are displayed to inspect the data.\n",
    "\n",
    "These steps ensure the dataset is ready for analysis by normalizing column names and removing unnecessary columns."
   ]
  },
  {
   "cell_type": "code",
   "execution_count": 26,
   "metadata": {},
   "outputs": [
    {
     "data": {
      "text/html": [
       "<div>\n",
       "<style scoped>\n",
       "    .dataframe tbody tr th:only-of-type {\n",
       "        vertical-align: middle;\n",
       "    }\n",
       "\n",
       "    .dataframe tbody tr th {\n",
       "        vertical-align: top;\n",
       "    }\n",
       "\n",
       "    .dataframe thead th {\n",
       "        text-align: right;\n",
       "    }\n",
       "</style>\n",
       "<table border=\"1\" class=\"dataframe\">\n",
       "  <thead>\n",
       "    <tr style=\"text-align: right;\">\n",
       "      <th></th>\n",
       "      <th>Happiness Score</th>\n",
       "      <th>GDP per capita</th>\n",
       "      <th>Social support</th>\n",
       "      <th>Healthy life expectancy</th>\n",
       "      <th>Freedom to make life choices</th>\n",
       "      <th>Generosity</th>\n",
       "      <th>Perceptions of corruption</th>\n",
       "      <th>Country</th>\n",
       "    </tr>\n",
       "  </thead>\n",
       "  <tbody>\n",
       "    <tr>\n",
       "      <th>0</th>\n",
       "      <td>7.769</td>\n",
       "      <td>1.340</td>\n",
       "      <td>1.587</td>\n",
       "      <td>0.986</td>\n",
       "      <td>0.596</td>\n",
       "      <td>0.153</td>\n",
       "      <td>0.393</td>\n",
       "      <td>Finland</td>\n",
       "    </tr>\n",
       "    <tr>\n",
       "      <th>1</th>\n",
       "      <td>7.600</td>\n",
       "      <td>1.383</td>\n",
       "      <td>1.573</td>\n",
       "      <td>0.996</td>\n",
       "      <td>0.592</td>\n",
       "      <td>0.252</td>\n",
       "      <td>0.410</td>\n",
       "      <td>Denmark</td>\n",
       "    </tr>\n",
       "    <tr>\n",
       "      <th>2</th>\n",
       "      <td>7.554</td>\n",
       "      <td>1.488</td>\n",
       "      <td>1.582</td>\n",
       "      <td>1.028</td>\n",
       "      <td>0.603</td>\n",
       "      <td>0.271</td>\n",
       "      <td>0.341</td>\n",
       "      <td>Norway</td>\n",
       "    </tr>\n",
       "    <tr>\n",
       "      <th>3</th>\n",
       "      <td>7.494</td>\n",
       "      <td>1.380</td>\n",
       "      <td>1.624</td>\n",
       "      <td>1.026</td>\n",
       "      <td>0.591</td>\n",
       "      <td>0.354</td>\n",
       "      <td>0.118</td>\n",
       "      <td>Iceland</td>\n",
       "    </tr>\n",
       "    <tr>\n",
       "      <th>4</th>\n",
       "      <td>7.488</td>\n",
       "      <td>1.396</td>\n",
       "      <td>1.522</td>\n",
       "      <td>0.999</td>\n",
       "      <td>0.557</td>\n",
       "      <td>0.322</td>\n",
       "      <td>0.298</td>\n",
       "      <td>Netherlands</td>\n",
       "    </tr>\n",
       "  </tbody>\n",
       "</table>\n",
       "</div>"
      ],
      "text/plain": [
       "   Happiness Score  GDP per capita  Social support  Healthy life expectancy  \\\n",
       "0            7.769           1.340           1.587                    0.986   \n",
       "1            7.600           1.383           1.573                    0.996   \n",
       "2            7.554           1.488           1.582                    1.028   \n",
       "3            7.494           1.380           1.624                    1.026   \n",
       "4            7.488           1.396           1.522                    0.999   \n",
       "\n",
       "   Freedom to make life choices  Generosity  Perceptions of corruption  \\\n",
       "0                         0.596       0.153                      0.393   \n",
       "1                         0.592       0.252                      0.410   \n",
       "2                         0.603       0.271                      0.341   \n",
       "3                         0.591       0.354                      0.118   \n",
       "4                         0.557       0.322                      0.298   \n",
       "\n",
       "       Country  \n",
       "0      Finland  \n",
       "1      Denmark  \n",
       "2       Norway  \n",
       "3      Iceland  \n",
       "4  Netherlands  "
      ]
     },
     "execution_count": 26,
     "metadata": {},
     "output_type": "execute_result"
    }
   ],
   "source": [
    "happiness_data = pd.read_csv(\"happiness.csv\")\n",
    "happiness_data[\"Country\"] = happiness_data[\"Country or region\"]\n",
    "happiness_data = happiness_data.drop(columns=[\"Country or region\", \"Overall rank\"])\n",
    "happiness_data = happiness_data.rename(columns={\"Score\": \"Happiness Score\"})\n",
    "\n",
    "happiness_data.head()"
   ]
  },
  {
   "cell_type": "markdown",
   "metadata": {},
   "source": [
    "### Human Freedom Index\n",
    "\n",
    "The Human Freedom Index dataset on Kaggle includes comprehensive data on the state of human freedom globally. This dataset combines indicators of personal and economic freedom, covering a wide range of topics such as rule of law, security and safety, movement, religion, association, assembly, civil society, expression and information, identity and relationships, and economic freedoms like regulation and freedom to trade internationally. This extensive dataset facilitates in-depth analysis of the factors that influence human freedom in various countries.\n",
    "\n",
    "The script processes this dataset as follows:\n",
    "\n",
    "1. The dataset is loaded as a pandas DataFrame from a CSV file, with memory usage optimized. A list `columns_to_drop` is created to keep track of columns that will be removed.\n",
    "\n",
    "2. The column \"countries\" is renamed to \"Country\" for consistency, and \"region\" is added to the list of columns to be removed. The values in the \"year\" column are converted to numeric values, and the dataset is filtered to retain only data for 2019. The \"year\" column is then also added to the list of columns to be removed.\n",
    "\n",
    "3. The DataFrame index is reset, and the new \"index\" column is added to the list of columns to be removed. All columns in `columns_to_drop` are then removed.\n",
    "\n",
    "4. Finally, the first few rows of the modified DataFrame are displayed to inspect the data. These steps ensure a dataset ready for analysis by removing redundant columns, filtering for the year 2019, and normalizing column names."
   ]
  },
  {
   "cell_type": "code",
   "execution_count": 27,
   "metadata": {},
   "outputs": [
    {
     "data": {
      "text/html": [
       "<div>\n",
       "<style scoped>\n",
       "    .dataframe tbody tr th:only-of-type {\n",
       "        vertical-align: middle;\n",
       "    }\n",
       "\n",
       "    .dataframe tbody tr th {\n",
       "        vertical-align: top;\n",
       "    }\n",
       "\n",
       "    .dataframe thead th {\n",
       "        text-align: right;\n",
       "    }\n",
       "</style>\n",
       "<table border=\"1\" class=\"dataframe\">\n",
       "  <thead>\n",
       "    <tr style=\"text-align: right;\">\n",
       "      <th></th>\n",
       "      <th>Country</th>\n",
       "      <th>hf_score</th>\n",
       "      <th>hf_rank</th>\n",
       "      <th>hf_quartile</th>\n",
       "      <th>pf_rol_procedural</th>\n",
       "      <th>pf_rol_civil</th>\n",
       "      <th>pf_rol_criminal</th>\n",
       "      <th>pf_rol_vdem</th>\n",
       "      <th>pf_rol</th>\n",
       "      <th>pf_ss_homicide</th>\n",
       "      <th>...</th>\n",
       "      <th>ef_regulation_business_adm</th>\n",
       "      <th>ef_regulation_business_burden</th>\n",
       "      <th>ef_regulation_business_start</th>\n",
       "      <th>ef_regulation_business_impartial</th>\n",
       "      <th>ef_regulation_business_licensing</th>\n",
       "      <th>ef_regulation_business_compliance</th>\n",
       "      <th>ef_regulation_business</th>\n",
       "      <th>ef_regulation</th>\n",
       "      <th>ef_score</th>\n",
       "      <th>ef_rank</th>\n",
       "    </tr>\n",
       "  </thead>\n",
       "  <tbody>\n",
       "    <tr>\n",
       "      <th>0</th>\n",
       "      <td>Albania</td>\n",
       "      <td>8.07</td>\n",
       "      <td>42.0</td>\n",
       "      <td>2.0</td>\n",
       "      <td>5.903741</td>\n",
       "      <td>4.725831</td>\n",
       "      <td>4.047825</td>\n",
       "      <td>7.375907</td>\n",
       "      <td>4.892466</td>\n",
       "      <td>9.343023</td>\n",
       "      <td>...</td>\n",
       "      <td>5.651538</td>\n",
       "      <td>6.666667</td>\n",
       "      <td>9.742477</td>\n",
       "      <td>6.2425</td>\n",
       "      <td>5.621940</td>\n",
       "      <td>7.175250</td>\n",
       "      <td>6.850062</td>\n",
       "      <td>7.700885</td>\n",
       "      <td>7.79</td>\n",
       "      <td>31.0</td>\n",
       "    </tr>\n",
       "    <tr>\n",
       "      <th>1</th>\n",
       "      <td>Algeria</td>\n",
       "      <td>5.08</td>\n",
       "      <td>155.0</td>\n",
       "      <td>4.0</td>\n",
       "      <td>4.913311</td>\n",
       "      <td>5.503872</td>\n",
       "      <td>4.254187</td>\n",
       "      <td>5.345021</td>\n",
       "      <td>4.890457</td>\n",
       "      <td>9.613372</td>\n",
       "      <td>...</td>\n",
       "      <td>4.215154</td>\n",
       "      <td>2.222222</td>\n",
       "      <td>9.305002</td>\n",
       "      <td>2.5775</td>\n",
       "      <td>8.771111</td>\n",
       "      <td>7.029528</td>\n",
       "      <td>5.686753</td>\n",
       "      <td>5.840164</td>\n",
       "      <td>4.86</td>\n",
       "      <td>159.0</td>\n",
       "    </tr>\n",
       "    <tr>\n",
       "      <th>2</th>\n",
       "      <td>Angola</td>\n",
       "      <td>5.96</td>\n",
       "      <td>127.0</td>\n",
       "      <td>4.0</td>\n",
       "      <td>2.773262</td>\n",
       "      <td>4.352009</td>\n",
       "      <td>3.478950</td>\n",
       "      <td>5.264300</td>\n",
       "      <td>3.534740</td>\n",
       "      <td>8.590305</td>\n",
       "      <td>...</td>\n",
       "      <td>2.937894</td>\n",
       "      <td>2.444444</td>\n",
       "      <td>8.730805</td>\n",
       "      <td>4.7025</td>\n",
       "      <td>7.916416</td>\n",
       "      <td>6.782923</td>\n",
       "      <td>5.585830</td>\n",
       "      <td>5.974672</td>\n",
       "      <td>5.55</td>\n",
       "      <td>153.0</td>\n",
       "    </tr>\n",
       "    <tr>\n",
       "      <th>3</th>\n",
       "      <td>Argentina</td>\n",
       "      <td>7.33</td>\n",
       "      <td>75.0</td>\n",
       "      <td>2.0</td>\n",
       "      <td>6.824288</td>\n",
       "      <td>5.679943</td>\n",
       "      <td>4.218635</td>\n",
       "      <td>6.570627</td>\n",
       "      <td>5.574289</td>\n",
       "      <td>8.505814</td>\n",
       "      <td>...</td>\n",
       "      <td>2.714233</td>\n",
       "      <td>5.777778</td>\n",
       "      <td>9.579288</td>\n",
       "      <td>6.5300</td>\n",
       "      <td>5.726521</td>\n",
       "      <td>6.508295</td>\n",
       "      <td>6.139352</td>\n",
       "      <td>5.994265</td>\n",
       "      <td>5.44</td>\n",
       "      <td>154.0</td>\n",
       "    </tr>\n",
       "    <tr>\n",
       "      <th>4</th>\n",
       "      <td>Armenia</td>\n",
       "      <td>8.32</td>\n",
       "      <td>34.0</td>\n",
       "      <td>1.0</td>\n",
       "      <td>NaN</td>\n",
       "      <td>NaN</td>\n",
       "      <td>NaN</td>\n",
       "      <td>7.287006</td>\n",
       "      <td>7.287006</td>\n",
       "      <td>9.281977</td>\n",
       "      <td>...</td>\n",
       "      <td>5.170406</td>\n",
       "      <td>5.555556</td>\n",
       "      <td>9.863530</td>\n",
       "      <td>6.9575</td>\n",
       "      <td>9.302574</td>\n",
       "      <td>7.040738</td>\n",
       "      <td>7.315051</td>\n",
       "      <td>7.819774</td>\n",
       "      <td>7.98</td>\n",
       "      <td>17.0</td>\n",
       "    </tr>\n",
       "  </tbody>\n",
       "</table>\n",
       "<p>5 rows × 139 columns</p>\n",
       "</div>"
      ],
      "text/plain": [
       "     Country  hf_score  hf_rank  hf_quartile  pf_rol_procedural  pf_rol_civil  \\\n",
       "0    Albania      8.07     42.0          2.0           5.903741      4.725831   \n",
       "1    Algeria      5.08    155.0          4.0           4.913311      5.503872   \n",
       "2     Angola      5.96    127.0          4.0           2.773262      4.352009   \n",
       "3  Argentina      7.33     75.0          2.0           6.824288      5.679943   \n",
       "4    Armenia      8.32     34.0          1.0                NaN           NaN   \n",
       "\n",
       "   pf_rol_criminal  pf_rol_vdem    pf_rol  pf_ss_homicide  ...  \\\n",
       "0         4.047825     7.375907  4.892466        9.343023  ...   \n",
       "1         4.254187     5.345021  4.890457        9.613372  ...   \n",
       "2         3.478950     5.264300  3.534740        8.590305  ...   \n",
       "3         4.218635     6.570627  5.574289        8.505814  ...   \n",
       "4              NaN     7.287006  7.287006        9.281977  ...   \n",
       "\n",
       "   ef_regulation_business_adm  ef_regulation_business_burden  \\\n",
       "0                    5.651538                       6.666667   \n",
       "1                    4.215154                       2.222222   \n",
       "2                    2.937894                       2.444444   \n",
       "3                    2.714233                       5.777778   \n",
       "4                    5.170406                       5.555556   \n",
       "\n",
       "   ef_regulation_business_start  ef_regulation_business_impartial  \\\n",
       "0                      9.742477                            6.2425   \n",
       "1                      9.305002                            2.5775   \n",
       "2                      8.730805                            4.7025   \n",
       "3                      9.579288                            6.5300   \n",
       "4                      9.863530                            6.9575   \n",
       "\n",
       "   ef_regulation_business_licensing  ef_regulation_business_compliance  \\\n",
       "0                          5.621940                           7.175250   \n",
       "1                          8.771111                           7.029528   \n",
       "2                          7.916416                           6.782923   \n",
       "3                          5.726521                           6.508295   \n",
       "4                          9.302574                           7.040738   \n",
       "\n",
       "   ef_regulation_business  ef_regulation  ef_score  ef_rank  \n",
       "0                6.850062       7.700885      7.79     31.0  \n",
       "1                5.686753       5.840164      4.86    159.0  \n",
       "2                5.585830       5.974672      5.55    153.0  \n",
       "3                6.139352       5.994265      5.44    154.0  \n",
       "4                7.315051       7.819774      7.98     17.0  \n",
       "\n",
       "[5 rows x 139 columns]"
      ]
     },
     "execution_count": 27,
     "metadata": {},
     "output_type": "execute_result"
    }
   ],
   "source": [
    "freedom_data = pd.read_csv(\"freedom.csv\", low_memory=False)\n",
    "columns_to_drop = []\n",
    "\n",
    "# Normalize country column\n",
    "freedom_data = freedom_data.rename(columns={\"countries\": \"Country\"})\n",
    "columns_to_drop.extend([\"region\"])\n",
    "\n",
    "# Filter out years other than 2019\n",
    "freedom_data[\"year\"] = pd.to_numeric(freedom_data[\"year\"], errors='coerce')\n",
    "freedom_data = freedom_data[freedom_data[\"year\"] == 2019]\n",
    "columns_to_drop.append(\"year\")\n",
    "\n",
    "# Reset and Drop\n",
    "freedom_data = freedom_data.reset_index()\n",
    "columns_to_drop.append(\"index\")\n",
    "freedom_data = freedom_data.drop(columns=columns_to_drop)\n",
    "\n",
    "freedom_data.head()"
   ]
  },
  {
   "cell_type": "markdown",
   "metadata": {},
   "source": [
    "### Merging Both Datasets\n",
    "\n",
    "To merge the datasets, we first needed to filter some irrelevant information away. This meant only keeping the data from 2019. We then decided to take the ISO code of each country, a unique 3 letter code for every internationally recognised country. After this we appended every other variable to the row per ISO code. This still left a couple of countries without representation (listed below). So for these a bit of manual work was needed to make them fit."
   ]
  },
  {
   "cell_type": "code",
   "execution_count": 28,
   "metadata": {},
   "outputs": [
    {
     "data": {
      "text/html": [
       "<div>\n",
       "<style scoped>\n",
       "    .dataframe tbody tr th:only-of-type {\n",
       "        vertical-align: middle;\n",
       "    }\n",
       "\n",
       "    .dataframe tbody tr th {\n",
       "        vertical-align: top;\n",
       "    }\n",
       "\n",
       "    .dataframe thead th {\n",
       "        text-align: right;\n",
       "    }\n",
       "</style>\n",
       "<table border=\"1\" class=\"dataframe\">\n",
       "  <thead>\n",
       "    <tr style=\"text-align: right;\">\n",
       "      <th></th>\n",
       "      <th>Country</th>\n",
       "      <th>Human Freedom Score</th>\n",
       "      <th>hf_rank</th>\n",
       "      <th>hf_quartile</th>\n",
       "      <th>pf_rol_procedural</th>\n",
       "      <th>pf_rol_civil</th>\n",
       "      <th>pf_rol_criminal</th>\n",
       "      <th>pf_rol_vdem</th>\n",
       "      <th>pf_rol</th>\n",
       "      <th>pf_ss_homicide</th>\n",
       "      <th>...</th>\n",
       "      <th>Economic Freedom Score</th>\n",
       "      <th>ef_rank</th>\n",
       "      <th>iso</th>\n",
       "      <th>Happiness Score</th>\n",
       "      <th>GDP per capita</th>\n",
       "      <th>Social support</th>\n",
       "      <th>Healthy life expectancy</th>\n",
       "      <th>Freedom to make life choices</th>\n",
       "      <th>Generosity</th>\n",
       "      <th>Perceptions of corruption</th>\n",
       "    </tr>\n",
       "  </thead>\n",
       "  <tbody>\n",
       "    <tr>\n",
       "      <th>0</th>\n",
       "      <td>Albania</td>\n",
       "      <td>8.07</td>\n",
       "      <td>42.0</td>\n",
       "      <td>2.0</td>\n",
       "      <td>5.903741</td>\n",
       "      <td>4.725831</td>\n",
       "      <td>4.047825</td>\n",
       "      <td>7.375907</td>\n",
       "      <td>4.892466</td>\n",
       "      <td>9.343023</td>\n",
       "      <td>...</td>\n",
       "      <td>7.79</td>\n",
       "      <td>31.0</td>\n",
       "      <td>ALB</td>\n",
       "      <td>4.719</td>\n",
       "      <td>0.947</td>\n",
       "      <td>0.848</td>\n",
       "      <td>0.874</td>\n",
       "      <td>0.383</td>\n",
       "      <td>0.178</td>\n",
       "      <td>0.027</td>\n",
       "    </tr>\n",
       "    <tr>\n",
       "      <th>1</th>\n",
       "      <td>Algeria</td>\n",
       "      <td>5.08</td>\n",
       "      <td>155.0</td>\n",
       "      <td>4.0</td>\n",
       "      <td>4.913311</td>\n",
       "      <td>5.503872</td>\n",
       "      <td>4.254187</td>\n",
       "      <td>5.345021</td>\n",
       "      <td>4.890457</td>\n",
       "      <td>9.613372</td>\n",
       "      <td>...</td>\n",
       "      <td>4.86</td>\n",
       "      <td>159.0</td>\n",
       "      <td>DZA</td>\n",
       "      <td>5.211</td>\n",
       "      <td>1.002</td>\n",
       "      <td>1.160</td>\n",
       "      <td>0.785</td>\n",
       "      <td>0.086</td>\n",
       "      <td>0.073</td>\n",
       "      <td>0.114</td>\n",
       "    </tr>\n",
       "    <tr>\n",
       "      <th>2</th>\n",
       "      <td>Angola</td>\n",
       "      <td>5.96</td>\n",
       "      <td>127.0</td>\n",
       "      <td>4.0</td>\n",
       "      <td>2.773262</td>\n",
       "      <td>4.352009</td>\n",
       "      <td>3.478950</td>\n",
       "      <td>5.264300</td>\n",
       "      <td>3.534740</td>\n",
       "      <td>8.590305</td>\n",
       "      <td>...</td>\n",
       "      <td>5.55</td>\n",
       "      <td>153.0</td>\n",
       "      <td>AGO</td>\n",
       "      <td>NaN</td>\n",
       "      <td>NaN</td>\n",
       "      <td>NaN</td>\n",
       "      <td>NaN</td>\n",
       "      <td>NaN</td>\n",
       "      <td>NaN</td>\n",
       "      <td>NaN</td>\n",
       "    </tr>\n",
       "    <tr>\n",
       "      <th>3</th>\n",
       "      <td>Argentina</td>\n",
       "      <td>7.33</td>\n",
       "      <td>75.0</td>\n",
       "      <td>2.0</td>\n",
       "      <td>6.824288</td>\n",
       "      <td>5.679943</td>\n",
       "      <td>4.218635</td>\n",
       "      <td>6.570627</td>\n",
       "      <td>5.574289</td>\n",
       "      <td>8.505814</td>\n",
       "      <td>...</td>\n",
       "      <td>5.44</td>\n",
       "      <td>154.0</td>\n",
       "      <td>ARG</td>\n",
       "      <td>6.086</td>\n",
       "      <td>1.092</td>\n",
       "      <td>1.432</td>\n",
       "      <td>0.881</td>\n",
       "      <td>0.471</td>\n",
       "      <td>0.066</td>\n",
       "      <td>0.050</td>\n",
       "    </tr>\n",
       "    <tr>\n",
       "      <th>4</th>\n",
       "      <td>Armenia</td>\n",
       "      <td>8.32</td>\n",
       "      <td>34.0</td>\n",
       "      <td>1.0</td>\n",
       "      <td>NaN</td>\n",
       "      <td>NaN</td>\n",
       "      <td>NaN</td>\n",
       "      <td>7.287006</td>\n",
       "      <td>7.287006</td>\n",
       "      <td>9.281977</td>\n",
       "      <td>...</td>\n",
       "      <td>7.98</td>\n",
       "      <td>17.0</td>\n",
       "      <td>ARM</td>\n",
       "      <td>4.559</td>\n",
       "      <td>0.850</td>\n",
       "      <td>1.055</td>\n",
       "      <td>0.815</td>\n",
       "      <td>0.283</td>\n",
       "      <td>0.095</td>\n",
       "      <td>0.064</td>\n",
       "    </tr>\n",
       "  </tbody>\n",
       "</table>\n",
       "<p>5 rows × 147 columns</p>\n",
       "</div>"
      ],
      "text/plain": [
       "     Country  Human Freedom Score  hf_rank  hf_quartile  pf_rol_procedural  \\\n",
       "0    Albania                 8.07     42.0          2.0           5.903741   \n",
       "1    Algeria                 5.08    155.0          4.0           4.913311   \n",
       "2     Angola                 5.96    127.0          4.0           2.773262   \n",
       "3  Argentina                 7.33     75.0          2.0           6.824288   \n",
       "4    Armenia                 8.32     34.0          1.0                NaN   \n",
       "\n",
       "   pf_rol_civil  pf_rol_criminal  pf_rol_vdem    pf_rol  pf_ss_homicide  ...  \\\n",
       "0      4.725831         4.047825     7.375907  4.892466        9.343023  ...   \n",
       "1      5.503872         4.254187     5.345021  4.890457        9.613372  ...   \n",
       "2      4.352009         3.478950     5.264300  3.534740        8.590305  ...   \n",
       "3      5.679943         4.218635     6.570627  5.574289        8.505814  ...   \n",
       "4           NaN              NaN     7.287006  7.287006        9.281977  ...   \n",
       "\n",
       "   Economic Freedom Score  ef_rank  iso  Happiness Score  GDP per capita  \\\n",
       "0                    7.79     31.0  ALB            4.719           0.947   \n",
       "1                    4.86    159.0  DZA            5.211           1.002   \n",
       "2                    5.55    153.0  AGO              NaN             NaN   \n",
       "3                    5.44    154.0  ARG            6.086           1.092   \n",
       "4                    7.98     17.0  ARM            4.559           0.850   \n",
       "\n",
       "   Social support  Healthy life expectancy  Freedom to make life choices  \\\n",
       "0           0.848                    0.874                         0.383   \n",
       "1           1.160                    0.785                         0.086   \n",
       "2             NaN                      NaN                           NaN   \n",
       "3           1.432                    0.881                         0.471   \n",
       "4           1.055                    0.815                         0.283   \n",
       "\n",
       "   Generosity  Perceptions of corruption  \n",
       "0       0.178                      0.027  \n",
       "1       0.073                      0.114  \n",
       "2         NaN                        NaN  \n",
       "3       0.066                      0.050  \n",
       "4       0.095                      0.064  \n",
       "\n",
       "[5 rows x 147 columns]"
      ]
     },
     "execution_count": 28,
     "metadata": {},
     "output_type": "execute_result"
    }
   ],
   "source": [
    "# Applying the corrected code to merge datasets with the right column names\n",
    "# Define a dictionary for mapping different country names to a standardized name\n",
    "\n",
    "# Function for converting to iso \n",
    "def getIsoCode(country_name):\n",
    "    try:\n",
    "        country_iso = pycountry.countries.search_fuzzy(country_name)[0]\n",
    "        return country_iso.alpha_3\n",
    "    except LookupError:\n",
    "        return \"\"\n",
    "    \n",
    "country_name_mapping = {\n",
    "    \"Bahamas, The\": \"Bahamas\",\n",
    "    \"Congo, Rep.\": \"Congo\",\n",
    "    \"Cote d'Ivoire\": \"Ivory Coast\",\n",
    "    \"Egypt, Arab Rep.\": \"Egypt\",\n",
    "    \"Gambia, The\": \"Gambia\",\n",
    "    \"Iran, Islamic Rep.\": \"Iran\",\n",
    "    \"Korea, Rep.\": \"South Korea\",\n",
    "    \"Kyrgyz Republic\": \"Kyrgyzstan\",\n",
    "    \"Lao PDR\": \"Laos\",\n",
    "    \"Russia\": \"Russian Federation\",\n",
    "    \"Slovak Republic\": \"Slovakia\",\n",
    "    \"Swaziland\": \"Eswatini\",\n",
    "    \"Syria\": \"Syrian Arab Republic\",\n",
    "    \"Trinidad & Tobago\": \"Trinidad and Tobago\",\n",
    "    \"Venezuela, RB\": \"Venezuela\",\n",
    "    \"Yemen, Rep.\": \"Yemen\"\n",
    "}\n",
    "\n",
    "freedom_data['Country'] = freedom_data['Country'].replace(country_name_mapping)\n",
    "happiness_data['Country'] = happiness_data['Country'].replace(country_name_mapping)\n",
    "\n",
    "happiness_data[\"iso\"] = happiness_data['Country'].apply(getIsoCode)\n",
    "freedom_data[\"iso\"] = freedom_data['Country'].apply(getIsoCode)\n",
    "\n",
    "data = pd.merge(freedom_data, happiness_data, on='iso', how='left')\n",
    "data.rename(columns={\n",
    "    'hf_score': 'Human Freedom Score',\n",
    "    'ef_score': 'Economic Freedom Score',\n",
    "    'pf_score': 'Personal Freedom Score',\n",
    "    'Country_x': \"Country\"\n",
    "}, inplace=True)\n",
    "\n",
    "data = data.drop(columns='Country_y')\n",
    "\n",
    "data.head()"
   ]
  },
  {
   "cell_type": "code",
   "execution_count": 29,
   "metadata": {},
   "outputs": [
    {
     "data": {
      "application/vnd.plotly.v1+json": {
       "config": {
        "plotlyServerURL": "https://plot.ly"
       },
       "data": [
        {
         "marker": {
          "color": "blue"
         },
         "name": "Human Freedom Score",
         "type": "bar",
         "x": [
          "Albania",
          "Algeria",
          "Angola",
          "Argentina",
          "Armenia",
          "Australia",
          "Austria",
          "Azerbaijan",
          "Bahamas",
          "Bahrain",
          "Bangladesh",
          "Barbados",
          "Belarus",
          "Belgium",
          "Belize",
          "Benin",
          "Bhutan",
          "Bolivia",
          "Bosnia and Herzegovina",
          "Botswana",
          "Brazil",
          "Brunei Darussalam",
          "Bulgaria",
          "Burkina Faso",
          "Burundi",
          "Cabo Verde",
          "Cambodia",
          "Cameroon",
          "Canada",
          "Central African Republic",
          "Chad",
          "Chile",
          "China",
          "Colombia",
          "Comoros",
          "Congo, Dem. Rep.",
          "Congo, Dem. Rep.",
          "Congo, Dem. Rep.",
          "Congo, Dem. Rep.",
          "Congo, Dem. Rep.",
          "Congo, Dem. Rep.",
          "Congo",
          "Costa Rica",
          "Ivory Coast",
          "Ivory Coast",
          "Ivory Coast",
          "Ivory Coast",
          "Ivory Coast",
          "Ivory Coast",
          "Croatia",
          "Cyprus",
          "Czech Republic",
          "Denmark",
          "Djibouti",
          "Dominican Republic",
          "Ecuador",
          "Egypt",
          "El Salvador",
          "Estonia",
          "Eswatini",
          "Ethiopia",
          "Fiji",
          "Finland",
          "France",
          "Gabon",
          "Gambia",
          "Georgia",
          "Germany",
          "Ghana",
          "Greece",
          "Guatemala",
          "Guinea",
          "Guinea-Bissau",
          "Guyana",
          "Haiti",
          "Honduras",
          "Hong Kong SAR, China",
          "Hong Kong SAR, China",
          "Hong Kong SAR, China",
          "Hong Kong SAR, China",
          "Hong Kong SAR, China",
          "Hong Kong SAR, China",
          "Hungary",
          "Iceland",
          "India",
          "Indonesia",
          "Iran",
          "Iraq",
          "Ireland",
          "Israel",
          "Italy",
          "Jamaica",
          "Japan",
          "Jordan",
          "Kazakhstan",
          "Kenya",
          "South Korea",
          "Kuwait",
          "Kyrgyzstan",
          "Laos",
          "Laos",
          "Laos",
          "Laos",
          "Laos",
          "Laos",
          "Latvia",
          "Lebanon",
          "Lesotho",
          "Liberia",
          "Libya",
          "Lithuania",
          "Luxembourg",
          "Madagascar",
          "Malawi",
          "Malaysia",
          "Mali",
          "Malta",
          "Mauritania",
          "Mauritius",
          "Mexico",
          "Moldova",
          "Mongolia",
          "Montenegro",
          "Morocco",
          "Mozambique",
          "Myanmar",
          "Namibia",
          "Nepal",
          "Netherlands",
          "New Zealand",
          "Nicaragua",
          "Niger",
          "Niger",
          "Nigeria",
          "Nigeria",
          "North Macedonia",
          "Norway",
          "Oman",
          "Pakistan",
          "Panama",
          "Papua New Guinea",
          "Paraguay",
          "Peru",
          "Philippines",
          "Poland",
          "Portugal",
          "Qatar",
          "Romania",
          "Russian Federation",
          "Rwanda",
          "Saudi Arabia",
          "Senegal",
          "Serbia",
          "Serbia",
          "Seychelles",
          "Sierra Leone",
          "Singapore",
          "Slovakia",
          "Slovenia",
          "Somalia",
          "South Africa",
          "Spain",
          "Sri Lanka",
          "Sudan",
          "Suriname",
          "Sweden",
          "Switzerland",
          "Syrian Arab Republic",
          "Taiwan",
          "Tajikistan",
          "Tanzania",
          "Thailand",
          "Timor-Leste",
          "Togo",
          "Trinidad and Tobago",
          "Tunisia",
          "Turkey",
          "Uganda",
          "Ukraine",
          "United Arab Emirates",
          "United Kingdom",
          "United States",
          "Uruguay",
          "Venezuela",
          "Vietnam",
          "Yemen",
          "Zambia",
          "Zimbabwe"
         ],
         "y": [
          8.07,
          5.08,
          5.96,
          7.33,
          8.32,
          8.83,
          8.68,
          6.02,
          8.15,
          5.43,
          5.56,
          7.93,
          6.27,
          8.55,
          7.48,
          7.25,
          6.68,
          6.88,
          7.43,
          7.76,
          7.25,
          5.96,
          7.97,
          6.83,
          4.91,
          8.44,
          6.43,
          5.34,
          8.85,
          5.68,
          5.41,
          8.5,
          5.27,
          6.95,
          5.91,
          5.49,
          5.49,
          5.49,
          5.49,
          5.49,
          5.49,
          5.33,
          8.28,
          6.78,
          6.78,
          6.78,
          6.78,
          6.78,
          6.78,
          8.15,
          8.49,
          8.61,
          9.01,
          5.63,
          7.87,
          7.37,
          4.35,
          7.34,
          8.94,
          5.73,
          5.73,
          7.35,
          8.87,
          8.26,
          6.66,
          6.82,
          7.85,
          8.73,
          7.46,
          7.83,
          7.47,
          5.82,
          6.78,
          7.04,
          7.2,
          6.98,
          8.38,
          8.38,
          8.38,
          8.38,
          8.38,
          8.38,
          7.63,
          8.84,
          6.42,
          6.98,
          4.27,
          5.12,
          8.95,
          7.61,
          8.43,
          7.9,
          8.75,
          6.71,
          6.63,
          6.57,
          8.31,
          6.2,
          7.02,
          5.68,
          5.68,
          5.68,
          5.68,
          5.68,
          5.68,
          8.62,
          6.67,
          7,
          6.6,
          4.72,
          8.72,
          8.85,
          6.86,
          6.92,
          7.08,
          6.19,
          8.43,
          5.56,
          8.02,
          6.8,
          7.6,
          7.97,
          7.91,
          5.68,
          6.77,
          5.4,
          7.57,
          7.01,
          8.8,
          9.04,
          6.13,
          6.14,
          6.14,
          6.1,
          6.1,
          7.68,
          8.81,
          5.77,
          5.48,
          7.94,
          7.17,
          7.46,
          7.83,
          6.69,
          7.92,
          8.69,
          5.96,
          8.25,
          6.11,
          6.19,
          4.77,
          6.9,
          7.5,
          7.5,
          7.91,
          6.47,
          7.86,
          8.15,
          8.33,
          4.71,
          7.15,
          8.49,
          6.47,
          4.04,
          7.51,
          8.85,
          9.17,
          3.36,
          8.8,
          5.44,
          6.29,
          6.75,
          7.36,
          6.28,
          7.78,
          6.3,
          5.63,
          6.17,
          6.77,
          5.89,
          8.79,
          8.75,
          8.4,
          3.9,
          5.74,
          3.99,
          6.6,
          5.3
         ]
        },
        {
         "marker": {
          "color": "green"
         },
         "name": "Happiness Score",
         "type": "bar",
         "x": [
          "Albania",
          "Algeria",
          "Angola",
          "Argentina",
          "Armenia",
          "Australia",
          "Austria",
          "Azerbaijan",
          "Bahamas",
          "Bahrain",
          "Bangladesh",
          "Barbados",
          "Belarus",
          "Belgium",
          "Belize",
          "Benin",
          "Bhutan",
          "Bolivia",
          "Bosnia and Herzegovina",
          "Botswana",
          "Brazil",
          "Brunei Darussalam",
          "Bulgaria",
          "Burkina Faso",
          "Burundi",
          "Cabo Verde",
          "Cambodia",
          "Cameroon",
          "Canada",
          "Central African Republic",
          "Chad",
          "Chile",
          "China",
          "Colombia",
          "Comoros",
          "Congo, Dem. Rep.",
          "Congo, Dem. Rep.",
          "Congo, Dem. Rep.",
          "Congo, Dem. Rep.",
          "Congo, Dem. Rep.",
          "Congo, Dem. Rep.",
          "Congo",
          "Costa Rica",
          "Ivory Coast",
          "Ivory Coast",
          "Ivory Coast",
          "Ivory Coast",
          "Ivory Coast",
          "Ivory Coast",
          "Croatia",
          "Cyprus",
          "Czech Republic",
          "Denmark",
          "Djibouti",
          "Dominican Republic",
          "Ecuador",
          "Egypt",
          "El Salvador",
          "Estonia",
          "Eswatini",
          "Ethiopia",
          "Fiji",
          "Finland",
          "France",
          "Gabon",
          "Gambia",
          "Georgia",
          "Germany",
          "Ghana",
          "Greece",
          "Guatemala",
          "Guinea",
          "Guinea-Bissau",
          "Guyana",
          "Haiti",
          "Honduras",
          "Hong Kong SAR, China",
          "Hong Kong SAR, China",
          "Hong Kong SAR, China",
          "Hong Kong SAR, China",
          "Hong Kong SAR, China",
          "Hong Kong SAR, China",
          "Hungary",
          "Iceland",
          "India",
          "Indonesia",
          "Iran",
          "Iraq",
          "Ireland",
          "Israel",
          "Italy",
          "Jamaica",
          "Japan",
          "Jordan",
          "Kazakhstan",
          "Kenya",
          "South Korea",
          "Kuwait",
          "Kyrgyzstan",
          "Laos",
          "Laos",
          "Laos",
          "Laos",
          "Laos",
          "Laos",
          "Latvia",
          "Lebanon",
          "Lesotho",
          "Liberia",
          "Libya",
          "Lithuania",
          "Luxembourg",
          "Madagascar",
          "Malawi",
          "Malaysia",
          "Mali",
          "Malta",
          "Mauritania",
          "Mauritius",
          "Mexico",
          "Moldova",
          "Mongolia",
          "Montenegro",
          "Morocco",
          "Mozambique",
          "Myanmar",
          "Namibia",
          "Nepal",
          "Netherlands",
          "New Zealand",
          "Nicaragua",
          "Niger",
          "Niger",
          "Nigeria",
          "Nigeria",
          "North Macedonia",
          "Norway",
          "Oman",
          "Pakistan",
          "Panama",
          "Papua New Guinea",
          "Paraguay",
          "Peru",
          "Philippines",
          "Poland",
          "Portugal",
          "Qatar",
          "Romania",
          "Russian Federation",
          "Rwanda",
          "Saudi Arabia",
          "Senegal",
          "Serbia",
          "Serbia",
          "Seychelles",
          "Sierra Leone",
          "Singapore",
          "Slovakia",
          "Slovenia",
          "Somalia",
          "South Africa",
          "Spain",
          "Sri Lanka",
          "Sudan",
          "Suriname",
          "Sweden",
          "Switzerland",
          "Syrian Arab Republic",
          "Taiwan",
          "Tajikistan",
          "Tanzania",
          "Thailand",
          "Timor-Leste",
          "Togo",
          "Trinidad and Tobago",
          "Tunisia",
          "Turkey",
          "Uganda",
          "Ukraine",
          "United Arab Emirates",
          "United Kingdom",
          "United States",
          "Uruguay",
          "Venezuela",
          "Vietnam",
          "Yemen",
          "Zambia",
          "Zimbabwe"
         ],
         "y": [
          4.719,
          5.211,
          null,
          6.086,
          4.559,
          7.228,
          7.246,
          5.208,
          null,
          6.199,
          4.456,
          null,
          5.323,
          6.923,
          null,
          4.883,
          5.082,
          5.779,
          5.386,
          3.488,
          6.3,
          null,
          5.011,
          4.587,
          3.775,
          null,
          4.7,
          5.044,
          7.278,
          3.083,
          4.35,
          6.444,
          5.191,
          6.125,
          3.973,
          5.718,
          4.944,
          4.812,
          4.796,
          4.696,
          4.418,
          null,
          7.167,
          5.718,
          4.944,
          4.812,
          4.796,
          4.696,
          4.418,
          5.432,
          6.046,
          6.852,
          7.6,
          null,
          5.425,
          6.028,
          4.166,
          6.253,
          5.893,
          4.212,
          4.286,
          null,
          7.769,
          6.592,
          4.799,
          4.516,
          4.519,
          6.985,
          4.996,
          5.287,
          6.436,
          4.534,
          null,
          null,
          3.597,
          5.86,
          5.718,
          4.944,
          4.812,
          4.796,
          4.696,
          4.418,
          5.758,
          7.494,
          4.015,
          5.192,
          4.548,
          4.437,
          7.021,
          7.139,
          6.223,
          5.89,
          5.886,
          4.906,
          5.809,
          4.509,
          5.895,
          6.021,
          5.261,
          5.718,
          4.944,
          4.812,
          4.796,
          4.696,
          4.418,
          5.94,
          5.197,
          3.802,
          3.975,
          5.525,
          6.149,
          7.09,
          3.933,
          3.41,
          5.339,
          4.39,
          6.726,
          4.49,
          5.888,
          6.595,
          5.529,
          5.285,
          5.523,
          5.208,
          4.466,
          4.36,
          4.639,
          4.913,
          7.488,
          7.307,
          6.105,
          5.265,
          4.628,
          5.265,
          4.628,
          5.274,
          7.554,
          null,
          5.653,
          6.321,
          null,
          5.743,
          5.697,
          5.631,
          6.182,
          5.693,
          6.374,
          6.07,
          5.648,
          3.334,
          6.375,
          4.681,
          6.1,
          5.603,
          null,
          4.374,
          6.262,
          6.198,
          6.118,
          4.668,
          4.722,
          6.354,
          4.366,
          null,
          null,
          7.343,
          7.48,
          3.462,
          6.446,
          5.467,
          3.231,
          6.008,
          null,
          4.085,
          6.192,
          4.461,
          5.373,
          4.189,
          4.332,
          6.825,
          7.054,
          6.892,
          6.293,
          4.707,
          5.175,
          3.38,
          4.107,
          3.663
         ]
        }
       ],
       "layout": {
        "barmode": "group",
        "legend": {
         "title": {
          "text": "Scores"
         }
        },
        "template": {
         "data": {
          "bar": [
           {
            "error_x": {
             "color": "#2a3f5f"
            },
            "error_y": {
             "color": "#2a3f5f"
            },
            "marker": {
             "line": {
              "color": "#E5ECF6",
              "width": 0.5
             },
             "pattern": {
              "fillmode": "overlay",
              "size": 10,
              "solidity": 0.2
             }
            },
            "type": "bar"
           }
          ],
          "barpolar": [
           {
            "marker": {
             "line": {
              "color": "#E5ECF6",
              "width": 0.5
             },
             "pattern": {
              "fillmode": "overlay",
              "size": 10,
              "solidity": 0.2
             }
            },
            "type": "barpolar"
           }
          ],
          "carpet": [
           {
            "aaxis": {
             "endlinecolor": "#2a3f5f",
             "gridcolor": "white",
             "linecolor": "white",
             "minorgridcolor": "white",
             "startlinecolor": "#2a3f5f"
            },
            "baxis": {
             "endlinecolor": "#2a3f5f",
             "gridcolor": "white",
             "linecolor": "white",
             "minorgridcolor": "white",
             "startlinecolor": "#2a3f5f"
            },
            "type": "carpet"
           }
          ],
          "choropleth": [
           {
            "colorbar": {
             "outlinewidth": 0,
             "ticks": ""
            },
            "type": "choropleth"
           }
          ],
          "contour": [
           {
            "colorbar": {
             "outlinewidth": 0,
             "ticks": ""
            },
            "colorscale": [
             [
              0,
              "#0d0887"
             ],
             [
              0.1111111111111111,
              "#46039f"
             ],
             [
              0.2222222222222222,
              "#7201a8"
             ],
             [
              0.3333333333333333,
              "#9c179e"
             ],
             [
              0.4444444444444444,
              "#bd3786"
             ],
             [
              0.5555555555555556,
              "#d8576b"
             ],
             [
              0.6666666666666666,
              "#ed7953"
             ],
             [
              0.7777777777777778,
              "#fb9f3a"
             ],
             [
              0.8888888888888888,
              "#fdca26"
             ],
             [
              1,
              "#f0f921"
             ]
            ],
            "type": "contour"
           }
          ],
          "contourcarpet": [
           {
            "colorbar": {
             "outlinewidth": 0,
             "ticks": ""
            },
            "type": "contourcarpet"
           }
          ],
          "heatmap": [
           {
            "colorbar": {
             "outlinewidth": 0,
             "ticks": ""
            },
            "colorscale": [
             [
              0,
              "#0d0887"
             ],
             [
              0.1111111111111111,
              "#46039f"
             ],
             [
              0.2222222222222222,
              "#7201a8"
             ],
             [
              0.3333333333333333,
              "#9c179e"
             ],
             [
              0.4444444444444444,
              "#bd3786"
             ],
             [
              0.5555555555555556,
              "#d8576b"
             ],
             [
              0.6666666666666666,
              "#ed7953"
             ],
             [
              0.7777777777777778,
              "#fb9f3a"
             ],
             [
              0.8888888888888888,
              "#fdca26"
             ],
             [
              1,
              "#f0f921"
             ]
            ],
            "type": "heatmap"
           }
          ],
          "heatmapgl": [
           {
            "colorbar": {
             "outlinewidth": 0,
             "ticks": ""
            },
            "colorscale": [
             [
              0,
              "#0d0887"
             ],
             [
              0.1111111111111111,
              "#46039f"
             ],
             [
              0.2222222222222222,
              "#7201a8"
             ],
             [
              0.3333333333333333,
              "#9c179e"
             ],
             [
              0.4444444444444444,
              "#bd3786"
             ],
             [
              0.5555555555555556,
              "#d8576b"
             ],
             [
              0.6666666666666666,
              "#ed7953"
             ],
             [
              0.7777777777777778,
              "#fb9f3a"
             ],
             [
              0.8888888888888888,
              "#fdca26"
             ],
             [
              1,
              "#f0f921"
             ]
            ],
            "type": "heatmapgl"
           }
          ],
          "histogram": [
           {
            "marker": {
             "pattern": {
              "fillmode": "overlay",
              "size": 10,
              "solidity": 0.2
             }
            },
            "type": "histogram"
           }
          ],
          "histogram2d": [
           {
            "colorbar": {
             "outlinewidth": 0,
             "ticks": ""
            },
            "colorscale": [
             [
              0,
              "#0d0887"
             ],
             [
              0.1111111111111111,
              "#46039f"
             ],
             [
              0.2222222222222222,
              "#7201a8"
             ],
             [
              0.3333333333333333,
              "#9c179e"
             ],
             [
              0.4444444444444444,
              "#bd3786"
             ],
             [
              0.5555555555555556,
              "#d8576b"
             ],
             [
              0.6666666666666666,
              "#ed7953"
             ],
             [
              0.7777777777777778,
              "#fb9f3a"
             ],
             [
              0.8888888888888888,
              "#fdca26"
             ],
             [
              1,
              "#f0f921"
             ]
            ],
            "type": "histogram2d"
           }
          ],
          "histogram2dcontour": [
           {
            "colorbar": {
             "outlinewidth": 0,
             "ticks": ""
            },
            "colorscale": [
             [
              0,
              "#0d0887"
             ],
             [
              0.1111111111111111,
              "#46039f"
             ],
             [
              0.2222222222222222,
              "#7201a8"
             ],
             [
              0.3333333333333333,
              "#9c179e"
             ],
             [
              0.4444444444444444,
              "#bd3786"
             ],
             [
              0.5555555555555556,
              "#d8576b"
             ],
             [
              0.6666666666666666,
              "#ed7953"
             ],
             [
              0.7777777777777778,
              "#fb9f3a"
             ],
             [
              0.8888888888888888,
              "#fdca26"
             ],
             [
              1,
              "#f0f921"
             ]
            ],
            "type": "histogram2dcontour"
           }
          ],
          "mesh3d": [
           {
            "colorbar": {
             "outlinewidth": 0,
             "ticks": ""
            },
            "type": "mesh3d"
           }
          ],
          "parcoords": [
           {
            "line": {
             "colorbar": {
              "outlinewidth": 0,
              "ticks": ""
             }
            },
            "type": "parcoords"
           }
          ],
          "pie": [
           {
            "automargin": true,
            "type": "pie"
           }
          ],
          "scatter": [
           {
            "fillpattern": {
             "fillmode": "overlay",
             "size": 10,
             "solidity": 0.2
            },
            "type": "scatter"
           }
          ],
          "scatter3d": [
           {
            "line": {
             "colorbar": {
              "outlinewidth": 0,
              "ticks": ""
             }
            },
            "marker": {
             "colorbar": {
              "outlinewidth": 0,
              "ticks": ""
             }
            },
            "type": "scatter3d"
           }
          ],
          "scattercarpet": [
           {
            "marker": {
             "colorbar": {
              "outlinewidth": 0,
              "ticks": ""
             }
            },
            "type": "scattercarpet"
           }
          ],
          "scattergeo": [
           {
            "marker": {
             "colorbar": {
              "outlinewidth": 0,
              "ticks": ""
             }
            },
            "type": "scattergeo"
           }
          ],
          "scattergl": [
           {
            "marker": {
             "colorbar": {
              "outlinewidth": 0,
              "ticks": ""
             }
            },
            "type": "scattergl"
           }
          ],
          "scattermapbox": [
           {
            "marker": {
             "colorbar": {
              "outlinewidth": 0,
              "ticks": ""
             }
            },
            "type": "scattermapbox"
           }
          ],
          "scatterpolar": [
           {
            "marker": {
             "colorbar": {
              "outlinewidth": 0,
              "ticks": ""
             }
            },
            "type": "scatterpolar"
           }
          ],
          "scatterpolargl": [
           {
            "marker": {
             "colorbar": {
              "outlinewidth": 0,
              "ticks": ""
             }
            },
            "type": "scatterpolargl"
           }
          ],
          "scatterternary": [
           {
            "marker": {
             "colorbar": {
              "outlinewidth": 0,
              "ticks": ""
             }
            },
            "type": "scatterternary"
           }
          ],
          "surface": [
           {
            "colorbar": {
             "outlinewidth": 0,
             "ticks": ""
            },
            "colorscale": [
             [
              0,
              "#0d0887"
             ],
             [
              0.1111111111111111,
              "#46039f"
             ],
             [
              0.2222222222222222,
              "#7201a8"
             ],
             [
              0.3333333333333333,
              "#9c179e"
             ],
             [
              0.4444444444444444,
              "#bd3786"
             ],
             [
              0.5555555555555556,
              "#d8576b"
             ],
             [
              0.6666666666666666,
              "#ed7953"
             ],
             [
              0.7777777777777778,
              "#fb9f3a"
             ],
             [
              0.8888888888888888,
              "#fdca26"
             ],
             [
              1,
              "#f0f921"
             ]
            ],
            "type": "surface"
           }
          ],
          "table": [
           {
            "cells": {
             "fill": {
              "color": "#EBF0F8"
             },
             "line": {
              "color": "white"
             }
            },
            "header": {
             "fill": {
              "color": "#C8D4E3"
             },
             "line": {
              "color": "white"
             }
            },
            "type": "table"
           }
          ]
         },
         "layout": {
          "annotationdefaults": {
           "arrowcolor": "#2a3f5f",
           "arrowhead": 0,
           "arrowwidth": 1
          },
          "autotypenumbers": "strict",
          "coloraxis": {
           "colorbar": {
            "outlinewidth": 0,
            "ticks": ""
           }
          },
          "colorscale": {
           "diverging": [
            [
             0,
             "#8e0152"
            ],
            [
             0.1,
             "#c51b7d"
            ],
            [
             0.2,
             "#de77ae"
            ],
            [
             0.3,
             "#f1b6da"
            ],
            [
             0.4,
             "#fde0ef"
            ],
            [
             0.5,
             "#f7f7f7"
            ],
            [
             0.6,
             "#e6f5d0"
            ],
            [
             0.7,
             "#b8e186"
            ],
            [
             0.8,
             "#7fbc41"
            ],
            [
             0.9,
             "#4d9221"
            ],
            [
             1,
             "#276419"
            ]
           ],
           "sequential": [
            [
             0,
             "#0d0887"
            ],
            [
             0.1111111111111111,
             "#46039f"
            ],
            [
             0.2222222222222222,
             "#7201a8"
            ],
            [
             0.3333333333333333,
             "#9c179e"
            ],
            [
             0.4444444444444444,
             "#bd3786"
            ],
            [
             0.5555555555555556,
             "#d8576b"
            ],
            [
             0.6666666666666666,
             "#ed7953"
            ],
            [
             0.7777777777777778,
             "#fb9f3a"
            ],
            [
             0.8888888888888888,
             "#fdca26"
            ],
            [
             1,
             "#f0f921"
            ]
           ],
           "sequentialminus": [
            [
             0,
             "#0d0887"
            ],
            [
             0.1111111111111111,
             "#46039f"
            ],
            [
             0.2222222222222222,
             "#7201a8"
            ],
            [
             0.3333333333333333,
             "#9c179e"
            ],
            [
             0.4444444444444444,
             "#bd3786"
            ],
            [
             0.5555555555555556,
             "#d8576b"
            ],
            [
             0.6666666666666666,
             "#ed7953"
            ],
            [
             0.7777777777777778,
             "#fb9f3a"
            ],
            [
             0.8888888888888888,
             "#fdca26"
            ],
            [
             1,
             "#f0f921"
            ]
           ]
          },
          "colorway": [
           "#636efa",
           "#EF553B",
           "#00cc96",
           "#ab63fa",
           "#FFA15A",
           "#19d3f3",
           "#FF6692",
           "#B6E880",
           "#FF97FF",
           "#FECB52"
          ],
          "font": {
           "color": "#2a3f5f"
          },
          "geo": {
           "bgcolor": "white",
           "lakecolor": "white",
           "landcolor": "#E5ECF6",
           "showlakes": true,
           "showland": true,
           "subunitcolor": "white"
          },
          "hoverlabel": {
           "align": "left"
          },
          "hovermode": "closest",
          "mapbox": {
           "style": "light"
          },
          "paper_bgcolor": "white",
          "plot_bgcolor": "#E5ECF6",
          "polar": {
           "angularaxis": {
            "gridcolor": "white",
            "linecolor": "white",
            "ticks": ""
           },
           "bgcolor": "#E5ECF6",
           "radialaxis": {
            "gridcolor": "white",
            "linecolor": "white",
            "ticks": ""
           }
          },
          "scene": {
           "xaxis": {
            "backgroundcolor": "#E5ECF6",
            "gridcolor": "white",
            "gridwidth": 2,
            "linecolor": "white",
            "showbackground": true,
            "ticks": "",
            "zerolinecolor": "white"
           },
           "yaxis": {
            "backgroundcolor": "#E5ECF6",
            "gridcolor": "white",
            "gridwidth": 2,
            "linecolor": "white",
            "showbackground": true,
            "ticks": "",
            "zerolinecolor": "white"
           },
           "zaxis": {
            "backgroundcolor": "#E5ECF6",
            "gridcolor": "white",
            "gridwidth": 2,
            "linecolor": "white",
            "showbackground": true,
            "ticks": "",
            "zerolinecolor": "white"
           }
          },
          "shapedefaults": {
           "line": {
            "color": "#2a3f5f"
           }
          },
          "ternary": {
           "aaxis": {
            "gridcolor": "white",
            "linecolor": "white",
            "ticks": ""
           },
           "baxis": {
            "gridcolor": "white",
            "linecolor": "white",
            "ticks": ""
           },
           "bgcolor": "#E5ECF6",
           "caxis": {
            "gridcolor": "white",
            "linecolor": "white",
            "ticks": ""
           }
          },
          "title": {
           "x": 0.05
          },
          "xaxis": {
           "automargin": true,
           "gridcolor": "white",
           "linecolor": "white",
           "ticks": "",
           "title": {
            "standoff": 15
           },
           "zerolinecolor": "white",
           "zerolinewidth": 2
          },
          "yaxis": {
           "automargin": true,
           "gridcolor": "white",
           "linecolor": "white",
           "ticks": "",
           "title": {
            "standoff": 15
           },
           "zerolinecolor": "white",
           "zerolinewidth": 2
          }
         }
        },
        "title": {
         "text": "Freedom and Happiness Scores Across Countries"
        },
        "xaxis": {
         "title": {
          "text": "Country"
         }
        },
        "yaxis": {
         "title": {
          "text": "Score"
         }
        }
       }
      },
      "text/html": [
       "<div>                            <div id=\"16fde8b5-2b1b-4b49-9c25-5dccce21ca0c\" class=\"plotly-graph-div\" style=\"height:525px; width:100%;\"></div>            <script type=\"text/javascript\">                require([\"plotly\"], function(Plotly) {                    window.PLOTLYENV=window.PLOTLYENV || {};                                    if (document.getElementById(\"16fde8b5-2b1b-4b49-9c25-5dccce21ca0c\")) {                    Plotly.newPlot(                        \"16fde8b5-2b1b-4b49-9c25-5dccce21ca0c\",                        [{\"marker\":{\"color\":\"blue\"},\"name\":\"Human Freedom Score\",\"x\":[\"Albania\",\"Algeria\",\"Angola\",\"Argentina\",\"Armenia\",\"Australia\",\"Austria\",\"Azerbaijan\",\"Bahamas\",\"Bahrain\",\"Bangladesh\",\"Barbados\",\"Belarus\",\"Belgium\",\"Belize\",\"Benin\",\"Bhutan\",\"Bolivia\",\"Bosnia and Herzegovina\",\"Botswana\",\"Brazil\",\"Brunei Darussalam\",\"Bulgaria\",\"Burkina Faso\",\"Burundi\",\"Cabo Verde\",\"Cambodia\",\"Cameroon\",\"Canada\",\"Central African Republic\",\"Chad\",\"Chile\",\"China\",\"Colombia\",\"Comoros\",\"Congo, Dem. Rep.\",\"Congo, Dem. Rep.\",\"Congo, Dem. Rep.\",\"Congo, Dem. Rep.\",\"Congo, Dem. Rep.\",\"Congo, Dem. Rep.\",\"Congo\",\"Costa Rica\",\"Ivory Coast\",\"Ivory Coast\",\"Ivory Coast\",\"Ivory Coast\",\"Ivory Coast\",\"Ivory Coast\",\"Croatia\",\"Cyprus\",\"Czech Republic\",\"Denmark\",\"Djibouti\",\"Dominican Republic\",\"Ecuador\",\"Egypt\",\"El Salvador\",\"Estonia\",\"Eswatini\",\"Ethiopia\",\"Fiji\",\"Finland\",\"France\",\"Gabon\",\"Gambia\",\"Georgia\",\"Germany\",\"Ghana\",\"Greece\",\"Guatemala\",\"Guinea\",\"Guinea-Bissau\",\"Guyana\",\"Haiti\",\"Honduras\",\"Hong Kong SAR, China\",\"Hong Kong SAR, China\",\"Hong Kong SAR, China\",\"Hong Kong SAR, China\",\"Hong Kong SAR, China\",\"Hong Kong SAR, China\",\"Hungary\",\"Iceland\",\"India\",\"Indonesia\",\"Iran\",\"Iraq\",\"Ireland\",\"Israel\",\"Italy\",\"Jamaica\",\"Japan\",\"Jordan\",\"Kazakhstan\",\"Kenya\",\"South Korea\",\"Kuwait\",\"Kyrgyzstan\",\"Laos\",\"Laos\",\"Laos\",\"Laos\",\"Laos\",\"Laos\",\"Latvia\",\"Lebanon\",\"Lesotho\",\"Liberia\",\"Libya\",\"Lithuania\",\"Luxembourg\",\"Madagascar\",\"Malawi\",\"Malaysia\",\"Mali\",\"Malta\",\"Mauritania\",\"Mauritius\",\"Mexico\",\"Moldova\",\"Mongolia\",\"Montenegro\",\"Morocco\",\"Mozambique\",\"Myanmar\",\"Namibia\",\"Nepal\",\"Netherlands\",\"New Zealand\",\"Nicaragua\",\"Niger\",\"Niger\",\"Nigeria\",\"Nigeria\",\"North Macedonia\",\"Norway\",\"Oman\",\"Pakistan\",\"Panama\",\"Papua New Guinea\",\"Paraguay\",\"Peru\",\"Philippines\",\"Poland\",\"Portugal\",\"Qatar\",\"Romania\",\"Russian Federation\",\"Rwanda\",\"Saudi Arabia\",\"Senegal\",\"Serbia\",\"Serbia\",\"Seychelles\",\"Sierra Leone\",\"Singapore\",\"Slovakia\",\"Slovenia\",\"Somalia\",\"South Africa\",\"Spain\",\"Sri Lanka\",\"Sudan\",\"Suriname\",\"Sweden\",\"Switzerland\",\"Syrian Arab Republic\",\"Taiwan\",\"Tajikistan\",\"Tanzania\",\"Thailand\",\"Timor-Leste\",\"Togo\",\"Trinidad and Tobago\",\"Tunisia\",\"Turkey\",\"Uganda\",\"Ukraine\",\"United Arab Emirates\",\"United Kingdom\",\"United States\",\"Uruguay\",\"Venezuela\",\"Vietnam\",\"Yemen\",\"Zambia\",\"Zimbabwe\"],\"y\":[8.07,5.08,5.96,7.33,8.32,8.83,8.68,6.02,8.15,5.43,5.56,7.93,6.27,8.55,7.48,7.25,6.68,6.88,7.43,7.76,7.25,5.96,7.97,6.83,4.91,8.44,6.43,5.34,8.85,5.68,5.41,8.5,5.27,6.95,5.91,5.49,5.49,5.49,5.49,5.49,5.49,5.33,8.28,6.78,6.78,6.78,6.78,6.78,6.78,8.15,8.49,8.61,9.01,5.63,7.87,7.37,4.35,7.34,8.94,5.73,5.73,7.35,8.87,8.26,6.66,6.82,7.85,8.73,7.46,7.83,7.47,5.82,6.78,7.04,7.2,6.98,8.38,8.38,8.38,8.38,8.38,8.38,7.63,8.84,6.42,6.98,4.27,5.12,8.95,7.61,8.43,7.9,8.75,6.71,6.63,6.57,8.31,6.2,7.02,5.68,5.68,5.68,5.68,5.68,5.68,8.62,6.67,7.0,6.6,4.72,8.72,8.85,6.86,6.92,7.08,6.19,8.43,5.56,8.02,6.8,7.6,7.97,7.91,5.68,6.77,5.4,7.57,7.01,8.8,9.04,6.13,6.14,6.14,6.1,6.1,7.68,8.81,5.77,5.48,7.94,7.17,7.46,7.83,6.69,7.92,8.69,5.96,8.25,6.11,6.19,4.77,6.9,7.5,7.5,7.91,6.47,7.86,8.15,8.33,4.71,7.15,8.49,6.47,4.04,7.51,8.85,9.17,3.36,8.8,5.44,6.29,6.75,7.36,6.28,7.78,6.3,5.63,6.17,6.77,5.89,8.79,8.75,8.4,3.9,5.74,3.99,6.6,5.3],\"type\":\"bar\"},{\"marker\":{\"color\":\"green\"},\"name\":\"Happiness Score\",\"x\":[\"Albania\",\"Algeria\",\"Angola\",\"Argentina\",\"Armenia\",\"Australia\",\"Austria\",\"Azerbaijan\",\"Bahamas\",\"Bahrain\",\"Bangladesh\",\"Barbados\",\"Belarus\",\"Belgium\",\"Belize\",\"Benin\",\"Bhutan\",\"Bolivia\",\"Bosnia and Herzegovina\",\"Botswana\",\"Brazil\",\"Brunei Darussalam\",\"Bulgaria\",\"Burkina Faso\",\"Burundi\",\"Cabo Verde\",\"Cambodia\",\"Cameroon\",\"Canada\",\"Central African Republic\",\"Chad\",\"Chile\",\"China\",\"Colombia\",\"Comoros\",\"Congo, Dem. Rep.\",\"Congo, Dem. Rep.\",\"Congo, Dem. Rep.\",\"Congo, Dem. Rep.\",\"Congo, Dem. Rep.\",\"Congo, Dem. Rep.\",\"Congo\",\"Costa Rica\",\"Ivory Coast\",\"Ivory Coast\",\"Ivory Coast\",\"Ivory Coast\",\"Ivory Coast\",\"Ivory Coast\",\"Croatia\",\"Cyprus\",\"Czech Republic\",\"Denmark\",\"Djibouti\",\"Dominican Republic\",\"Ecuador\",\"Egypt\",\"El Salvador\",\"Estonia\",\"Eswatini\",\"Ethiopia\",\"Fiji\",\"Finland\",\"France\",\"Gabon\",\"Gambia\",\"Georgia\",\"Germany\",\"Ghana\",\"Greece\",\"Guatemala\",\"Guinea\",\"Guinea-Bissau\",\"Guyana\",\"Haiti\",\"Honduras\",\"Hong Kong SAR, China\",\"Hong Kong SAR, China\",\"Hong Kong SAR, China\",\"Hong Kong SAR, China\",\"Hong Kong SAR, China\",\"Hong Kong SAR, China\",\"Hungary\",\"Iceland\",\"India\",\"Indonesia\",\"Iran\",\"Iraq\",\"Ireland\",\"Israel\",\"Italy\",\"Jamaica\",\"Japan\",\"Jordan\",\"Kazakhstan\",\"Kenya\",\"South Korea\",\"Kuwait\",\"Kyrgyzstan\",\"Laos\",\"Laos\",\"Laos\",\"Laos\",\"Laos\",\"Laos\",\"Latvia\",\"Lebanon\",\"Lesotho\",\"Liberia\",\"Libya\",\"Lithuania\",\"Luxembourg\",\"Madagascar\",\"Malawi\",\"Malaysia\",\"Mali\",\"Malta\",\"Mauritania\",\"Mauritius\",\"Mexico\",\"Moldova\",\"Mongolia\",\"Montenegro\",\"Morocco\",\"Mozambique\",\"Myanmar\",\"Namibia\",\"Nepal\",\"Netherlands\",\"New Zealand\",\"Nicaragua\",\"Niger\",\"Niger\",\"Nigeria\",\"Nigeria\",\"North Macedonia\",\"Norway\",\"Oman\",\"Pakistan\",\"Panama\",\"Papua New Guinea\",\"Paraguay\",\"Peru\",\"Philippines\",\"Poland\",\"Portugal\",\"Qatar\",\"Romania\",\"Russian Federation\",\"Rwanda\",\"Saudi Arabia\",\"Senegal\",\"Serbia\",\"Serbia\",\"Seychelles\",\"Sierra Leone\",\"Singapore\",\"Slovakia\",\"Slovenia\",\"Somalia\",\"South Africa\",\"Spain\",\"Sri Lanka\",\"Sudan\",\"Suriname\",\"Sweden\",\"Switzerland\",\"Syrian Arab Republic\",\"Taiwan\",\"Tajikistan\",\"Tanzania\",\"Thailand\",\"Timor-Leste\",\"Togo\",\"Trinidad and Tobago\",\"Tunisia\",\"Turkey\",\"Uganda\",\"Ukraine\",\"United Arab Emirates\",\"United Kingdom\",\"United States\",\"Uruguay\",\"Venezuela\",\"Vietnam\",\"Yemen\",\"Zambia\",\"Zimbabwe\"],\"y\":[4.719,5.211,null,6.086,4.559,7.228,7.246,5.208,null,6.199,4.456,null,5.323,6.923,null,4.883,5.082,5.779,5.386,3.488,6.3,null,5.011,4.587,3.775,null,4.7,5.044,7.278,3.083,4.35,6.444,5.191,6.125,3.973,5.718,4.944,4.812,4.796,4.696,4.418,null,7.167,5.718,4.944,4.812,4.796,4.696,4.418,5.432,6.046,6.852,7.6,null,5.425,6.028,4.166,6.253,5.893,4.212,4.286,null,7.769,6.592,4.799,4.516,4.519,6.985,4.996,5.287,6.436,4.534,null,null,3.597,5.86,5.718,4.944,4.812,4.796,4.696,4.418,5.758,7.494,4.015,5.192,4.548,4.437,7.021,7.139,6.223,5.89,5.886,4.906,5.809,4.509,5.895,6.021,5.261,5.718,4.944,4.812,4.796,4.696,4.418,5.94,5.197,3.802,3.975,5.525,6.149,7.09,3.933,3.41,5.339,4.39,6.726,4.49,5.888,6.595,5.529,5.285,5.523,5.208,4.466,4.36,4.639,4.913,7.488,7.307,6.105,5.265,4.628,5.265,4.628,5.274,7.554,null,5.653,6.321,null,5.743,5.697,5.631,6.182,5.693,6.374,6.07,5.648,3.334,6.375,4.681,6.1,5.603,null,4.374,6.262,6.198,6.118,4.668,4.722,6.354,4.366,null,null,7.343,7.48,3.462,6.446,5.467,3.231,6.008,null,4.085,6.192,4.461,5.373,4.189,4.332,6.825,7.054,6.892,6.293,4.707,5.175,3.38,4.107,3.663],\"type\":\"bar\"}],                        {\"template\":{\"data\":{\"histogram2dcontour\":[{\"type\":\"histogram2dcontour\",\"colorbar\":{\"outlinewidth\":0,\"ticks\":\"\"},\"colorscale\":[[0.0,\"#0d0887\"],[0.1111111111111111,\"#46039f\"],[0.2222222222222222,\"#7201a8\"],[0.3333333333333333,\"#9c179e\"],[0.4444444444444444,\"#bd3786\"],[0.5555555555555556,\"#d8576b\"],[0.6666666666666666,\"#ed7953\"],[0.7777777777777778,\"#fb9f3a\"],[0.8888888888888888,\"#fdca26\"],[1.0,\"#f0f921\"]]}],\"choropleth\":[{\"type\":\"choropleth\",\"colorbar\":{\"outlinewidth\":0,\"ticks\":\"\"}}],\"histogram2d\":[{\"type\":\"histogram2d\",\"colorbar\":{\"outlinewidth\":0,\"ticks\":\"\"},\"colorscale\":[[0.0,\"#0d0887\"],[0.1111111111111111,\"#46039f\"],[0.2222222222222222,\"#7201a8\"],[0.3333333333333333,\"#9c179e\"],[0.4444444444444444,\"#bd3786\"],[0.5555555555555556,\"#d8576b\"],[0.6666666666666666,\"#ed7953\"],[0.7777777777777778,\"#fb9f3a\"],[0.8888888888888888,\"#fdca26\"],[1.0,\"#f0f921\"]]}],\"heatmap\":[{\"type\":\"heatmap\",\"colorbar\":{\"outlinewidth\":0,\"ticks\":\"\"},\"colorscale\":[[0.0,\"#0d0887\"],[0.1111111111111111,\"#46039f\"],[0.2222222222222222,\"#7201a8\"],[0.3333333333333333,\"#9c179e\"],[0.4444444444444444,\"#bd3786\"],[0.5555555555555556,\"#d8576b\"],[0.6666666666666666,\"#ed7953\"],[0.7777777777777778,\"#fb9f3a\"],[0.8888888888888888,\"#fdca26\"],[1.0,\"#f0f921\"]]}],\"heatmapgl\":[{\"type\":\"heatmapgl\",\"colorbar\":{\"outlinewidth\":0,\"ticks\":\"\"},\"colorscale\":[[0.0,\"#0d0887\"],[0.1111111111111111,\"#46039f\"],[0.2222222222222222,\"#7201a8\"],[0.3333333333333333,\"#9c179e\"],[0.4444444444444444,\"#bd3786\"],[0.5555555555555556,\"#d8576b\"],[0.6666666666666666,\"#ed7953\"],[0.7777777777777778,\"#fb9f3a\"],[0.8888888888888888,\"#fdca26\"],[1.0,\"#f0f921\"]]}],\"contourcarpet\":[{\"type\":\"contourcarpet\",\"colorbar\":{\"outlinewidth\":0,\"ticks\":\"\"}}],\"contour\":[{\"type\":\"contour\",\"colorbar\":{\"outlinewidth\":0,\"ticks\":\"\"},\"colorscale\":[[0.0,\"#0d0887\"],[0.1111111111111111,\"#46039f\"],[0.2222222222222222,\"#7201a8\"],[0.3333333333333333,\"#9c179e\"],[0.4444444444444444,\"#bd3786\"],[0.5555555555555556,\"#d8576b\"],[0.6666666666666666,\"#ed7953\"],[0.7777777777777778,\"#fb9f3a\"],[0.8888888888888888,\"#fdca26\"],[1.0,\"#f0f921\"]]}],\"surface\":[{\"type\":\"surface\",\"colorbar\":{\"outlinewidth\":0,\"ticks\":\"\"},\"colorscale\":[[0.0,\"#0d0887\"],[0.1111111111111111,\"#46039f\"],[0.2222222222222222,\"#7201a8\"],[0.3333333333333333,\"#9c179e\"],[0.4444444444444444,\"#bd3786\"],[0.5555555555555556,\"#d8576b\"],[0.6666666666666666,\"#ed7953\"],[0.7777777777777778,\"#fb9f3a\"],[0.8888888888888888,\"#fdca26\"],[1.0,\"#f0f921\"]]}],\"mesh3d\":[{\"type\":\"mesh3d\",\"colorbar\":{\"outlinewidth\":0,\"ticks\":\"\"}}],\"scatter\":[{\"fillpattern\":{\"fillmode\":\"overlay\",\"size\":10,\"solidity\":0.2},\"type\":\"scatter\"}],\"parcoords\":[{\"type\":\"parcoords\",\"line\":{\"colorbar\":{\"outlinewidth\":0,\"ticks\":\"\"}}}],\"scatterpolargl\":[{\"type\":\"scatterpolargl\",\"marker\":{\"colorbar\":{\"outlinewidth\":0,\"ticks\":\"\"}}}],\"bar\":[{\"error_x\":{\"color\":\"#2a3f5f\"},\"error_y\":{\"color\":\"#2a3f5f\"},\"marker\":{\"line\":{\"color\":\"#E5ECF6\",\"width\":0.5},\"pattern\":{\"fillmode\":\"overlay\",\"size\":10,\"solidity\":0.2}},\"type\":\"bar\"}],\"scattergeo\":[{\"type\":\"scattergeo\",\"marker\":{\"colorbar\":{\"outlinewidth\":0,\"ticks\":\"\"}}}],\"scatterpolar\":[{\"type\":\"scatterpolar\",\"marker\":{\"colorbar\":{\"outlinewidth\":0,\"ticks\":\"\"}}}],\"histogram\":[{\"marker\":{\"pattern\":{\"fillmode\":\"overlay\",\"size\":10,\"solidity\":0.2}},\"type\":\"histogram\"}],\"scattergl\":[{\"type\":\"scattergl\",\"marker\":{\"colorbar\":{\"outlinewidth\":0,\"ticks\":\"\"}}}],\"scatter3d\":[{\"type\":\"scatter3d\",\"line\":{\"colorbar\":{\"outlinewidth\":0,\"ticks\":\"\"}},\"marker\":{\"colorbar\":{\"outlinewidth\":0,\"ticks\":\"\"}}}],\"scattermapbox\":[{\"type\":\"scattermapbox\",\"marker\":{\"colorbar\":{\"outlinewidth\":0,\"ticks\":\"\"}}}],\"scatterternary\":[{\"type\":\"scatterternary\",\"marker\":{\"colorbar\":{\"outlinewidth\":0,\"ticks\":\"\"}}}],\"scattercarpet\":[{\"type\":\"scattercarpet\",\"marker\":{\"colorbar\":{\"outlinewidth\":0,\"ticks\":\"\"}}}],\"carpet\":[{\"aaxis\":{\"endlinecolor\":\"#2a3f5f\",\"gridcolor\":\"white\",\"linecolor\":\"white\",\"minorgridcolor\":\"white\",\"startlinecolor\":\"#2a3f5f\"},\"baxis\":{\"endlinecolor\":\"#2a3f5f\",\"gridcolor\":\"white\",\"linecolor\":\"white\",\"minorgridcolor\":\"white\",\"startlinecolor\":\"#2a3f5f\"},\"type\":\"carpet\"}],\"table\":[{\"cells\":{\"fill\":{\"color\":\"#EBF0F8\"},\"line\":{\"color\":\"white\"}},\"header\":{\"fill\":{\"color\":\"#C8D4E3\"},\"line\":{\"color\":\"white\"}},\"type\":\"table\"}],\"barpolar\":[{\"marker\":{\"line\":{\"color\":\"#E5ECF6\",\"width\":0.5},\"pattern\":{\"fillmode\":\"overlay\",\"size\":10,\"solidity\":0.2}},\"type\":\"barpolar\"}],\"pie\":[{\"automargin\":true,\"type\":\"pie\"}]},\"layout\":{\"autotypenumbers\":\"strict\",\"colorway\":[\"#636efa\",\"#EF553B\",\"#00cc96\",\"#ab63fa\",\"#FFA15A\",\"#19d3f3\",\"#FF6692\",\"#B6E880\",\"#FF97FF\",\"#FECB52\"],\"font\":{\"color\":\"#2a3f5f\"},\"hovermode\":\"closest\",\"hoverlabel\":{\"align\":\"left\"},\"paper_bgcolor\":\"white\",\"plot_bgcolor\":\"#E5ECF6\",\"polar\":{\"bgcolor\":\"#E5ECF6\",\"angularaxis\":{\"gridcolor\":\"white\",\"linecolor\":\"white\",\"ticks\":\"\"},\"radialaxis\":{\"gridcolor\":\"white\",\"linecolor\":\"white\",\"ticks\":\"\"}},\"ternary\":{\"bgcolor\":\"#E5ECF6\",\"aaxis\":{\"gridcolor\":\"white\",\"linecolor\":\"white\",\"ticks\":\"\"},\"baxis\":{\"gridcolor\":\"white\",\"linecolor\":\"white\",\"ticks\":\"\"},\"caxis\":{\"gridcolor\":\"white\",\"linecolor\":\"white\",\"ticks\":\"\"}},\"coloraxis\":{\"colorbar\":{\"outlinewidth\":0,\"ticks\":\"\"}},\"colorscale\":{\"sequential\":[[0.0,\"#0d0887\"],[0.1111111111111111,\"#46039f\"],[0.2222222222222222,\"#7201a8\"],[0.3333333333333333,\"#9c179e\"],[0.4444444444444444,\"#bd3786\"],[0.5555555555555556,\"#d8576b\"],[0.6666666666666666,\"#ed7953\"],[0.7777777777777778,\"#fb9f3a\"],[0.8888888888888888,\"#fdca26\"],[1.0,\"#f0f921\"]],\"sequentialminus\":[[0.0,\"#0d0887\"],[0.1111111111111111,\"#46039f\"],[0.2222222222222222,\"#7201a8\"],[0.3333333333333333,\"#9c179e\"],[0.4444444444444444,\"#bd3786\"],[0.5555555555555556,\"#d8576b\"],[0.6666666666666666,\"#ed7953\"],[0.7777777777777778,\"#fb9f3a\"],[0.8888888888888888,\"#fdca26\"],[1.0,\"#f0f921\"]],\"diverging\":[[0,\"#8e0152\"],[0.1,\"#c51b7d\"],[0.2,\"#de77ae\"],[0.3,\"#f1b6da\"],[0.4,\"#fde0ef\"],[0.5,\"#f7f7f7\"],[0.6,\"#e6f5d0\"],[0.7,\"#b8e186\"],[0.8,\"#7fbc41\"],[0.9,\"#4d9221\"],[1,\"#276419\"]]},\"xaxis\":{\"gridcolor\":\"white\",\"linecolor\":\"white\",\"ticks\":\"\",\"title\":{\"standoff\":15},\"zerolinecolor\":\"white\",\"automargin\":true,\"zerolinewidth\":2},\"yaxis\":{\"gridcolor\":\"white\",\"linecolor\":\"white\",\"ticks\":\"\",\"title\":{\"standoff\":15},\"zerolinecolor\":\"white\",\"automargin\":true,\"zerolinewidth\":2},\"scene\":{\"xaxis\":{\"backgroundcolor\":\"#E5ECF6\",\"gridcolor\":\"white\",\"linecolor\":\"white\",\"showbackground\":true,\"ticks\":\"\",\"zerolinecolor\":\"white\",\"gridwidth\":2},\"yaxis\":{\"backgroundcolor\":\"#E5ECF6\",\"gridcolor\":\"white\",\"linecolor\":\"white\",\"showbackground\":true,\"ticks\":\"\",\"zerolinecolor\":\"white\",\"gridwidth\":2},\"zaxis\":{\"backgroundcolor\":\"#E5ECF6\",\"gridcolor\":\"white\",\"linecolor\":\"white\",\"showbackground\":true,\"ticks\":\"\",\"zerolinecolor\":\"white\",\"gridwidth\":2}},\"shapedefaults\":{\"line\":{\"color\":\"#2a3f5f\"}},\"annotationdefaults\":{\"arrowcolor\":\"#2a3f5f\",\"arrowhead\":0,\"arrowwidth\":1},\"geo\":{\"bgcolor\":\"white\",\"landcolor\":\"#E5ECF6\",\"subunitcolor\":\"white\",\"showland\":true,\"showlakes\":true,\"lakecolor\":\"white\"},\"title\":{\"x\":0.05},\"mapbox\":{\"style\":\"light\"}}},\"title\":{\"text\":\"Freedom and Happiness Scores Across Countries\"},\"xaxis\":{\"title\":{\"text\":\"Country\"}},\"yaxis\":{\"title\":{\"text\":\"Score\"}},\"barmode\":\"group\",\"legend\":{\"title\":{\"text\":\"Scores\"}}},                        {\"responsive\": true}                    ).then(function(){\n",
       "                            \n",
       "var gd = document.getElementById('16fde8b5-2b1b-4b49-9c25-5dccce21ca0c');\n",
       "var x = new MutationObserver(function (mutations, observer) {{\n",
       "        var display = window.getComputedStyle(gd).display;\n",
       "        if (!display || display === 'none') {{\n",
       "            console.log([gd, 'removed!']);\n",
       "            Plotly.purge(gd);\n",
       "            observer.disconnect();\n",
       "        }}\n",
       "}});\n",
       "\n",
       "// Listen for the removal of the full notebook cells\n",
       "var notebookContainer = gd.closest('#notebook-container');\n",
       "if (notebookContainer) {{\n",
       "    x.observe(notebookContainer, {childList: true});\n",
       "}}\n",
       "\n",
       "// Listen for the clearing of the current output cell\n",
       "var outputEl = gd.closest('.output');\n",
       "if (outputEl) {{\n",
       "    x.observe(outputEl, {childList: true});\n",
       "}}\n",
       "\n",
       "                        })                };                });            </script>        </div>"
      ]
     },
     "metadata": {},
     "output_type": "display_data"
    }
   ],
   "source": [
    "fig = go.Figure()\n",
    "\n",
    "# Add freedom scores bar\n",
    "fig.add_trace(go.Bar(\n",
    "    x=data['Country'],\n",
    "    y=data['Human Freedom Score'],\n",
    "    name='Human Freedom Score',\n",
    "    marker_color='blue'\n",
    "))\n",
    "\n",
    "# Add happiness scores bar\n",
    "fig.add_trace(go.Bar(\n",
    "    x=data['Country'],\n",
    "    y=data['Happiness Score'],\n",
    "    name='Happiness Score',\n",
    "    marker_color='green'\n",
    "))\n",
    "\n",
    "# Customize the layout\n",
    "fig.update_layout(\n",
    "    title='Freedom and Happiness Scores Across Countries',\n",
    "    xaxis=dict(title='Country'),\n",
    "    yaxis=dict(title='Score'),\n",
    "    barmode='group',  # Grouped bars\n",
    "    legend=dict(title='Scores'),\n",
    "    template='plotly'\n",
    ")\n",
    "\n",
    "# Show the plot\n",
    "fig.show()"
   ]
  },
  {
   "cell_type": "markdown",
   "metadata": {},
   "source": [
    "*This is a draft, more about the idea instead of the look of the graph. Maybe we will make it with the countries on the y-axis, or split it in multiple graphs.*"
   ]
  },
  {
   "cell_type": "code",
   "execution_count": 30,
   "metadata": {},
   "outputs": [
    {
     "data": {
      "application/vnd.plotly.v1+json": {
       "config": {
        "plotlyServerURL": "https://plot.ly"
       },
       "data": [
        {
         "marker": {
          "color": "red",
          "opacity": 0.7,
          "size": 4
         },
         "mode": "markers",
         "name": "Human Freedom Score",
         "type": "scatter",
         "x": [
          8.07,
          5.08,
          5.96,
          7.33,
          8.32,
          8.83,
          8.68,
          6.02,
          8.15,
          5.43,
          5.56,
          7.93,
          6.27,
          8.55,
          7.48,
          7.25,
          6.68,
          6.88,
          7.43,
          7.76,
          7.25,
          5.96,
          7.97,
          6.83,
          4.91,
          8.44,
          6.43,
          5.34,
          8.85,
          5.68,
          5.41,
          8.5,
          5.27,
          6.95,
          5.91,
          5.49,
          5.49,
          5.49,
          5.49,
          5.49,
          5.49,
          5.33,
          8.28,
          6.78,
          6.78,
          6.78,
          6.78,
          6.78,
          6.78,
          8.15,
          8.49,
          8.61,
          9.01,
          5.63,
          7.87,
          7.37,
          4.35,
          7.34,
          8.94,
          5.73,
          5.73,
          7.35,
          8.87,
          8.26,
          6.66,
          6.82,
          7.85,
          8.73,
          7.46,
          7.83,
          7.47,
          5.82,
          6.78,
          7.04,
          7.2,
          6.98,
          8.38,
          8.38,
          8.38,
          8.38,
          8.38,
          8.38,
          7.63,
          8.84,
          6.42,
          6.98,
          4.27,
          5.12,
          8.95,
          7.61,
          8.43,
          7.9,
          8.75,
          6.71,
          6.63,
          6.57,
          8.31,
          6.2,
          7.02,
          5.68,
          5.68,
          5.68,
          5.68,
          5.68,
          5.68,
          8.62,
          6.67,
          7,
          6.6,
          4.72,
          8.72,
          8.85,
          6.86,
          6.92,
          7.08,
          6.19,
          8.43,
          5.56,
          8.02,
          6.8,
          7.6,
          7.97,
          7.91,
          5.68,
          6.77,
          5.4,
          7.57,
          7.01,
          8.8,
          9.04,
          6.13,
          6.14,
          6.14,
          6.1,
          6.1,
          7.68,
          8.81,
          5.77,
          5.48,
          7.94,
          7.17,
          7.46,
          7.83,
          6.69,
          7.92,
          8.69,
          5.96,
          8.25,
          6.11,
          6.19,
          4.77,
          6.9,
          7.5,
          7.5,
          7.91,
          6.47,
          7.86,
          8.15,
          8.33,
          4.71,
          7.15,
          8.49,
          6.47,
          4.04,
          7.51,
          8.85,
          9.17,
          3.36,
          8.8,
          5.44,
          6.29,
          6.75,
          7.36,
          6.28,
          7.78,
          6.3,
          5.63,
          6.17,
          6.77,
          5.89,
          8.79,
          8.75,
          8.4,
          3.9,
          5.74,
          3.99,
          6.6,
          5.3
         ],
         "xaxis": "x",
         "y": [
          4.719,
          5.211,
          null,
          6.086,
          4.559,
          7.228,
          7.246,
          5.208,
          null,
          6.199,
          4.456,
          null,
          5.323,
          6.923,
          null,
          4.883,
          5.082,
          5.779,
          5.386,
          3.488,
          6.3,
          null,
          5.011,
          4.587,
          3.775,
          null,
          4.7,
          5.044,
          7.278,
          3.083,
          4.35,
          6.444,
          5.191,
          6.125,
          3.973,
          5.718,
          4.944,
          4.812,
          4.796,
          4.696,
          4.418,
          null,
          7.167,
          5.718,
          4.944,
          4.812,
          4.796,
          4.696,
          4.418,
          5.432,
          6.046,
          6.852,
          7.6,
          null,
          5.425,
          6.028,
          4.166,
          6.253,
          5.893,
          4.212,
          4.286,
          null,
          7.769,
          6.592,
          4.799,
          4.516,
          4.519,
          6.985,
          4.996,
          5.287,
          6.436,
          4.534,
          null,
          null,
          3.597,
          5.86,
          5.718,
          4.944,
          4.812,
          4.796,
          4.696,
          4.418,
          5.758,
          7.494,
          4.015,
          5.192,
          4.548,
          4.437,
          7.021,
          7.139,
          6.223,
          5.89,
          5.886,
          4.906,
          5.809,
          4.509,
          5.895,
          6.021,
          5.261,
          5.718,
          4.944,
          4.812,
          4.796,
          4.696,
          4.418,
          5.94,
          5.197,
          3.802,
          3.975,
          5.525,
          6.149,
          7.09,
          3.933,
          3.41,
          5.339,
          4.39,
          6.726,
          4.49,
          5.888,
          6.595,
          5.529,
          5.285,
          5.523,
          5.208,
          4.466,
          4.36,
          4.639,
          4.913,
          7.488,
          7.307,
          6.105,
          5.265,
          4.628,
          5.265,
          4.628,
          5.274,
          7.554,
          null,
          5.653,
          6.321,
          null,
          5.743,
          5.697,
          5.631,
          6.182,
          5.693,
          6.374,
          6.07,
          5.648,
          3.334,
          6.375,
          4.681,
          6.1,
          5.603,
          null,
          4.374,
          6.262,
          6.198,
          6.118,
          4.668,
          4.722,
          6.354,
          4.366,
          null,
          null,
          7.343,
          7.48,
          3.462,
          6.446,
          5.467,
          3.231,
          6.008,
          null,
          4.085,
          6.192,
          4.461,
          5.373,
          4.189,
          4.332,
          6.825,
          7.054,
          6.892,
          6.293,
          4.707,
          5.175,
          3.38,
          4.107,
          3.663
         ],
         "yaxis": "y"
        },
        {
         "marker": {
          "color": "green",
          "opacity": 0.7,
          "size": 4
         },
         "mode": "markers",
         "name": "Economic Freedom Score",
         "type": "scatter",
         "x": [
          7.79,
          4.86,
          5.55,
          5.44,
          7.98,
          8.17,
          7.86,
          6.43,
          7.21,
          7.43,
          6.04,
          7.05,
          6.48,
          7.62,
          6.41,
          6.66,
          6.52,
          6.32,
          6.94,
          7.47,
          6.6,
          7.3,
          7.79,
          6.25,
          5.67,
          7.65,
          7.38,
          5.79,
          8.05,
          5.37,
          5.63,
          7.86,
          6.33,
          6.83,
          6.33,
          5.42,
          5.42,
          5.42,
          5.42,
          5.42,
          5.42,
          4.78,
          7.67,
          6.17,
          6.17,
          6.17,
          6.17,
          6.17,
          6.17,
          7.42,
          7.89,
          7.98,
          8.23,
          6.45,
          7.6,
          6.68,
          5.74,
          7.34,
          8.11,
          6.14,
          5.82,
          6.36,
          7.92,
          7.55,
          5.83,
          7.06,
          8.16,
          7.89,
          6.72,
          7.19,
          7.78,
          5.94,
          5.7,
          5.81,
          6.68,
          7.24,
          8.87,
          8.87,
          8.87,
          8.87,
          8.87,
          8.87,
          7.51,
          7.91,
          6.76,
          7.26,
          5.02,
          5.41,
          8.19,
          7.63,
          7.61,
          7.61,
          7.97,
          7.51,
          7.6,
          7,
          7.62,
          6.74,
          7.17,
          6.65,
          6.65,
          6.65,
          6.65,
          6.65,
          6.65,
          7.94,
          6.85,
          6.46,
          6.16,
          4.47,
          8.22,
          7.89,
          6.32,
          5.94,
          7.52,
          5.9,
          8.02,
          6.55,
          8.2,
          7.2,
          7.32,
          7.42,
          7.63,
          6.74,
          6.47,
          5.56,
          6.75,
          6.73,
          7.96,
          8.56,
          7.04,
          5.62,
          5.62,
          7.03,
          7.03,
          7.17,
          7.75,
          6.77,
          6,
          7.74,
          6.01,
          7.11,
          7.78,
          7.34,
          7.22,
          7.77,
          7.11,
          7.87,
          6.83,
          7.25,
          6.89,
          6.26,
          7.21,
          7.21,
          7.63,
          5.85,
          8.81,
          7.61,
          7.43,
          6.25,
          6.79,
          7.89,
          6.72,
          3.58,
          6,
          7.7,
          8.49,
          4.8,
          8.1,
          6.54,
          6.58,
          6.91,
          5.92,
          6.07,
          7.22,
          5.94,
          6.49,
          7.41,
          6.2,
          7.28,
          8.16,
          8.25,
          7.38,
          2.87,
          6.4,
          5.72,
          6.95,
          4.6
         ],
         "xaxis": "x2",
         "y": [
          4.719,
          5.211,
          null,
          6.086,
          4.559,
          7.228,
          7.246,
          5.208,
          null,
          6.199,
          4.456,
          null,
          5.323,
          6.923,
          null,
          4.883,
          5.082,
          5.779,
          5.386,
          3.488,
          6.3,
          null,
          5.011,
          4.587,
          3.775,
          null,
          4.7,
          5.044,
          7.278,
          3.083,
          4.35,
          6.444,
          5.191,
          6.125,
          3.973,
          5.718,
          4.944,
          4.812,
          4.796,
          4.696,
          4.418,
          null,
          7.167,
          5.718,
          4.944,
          4.812,
          4.796,
          4.696,
          4.418,
          5.432,
          6.046,
          6.852,
          7.6,
          null,
          5.425,
          6.028,
          4.166,
          6.253,
          5.893,
          4.212,
          4.286,
          null,
          7.769,
          6.592,
          4.799,
          4.516,
          4.519,
          6.985,
          4.996,
          5.287,
          6.436,
          4.534,
          null,
          null,
          3.597,
          5.86,
          5.718,
          4.944,
          4.812,
          4.796,
          4.696,
          4.418,
          5.758,
          7.494,
          4.015,
          5.192,
          4.548,
          4.437,
          7.021,
          7.139,
          6.223,
          5.89,
          5.886,
          4.906,
          5.809,
          4.509,
          5.895,
          6.021,
          5.261,
          5.718,
          4.944,
          4.812,
          4.796,
          4.696,
          4.418,
          5.94,
          5.197,
          3.802,
          3.975,
          5.525,
          6.149,
          7.09,
          3.933,
          3.41,
          5.339,
          4.39,
          6.726,
          4.49,
          5.888,
          6.595,
          5.529,
          5.285,
          5.523,
          5.208,
          4.466,
          4.36,
          4.639,
          4.913,
          7.488,
          7.307,
          6.105,
          5.265,
          4.628,
          5.265,
          4.628,
          5.274,
          7.554,
          null,
          5.653,
          6.321,
          null,
          5.743,
          5.697,
          5.631,
          6.182,
          5.693,
          6.374,
          6.07,
          5.648,
          3.334,
          6.375,
          4.681,
          6.1,
          5.603,
          null,
          4.374,
          6.262,
          6.198,
          6.118,
          4.668,
          4.722,
          6.354,
          4.366,
          null,
          null,
          7.343,
          7.48,
          3.462,
          6.446,
          5.467,
          3.231,
          6.008,
          null,
          4.085,
          6.192,
          4.461,
          5.373,
          4.189,
          4.332,
          6.825,
          7.054,
          6.892,
          6.293,
          4.707,
          5.175,
          3.38,
          4.107,
          3.663
         ],
         "yaxis": "y2"
        },
        {
         "marker": {
          "color": "blue",
          "opacity": 0.7,
          "size": 4
         },
         "mode": "markers",
         "name": "Personal Freedom Score",
         "type": "scatter",
         "x": [
          8.27,
          5.24,
          6.25,
          8.68,
          8.56,
          9.3,
          9.27,
          5.73,
          8.82,
          4,
          5.21,
          8.56,
          6.12,
          9.22,
          8.24,
          7.67,
          6.8,
          7.27,
          7.78,
          7.97,
          7.71,
          4.85,
          8.1,
          7.24,
          4.38,
          8.99,
          5.75,
          5.02,
          9.43,
          5.9,
          5.25,
          8.95,
          4.52,
          7.03,
          5.62,
          5.54,
          5.54,
          5.54,
          5.54,
          5.54,
          5.54,
          5.72,
          8.71,
          7.21,
          7.21,
          7.21,
          7.21,
          7.21,
          7.21,
          8.67,
          8.91,
          9.06,
          9.57,
          5.05,
          8.07,
          7.87,
          3.36,
          7.35,
          9.54,
          5.44,
          5.67,
          8.07,
          9.56,
          8.77,
          7.26,
          6.65,
          7.62,
          9.32,
          7.99,
          8.28,
          7.25,
          5.74,
          7.55,
          7.92,
          7.57,
          6.79,
          8.03,
          8.03,
          8.03,
          8.03,
          8.03,
          8.03,
          7.72,
          9.5,
          6.18,
          6.78,
          3.73,
          4.91,
          9.49,
          7.6,
          9.02,
          8.1,
          9.31,
          6.15,
          5.95,
          6.26,
          8.81,
          5.82,
          6.92,
          4.99,
          4.99,
          4.99,
          4.99,
          4.99,
          4.99,
          9.1,
          6.54,
          7.38,
          6.93,
          4.9,
          9.08,
          9.53,
          7.26,
          7.63,
          6.77,
          6.39,
          8.73,
          4.86,
          7.88,
          6.51,
          7.79,
          8.36,
          8.11,
          4.93,
          6.98,
          5.28,
          8.16,
          7.2,
          9.41,
          9.38,
          5.47,
          6.52,
          6.52,
          5.44,
          5.44,
          8.04,
          9.56,
          5.06,
          5.1,
          8.09,
          8,
          7.7,
          7.87,
          6.23,
          8.43,
          9.35,
          5.13,
          8.52,
          5.6,
          5.43,
          3.27,
          7.35,
          7.71,
          7.71,
          8.11,
          6.9,
          7.19,
          8.54,
          8.97,
          3.61,
          7.41,
          8.92,
          6.29,
          4.38,
          8.58,
          9.67,
          9.65,
          2.34,
          9.29,
          4.66,
          6.08,
          6.64,
          8.39,
          6.43,
          8.18,
          6.56,
          5.02,
          5.28,
          7.17,
          4.9,
          9.23,
          9.11,
          9.13,
          4.64,
          5.27,
          2.75,
          6.34,
          5.8
         ],
         "xaxis": "x3",
         "y": [
          4.719,
          5.211,
          null,
          6.086,
          4.559,
          7.228,
          7.246,
          5.208,
          null,
          6.199,
          4.456,
          null,
          5.323,
          6.923,
          null,
          4.883,
          5.082,
          5.779,
          5.386,
          3.488,
          6.3,
          null,
          5.011,
          4.587,
          3.775,
          null,
          4.7,
          5.044,
          7.278,
          3.083,
          4.35,
          6.444,
          5.191,
          6.125,
          3.973,
          5.718,
          4.944,
          4.812,
          4.796,
          4.696,
          4.418,
          null,
          7.167,
          5.718,
          4.944,
          4.812,
          4.796,
          4.696,
          4.418,
          5.432,
          6.046,
          6.852,
          7.6,
          null,
          5.425,
          6.028,
          4.166,
          6.253,
          5.893,
          4.212,
          4.286,
          null,
          7.769,
          6.592,
          4.799,
          4.516,
          4.519,
          6.985,
          4.996,
          5.287,
          6.436,
          4.534,
          null,
          null,
          3.597,
          5.86,
          5.718,
          4.944,
          4.812,
          4.796,
          4.696,
          4.418,
          5.758,
          7.494,
          4.015,
          5.192,
          4.548,
          4.437,
          7.021,
          7.139,
          6.223,
          5.89,
          5.886,
          4.906,
          5.809,
          4.509,
          5.895,
          6.021,
          5.261,
          5.718,
          4.944,
          4.812,
          4.796,
          4.696,
          4.418,
          5.94,
          5.197,
          3.802,
          3.975,
          5.525,
          6.149,
          7.09,
          3.933,
          3.41,
          5.339,
          4.39,
          6.726,
          4.49,
          5.888,
          6.595,
          5.529,
          5.285,
          5.523,
          5.208,
          4.466,
          4.36,
          4.639,
          4.913,
          7.488,
          7.307,
          6.105,
          5.265,
          4.628,
          5.265,
          4.628,
          5.274,
          7.554,
          null,
          5.653,
          6.321,
          null,
          5.743,
          5.697,
          5.631,
          6.182,
          5.693,
          6.374,
          6.07,
          5.648,
          3.334,
          6.375,
          4.681,
          6.1,
          5.603,
          null,
          4.374,
          6.262,
          6.198,
          6.118,
          4.668,
          4.722,
          6.354,
          4.366,
          null,
          null,
          7.343,
          7.48,
          3.462,
          6.446,
          5.467,
          3.231,
          6.008,
          null,
          4.085,
          6.192,
          4.461,
          5.373,
          4.189,
          4.332,
          6.825,
          7.054,
          6.892,
          6.293,
          4.707,
          5.175,
          3.38,
          4.107,
          3.663
         ],
         "yaxis": "y3"
        }
       ],
       "layout": {
        "annotations": [
         {
          "font": {
           "size": 16
          },
          "showarrow": false,
          "text": "Human Freedom Score",
          "x": 0.14444444444444446,
          "xanchor": "center",
          "xref": "paper",
          "y": 1,
          "yanchor": "bottom",
          "yref": "paper"
         },
         {
          "font": {
           "size": 16
          },
          "showarrow": false,
          "text": "Economic Freedom Score",
          "x": 0.5,
          "xanchor": "center",
          "xref": "paper",
          "y": 1,
          "yanchor": "bottom",
          "yref": "paper"
         },
         {
          "font": {
           "size": 16
          },
          "showarrow": false,
          "text": "Personal Freedom Score",
          "x": 0.8555555555555556,
          "xanchor": "center",
          "xref": "paper",
          "y": 1,
          "yanchor": "bottom",
          "yref": "paper"
         }
        ],
        "height": 400,
        "template": {
         "data": {
          "bar": [
           {
            "error_x": {
             "color": "#2a3f5f"
            },
            "error_y": {
             "color": "#2a3f5f"
            },
            "marker": {
             "line": {
              "color": "#E5ECF6",
              "width": 0.5
             },
             "pattern": {
              "fillmode": "overlay",
              "size": 10,
              "solidity": 0.2
             }
            },
            "type": "bar"
           }
          ],
          "barpolar": [
           {
            "marker": {
             "line": {
              "color": "#E5ECF6",
              "width": 0.5
             },
             "pattern": {
              "fillmode": "overlay",
              "size": 10,
              "solidity": 0.2
             }
            },
            "type": "barpolar"
           }
          ],
          "carpet": [
           {
            "aaxis": {
             "endlinecolor": "#2a3f5f",
             "gridcolor": "white",
             "linecolor": "white",
             "minorgridcolor": "white",
             "startlinecolor": "#2a3f5f"
            },
            "baxis": {
             "endlinecolor": "#2a3f5f",
             "gridcolor": "white",
             "linecolor": "white",
             "minorgridcolor": "white",
             "startlinecolor": "#2a3f5f"
            },
            "type": "carpet"
           }
          ],
          "choropleth": [
           {
            "colorbar": {
             "outlinewidth": 0,
             "ticks": ""
            },
            "type": "choropleth"
           }
          ],
          "contour": [
           {
            "colorbar": {
             "outlinewidth": 0,
             "ticks": ""
            },
            "colorscale": [
             [
              0,
              "#0d0887"
             ],
             [
              0.1111111111111111,
              "#46039f"
             ],
             [
              0.2222222222222222,
              "#7201a8"
             ],
             [
              0.3333333333333333,
              "#9c179e"
             ],
             [
              0.4444444444444444,
              "#bd3786"
             ],
             [
              0.5555555555555556,
              "#d8576b"
             ],
             [
              0.6666666666666666,
              "#ed7953"
             ],
             [
              0.7777777777777778,
              "#fb9f3a"
             ],
             [
              0.8888888888888888,
              "#fdca26"
             ],
             [
              1,
              "#f0f921"
             ]
            ],
            "type": "contour"
           }
          ],
          "contourcarpet": [
           {
            "colorbar": {
             "outlinewidth": 0,
             "ticks": ""
            },
            "type": "contourcarpet"
           }
          ],
          "heatmap": [
           {
            "colorbar": {
             "outlinewidth": 0,
             "ticks": ""
            },
            "colorscale": [
             [
              0,
              "#0d0887"
             ],
             [
              0.1111111111111111,
              "#46039f"
             ],
             [
              0.2222222222222222,
              "#7201a8"
             ],
             [
              0.3333333333333333,
              "#9c179e"
             ],
             [
              0.4444444444444444,
              "#bd3786"
             ],
             [
              0.5555555555555556,
              "#d8576b"
             ],
             [
              0.6666666666666666,
              "#ed7953"
             ],
             [
              0.7777777777777778,
              "#fb9f3a"
             ],
             [
              0.8888888888888888,
              "#fdca26"
             ],
             [
              1,
              "#f0f921"
             ]
            ],
            "type": "heatmap"
           }
          ],
          "heatmapgl": [
           {
            "colorbar": {
             "outlinewidth": 0,
             "ticks": ""
            },
            "colorscale": [
             [
              0,
              "#0d0887"
             ],
             [
              0.1111111111111111,
              "#46039f"
             ],
             [
              0.2222222222222222,
              "#7201a8"
             ],
             [
              0.3333333333333333,
              "#9c179e"
             ],
             [
              0.4444444444444444,
              "#bd3786"
             ],
             [
              0.5555555555555556,
              "#d8576b"
             ],
             [
              0.6666666666666666,
              "#ed7953"
             ],
             [
              0.7777777777777778,
              "#fb9f3a"
             ],
             [
              0.8888888888888888,
              "#fdca26"
             ],
             [
              1,
              "#f0f921"
             ]
            ],
            "type": "heatmapgl"
           }
          ],
          "histogram": [
           {
            "marker": {
             "pattern": {
              "fillmode": "overlay",
              "size": 10,
              "solidity": 0.2
             }
            },
            "type": "histogram"
           }
          ],
          "histogram2d": [
           {
            "colorbar": {
             "outlinewidth": 0,
             "ticks": ""
            },
            "colorscale": [
             [
              0,
              "#0d0887"
             ],
             [
              0.1111111111111111,
              "#46039f"
             ],
             [
              0.2222222222222222,
              "#7201a8"
             ],
             [
              0.3333333333333333,
              "#9c179e"
             ],
             [
              0.4444444444444444,
              "#bd3786"
             ],
             [
              0.5555555555555556,
              "#d8576b"
             ],
             [
              0.6666666666666666,
              "#ed7953"
             ],
             [
              0.7777777777777778,
              "#fb9f3a"
             ],
             [
              0.8888888888888888,
              "#fdca26"
             ],
             [
              1,
              "#f0f921"
             ]
            ],
            "type": "histogram2d"
           }
          ],
          "histogram2dcontour": [
           {
            "colorbar": {
             "outlinewidth": 0,
             "ticks": ""
            },
            "colorscale": [
             [
              0,
              "#0d0887"
             ],
             [
              0.1111111111111111,
              "#46039f"
             ],
             [
              0.2222222222222222,
              "#7201a8"
             ],
             [
              0.3333333333333333,
              "#9c179e"
             ],
             [
              0.4444444444444444,
              "#bd3786"
             ],
             [
              0.5555555555555556,
              "#d8576b"
             ],
             [
              0.6666666666666666,
              "#ed7953"
             ],
             [
              0.7777777777777778,
              "#fb9f3a"
             ],
             [
              0.8888888888888888,
              "#fdca26"
             ],
             [
              1,
              "#f0f921"
             ]
            ],
            "type": "histogram2dcontour"
           }
          ],
          "mesh3d": [
           {
            "colorbar": {
             "outlinewidth": 0,
             "ticks": ""
            },
            "type": "mesh3d"
           }
          ],
          "parcoords": [
           {
            "line": {
             "colorbar": {
              "outlinewidth": 0,
              "ticks": ""
             }
            },
            "type": "parcoords"
           }
          ],
          "pie": [
           {
            "automargin": true,
            "type": "pie"
           }
          ],
          "scatter": [
           {
            "fillpattern": {
             "fillmode": "overlay",
             "size": 10,
             "solidity": 0.2
            },
            "type": "scatter"
           }
          ],
          "scatter3d": [
           {
            "line": {
             "colorbar": {
              "outlinewidth": 0,
              "ticks": ""
             }
            },
            "marker": {
             "colorbar": {
              "outlinewidth": 0,
              "ticks": ""
             }
            },
            "type": "scatter3d"
           }
          ],
          "scattercarpet": [
           {
            "marker": {
             "colorbar": {
              "outlinewidth": 0,
              "ticks": ""
             }
            },
            "type": "scattercarpet"
           }
          ],
          "scattergeo": [
           {
            "marker": {
             "colorbar": {
              "outlinewidth": 0,
              "ticks": ""
             }
            },
            "type": "scattergeo"
           }
          ],
          "scattergl": [
           {
            "marker": {
             "colorbar": {
              "outlinewidth": 0,
              "ticks": ""
             }
            },
            "type": "scattergl"
           }
          ],
          "scattermapbox": [
           {
            "marker": {
             "colorbar": {
              "outlinewidth": 0,
              "ticks": ""
             }
            },
            "type": "scattermapbox"
           }
          ],
          "scatterpolar": [
           {
            "marker": {
             "colorbar": {
              "outlinewidth": 0,
              "ticks": ""
             }
            },
            "type": "scatterpolar"
           }
          ],
          "scatterpolargl": [
           {
            "marker": {
             "colorbar": {
              "outlinewidth": 0,
              "ticks": ""
             }
            },
            "type": "scatterpolargl"
           }
          ],
          "scatterternary": [
           {
            "marker": {
             "colorbar": {
              "outlinewidth": 0,
              "ticks": ""
             }
            },
            "type": "scatterternary"
           }
          ],
          "surface": [
           {
            "colorbar": {
             "outlinewidth": 0,
             "ticks": ""
            },
            "colorscale": [
             [
              0,
              "#0d0887"
             ],
             [
              0.1111111111111111,
              "#46039f"
             ],
             [
              0.2222222222222222,
              "#7201a8"
             ],
             [
              0.3333333333333333,
              "#9c179e"
             ],
             [
              0.4444444444444444,
              "#bd3786"
             ],
             [
              0.5555555555555556,
              "#d8576b"
             ],
             [
              0.6666666666666666,
              "#ed7953"
             ],
             [
              0.7777777777777778,
              "#fb9f3a"
             ],
             [
              0.8888888888888888,
              "#fdca26"
             ],
             [
              1,
              "#f0f921"
             ]
            ],
            "type": "surface"
           }
          ],
          "table": [
           {
            "cells": {
             "fill": {
              "color": "#EBF0F8"
             },
             "line": {
              "color": "white"
             }
            },
            "header": {
             "fill": {
              "color": "#C8D4E3"
             },
             "line": {
              "color": "white"
             }
            },
            "type": "table"
           }
          ]
         },
         "layout": {
          "annotationdefaults": {
           "arrowcolor": "#2a3f5f",
           "arrowhead": 0,
           "arrowwidth": 1
          },
          "autotypenumbers": "strict",
          "coloraxis": {
           "colorbar": {
            "outlinewidth": 0,
            "ticks": ""
           }
          },
          "colorscale": {
           "diverging": [
            [
             0,
             "#8e0152"
            ],
            [
             0.1,
             "#c51b7d"
            ],
            [
             0.2,
             "#de77ae"
            ],
            [
             0.3,
             "#f1b6da"
            ],
            [
             0.4,
             "#fde0ef"
            ],
            [
             0.5,
             "#f7f7f7"
            ],
            [
             0.6,
             "#e6f5d0"
            ],
            [
             0.7,
             "#b8e186"
            ],
            [
             0.8,
             "#7fbc41"
            ],
            [
             0.9,
             "#4d9221"
            ],
            [
             1,
             "#276419"
            ]
           ],
           "sequential": [
            [
             0,
             "#0d0887"
            ],
            [
             0.1111111111111111,
             "#46039f"
            ],
            [
             0.2222222222222222,
             "#7201a8"
            ],
            [
             0.3333333333333333,
             "#9c179e"
            ],
            [
             0.4444444444444444,
             "#bd3786"
            ],
            [
             0.5555555555555556,
             "#d8576b"
            ],
            [
             0.6666666666666666,
             "#ed7953"
            ],
            [
             0.7777777777777778,
             "#fb9f3a"
            ],
            [
             0.8888888888888888,
             "#fdca26"
            ],
            [
             1,
             "#f0f921"
            ]
           ],
           "sequentialminus": [
            [
             0,
             "#0d0887"
            ],
            [
             0.1111111111111111,
             "#46039f"
            ],
            [
             0.2222222222222222,
             "#7201a8"
            ],
            [
             0.3333333333333333,
             "#9c179e"
            ],
            [
             0.4444444444444444,
             "#bd3786"
            ],
            [
             0.5555555555555556,
             "#d8576b"
            ],
            [
             0.6666666666666666,
             "#ed7953"
            ],
            [
             0.7777777777777778,
             "#fb9f3a"
            ],
            [
             0.8888888888888888,
             "#fdca26"
            ],
            [
             1,
             "#f0f921"
            ]
           ]
          },
          "colorway": [
           "#636efa",
           "#EF553B",
           "#00cc96",
           "#ab63fa",
           "#FFA15A",
           "#19d3f3",
           "#FF6692",
           "#B6E880",
           "#FF97FF",
           "#FECB52"
          ],
          "font": {
           "color": "#2a3f5f"
          },
          "geo": {
           "bgcolor": "white",
           "lakecolor": "white",
           "landcolor": "#E5ECF6",
           "showlakes": true,
           "showland": true,
           "subunitcolor": "white"
          },
          "hoverlabel": {
           "align": "left"
          },
          "hovermode": "closest",
          "mapbox": {
           "style": "light"
          },
          "paper_bgcolor": "white",
          "plot_bgcolor": "#E5ECF6",
          "polar": {
           "angularaxis": {
            "gridcolor": "white",
            "linecolor": "white",
            "ticks": ""
           },
           "bgcolor": "#E5ECF6",
           "radialaxis": {
            "gridcolor": "white",
            "linecolor": "white",
            "ticks": ""
           }
          },
          "scene": {
           "xaxis": {
            "backgroundcolor": "#E5ECF6",
            "gridcolor": "white",
            "gridwidth": 2,
            "linecolor": "white",
            "showbackground": true,
            "ticks": "",
            "zerolinecolor": "white"
           },
           "yaxis": {
            "backgroundcolor": "#E5ECF6",
            "gridcolor": "white",
            "gridwidth": 2,
            "linecolor": "white",
            "showbackground": true,
            "ticks": "",
            "zerolinecolor": "white"
           },
           "zaxis": {
            "backgroundcolor": "#E5ECF6",
            "gridcolor": "white",
            "gridwidth": 2,
            "linecolor": "white",
            "showbackground": true,
            "ticks": "",
            "zerolinecolor": "white"
           }
          },
          "shapedefaults": {
           "line": {
            "color": "#2a3f5f"
           }
          },
          "ternary": {
           "aaxis": {
            "gridcolor": "white",
            "linecolor": "white",
            "ticks": ""
           },
           "baxis": {
            "gridcolor": "white",
            "linecolor": "white",
            "ticks": ""
           },
           "bgcolor": "#E5ECF6",
           "caxis": {
            "gridcolor": "white",
            "linecolor": "white",
            "ticks": ""
           }
          },
          "title": {
           "x": 0.05
          },
          "xaxis": {
           "automargin": true,
           "gridcolor": "white",
           "linecolor": "white",
           "ticks": "",
           "title": {
            "standoff": 15
           },
           "zerolinecolor": "white",
           "zerolinewidth": 2
          },
          "yaxis": {
           "automargin": true,
           "gridcolor": "white",
           "linecolor": "white",
           "ticks": "",
           "title": {
            "standoff": 15
           },
           "zerolinecolor": "white",
           "zerolinewidth": 2
          }
         }
        },
        "title": {
         "text": "Freedom Scores Against Happiness"
        },
        "width": 1200,
        "xaxis": {
         "anchor": "y",
         "domain": [
          0,
          0.2888888888888889
         ]
        },
        "xaxis2": {
         "anchor": "y2",
         "domain": [
          0.35555555555555557,
          0.6444444444444445
         ]
        },
        "xaxis3": {
         "anchor": "y3",
         "domain": [
          0.7111111111111111,
          1
         ]
        },
        "yaxis": {
         "anchor": "x",
         "domain": [
          0,
          1
         ]
        },
        "yaxis2": {
         "anchor": "x2",
         "domain": [
          0,
          1
         ]
        },
        "yaxis3": {
         "anchor": "x3",
         "domain": [
          0,
          1
         ]
        }
       }
      },
      "text/html": [
       "<div>                            <div id=\"5e9a936e-358d-42a7-b631-9a46d3c4c61b\" class=\"plotly-graph-div\" style=\"height:400px; width:1200px;\"></div>            <script type=\"text/javascript\">                require([\"plotly\"], function(Plotly) {                    window.PLOTLYENV=window.PLOTLYENV || {};                                    if (document.getElementById(\"5e9a936e-358d-42a7-b631-9a46d3c4c61b\")) {                    Plotly.newPlot(                        \"5e9a936e-358d-42a7-b631-9a46d3c4c61b\",                        [{\"marker\":{\"color\":\"red\",\"opacity\":0.7,\"size\":4},\"mode\":\"markers\",\"name\":\"Human Freedom Score\",\"x\":[8.07,5.08,5.96,7.33,8.32,8.83,8.68,6.02,8.15,5.43,5.56,7.93,6.27,8.55,7.48,7.25,6.68,6.88,7.43,7.76,7.25,5.96,7.97,6.83,4.91,8.44,6.43,5.34,8.85,5.68,5.41,8.5,5.27,6.95,5.91,5.49,5.49,5.49,5.49,5.49,5.49,5.33,8.28,6.78,6.78,6.78,6.78,6.78,6.78,8.15,8.49,8.61,9.01,5.63,7.87,7.37,4.35,7.34,8.94,5.73,5.73,7.35,8.87,8.26,6.66,6.82,7.85,8.73,7.46,7.83,7.47,5.82,6.78,7.04,7.2,6.98,8.38,8.38,8.38,8.38,8.38,8.38,7.63,8.84,6.42,6.98,4.27,5.12,8.95,7.61,8.43,7.9,8.75,6.71,6.63,6.57,8.31,6.2,7.02,5.68,5.68,5.68,5.68,5.68,5.68,8.62,6.67,7.0,6.6,4.72,8.72,8.85,6.86,6.92,7.08,6.19,8.43,5.56,8.02,6.8,7.6,7.97,7.91,5.68,6.77,5.4,7.57,7.01,8.8,9.04,6.13,6.14,6.14,6.1,6.1,7.68,8.81,5.77,5.48,7.94,7.17,7.46,7.83,6.69,7.92,8.69,5.96,8.25,6.11,6.19,4.77,6.9,7.5,7.5,7.91,6.47,7.86,8.15,8.33,4.71,7.15,8.49,6.47,4.04,7.51,8.85,9.17,3.36,8.8,5.44,6.29,6.75,7.36,6.28,7.78,6.3,5.63,6.17,6.77,5.89,8.79,8.75,8.4,3.9,5.74,3.99,6.6,5.3],\"y\":[4.719,5.211,null,6.086,4.559,7.228,7.246,5.208,null,6.199,4.456,null,5.323,6.923,null,4.883,5.082,5.779,5.386,3.488,6.3,null,5.011,4.587,3.775,null,4.7,5.044,7.278,3.083,4.35,6.444,5.191,6.125,3.973,5.718,4.944,4.812,4.796,4.696,4.418,null,7.167,5.718,4.944,4.812,4.796,4.696,4.418,5.432,6.046,6.852,7.6,null,5.425,6.028,4.166,6.253,5.893,4.212,4.286,null,7.769,6.592,4.799,4.516,4.519,6.985,4.996,5.287,6.436,4.534,null,null,3.597,5.86,5.718,4.944,4.812,4.796,4.696,4.418,5.758,7.494,4.015,5.192,4.548,4.437,7.021,7.139,6.223,5.89,5.886,4.906,5.809,4.509,5.895,6.021,5.261,5.718,4.944,4.812,4.796,4.696,4.418,5.94,5.197,3.802,3.975,5.525,6.149,7.09,3.933,3.41,5.339,4.39,6.726,4.49,5.888,6.595,5.529,5.285,5.523,5.208,4.466,4.36,4.639,4.913,7.488,7.307,6.105,5.265,4.628,5.265,4.628,5.274,7.554,null,5.653,6.321,null,5.743,5.697,5.631,6.182,5.693,6.374,6.07,5.648,3.334,6.375,4.681,6.1,5.603,null,4.374,6.262,6.198,6.118,4.668,4.722,6.354,4.366,null,null,7.343,7.48,3.462,6.446,5.467,3.231,6.008,null,4.085,6.192,4.461,5.373,4.189,4.332,6.825,7.054,6.892,6.293,4.707,5.175,3.38,4.107,3.663],\"type\":\"scatter\",\"xaxis\":\"x\",\"yaxis\":\"y\"},{\"marker\":{\"color\":\"green\",\"opacity\":0.7,\"size\":4},\"mode\":\"markers\",\"name\":\"Economic Freedom Score\",\"x\":[7.79,4.86,5.55,5.44,7.98,8.17,7.86,6.43,7.21,7.43,6.04,7.05,6.48,7.62,6.41,6.66,6.52,6.32,6.94,7.47,6.6,7.3,7.79,6.25,5.67,7.65,7.38,5.79,8.05,5.37,5.63,7.86,6.33,6.83,6.33,5.42,5.42,5.42,5.42,5.42,5.42,4.78,7.67,6.17,6.17,6.17,6.17,6.17,6.17,7.42,7.89,7.98,8.23,6.45,7.6,6.68,5.74,7.34,8.11,6.14,5.82,6.36,7.92,7.55,5.83,7.06,8.16,7.89,6.72,7.19,7.78,5.94,5.7,5.81,6.68,7.24,8.87,8.87,8.87,8.87,8.87,8.87,7.51,7.91,6.76,7.26,5.02,5.41,8.19,7.63,7.61,7.61,7.97,7.51,7.6,7.0,7.62,6.74,7.17,6.65,6.65,6.65,6.65,6.65,6.65,7.94,6.85,6.46,6.16,4.47,8.22,7.89,6.32,5.94,7.52,5.9,8.02,6.55,8.2,7.2,7.32,7.42,7.63,6.74,6.47,5.56,6.75,6.73,7.96,8.56,7.04,5.62,5.62,7.03,7.03,7.17,7.75,6.77,6.0,7.74,6.01,7.11,7.78,7.34,7.22,7.77,7.11,7.87,6.83,7.25,6.89,6.26,7.21,7.21,7.63,5.85,8.81,7.61,7.43,6.25,6.79,7.89,6.72,3.58,6.0,7.7,8.49,4.8,8.1,6.54,6.58,6.91,5.92,6.07,7.22,5.94,6.49,7.41,6.2,7.28,8.16,8.25,7.38,2.87,6.4,5.72,6.95,4.6],\"y\":[4.719,5.211,null,6.086,4.559,7.228,7.246,5.208,null,6.199,4.456,null,5.323,6.923,null,4.883,5.082,5.779,5.386,3.488,6.3,null,5.011,4.587,3.775,null,4.7,5.044,7.278,3.083,4.35,6.444,5.191,6.125,3.973,5.718,4.944,4.812,4.796,4.696,4.418,null,7.167,5.718,4.944,4.812,4.796,4.696,4.418,5.432,6.046,6.852,7.6,null,5.425,6.028,4.166,6.253,5.893,4.212,4.286,null,7.769,6.592,4.799,4.516,4.519,6.985,4.996,5.287,6.436,4.534,null,null,3.597,5.86,5.718,4.944,4.812,4.796,4.696,4.418,5.758,7.494,4.015,5.192,4.548,4.437,7.021,7.139,6.223,5.89,5.886,4.906,5.809,4.509,5.895,6.021,5.261,5.718,4.944,4.812,4.796,4.696,4.418,5.94,5.197,3.802,3.975,5.525,6.149,7.09,3.933,3.41,5.339,4.39,6.726,4.49,5.888,6.595,5.529,5.285,5.523,5.208,4.466,4.36,4.639,4.913,7.488,7.307,6.105,5.265,4.628,5.265,4.628,5.274,7.554,null,5.653,6.321,null,5.743,5.697,5.631,6.182,5.693,6.374,6.07,5.648,3.334,6.375,4.681,6.1,5.603,null,4.374,6.262,6.198,6.118,4.668,4.722,6.354,4.366,null,null,7.343,7.48,3.462,6.446,5.467,3.231,6.008,null,4.085,6.192,4.461,5.373,4.189,4.332,6.825,7.054,6.892,6.293,4.707,5.175,3.38,4.107,3.663],\"type\":\"scatter\",\"xaxis\":\"x2\",\"yaxis\":\"y2\"},{\"marker\":{\"color\":\"blue\",\"opacity\":0.7,\"size\":4},\"mode\":\"markers\",\"name\":\"Personal Freedom Score\",\"x\":[8.27,5.24,6.25,8.68,8.56,9.3,9.27,5.73,8.82,4.0,5.21,8.56,6.12,9.22,8.24,7.67,6.8,7.27,7.78,7.97,7.71,4.85,8.1,7.24,4.38,8.99,5.75,5.02,9.43,5.9,5.25,8.95,4.52,7.03,5.62,5.54,5.54,5.54,5.54,5.54,5.54,5.72,8.71,7.21,7.21,7.21,7.21,7.21,7.21,8.67,8.91,9.06,9.57,5.05,8.07,7.87,3.36,7.35,9.54,5.44,5.67,8.07,9.56,8.77,7.26,6.65,7.62,9.32,7.99,8.28,7.25,5.74,7.55,7.92,7.57,6.79,8.03,8.03,8.03,8.03,8.03,8.03,7.72,9.5,6.18,6.78,3.73,4.91,9.49,7.6,9.02,8.1,9.31,6.15,5.95,6.26,8.81,5.82,6.92,4.99,4.99,4.99,4.99,4.99,4.99,9.1,6.54,7.38,6.93,4.9,9.08,9.53,7.26,7.63,6.77,6.39,8.73,4.86,7.88,6.51,7.79,8.36,8.11,4.93,6.98,5.28,8.16,7.2,9.41,9.38,5.47,6.52,6.52,5.44,5.44,8.04,9.56,5.06,5.1,8.09,8.0,7.7,7.87,6.23,8.43,9.35,5.13,8.52,5.6,5.43,3.27,7.35,7.71,7.71,8.11,6.9,7.19,8.54,8.97,3.61,7.41,8.92,6.29,4.38,8.58,9.67,9.65,2.34,9.29,4.66,6.08,6.64,8.39,6.43,8.18,6.56,5.02,5.28,7.17,4.9,9.23,9.11,9.13,4.64,5.27,2.75,6.34,5.8],\"y\":[4.719,5.211,null,6.086,4.559,7.228,7.246,5.208,null,6.199,4.456,null,5.323,6.923,null,4.883,5.082,5.779,5.386,3.488,6.3,null,5.011,4.587,3.775,null,4.7,5.044,7.278,3.083,4.35,6.444,5.191,6.125,3.973,5.718,4.944,4.812,4.796,4.696,4.418,null,7.167,5.718,4.944,4.812,4.796,4.696,4.418,5.432,6.046,6.852,7.6,null,5.425,6.028,4.166,6.253,5.893,4.212,4.286,null,7.769,6.592,4.799,4.516,4.519,6.985,4.996,5.287,6.436,4.534,null,null,3.597,5.86,5.718,4.944,4.812,4.796,4.696,4.418,5.758,7.494,4.015,5.192,4.548,4.437,7.021,7.139,6.223,5.89,5.886,4.906,5.809,4.509,5.895,6.021,5.261,5.718,4.944,4.812,4.796,4.696,4.418,5.94,5.197,3.802,3.975,5.525,6.149,7.09,3.933,3.41,5.339,4.39,6.726,4.49,5.888,6.595,5.529,5.285,5.523,5.208,4.466,4.36,4.639,4.913,7.488,7.307,6.105,5.265,4.628,5.265,4.628,5.274,7.554,null,5.653,6.321,null,5.743,5.697,5.631,6.182,5.693,6.374,6.07,5.648,3.334,6.375,4.681,6.1,5.603,null,4.374,6.262,6.198,6.118,4.668,4.722,6.354,4.366,null,null,7.343,7.48,3.462,6.446,5.467,3.231,6.008,null,4.085,6.192,4.461,5.373,4.189,4.332,6.825,7.054,6.892,6.293,4.707,5.175,3.38,4.107,3.663],\"type\":\"scatter\",\"xaxis\":\"x3\",\"yaxis\":\"y3\"}],                        {\"template\":{\"data\":{\"histogram2dcontour\":[{\"type\":\"histogram2dcontour\",\"colorbar\":{\"outlinewidth\":0,\"ticks\":\"\"},\"colorscale\":[[0.0,\"#0d0887\"],[0.1111111111111111,\"#46039f\"],[0.2222222222222222,\"#7201a8\"],[0.3333333333333333,\"#9c179e\"],[0.4444444444444444,\"#bd3786\"],[0.5555555555555556,\"#d8576b\"],[0.6666666666666666,\"#ed7953\"],[0.7777777777777778,\"#fb9f3a\"],[0.8888888888888888,\"#fdca26\"],[1.0,\"#f0f921\"]]}],\"choropleth\":[{\"type\":\"choropleth\",\"colorbar\":{\"outlinewidth\":0,\"ticks\":\"\"}}],\"histogram2d\":[{\"type\":\"histogram2d\",\"colorbar\":{\"outlinewidth\":0,\"ticks\":\"\"},\"colorscale\":[[0.0,\"#0d0887\"],[0.1111111111111111,\"#46039f\"],[0.2222222222222222,\"#7201a8\"],[0.3333333333333333,\"#9c179e\"],[0.4444444444444444,\"#bd3786\"],[0.5555555555555556,\"#d8576b\"],[0.6666666666666666,\"#ed7953\"],[0.7777777777777778,\"#fb9f3a\"],[0.8888888888888888,\"#fdca26\"],[1.0,\"#f0f921\"]]}],\"heatmap\":[{\"type\":\"heatmap\",\"colorbar\":{\"outlinewidth\":0,\"ticks\":\"\"},\"colorscale\":[[0.0,\"#0d0887\"],[0.1111111111111111,\"#46039f\"],[0.2222222222222222,\"#7201a8\"],[0.3333333333333333,\"#9c179e\"],[0.4444444444444444,\"#bd3786\"],[0.5555555555555556,\"#d8576b\"],[0.6666666666666666,\"#ed7953\"],[0.7777777777777778,\"#fb9f3a\"],[0.8888888888888888,\"#fdca26\"],[1.0,\"#f0f921\"]]}],\"heatmapgl\":[{\"type\":\"heatmapgl\",\"colorbar\":{\"outlinewidth\":0,\"ticks\":\"\"},\"colorscale\":[[0.0,\"#0d0887\"],[0.1111111111111111,\"#46039f\"],[0.2222222222222222,\"#7201a8\"],[0.3333333333333333,\"#9c179e\"],[0.4444444444444444,\"#bd3786\"],[0.5555555555555556,\"#d8576b\"],[0.6666666666666666,\"#ed7953\"],[0.7777777777777778,\"#fb9f3a\"],[0.8888888888888888,\"#fdca26\"],[1.0,\"#f0f921\"]]}],\"contourcarpet\":[{\"type\":\"contourcarpet\",\"colorbar\":{\"outlinewidth\":0,\"ticks\":\"\"}}],\"contour\":[{\"type\":\"contour\",\"colorbar\":{\"outlinewidth\":0,\"ticks\":\"\"},\"colorscale\":[[0.0,\"#0d0887\"],[0.1111111111111111,\"#46039f\"],[0.2222222222222222,\"#7201a8\"],[0.3333333333333333,\"#9c179e\"],[0.4444444444444444,\"#bd3786\"],[0.5555555555555556,\"#d8576b\"],[0.6666666666666666,\"#ed7953\"],[0.7777777777777778,\"#fb9f3a\"],[0.8888888888888888,\"#fdca26\"],[1.0,\"#f0f921\"]]}],\"surface\":[{\"type\":\"surface\",\"colorbar\":{\"outlinewidth\":0,\"ticks\":\"\"},\"colorscale\":[[0.0,\"#0d0887\"],[0.1111111111111111,\"#46039f\"],[0.2222222222222222,\"#7201a8\"],[0.3333333333333333,\"#9c179e\"],[0.4444444444444444,\"#bd3786\"],[0.5555555555555556,\"#d8576b\"],[0.6666666666666666,\"#ed7953\"],[0.7777777777777778,\"#fb9f3a\"],[0.8888888888888888,\"#fdca26\"],[1.0,\"#f0f921\"]]}],\"mesh3d\":[{\"type\":\"mesh3d\",\"colorbar\":{\"outlinewidth\":0,\"ticks\":\"\"}}],\"scatter\":[{\"fillpattern\":{\"fillmode\":\"overlay\",\"size\":10,\"solidity\":0.2},\"type\":\"scatter\"}],\"parcoords\":[{\"type\":\"parcoords\",\"line\":{\"colorbar\":{\"outlinewidth\":0,\"ticks\":\"\"}}}],\"scatterpolargl\":[{\"type\":\"scatterpolargl\",\"marker\":{\"colorbar\":{\"outlinewidth\":0,\"ticks\":\"\"}}}],\"bar\":[{\"error_x\":{\"color\":\"#2a3f5f\"},\"error_y\":{\"color\":\"#2a3f5f\"},\"marker\":{\"line\":{\"color\":\"#E5ECF6\",\"width\":0.5},\"pattern\":{\"fillmode\":\"overlay\",\"size\":10,\"solidity\":0.2}},\"type\":\"bar\"}],\"scattergeo\":[{\"type\":\"scattergeo\",\"marker\":{\"colorbar\":{\"outlinewidth\":0,\"ticks\":\"\"}}}],\"scatterpolar\":[{\"type\":\"scatterpolar\",\"marker\":{\"colorbar\":{\"outlinewidth\":0,\"ticks\":\"\"}}}],\"histogram\":[{\"marker\":{\"pattern\":{\"fillmode\":\"overlay\",\"size\":10,\"solidity\":0.2}},\"type\":\"histogram\"}],\"scattergl\":[{\"type\":\"scattergl\",\"marker\":{\"colorbar\":{\"outlinewidth\":0,\"ticks\":\"\"}}}],\"scatter3d\":[{\"type\":\"scatter3d\",\"line\":{\"colorbar\":{\"outlinewidth\":0,\"ticks\":\"\"}},\"marker\":{\"colorbar\":{\"outlinewidth\":0,\"ticks\":\"\"}}}],\"scattermapbox\":[{\"type\":\"scattermapbox\",\"marker\":{\"colorbar\":{\"outlinewidth\":0,\"ticks\":\"\"}}}],\"scatterternary\":[{\"type\":\"scatterternary\",\"marker\":{\"colorbar\":{\"outlinewidth\":0,\"ticks\":\"\"}}}],\"scattercarpet\":[{\"type\":\"scattercarpet\",\"marker\":{\"colorbar\":{\"outlinewidth\":0,\"ticks\":\"\"}}}],\"carpet\":[{\"aaxis\":{\"endlinecolor\":\"#2a3f5f\",\"gridcolor\":\"white\",\"linecolor\":\"white\",\"minorgridcolor\":\"white\",\"startlinecolor\":\"#2a3f5f\"},\"baxis\":{\"endlinecolor\":\"#2a3f5f\",\"gridcolor\":\"white\",\"linecolor\":\"white\",\"minorgridcolor\":\"white\",\"startlinecolor\":\"#2a3f5f\"},\"type\":\"carpet\"}],\"table\":[{\"cells\":{\"fill\":{\"color\":\"#EBF0F8\"},\"line\":{\"color\":\"white\"}},\"header\":{\"fill\":{\"color\":\"#C8D4E3\"},\"line\":{\"color\":\"white\"}},\"type\":\"table\"}],\"barpolar\":[{\"marker\":{\"line\":{\"color\":\"#E5ECF6\",\"width\":0.5},\"pattern\":{\"fillmode\":\"overlay\",\"size\":10,\"solidity\":0.2}},\"type\":\"barpolar\"}],\"pie\":[{\"automargin\":true,\"type\":\"pie\"}]},\"layout\":{\"autotypenumbers\":\"strict\",\"colorway\":[\"#636efa\",\"#EF553B\",\"#00cc96\",\"#ab63fa\",\"#FFA15A\",\"#19d3f3\",\"#FF6692\",\"#B6E880\",\"#FF97FF\",\"#FECB52\"],\"font\":{\"color\":\"#2a3f5f\"},\"hovermode\":\"closest\",\"hoverlabel\":{\"align\":\"left\"},\"paper_bgcolor\":\"white\",\"plot_bgcolor\":\"#E5ECF6\",\"polar\":{\"bgcolor\":\"#E5ECF6\",\"angularaxis\":{\"gridcolor\":\"white\",\"linecolor\":\"white\",\"ticks\":\"\"},\"radialaxis\":{\"gridcolor\":\"white\",\"linecolor\":\"white\",\"ticks\":\"\"}},\"ternary\":{\"bgcolor\":\"#E5ECF6\",\"aaxis\":{\"gridcolor\":\"white\",\"linecolor\":\"white\",\"ticks\":\"\"},\"baxis\":{\"gridcolor\":\"white\",\"linecolor\":\"white\",\"ticks\":\"\"},\"caxis\":{\"gridcolor\":\"white\",\"linecolor\":\"white\",\"ticks\":\"\"}},\"coloraxis\":{\"colorbar\":{\"outlinewidth\":0,\"ticks\":\"\"}},\"colorscale\":{\"sequential\":[[0.0,\"#0d0887\"],[0.1111111111111111,\"#46039f\"],[0.2222222222222222,\"#7201a8\"],[0.3333333333333333,\"#9c179e\"],[0.4444444444444444,\"#bd3786\"],[0.5555555555555556,\"#d8576b\"],[0.6666666666666666,\"#ed7953\"],[0.7777777777777778,\"#fb9f3a\"],[0.8888888888888888,\"#fdca26\"],[1.0,\"#f0f921\"]],\"sequentialminus\":[[0.0,\"#0d0887\"],[0.1111111111111111,\"#46039f\"],[0.2222222222222222,\"#7201a8\"],[0.3333333333333333,\"#9c179e\"],[0.4444444444444444,\"#bd3786\"],[0.5555555555555556,\"#d8576b\"],[0.6666666666666666,\"#ed7953\"],[0.7777777777777778,\"#fb9f3a\"],[0.8888888888888888,\"#fdca26\"],[1.0,\"#f0f921\"]],\"diverging\":[[0,\"#8e0152\"],[0.1,\"#c51b7d\"],[0.2,\"#de77ae\"],[0.3,\"#f1b6da\"],[0.4,\"#fde0ef\"],[0.5,\"#f7f7f7\"],[0.6,\"#e6f5d0\"],[0.7,\"#b8e186\"],[0.8,\"#7fbc41\"],[0.9,\"#4d9221\"],[1,\"#276419\"]]},\"xaxis\":{\"gridcolor\":\"white\",\"linecolor\":\"white\",\"ticks\":\"\",\"title\":{\"standoff\":15},\"zerolinecolor\":\"white\",\"automargin\":true,\"zerolinewidth\":2},\"yaxis\":{\"gridcolor\":\"white\",\"linecolor\":\"white\",\"ticks\":\"\",\"title\":{\"standoff\":15},\"zerolinecolor\":\"white\",\"automargin\":true,\"zerolinewidth\":2},\"scene\":{\"xaxis\":{\"backgroundcolor\":\"#E5ECF6\",\"gridcolor\":\"white\",\"linecolor\":\"white\",\"showbackground\":true,\"ticks\":\"\",\"zerolinecolor\":\"white\",\"gridwidth\":2},\"yaxis\":{\"backgroundcolor\":\"#E5ECF6\",\"gridcolor\":\"white\",\"linecolor\":\"white\",\"showbackground\":true,\"ticks\":\"\",\"zerolinecolor\":\"white\",\"gridwidth\":2},\"zaxis\":{\"backgroundcolor\":\"#E5ECF6\",\"gridcolor\":\"white\",\"linecolor\":\"white\",\"showbackground\":true,\"ticks\":\"\",\"zerolinecolor\":\"white\",\"gridwidth\":2}},\"shapedefaults\":{\"line\":{\"color\":\"#2a3f5f\"}},\"annotationdefaults\":{\"arrowcolor\":\"#2a3f5f\",\"arrowhead\":0,\"arrowwidth\":1},\"geo\":{\"bgcolor\":\"white\",\"landcolor\":\"#E5ECF6\",\"subunitcolor\":\"white\",\"showland\":true,\"showlakes\":true,\"lakecolor\":\"white\"},\"title\":{\"x\":0.05},\"mapbox\":{\"style\":\"light\"}}},\"xaxis\":{\"anchor\":\"y\",\"domain\":[0.0,0.2888888888888889]},\"yaxis\":{\"anchor\":\"x\",\"domain\":[0.0,1.0]},\"xaxis2\":{\"anchor\":\"y2\",\"domain\":[0.35555555555555557,0.6444444444444445]},\"yaxis2\":{\"anchor\":\"x2\",\"domain\":[0.0,1.0]},\"xaxis3\":{\"anchor\":\"y3\",\"domain\":[0.7111111111111111,1.0]},\"yaxis3\":{\"anchor\":\"x3\",\"domain\":[0.0,1.0]},\"annotations\":[{\"font\":{\"size\":16},\"showarrow\":false,\"text\":\"Human Freedom Score\",\"x\":0.14444444444444446,\"xanchor\":\"center\",\"xref\":\"paper\",\"y\":1.0,\"yanchor\":\"bottom\",\"yref\":\"paper\"},{\"font\":{\"size\":16},\"showarrow\":false,\"text\":\"Economic Freedom Score\",\"x\":0.5,\"xanchor\":\"center\",\"xref\":\"paper\",\"y\":1.0,\"yanchor\":\"bottom\",\"yref\":\"paper\"},{\"font\":{\"size\":16},\"showarrow\":false,\"text\":\"Personal Freedom Score\",\"x\":0.8555555555555556,\"xanchor\":\"center\",\"xref\":\"paper\",\"y\":1.0,\"yanchor\":\"bottom\",\"yref\":\"paper\"}],\"title\":{\"text\":\"Freedom Scores Against Happiness\"},\"height\":400,\"width\":1200},                        {\"responsive\": true}                    ).then(function(){\n",
       "                            \n",
       "var gd = document.getElementById('5e9a936e-358d-42a7-b631-9a46d3c4c61b');\n",
       "var x = new MutationObserver(function (mutations, observer) {{\n",
       "        var display = window.getComputedStyle(gd).display;\n",
       "        if (!display || display === 'none') {{\n",
       "            console.log([gd, 'removed!']);\n",
       "            Plotly.purge(gd);\n",
       "            observer.disconnect();\n",
       "        }}\n",
       "}});\n",
       "\n",
       "// Listen for the removal of the full notebook cells\n",
       "var notebookContainer = gd.closest('#notebook-container');\n",
       "if (notebookContainer) {{\n",
       "    x.observe(notebookContainer, {childList: true});\n",
       "}}\n",
       "\n",
       "// Listen for the clearing of the current output cell\n",
       "var outputEl = gd.closest('.output');\n",
       "if (outputEl) {{\n",
       "    x.observe(outputEl, {childList: true});\n",
       "}}\n",
       "\n",
       "                        })                };                });            </script>        </div>"
      ]
     },
     "metadata": {},
     "output_type": "display_data"
    }
   ],
   "source": [
    "# Create the scatter plots\n",
    "\n",
    "fig = make_subplots(rows=1, cols=3, subplot_titles=(\"Human Freedom Score\", \"Economic Freedom Score\", \"Personal Freedom Score\"))\n",
    "\n",
    "scatter1 = go.Scatter(\n",
    "    x=data[\"Human Freedom Score\"], y=data[\"Happiness Score\"],\n",
    "    mode='markers',\n",
    "    marker=dict(size=4, color='red', opacity=0.7),\n",
    "    name='Human Freedom Score'\n",
    ")\n",
    "\n",
    "scatter2 = go.Scatter(\n",
    "    x=data[\"Economic Freedom Score\"], y=data[\"Happiness Score\"],\n",
    "    mode='markers',\n",
    "    marker=dict(size=4, color='green', opacity=0.7),\n",
    "    name='Economic Freedom Score'\n",
    ")\n",
    "\n",
    "scatter3 = go.Scatter(\n",
    "    x=data[\"Personal Freedom Score\"], y=data[\"Happiness Score\"],\n",
    "    mode='markers',\n",
    "    marker=dict(size=4, color='blue', opacity=0.7),\n",
    "    name='Personal Freedom Score'\n",
    ")\n",
    "\n",
    "# Create the layout\n",
    "layout = go.Layout(\n",
    "    title='Three Scatter Plots',\n",
    "    xaxis=dict(title='X Axis'),\n",
    "    yaxis=dict(title='Y Axis'),\n",
    "    showlegend=True\n",
    ")\n",
    "\n",
    "# Add the scatter plots to the figure\n",
    "fig.add_trace(scatter1, row=1, col=1)\n",
    "fig.add_trace(scatter2, row=1, col=2)\n",
    "fig.add_trace(scatter3, row=1, col=3)\n",
    "\n",
    "# Update layout\n",
    "fig.update_layout(height=400, width=1200, title_text=\"Freedom Scores Against Happiness\")\n",
    "\n",
    "# Show the plot\n",
    "fig.show()"
   ]
  },
  {
   "cell_type": "code",
   "execution_count": 31,
   "metadata": {},
   "outputs": [
    {
     "data": {
      "application/vnd.plotly.v1+json": {
       "config": {
        "plotlyServerURL": "https://plot.ly"
       },
       "data": [
        {
         "coloraxis": "coloraxis",
         "customdata": [
          [
           "ALB"
          ],
          [
           "DZA"
          ],
          [
           "AGO"
          ],
          [
           "ARG"
          ],
          [
           "ARM"
          ],
          [
           "AUS"
          ],
          [
           "AUT"
          ],
          [
           "AZE"
          ],
          [
           "BHS"
          ],
          [
           "BHR"
          ],
          [
           "BGD"
          ],
          [
           "BRB"
          ],
          [
           "BLR"
          ],
          [
           "BEL"
          ],
          [
           "BLZ"
          ],
          [
           "BEN"
          ],
          [
           "BTN"
          ],
          [
           "BOL"
          ],
          [
           "BIH"
          ],
          [
           "BWA"
          ],
          [
           "BRA"
          ],
          [
           "BRN"
          ],
          [
           "BGR"
          ],
          [
           "BFA"
          ],
          [
           "BDI"
          ],
          [
           "CPV"
          ],
          [
           "KHM"
          ],
          [
           "CMR"
          ],
          [
           "CAN"
          ],
          [
           "CAF"
          ],
          [
           "TCD"
          ],
          [
           "CHL"
          ],
          [
           "CHN"
          ],
          [
           "COL"
          ],
          [
           "COM"
          ],
          [
           ""
          ],
          [
           ""
          ],
          [
           ""
          ],
          [
           ""
          ],
          [
           ""
          ],
          [
           ""
          ],
          [
           "COG"
          ],
          [
           "CRI"
          ],
          [
           ""
          ],
          [
           ""
          ],
          [
           ""
          ],
          [
           ""
          ],
          [
           ""
          ],
          [
           ""
          ],
          [
           "HRV"
          ],
          [
           "CYP"
          ],
          [
           "CZE"
          ],
          [
           "DNK"
          ],
          [
           "DJI"
          ],
          [
           "DOM"
          ],
          [
           "ECU"
          ],
          [
           "EGY"
          ],
          [
           "SLV"
          ],
          [
           "EST"
          ],
          [
           "SWZ"
          ],
          [
           "ETH"
          ],
          [
           "FJI"
          ],
          [
           "FIN"
          ],
          [
           "FRA"
          ],
          [
           "GAB"
          ],
          [
           "GMB"
          ],
          [
           "GEO"
          ],
          [
           "DEU"
          ],
          [
           "GHA"
          ],
          [
           "GRC"
          ],
          [
           "GTM"
          ],
          [
           "GIN"
          ],
          [
           "GNB"
          ],
          [
           "GUY"
          ],
          [
           "HTI"
          ],
          [
           "HND"
          ],
          [
           ""
          ],
          [
           ""
          ],
          [
           ""
          ],
          [
           ""
          ],
          [
           ""
          ],
          [
           ""
          ],
          [
           "HUN"
          ],
          [
           "ISL"
          ],
          [
           "IND"
          ],
          [
           "IDN"
          ],
          [
           "IRN"
          ],
          [
           "IRQ"
          ],
          [
           "IRL"
          ],
          [
           "ISR"
          ],
          [
           "ITA"
          ],
          [
           "JAM"
          ],
          [
           "JPN"
          ],
          [
           "JOR"
          ],
          [
           "KAZ"
          ],
          [
           "KEN"
          ],
          [
           "KOR"
          ],
          [
           "KWT"
          ],
          [
           "KGZ"
          ],
          [
           ""
          ],
          [
           ""
          ],
          [
           ""
          ],
          [
           ""
          ],
          [
           ""
          ],
          [
           ""
          ],
          [
           "LVA"
          ],
          [
           "LBN"
          ],
          [
           "LSO"
          ],
          [
           "LBR"
          ],
          [
           "LBY"
          ],
          [
           "LTU"
          ],
          [
           "LUX"
          ],
          [
           "MDG"
          ],
          [
           "MWI"
          ],
          [
           "MYS"
          ],
          [
           "MLI"
          ],
          [
           "MLT"
          ],
          [
           "MRT"
          ],
          [
           "MUS"
          ],
          [
           "MEX"
          ],
          [
           "MDA"
          ],
          [
           "MNG"
          ],
          [
           "MNE"
          ],
          [
           "MAR"
          ],
          [
           "MOZ"
          ],
          [
           "MMR"
          ],
          [
           "NAM"
          ],
          [
           "NPL"
          ],
          [
           "NLD"
          ],
          [
           "NZL"
          ],
          [
           "NIC"
          ],
          [
           "NGA"
          ],
          [
           "NGA"
          ],
          [
           "NGA"
          ],
          [
           "NGA"
          ],
          [
           "MKD"
          ],
          [
           "NOR"
          ],
          [
           "OMN"
          ],
          [
           "PAK"
          ],
          [
           "PAN"
          ],
          [
           "PNG"
          ],
          [
           "PRY"
          ],
          [
           "PER"
          ],
          [
           "PHL"
          ],
          [
           "POL"
          ],
          [
           "PRT"
          ],
          [
           "QAT"
          ],
          [
           "ROU"
          ],
          [
           "RUS"
          ],
          [
           "RWA"
          ],
          [
           "SAU"
          ],
          [
           "SEN"
          ],
          [
           "SRB"
          ],
          [
           "SRB"
          ],
          [
           "SYC"
          ],
          [
           "SLE"
          ],
          [
           "SGP"
          ],
          [
           "SVK"
          ],
          [
           "SVN"
          ],
          [
           "SOM"
          ],
          [
           "ZAF"
          ],
          [
           "ESP"
          ],
          [
           "LKA"
          ],
          [
           "SDN"
          ],
          [
           "SUR"
          ],
          [
           "SWE"
          ],
          [
           "CHE"
          ],
          [
           "SYR"
          ],
          [
           "TWN"
          ],
          [
           "TJK"
          ],
          [
           "TZA"
          ],
          [
           "THA"
          ],
          [
           "TLS"
          ],
          [
           "TGO"
          ],
          [
           "TTO"
          ],
          [
           "TUN"
          ],
          [
           "TUR"
          ],
          [
           "UGA"
          ],
          [
           "UKR"
          ],
          [
           "ARE"
          ],
          [
           "GBR"
          ],
          [
           "USA"
          ],
          [
           "URY"
          ],
          [
           "VEN"
          ],
          [
           "VNM"
          ],
          [
           "YEM"
          ],
          [
           "ZMB"
          ],
          [
           "ZWE"
          ]
         ],
         "geo": "geo",
         "hovertemplate": "<b>%{hovertext}</b><br><br>iso=%{customdata[0]}<br>Human Freedom Score=%{z}<extra></extra>",
         "hovertext": [
          "ALB",
          "DZA",
          "AGO",
          "ARG",
          "ARM",
          "AUS",
          "AUT",
          "AZE",
          "BHS",
          "BHR",
          "BGD",
          "BRB",
          "BLR",
          "BEL",
          "BLZ",
          "BEN",
          "BTN",
          "BOL",
          "BIH",
          "BWA",
          "BRA",
          "BRN",
          "BGR",
          "BFA",
          "BDI",
          "CPV",
          "KHM",
          "CMR",
          "CAN",
          "CAF",
          "TCD",
          "CHL",
          "CHN",
          "COL",
          "COM",
          "",
          "",
          "",
          "",
          "",
          "",
          "COG",
          "CRI",
          "",
          "",
          "",
          "",
          "",
          "",
          "HRV",
          "CYP",
          "CZE",
          "DNK",
          "DJI",
          "DOM",
          "ECU",
          "EGY",
          "SLV",
          "EST",
          "SWZ",
          "ETH",
          "FJI",
          "FIN",
          "FRA",
          "GAB",
          "GMB",
          "GEO",
          "DEU",
          "GHA",
          "GRC",
          "GTM",
          "GIN",
          "GNB",
          "GUY",
          "HTI",
          "HND",
          "",
          "",
          "",
          "",
          "",
          "",
          "HUN",
          "ISL",
          "IND",
          "IDN",
          "IRN",
          "IRQ",
          "IRL",
          "ISR",
          "ITA",
          "JAM",
          "JPN",
          "JOR",
          "KAZ",
          "KEN",
          "KOR",
          "KWT",
          "KGZ",
          "",
          "",
          "",
          "",
          "",
          "",
          "LVA",
          "LBN",
          "LSO",
          "LBR",
          "LBY",
          "LTU",
          "LUX",
          "MDG",
          "MWI",
          "MYS",
          "MLI",
          "MLT",
          "MRT",
          "MUS",
          "MEX",
          "MDA",
          "MNG",
          "MNE",
          "MAR",
          "MOZ",
          "MMR",
          "NAM",
          "NPL",
          "NLD",
          "NZL",
          "NIC",
          "NGA",
          "NGA",
          "NGA",
          "NGA",
          "MKD",
          "NOR",
          "OMN",
          "PAK",
          "PAN",
          "PNG",
          "PRY",
          "PER",
          "PHL",
          "POL",
          "PRT",
          "QAT",
          "ROU",
          "RUS",
          "RWA",
          "SAU",
          "SEN",
          "SRB",
          "SRB",
          "SYC",
          "SLE",
          "SGP",
          "SVK",
          "SVN",
          "SOM",
          "ZAF",
          "ESP",
          "LKA",
          "SDN",
          "SUR",
          "SWE",
          "CHE",
          "SYR",
          "TWN",
          "TJK",
          "TZA",
          "THA",
          "TLS",
          "TGO",
          "TTO",
          "TUN",
          "TUR",
          "UGA",
          "UKR",
          "ARE",
          "GBR",
          "USA",
          "URY",
          "VEN",
          "VNM",
          "YEM",
          "ZMB",
          "ZWE"
         ],
         "locations": [
          "ALB",
          "DZA",
          "AGO",
          "ARG",
          "ARM",
          "AUS",
          "AUT",
          "AZE",
          "BHS",
          "BHR",
          "BGD",
          "BRB",
          "BLR",
          "BEL",
          "BLZ",
          "BEN",
          "BTN",
          "BOL",
          "BIH",
          "BWA",
          "BRA",
          "BRN",
          "BGR",
          "BFA",
          "BDI",
          "CPV",
          "KHM",
          "CMR",
          "CAN",
          "CAF",
          "TCD",
          "CHL",
          "CHN",
          "COL",
          "COM",
          "",
          "",
          "",
          "",
          "",
          "",
          "COG",
          "CRI",
          "",
          "",
          "",
          "",
          "",
          "",
          "HRV",
          "CYP",
          "CZE",
          "DNK",
          "DJI",
          "DOM",
          "ECU",
          "EGY",
          "SLV",
          "EST",
          "SWZ",
          "ETH",
          "FJI",
          "FIN",
          "FRA",
          "GAB",
          "GMB",
          "GEO",
          "DEU",
          "GHA",
          "GRC",
          "GTM",
          "GIN",
          "GNB",
          "GUY",
          "HTI",
          "HND",
          "",
          "",
          "",
          "",
          "",
          "",
          "HUN",
          "ISL",
          "IND",
          "IDN",
          "IRN",
          "IRQ",
          "IRL",
          "ISR",
          "ITA",
          "JAM",
          "JPN",
          "JOR",
          "KAZ",
          "KEN",
          "KOR",
          "KWT",
          "KGZ",
          "",
          "",
          "",
          "",
          "",
          "",
          "LVA",
          "LBN",
          "LSO",
          "LBR",
          "LBY",
          "LTU",
          "LUX",
          "MDG",
          "MWI",
          "MYS",
          "MLI",
          "MLT",
          "MRT",
          "MUS",
          "MEX",
          "MDA",
          "MNG",
          "MNE",
          "MAR",
          "MOZ",
          "MMR",
          "NAM",
          "NPL",
          "NLD",
          "NZL",
          "NIC",
          "NGA",
          "NGA",
          "NGA",
          "NGA",
          "MKD",
          "NOR",
          "OMN",
          "PAK",
          "PAN",
          "PNG",
          "PRY",
          "PER",
          "PHL",
          "POL",
          "PRT",
          "QAT",
          "ROU",
          "RUS",
          "RWA",
          "SAU",
          "SEN",
          "SRB",
          "SRB",
          "SYC",
          "SLE",
          "SGP",
          "SVK",
          "SVN",
          "SOM",
          "ZAF",
          "ESP",
          "LKA",
          "SDN",
          "SUR",
          "SWE",
          "CHE",
          "SYR",
          "TWN",
          "TJK",
          "TZA",
          "THA",
          "TLS",
          "TGO",
          "TTO",
          "TUN",
          "TUR",
          "UGA",
          "UKR",
          "ARE",
          "GBR",
          "USA",
          "URY",
          "VEN",
          "VNM",
          "YEM",
          "ZMB",
          "ZWE"
         ],
         "name": "",
         "type": "choropleth",
         "z": [
          8.07,
          5.08,
          5.96,
          7.33,
          8.32,
          8.83,
          8.68,
          6.02,
          8.15,
          5.43,
          5.56,
          7.93,
          6.27,
          8.55,
          7.48,
          7.25,
          6.68,
          6.88,
          7.43,
          7.76,
          7.25,
          5.96,
          7.97,
          6.83,
          4.91,
          8.44,
          6.43,
          5.34,
          8.85,
          5.68,
          5.41,
          8.5,
          5.27,
          6.95,
          5.91,
          5.49,
          5.49,
          5.49,
          5.49,
          5.49,
          5.49,
          5.33,
          8.28,
          6.78,
          6.78,
          6.78,
          6.78,
          6.78,
          6.78,
          8.15,
          8.49,
          8.61,
          9.01,
          5.63,
          7.87,
          7.37,
          4.35,
          7.34,
          8.94,
          5.73,
          5.73,
          7.35,
          8.87,
          8.26,
          6.66,
          6.82,
          7.85,
          8.73,
          7.46,
          7.83,
          7.47,
          5.82,
          6.78,
          7.04,
          7.2,
          6.98,
          8.38,
          8.38,
          8.38,
          8.38,
          8.38,
          8.38,
          7.63,
          8.84,
          6.42,
          6.98,
          4.27,
          5.12,
          8.95,
          7.61,
          8.43,
          7.9,
          8.75,
          6.71,
          6.63,
          6.57,
          8.31,
          6.2,
          7.02,
          5.68,
          5.68,
          5.68,
          5.68,
          5.68,
          5.68,
          8.62,
          6.67,
          7,
          6.6,
          4.72,
          8.72,
          8.85,
          6.86,
          6.92,
          7.08,
          6.19,
          8.43,
          5.56,
          8.02,
          6.8,
          7.6,
          7.97,
          7.91,
          5.68,
          6.77,
          5.4,
          7.57,
          7.01,
          8.8,
          9.04,
          6.13,
          6.14,
          6.14,
          6.1,
          6.1,
          7.68,
          8.81,
          5.77,
          5.48,
          7.94,
          7.17,
          7.46,
          7.83,
          6.69,
          7.92,
          8.69,
          5.96,
          8.25,
          6.11,
          6.19,
          4.77,
          6.9,
          7.5,
          7.5,
          7.91,
          6.47,
          7.86,
          8.15,
          8.33,
          4.71,
          7.15,
          8.49,
          6.47,
          4.04,
          7.51,
          8.85,
          9.17,
          3.36,
          8.8,
          5.44,
          6.29,
          6.75,
          7.36,
          6.28,
          7.78,
          6.3,
          5.63,
          6.17,
          6.77,
          5.89,
          8.79,
          8.75,
          8.4,
          3.9,
          5.74,
          3.99,
          6.6,
          5.3
         ]
        }
       ],
       "layout": {
        "annotations": [
         {
          "align": "center",
          "font": {
           "size": 10
          },
          "showarrow": false,
          "text": "Global Distribution of Personal Freedom Scores: A map showcasing the varying levels of personal freedom<br>experienced by citizens around the world, with scores ranging from low (red) to high (yellow).",
          "width": 700,
          "x": 0.5,
          "xref": "paper",
          "y": -0.2,
          "yref": "paper"
         }
        ],
        "coloraxis": {
         "colorbar": {
          "title": {
           "text": "Human Freedom Score"
          }
         },
         "colorscale": [
          [
           0,
           "rgb(177, 63, 100)"
          ],
          [
           0.16666666666666666,
           "rgb(202, 82, 104)"
          ],
          [
           0.3333333333333333,
           "rgb(221, 104, 108)"
          ],
          [
           0.5,
           "rgb(234, 129, 113)"
          ],
          [
           0.6666666666666666,
           "rgb(241, 156, 124)"
          ],
          [
           0.8333333333333334,
           "rgb(245, 183, 142)"
          ],
          [
           1,
           "rgb(246, 210, 169)"
          ]
         ]
        },
        "geo": {
         "center": {},
         "domain": {
          "x": [
           0,
           1
          ],
          "y": [
           0,
           1
          ]
         }
        },
        "height": 500,
        "legend": {
         "tracegroupgap": 0
        },
        "template": {
         "data": {
          "bar": [
           {
            "error_x": {
             "color": "#2a3f5f"
            },
            "error_y": {
             "color": "#2a3f5f"
            },
            "marker": {
             "line": {
              "color": "#E5ECF6",
              "width": 0.5
             },
             "pattern": {
              "fillmode": "overlay",
              "size": 10,
              "solidity": 0.2
             }
            },
            "type": "bar"
           }
          ],
          "barpolar": [
           {
            "marker": {
             "line": {
              "color": "#E5ECF6",
              "width": 0.5
             },
             "pattern": {
              "fillmode": "overlay",
              "size": 10,
              "solidity": 0.2
             }
            },
            "type": "barpolar"
           }
          ],
          "carpet": [
           {
            "aaxis": {
             "endlinecolor": "#2a3f5f",
             "gridcolor": "white",
             "linecolor": "white",
             "minorgridcolor": "white",
             "startlinecolor": "#2a3f5f"
            },
            "baxis": {
             "endlinecolor": "#2a3f5f",
             "gridcolor": "white",
             "linecolor": "white",
             "minorgridcolor": "white",
             "startlinecolor": "#2a3f5f"
            },
            "type": "carpet"
           }
          ],
          "choropleth": [
           {
            "colorbar": {
             "outlinewidth": 0,
             "ticks": ""
            },
            "type": "choropleth"
           }
          ],
          "contour": [
           {
            "colorbar": {
             "outlinewidth": 0,
             "ticks": ""
            },
            "colorscale": [
             [
              0,
              "#0d0887"
             ],
             [
              0.1111111111111111,
              "#46039f"
             ],
             [
              0.2222222222222222,
              "#7201a8"
             ],
             [
              0.3333333333333333,
              "#9c179e"
             ],
             [
              0.4444444444444444,
              "#bd3786"
             ],
             [
              0.5555555555555556,
              "#d8576b"
             ],
             [
              0.6666666666666666,
              "#ed7953"
             ],
             [
              0.7777777777777778,
              "#fb9f3a"
             ],
             [
              0.8888888888888888,
              "#fdca26"
             ],
             [
              1,
              "#f0f921"
             ]
            ],
            "type": "contour"
           }
          ],
          "contourcarpet": [
           {
            "colorbar": {
             "outlinewidth": 0,
             "ticks": ""
            },
            "type": "contourcarpet"
           }
          ],
          "heatmap": [
           {
            "colorbar": {
             "outlinewidth": 0,
             "ticks": ""
            },
            "colorscale": [
             [
              0,
              "#0d0887"
             ],
             [
              0.1111111111111111,
              "#46039f"
             ],
             [
              0.2222222222222222,
              "#7201a8"
             ],
             [
              0.3333333333333333,
              "#9c179e"
             ],
             [
              0.4444444444444444,
              "#bd3786"
             ],
             [
              0.5555555555555556,
              "#d8576b"
             ],
             [
              0.6666666666666666,
              "#ed7953"
             ],
             [
              0.7777777777777778,
              "#fb9f3a"
             ],
             [
              0.8888888888888888,
              "#fdca26"
             ],
             [
              1,
              "#f0f921"
             ]
            ],
            "type": "heatmap"
           }
          ],
          "heatmapgl": [
           {
            "colorbar": {
             "outlinewidth": 0,
             "ticks": ""
            },
            "colorscale": [
             [
              0,
              "#0d0887"
             ],
             [
              0.1111111111111111,
              "#46039f"
             ],
             [
              0.2222222222222222,
              "#7201a8"
             ],
             [
              0.3333333333333333,
              "#9c179e"
             ],
             [
              0.4444444444444444,
              "#bd3786"
             ],
             [
              0.5555555555555556,
              "#d8576b"
             ],
             [
              0.6666666666666666,
              "#ed7953"
             ],
             [
              0.7777777777777778,
              "#fb9f3a"
             ],
             [
              0.8888888888888888,
              "#fdca26"
             ],
             [
              1,
              "#f0f921"
             ]
            ],
            "type": "heatmapgl"
           }
          ],
          "histogram": [
           {
            "marker": {
             "pattern": {
              "fillmode": "overlay",
              "size": 10,
              "solidity": 0.2
             }
            },
            "type": "histogram"
           }
          ],
          "histogram2d": [
           {
            "colorbar": {
             "outlinewidth": 0,
             "ticks": ""
            },
            "colorscale": [
             [
              0,
              "#0d0887"
             ],
             [
              0.1111111111111111,
              "#46039f"
             ],
             [
              0.2222222222222222,
              "#7201a8"
             ],
             [
              0.3333333333333333,
              "#9c179e"
             ],
             [
              0.4444444444444444,
              "#bd3786"
             ],
             [
              0.5555555555555556,
              "#d8576b"
             ],
             [
              0.6666666666666666,
              "#ed7953"
             ],
             [
              0.7777777777777778,
              "#fb9f3a"
             ],
             [
              0.8888888888888888,
              "#fdca26"
             ],
             [
              1,
              "#f0f921"
             ]
            ],
            "type": "histogram2d"
           }
          ],
          "histogram2dcontour": [
           {
            "colorbar": {
             "outlinewidth": 0,
             "ticks": ""
            },
            "colorscale": [
             [
              0,
              "#0d0887"
             ],
             [
              0.1111111111111111,
              "#46039f"
             ],
             [
              0.2222222222222222,
              "#7201a8"
             ],
             [
              0.3333333333333333,
              "#9c179e"
             ],
             [
              0.4444444444444444,
              "#bd3786"
             ],
             [
              0.5555555555555556,
              "#d8576b"
             ],
             [
              0.6666666666666666,
              "#ed7953"
             ],
             [
              0.7777777777777778,
              "#fb9f3a"
             ],
             [
              0.8888888888888888,
              "#fdca26"
             ],
             [
              1,
              "#f0f921"
             ]
            ],
            "type": "histogram2dcontour"
           }
          ],
          "mesh3d": [
           {
            "colorbar": {
             "outlinewidth": 0,
             "ticks": ""
            },
            "type": "mesh3d"
           }
          ],
          "parcoords": [
           {
            "line": {
             "colorbar": {
              "outlinewidth": 0,
              "ticks": ""
             }
            },
            "type": "parcoords"
           }
          ],
          "pie": [
           {
            "automargin": true,
            "type": "pie"
           }
          ],
          "scatter": [
           {
            "fillpattern": {
             "fillmode": "overlay",
             "size": 10,
             "solidity": 0.2
            },
            "type": "scatter"
           }
          ],
          "scatter3d": [
           {
            "line": {
             "colorbar": {
              "outlinewidth": 0,
              "ticks": ""
             }
            },
            "marker": {
             "colorbar": {
              "outlinewidth": 0,
              "ticks": ""
             }
            },
            "type": "scatter3d"
           }
          ],
          "scattercarpet": [
           {
            "marker": {
             "colorbar": {
              "outlinewidth": 0,
              "ticks": ""
             }
            },
            "type": "scattercarpet"
           }
          ],
          "scattergeo": [
           {
            "marker": {
             "colorbar": {
              "outlinewidth": 0,
              "ticks": ""
             }
            },
            "type": "scattergeo"
           }
          ],
          "scattergl": [
           {
            "marker": {
             "colorbar": {
              "outlinewidth": 0,
              "ticks": ""
             }
            },
            "type": "scattergl"
           }
          ],
          "scattermapbox": [
           {
            "marker": {
             "colorbar": {
              "outlinewidth": 0,
              "ticks": ""
             }
            },
            "type": "scattermapbox"
           }
          ],
          "scatterpolar": [
           {
            "marker": {
             "colorbar": {
              "outlinewidth": 0,
              "ticks": ""
             }
            },
            "type": "scatterpolar"
           }
          ],
          "scatterpolargl": [
           {
            "marker": {
             "colorbar": {
              "outlinewidth": 0,
              "ticks": ""
             }
            },
            "type": "scatterpolargl"
           }
          ],
          "scatterternary": [
           {
            "marker": {
             "colorbar": {
              "outlinewidth": 0,
              "ticks": ""
             }
            },
            "type": "scatterternary"
           }
          ],
          "surface": [
           {
            "colorbar": {
             "outlinewidth": 0,
             "ticks": ""
            },
            "colorscale": [
             [
              0,
              "#0d0887"
             ],
             [
              0.1111111111111111,
              "#46039f"
             ],
             [
              0.2222222222222222,
              "#7201a8"
             ],
             [
              0.3333333333333333,
              "#9c179e"
             ],
             [
              0.4444444444444444,
              "#bd3786"
             ],
             [
              0.5555555555555556,
              "#d8576b"
             ],
             [
              0.6666666666666666,
              "#ed7953"
             ],
             [
              0.7777777777777778,
              "#fb9f3a"
             ],
             [
              0.8888888888888888,
              "#fdca26"
             ],
             [
              1,
              "#f0f921"
             ]
            ],
            "type": "surface"
           }
          ],
          "table": [
           {
            "cells": {
             "fill": {
              "color": "#EBF0F8"
             },
             "line": {
              "color": "white"
             }
            },
            "header": {
             "fill": {
              "color": "#C8D4E3"
             },
             "line": {
              "color": "white"
             }
            },
            "type": "table"
           }
          ]
         },
         "layout": {
          "annotationdefaults": {
           "arrowcolor": "#2a3f5f",
           "arrowhead": 0,
           "arrowwidth": 1
          },
          "autotypenumbers": "strict",
          "coloraxis": {
           "colorbar": {
            "outlinewidth": 0,
            "ticks": ""
           }
          },
          "colorscale": {
           "diverging": [
            [
             0,
             "#8e0152"
            ],
            [
             0.1,
             "#c51b7d"
            ],
            [
             0.2,
             "#de77ae"
            ],
            [
             0.3,
             "#f1b6da"
            ],
            [
             0.4,
             "#fde0ef"
            ],
            [
             0.5,
             "#f7f7f7"
            ],
            [
             0.6,
             "#e6f5d0"
            ],
            [
             0.7,
             "#b8e186"
            ],
            [
             0.8,
             "#7fbc41"
            ],
            [
             0.9,
             "#4d9221"
            ],
            [
             1,
             "#276419"
            ]
           ],
           "sequential": [
            [
             0,
             "#0d0887"
            ],
            [
             0.1111111111111111,
             "#46039f"
            ],
            [
             0.2222222222222222,
             "#7201a8"
            ],
            [
             0.3333333333333333,
             "#9c179e"
            ],
            [
             0.4444444444444444,
             "#bd3786"
            ],
            [
             0.5555555555555556,
             "#d8576b"
            ],
            [
             0.6666666666666666,
             "#ed7953"
            ],
            [
             0.7777777777777778,
             "#fb9f3a"
            ],
            [
             0.8888888888888888,
             "#fdca26"
            ],
            [
             1,
             "#f0f921"
            ]
           ],
           "sequentialminus": [
            [
             0,
             "#0d0887"
            ],
            [
             0.1111111111111111,
             "#46039f"
            ],
            [
             0.2222222222222222,
             "#7201a8"
            ],
            [
             0.3333333333333333,
             "#9c179e"
            ],
            [
             0.4444444444444444,
             "#bd3786"
            ],
            [
             0.5555555555555556,
             "#d8576b"
            ],
            [
             0.6666666666666666,
             "#ed7953"
            ],
            [
             0.7777777777777778,
             "#fb9f3a"
            ],
            [
             0.8888888888888888,
             "#fdca26"
            ],
            [
             1,
             "#f0f921"
            ]
           ]
          },
          "colorway": [
           "#636efa",
           "#EF553B",
           "#00cc96",
           "#ab63fa",
           "#FFA15A",
           "#19d3f3",
           "#FF6692",
           "#B6E880",
           "#FF97FF",
           "#FECB52"
          ],
          "font": {
           "color": "#2a3f5f"
          },
          "geo": {
           "bgcolor": "white",
           "lakecolor": "white",
           "landcolor": "#E5ECF6",
           "showlakes": true,
           "showland": true,
           "subunitcolor": "white"
          },
          "hoverlabel": {
           "align": "left"
          },
          "hovermode": "closest",
          "mapbox": {
           "style": "light"
          },
          "paper_bgcolor": "white",
          "plot_bgcolor": "#E5ECF6",
          "polar": {
           "angularaxis": {
            "gridcolor": "white",
            "linecolor": "white",
            "ticks": ""
           },
           "bgcolor": "#E5ECF6",
           "radialaxis": {
            "gridcolor": "white",
            "linecolor": "white",
            "ticks": ""
           }
          },
          "scene": {
           "xaxis": {
            "backgroundcolor": "#E5ECF6",
            "gridcolor": "white",
            "gridwidth": 2,
            "linecolor": "white",
            "showbackground": true,
            "ticks": "",
            "zerolinecolor": "white"
           },
           "yaxis": {
            "backgroundcolor": "#E5ECF6",
            "gridcolor": "white",
            "gridwidth": 2,
            "linecolor": "white",
            "showbackground": true,
            "ticks": "",
            "zerolinecolor": "white"
           },
           "zaxis": {
            "backgroundcolor": "#E5ECF6",
            "gridcolor": "white",
            "gridwidth": 2,
            "linecolor": "white",
            "showbackground": true,
            "ticks": "",
            "zerolinecolor": "white"
           }
          },
          "shapedefaults": {
           "line": {
            "color": "#2a3f5f"
           }
          },
          "ternary": {
           "aaxis": {
            "gridcolor": "white",
            "linecolor": "white",
            "ticks": ""
           },
           "baxis": {
            "gridcolor": "white",
            "linecolor": "white",
            "ticks": ""
           },
           "bgcolor": "#E5ECF6",
           "caxis": {
            "gridcolor": "white",
            "linecolor": "white",
            "ticks": ""
           }
          },
          "title": {
           "x": 0.05
          },
          "xaxis": {
           "automargin": true,
           "gridcolor": "white",
           "linecolor": "white",
           "ticks": "",
           "title": {
            "standoff": 15
           },
           "zerolinecolor": "white",
           "zerolinewidth": 2
          },
          "yaxis": {
           "automargin": true,
           "gridcolor": "white",
           "linecolor": "white",
           "ticks": "",
           "title": {
            "standoff": 15
           },
           "zerolinecolor": "white",
           "zerolinewidth": 2
          }
         }
        },
        "title": {
         "text": "Freedom around the world"
        },
        "width": 1000
       }
      },
      "text/html": [
       "<div>                            <div id=\"66ff6560-1886-4ea1-8710-1bd6e8c97840\" class=\"plotly-graph-div\" style=\"height:500px; width:1000px;\"></div>            <script type=\"text/javascript\">                require([\"plotly\"], function(Plotly) {                    window.PLOTLYENV=window.PLOTLYENV || {};                                    if (document.getElementById(\"66ff6560-1886-4ea1-8710-1bd6e8c97840\")) {                    Plotly.newPlot(                        \"66ff6560-1886-4ea1-8710-1bd6e8c97840\",                        [{\"coloraxis\":\"coloraxis\",\"customdata\":[[\"ALB\"],[\"DZA\"],[\"AGO\"],[\"ARG\"],[\"ARM\"],[\"AUS\"],[\"AUT\"],[\"AZE\"],[\"BHS\"],[\"BHR\"],[\"BGD\"],[\"BRB\"],[\"BLR\"],[\"BEL\"],[\"BLZ\"],[\"BEN\"],[\"BTN\"],[\"BOL\"],[\"BIH\"],[\"BWA\"],[\"BRA\"],[\"BRN\"],[\"BGR\"],[\"BFA\"],[\"BDI\"],[\"CPV\"],[\"KHM\"],[\"CMR\"],[\"CAN\"],[\"CAF\"],[\"TCD\"],[\"CHL\"],[\"CHN\"],[\"COL\"],[\"COM\"],[\"\"],[\"\"],[\"\"],[\"\"],[\"\"],[\"\"],[\"COG\"],[\"CRI\"],[\"\"],[\"\"],[\"\"],[\"\"],[\"\"],[\"\"],[\"HRV\"],[\"CYP\"],[\"CZE\"],[\"DNK\"],[\"DJI\"],[\"DOM\"],[\"ECU\"],[\"EGY\"],[\"SLV\"],[\"EST\"],[\"SWZ\"],[\"ETH\"],[\"FJI\"],[\"FIN\"],[\"FRA\"],[\"GAB\"],[\"GMB\"],[\"GEO\"],[\"DEU\"],[\"GHA\"],[\"GRC\"],[\"GTM\"],[\"GIN\"],[\"GNB\"],[\"GUY\"],[\"HTI\"],[\"HND\"],[\"\"],[\"\"],[\"\"],[\"\"],[\"\"],[\"\"],[\"HUN\"],[\"ISL\"],[\"IND\"],[\"IDN\"],[\"IRN\"],[\"IRQ\"],[\"IRL\"],[\"ISR\"],[\"ITA\"],[\"JAM\"],[\"JPN\"],[\"JOR\"],[\"KAZ\"],[\"KEN\"],[\"KOR\"],[\"KWT\"],[\"KGZ\"],[\"\"],[\"\"],[\"\"],[\"\"],[\"\"],[\"\"],[\"LVA\"],[\"LBN\"],[\"LSO\"],[\"LBR\"],[\"LBY\"],[\"LTU\"],[\"LUX\"],[\"MDG\"],[\"MWI\"],[\"MYS\"],[\"MLI\"],[\"MLT\"],[\"MRT\"],[\"MUS\"],[\"MEX\"],[\"MDA\"],[\"MNG\"],[\"MNE\"],[\"MAR\"],[\"MOZ\"],[\"MMR\"],[\"NAM\"],[\"NPL\"],[\"NLD\"],[\"NZL\"],[\"NIC\"],[\"NGA\"],[\"NGA\"],[\"NGA\"],[\"NGA\"],[\"MKD\"],[\"NOR\"],[\"OMN\"],[\"PAK\"],[\"PAN\"],[\"PNG\"],[\"PRY\"],[\"PER\"],[\"PHL\"],[\"POL\"],[\"PRT\"],[\"QAT\"],[\"ROU\"],[\"RUS\"],[\"RWA\"],[\"SAU\"],[\"SEN\"],[\"SRB\"],[\"SRB\"],[\"SYC\"],[\"SLE\"],[\"SGP\"],[\"SVK\"],[\"SVN\"],[\"SOM\"],[\"ZAF\"],[\"ESP\"],[\"LKA\"],[\"SDN\"],[\"SUR\"],[\"SWE\"],[\"CHE\"],[\"SYR\"],[\"TWN\"],[\"TJK\"],[\"TZA\"],[\"THA\"],[\"TLS\"],[\"TGO\"],[\"TTO\"],[\"TUN\"],[\"TUR\"],[\"UGA\"],[\"UKR\"],[\"ARE\"],[\"GBR\"],[\"USA\"],[\"URY\"],[\"VEN\"],[\"VNM\"],[\"YEM\"],[\"ZMB\"],[\"ZWE\"]],\"geo\":\"geo\",\"hovertemplate\":\"\\u003cb\\u003e%{hovertext}\\u003c\\u002fb\\u003e\\u003cbr\\u003e\\u003cbr\\u003eiso=%{customdata[0]}\\u003cbr\\u003eHuman Freedom Score=%{z}\\u003cextra\\u003e\\u003c\\u002fextra\\u003e\",\"hovertext\":[\"ALB\",\"DZA\",\"AGO\",\"ARG\",\"ARM\",\"AUS\",\"AUT\",\"AZE\",\"BHS\",\"BHR\",\"BGD\",\"BRB\",\"BLR\",\"BEL\",\"BLZ\",\"BEN\",\"BTN\",\"BOL\",\"BIH\",\"BWA\",\"BRA\",\"BRN\",\"BGR\",\"BFA\",\"BDI\",\"CPV\",\"KHM\",\"CMR\",\"CAN\",\"CAF\",\"TCD\",\"CHL\",\"CHN\",\"COL\",\"COM\",\"\",\"\",\"\",\"\",\"\",\"\",\"COG\",\"CRI\",\"\",\"\",\"\",\"\",\"\",\"\",\"HRV\",\"CYP\",\"CZE\",\"DNK\",\"DJI\",\"DOM\",\"ECU\",\"EGY\",\"SLV\",\"EST\",\"SWZ\",\"ETH\",\"FJI\",\"FIN\",\"FRA\",\"GAB\",\"GMB\",\"GEO\",\"DEU\",\"GHA\",\"GRC\",\"GTM\",\"GIN\",\"GNB\",\"GUY\",\"HTI\",\"HND\",\"\",\"\",\"\",\"\",\"\",\"\",\"HUN\",\"ISL\",\"IND\",\"IDN\",\"IRN\",\"IRQ\",\"IRL\",\"ISR\",\"ITA\",\"JAM\",\"JPN\",\"JOR\",\"KAZ\",\"KEN\",\"KOR\",\"KWT\",\"KGZ\",\"\",\"\",\"\",\"\",\"\",\"\",\"LVA\",\"LBN\",\"LSO\",\"LBR\",\"LBY\",\"LTU\",\"LUX\",\"MDG\",\"MWI\",\"MYS\",\"MLI\",\"MLT\",\"MRT\",\"MUS\",\"MEX\",\"MDA\",\"MNG\",\"MNE\",\"MAR\",\"MOZ\",\"MMR\",\"NAM\",\"NPL\",\"NLD\",\"NZL\",\"NIC\",\"NGA\",\"NGA\",\"NGA\",\"NGA\",\"MKD\",\"NOR\",\"OMN\",\"PAK\",\"PAN\",\"PNG\",\"PRY\",\"PER\",\"PHL\",\"POL\",\"PRT\",\"QAT\",\"ROU\",\"RUS\",\"RWA\",\"SAU\",\"SEN\",\"SRB\",\"SRB\",\"SYC\",\"SLE\",\"SGP\",\"SVK\",\"SVN\",\"SOM\",\"ZAF\",\"ESP\",\"LKA\",\"SDN\",\"SUR\",\"SWE\",\"CHE\",\"SYR\",\"TWN\",\"TJK\",\"TZA\",\"THA\",\"TLS\",\"TGO\",\"TTO\",\"TUN\",\"TUR\",\"UGA\",\"UKR\",\"ARE\",\"GBR\",\"USA\",\"URY\",\"VEN\",\"VNM\",\"YEM\",\"ZMB\",\"ZWE\"],\"locations\":[\"ALB\",\"DZA\",\"AGO\",\"ARG\",\"ARM\",\"AUS\",\"AUT\",\"AZE\",\"BHS\",\"BHR\",\"BGD\",\"BRB\",\"BLR\",\"BEL\",\"BLZ\",\"BEN\",\"BTN\",\"BOL\",\"BIH\",\"BWA\",\"BRA\",\"BRN\",\"BGR\",\"BFA\",\"BDI\",\"CPV\",\"KHM\",\"CMR\",\"CAN\",\"CAF\",\"TCD\",\"CHL\",\"CHN\",\"COL\",\"COM\",\"\",\"\",\"\",\"\",\"\",\"\",\"COG\",\"CRI\",\"\",\"\",\"\",\"\",\"\",\"\",\"HRV\",\"CYP\",\"CZE\",\"DNK\",\"DJI\",\"DOM\",\"ECU\",\"EGY\",\"SLV\",\"EST\",\"SWZ\",\"ETH\",\"FJI\",\"FIN\",\"FRA\",\"GAB\",\"GMB\",\"GEO\",\"DEU\",\"GHA\",\"GRC\",\"GTM\",\"GIN\",\"GNB\",\"GUY\",\"HTI\",\"HND\",\"\",\"\",\"\",\"\",\"\",\"\",\"HUN\",\"ISL\",\"IND\",\"IDN\",\"IRN\",\"IRQ\",\"IRL\",\"ISR\",\"ITA\",\"JAM\",\"JPN\",\"JOR\",\"KAZ\",\"KEN\",\"KOR\",\"KWT\",\"KGZ\",\"\",\"\",\"\",\"\",\"\",\"\",\"LVA\",\"LBN\",\"LSO\",\"LBR\",\"LBY\",\"LTU\",\"LUX\",\"MDG\",\"MWI\",\"MYS\",\"MLI\",\"MLT\",\"MRT\",\"MUS\",\"MEX\",\"MDA\",\"MNG\",\"MNE\",\"MAR\",\"MOZ\",\"MMR\",\"NAM\",\"NPL\",\"NLD\",\"NZL\",\"NIC\",\"NGA\",\"NGA\",\"NGA\",\"NGA\",\"MKD\",\"NOR\",\"OMN\",\"PAK\",\"PAN\",\"PNG\",\"PRY\",\"PER\",\"PHL\",\"POL\",\"PRT\",\"QAT\",\"ROU\",\"RUS\",\"RWA\",\"SAU\",\"SEN\",\"SRB\",\"SRB\",\"SYC\",\"SLE\",\"SGP\",\"SVK\",\"SVN\",\"SOM\",\"ZAF\",\"ESP\",\"LKA\",\"SDN\",\"SUR\",\"SWE\",\"CHE\",\"SYR\",\"TWN\",\"TJK\",\"TZA\",\"THA\",\"TLS\",\"TGO\",\"TTO\",\"TUN\",\"TUR\",\"UGA\",\"UKR\",\"ARE\",\"GBR\",\"USA\",\"URY\",\"VEN\",\"VNM\",\"YEM\",\"ZMB\",\"ZWE\"],\"name\":\"\",\"z\":[8.07,5.08,5.96,7.33,8.32,8.83,8.68,6.02,8.15,5.43,5.56,7.93,6.27,8.55,7.48,7.25,6.68,6.88,7.43,7.76,7.25,5.96,7.97,6.83,4.91,8.44,6.43,5.34,8.85,5.68,5.41,8.5,5.27,6.95,5.91,5.49,5.49,5.49,5.49,5.49,5.49,5.33,8.28,6.78,6.78,6.78,6.78,6.78,6.78,8.15,8.49,8.61,9.01,5.63,7.87,7.37,4.35,7.34,8.94,5.73,5.73,7.35,8.87,8.26,6.66,6.82,7.85,8.73,7.46,7.83,7.47,5.82,6.78,7.04,7.2,6.98,8.38,8.38,8.38,8.38,8.38,8.38,7.63,8.84,6.42,6.98,4.27,5.12,8.95,7.61,8.43,7.9,8.75,6.71,6.63,6.57,8.31,6.2,7.02,5.68,5.68,5.68,5.68,5.68,5.68,8.62,6.67,7.0,6.6,4.72,8.72,8.85,6.86,6.92,7.08,6.19,8.43,5.56,8.02,6.8,7.6,7.97,7.91,5.68,6.77,5.4,7.57,7.01,8.8,9.04,6.13,6.14,6.14,6.1,6.1,7.68,8.81,5.77,5.48,7.94,7.17,7.46,7.83,6.69,7.92,8.69,5.96,8.25,6.11,6.19,4.77,6.9,7.5,7.5,7.91,6.47,7.86,8.15,8.33,4.71,7.15,8.49,6.47,4.04,7.51,8.85,9.17,3.36,8.8,5.44,6.29,6.75,7.36,6.28,7.78,6.3,5.63,6.17,6.77,5.89,8.79,8.75,8.4,3.9,5.74,3.99,6.6,5.3],\"type\":\"choropleth\"}],                        {\"template\":{\"data\":{\"histogram2dcontour\":[{\"type\":\"histogram2dcontour\",\"colorbar\":{\"outlinewidth\":0,\"ticks\":\"\"},\"colorscale\":[[0.0,\"#0d0887\"],[0.1111111111111111,\"#46039f\"],[0.2222222222222222,\"#7201a8\"],[0.3333333333333333,\"#9c179e\"],[0.4444444444444444,\"#bd3786\"],[0.5555555555555556,\"#d8576b\"],[0.6666666666666666,\"#ed7953\"],[0.7777777777777778,\"#fb9f3a\"],[0.8888888888888888,\"#fdca26\"],[1.0,\"#f0f921\"]]}],\"choropleth\":[{\"type\":\"choropleth\",\"colorbar\":{\"outlinewidth\":0,\"ticks\":\"\"}}],\"histogram2d\":[{\"type\":\"histogram2d\",\"colorbar\":{\"outlinewidth\":0,\"ticks\":\"\"},\"colorscale\":[[0.0,\"#0d0887\"],[0.1111111111111111,\"#46039f\"],[0.2222222222222222,\"#7201a8\"],[0.3333333333333333,\"#9c179e\"],[0.4444444444444444,\"#bd3786\"],[0.5555555555555556,\"#d8576b\"],[0.6666666666666666,\"#ed7953\"],[0.7777777777777778,\"#fb9f3a\"],[0.8888888888888888,\"#fdca26\"],[1.0,\"#f0f921\"]]}],\"heatmap\":[{\"type\":\"heatmap\",\"colorbar\":{\"outlinewidth\":0,\"ticks\":\"\"},\"colorscale\":[[0.0,\"#0d0887\"],[0.1111111111111111,\"#46039f\"],[0.2222222222222222,\"#7201a8\"],[0.3333333333333333,\"#9c179e\"],[0.4444444444444444,\"#bd3786\"],[0.5555555555555556,\"#d8576b\"],[0.6666666666666666,\"#ed7953\"],[0.7777777777777778,\"#fb9f3a\"],[0.8888888888888888,\"#fdca26\"],[1.0,\"#f0f921\"]]}],\"heatmapgl\":[{\"type\":\"heatmapgl\",\"colorbar\":{\"outlinewidth\":0,\"ticks\":\"\"},\"colorscale\":[[0.0,\"#0d0887\"],[0.1111111111111111,\"#46039f\"],[0.2222222222222222,\"#7201a8\"],[0.3333333333333333,\"#9c179e\"],[0.4444444444444444,\"#bd3786\"],[0.5555555555555556,\"#d8576b\"],[0.6666666666666666,\"#ed7953\"],[0.7777777777777778,\"#fb9f3a\"],[0.8888888888888888,\"#fdca26\"],[1.0,\"#f0f921\"]]}],\"contourcarpet\":[{\"type\":\"contourcarpet\",\"colorbar\":{\"outlinewidth\":0,\"ticks\":\"\"}}],\"contour\":[{\"type\":\"contour\",\"colorbar\":{\"outlinewidth\":0,\"ticks\":\"\"},\"colorscale\":[[0.0,\"#0d0887\"],[0.1111111111111111,\"#46039f\"],[0.2222222222222222,\"#7201a8\"],[0.3333333333333333,\"#9c179e\"],[0.4444444444444444,\"#bd3786\"],[0.5555555555555556,\"#d8576b\"],[0.6666666666666666,\"#ed7953\"],[0.7777777777777778,\"#fb9f3a\"],[0.8888888888888888,\"#fdca26\"],[1.0,\"#f0f921\"]]}],\"surface\":[{\"type\":\"surface\",\"colorbar\":{\"outlinewidth\":0,\"ticks\":\"\"},\"colorscale\":[[0.0,\"#0d0887\"],[0.1111111111111111,\"#46039f\"],[0.2222222222222222,\"#7201a8\"],[0.3333333333333333,\"#9c179e\"],[0.4444444444444444,\"#bd3786\"],[0.5555555555555556,\"#d8576b\"],[0.6666666666666666,\"#ed7953\"],[0.7777777777777778,\"#fb9f3a\"],[0.8888888888888888,\"#fdca26\"],[1.0,\"#f0f921\"]]}],\"mesh3d\":[{\"type\":\"mesh3d\",\"colorbar\":{\"outlinewidth\":0,\"ticks\":\"\"}}],\"scatter\":[{\"fillpattern\":{\"fillmode\":\"overlay\",\"size\":10,\"solidity\":0.2},\"type\":\"scatter\"}],\"parcoords\":[{\"type\":\"parcoords\",\"line\":{\"colorbar\":{\"outlinewidth\":0,\"ticks\":\"\"}}}],\"scatterpolargl\":[{\"type\":\"scatterpolargl\",\"marker\":{\"colorbar\":{\"outlinewidth\":0,\"ticks\":\"\"}}}],\"bar\":[{\"error_x\":{\"color\":\"#2a3f5f\"},\"error_y\":{\"color\":\"#2a3f5f\"},\"marker\":{\"line\":{\"color\":\"#E5ECF6\",\"width\":0.5},\"pattern\":{\"fillmode\":\"overlay\",\"size\":10,\"solidity\":0.2}},\"type\":\"bar\"}],\"scattergeo\":[{\"type\":\"scattergeo\",\"marker\":{\"colorbar\":{\"outlinewidth\":0,\"ticks\":\"\"}}}],\"scatterpolar\":[{\"type\":\"scatterpolar\",\"marker\":{\"colorbar\":{\"outlinewidth\":0,\"ticks\":\"\"}}}],\"histogram\":[{\"marker\":{\"pattern\":{\"fillmode\":\"overlay\",\"size\":10,\"solidity\":0.2}},\"type\":\"histogram\"}],\"scattergl\":[{\"type\":\"scattergl\",\"marker\":{\"colorbar\":{\"outlinewidth\":0,\"ticks\":\"\"}}}],\"scatter3d\":[{\"type\":\"scatter3d\",\"line\":{\"colorbar\":{\"outlinewidth\":0,\"ticks\":\"\"}},\"marker\":{\"colorbar\":{\"outlinewidth\":0,\"ticks\":\"\"}}}],\"scattermapbox\":[{\"type\":\"scattermapbox\",\"marker\":{\"colorbar\":{\"outlinewidth\":0,\"ticks\":\"\"}}}],\"scatterternary\":[{\"type\":\"scatterternary\",\"marker\":{\"colorbar\":{\"outlinewidth\":0,\"ticks\":\"\"}}}],\"scattercarpet\":[{\"type\":\"scattercarpet\",\"marker\":{\"colorbar\":{\"outlinewidth\":0,\"ticks\":\"\"}}}],\"carpet\":[{\"aaxis\":{\"endlinecolor\":\"#2a3f5f\",\"gridcolor\":\"white\",\"linecolor\":\"white\",\"minorgridcolor\":\"white\",\"startlinecolor\":\"#2a3f5f\"},\"baxis\":{\"endlinecolor\":\"#2a3f5f\",\"gridcolor\":\"white\",\"linecolor\":\"white\",\"minorgridcolor\":\"white\",\"startlinecolor\":\"#2a3f5f\"},\"type\":\"carpet\"}],\"table\":[{\"cells\":{\"fill\":{\"color\":\"#EBF0F8\"},\"line\":{\"color\":\"white\"}},\"header\":{\"fill\":{\"color\":\"#C8D4E3\"},\"line\":{\"color\":\"white\"}},\"type\":\"table\"}],\"barpolar\":[{\"marker\":{\"line\":{\"color\":\"#E5ECF6\",\"width\":0.5},\"pattern\":{\"fillmode\":\"overlay\",\"size\":10,\"solidity\":0.2}},\"type\":\"barpolar\"}],\"pie\":[{\"automargin\":true,\"type\":\"pie\"}]},\"layout\":{\"autotypenumbers\":\"strict\",\"colorway\":[\"#636efa\",\"#EF553B\",\"#00cc96\",\"#ab63fa\",\"#FFA15A\",\"#19d3f3\",\"#FF6692\",\"#B6E880\",\"#FF97FF\",\"#FECB52\"],\"font\":{\"color\":\"#2a3f5f\"},\"hovermode\":\"closest\",\"hoverlabel\":{\"align\":\"left\"},\"paper_bgcolor\":\"white\",\"plot_bgcolor\":\"#E5ECF6\",\"polar\":{\"bgcolor\":\"#E5ECF6\",\"angularaxis\":{\"gridcolor\":\"white\",\"linecolor\":\"white\",\"ticks\":\"\"},\"radialaxis\":{\"gridcolor\":\"white\",\"linecolor\":\"white\",\"ticks\":\"\"}},\"ternary\":{\"bgcolor\":\"#E5ECF6\",\"aaxis\":{\"gridcolor\":\"white\",\"linecolor\":\"white\",\"ticks\":\"\"},\"baxis\":{\"gridcolor\":\"white\",\"linecolor\":\"white\",\"ticks\":\"\"},\"caxis\":{\"gridcolor\":\"white\",\"linecolor\":\"white\",\"ticks\":\"\"}},\"coloraxis\":{\"colorbar\":{\"outlinewidth\":0,\"ticks\":\"\"}},\"colorscale\":{\"sequential\":[[0.0,\"#0d0887\"],[0.1111111111111111,\"#46039f\"],[0.2222222222222222,\"#7201a8\"],[0.3333333333333333,\"#9c179e\"],[0.4444444444444444,\"#bd3786\"],[0.5555555555555556,\"#d8576b\"],[0.6666666666666666,\"#ed7953\"],[0.7777777777777778,\"#fb9f3a\"],[0.8888888888888888,\"#fdca26\"],[1.0,\"#f0f921\"]],\"sequentialminus\":[[0.0,\"#0d0887\"],[0.1111111111111111,\"#46039f\"],[0.2222222222222222,\"#7201a8\"],[0.3333333333333333,\"#9c179e\"],[0.4444444444444444,\"#bd3786\"],[0.5555555555555556,\"#d8576b\"],[0.6666666666666666,\"#ed7953\"],[0.7777777777777778,\"#fb9f3a\"],[0.8888888888888888,\"#fdca26\"],[1.0,\"#f0f921\"]],\"diverging\":[[0,\"#8e0152\"],[0.1,\"#c51b7d\"],[0.2,\"#de77ae\"],[0.3,\"#f1b6da\"],[0.4,\"#fde0ef\"],[0.5,\"#f7f7f7\"],[0.6,\"#e6f5d0\"],[0.7,\"#b8e186\"],[0.8,\"#7fbc41\"],[0.9,\"#4d9221\"],[1,\"#276419\"]]},\"xaxis\":{\"gridcolor\":\"white\",\"linecolor\":\"white\",\"ticks\":\"\",\"title\":{\"standoff\":15},\"zerolinecolor\":\"white\",\"automargin\":true,\"zerolinewidth\":2},\"yaxis\":{\"gridcolor\":\"white\",\"linecolor\":\"white\",\"ticks\":\"\",\"title\":{\"standoff\":15},\"zerolinecolor\":\"white\",\"automargin\":true,\"zerolinewidth\":2},\"scene\":{\"xaxis\":{\"backgroundcolor\":\"#E5ECF6\",\"gridcolor\":\"white\",\"linecolor\":\"white\",\"showbackground\":true,\"ticks\":\"\",\"zerolinecolor\":\"white\",\"gridwidth\":2},\"yaxis\":{\"backgroundcolor\":\"#E5ECF6\",\"gridcolor\":\"white\",\"linecolor\":\"white\",\"showbackground\":true,\"ticks\":\"\",\"zerolinecolor\":\"white\",\"gridwidth\":2},\"zaxis\":{\"backgroundcolor\":\"#E5ECF6\",\"gridcolor\":\"white\",\"linecolor\":\"white\",\"showbackground\":true,\"ticks\":\"\",\"zerolinecolor\":\"white\",\"gridwidth\":2}},\"shapedefaults\":{\"line\":{\"color\":\"#2a3f5f\"}},\"annotationdefaults\":{\"arrowcolor\":\"#2a3f5f\",\"arrowhead\":0,\"arrowwidth\":1},\"geo\":{\"bgcolor\":\"white\",\"landcolor\":\"#E5ECF6\",\"subunitcolor\":\"white\",\"showland\":true,\"showlakes\":true,\"lakecolor\":\"white\"},\"title\":{\"x\":0.05},\"mapbox\":{\"style\":\"light\"}}},\"geo\":{\"domain\":{\"x\":[0.0,1.0],\"y\":[0.0,1.0]},\"center\":{}},\"coloraxis\":{\"colorbar\":{\"title\":{\"text\":\"Human Freedom Score\"}},\"colorscale\":[[0.0,\"rgb(177, 63, 100)\"],[0.16666666666666666,\"rgb(202, 82, 104)\"],[0.3333333333333333,\"rgb(221, 104, 108)\"],[0.5,\"rgb(234, 129, 113)\"],[0.6666666666666666,\"rgb(241, 156, 124)\"],[0.8333333333333334,\"rgb(245, 183, 142)\"],[1.0,\"rgb(246, 210, 169)\"]]},\"legend\":{\"tracegroupgap\":0},\"title\":{\"text\":\"Freedom around the world\"},\"width\":1000,\"height\":500,\"annotations\":[{\"align\":\"center\",\"font\":{\"size\":10},\"showarrow\":false,\"text\":\"Global Distribution of Personal Freedom Scores: A map showcasing the varying levels of personal freedom\\u003cbr\\u003eexperienced by citizens around the world, with scores ranging from low (red) to high (yellow).\",\"width\":700,\"x\":0.5,\"xref\":\"paper\",\"y\":-0.2,\"yref\":\"paper\"}]},                        {\"responsive\": true}                    ).then(function(){\n",
       "                            \n",
       "var gd = document.getElementById('66ff6560-1886-4ea1-8710-1bd6e8c97840');\n",
       "var x = new MutationObserver(function (mutations, observer) {{\n",
       "        var display = window.getComputedStyle(gd).display;\n",
       "        if (!display || display === 'none') {{\n",
       "            console.log([gd, 'removed!']);\n",
       "            Plotly.purge(gd);\n",
       "            observer.disconnect();\n",
       "        }}\n",
       "}});\n",
       "\n",
       "// Listen for the removal of the full notebook cells\n",
       "var notebookContainer = gd.closest('#notebook-container');\n",
       "if (notebookContainer) {{\n",
       "    x.observe(notebookContainer, {childList: true});\n",
       "}}\n",
       "\n",
       "// Listen for the clearing of the current output cell\n",
       "var outputEl = gd.closest('.output');\n",
       "if (outputEl) {{\n",
       "    x.observe(outputEl, {childList: true});\n",
       "}}\n",
       "\n",
       "                        })                };                });            </script>        </div>"
      ]
     },
     "metadata": {},
     "output_type": "display_data"
    },
    {
     "data": {
      "application/vnd.plotly.v1+json": {
       "config": {
        "plotlyServerURL": "https://plot.ly"
       },
       "data": [
        {
         "coloraxis": "coloraxis",
         "customdata": [
          [
           "ALB"
          ],
          [
           "DZA"
          ],
          [
           "AGO"
          ],
          [
           "ARG"
          ],
          [
           "ARM"
          ],
          [
           "AUS"
          ],
          [
           "AUT"
          ],
          [
           "AZE"
          ],
          [
           "BHS"
          ],
          [
           "BHR"
          ],
          [
           "BGD"
          ],
          [
           "BRB"
          ],
          [
           "BLR"
          ],
          [
           "BEL"
          ],
          [
           "BLZ"
          ],
          [
           "BEN"
          ],
          [
           "BTN"
          ],
          [
           "BOL"
          ],
          [
           "BIH"
          ],
          [
           "BWA"
          ],
          [
           "BRA"
          ],
          [
           "BRN"
          ],
          [
           "BGR"
          ],
          [
           "BFA"
          ],
          [
           "BDI"
          ],
          [
           "CPV"
          ],
          [
           "KHM"
          ],
          [
           "CMR"
          ],
          [
           "CAN"
          ],
          [
           "CAF"
          ],
          [
           "TCD"
          ],
          [
           "CHL"
          ],
          [
           "CHN"
          ],
          [
           "COL"
          ],
          [
           "COM"
          ],
          [
           ""
          ],
          [
           ""
          ],
          [
           ""
          ],
          [
           ""
          ],
          [
           ""
          ],
          [
           ""
          ],
          [
           "COG"
          ],
          [
           "CRI"
          ],
          [
           ""
          ],
          [
           ""
          ],
          [
           ""
          ],
          [
           ""
          ],
          [
           ""
          ],
          [
           ""
          ],
          [
           "HRV"
          ],
          [
           "CYP"
          ],
          [
           "CZE"
          ],
          [
           "DNK"
          ],
          [
           "DJI"
          ],
          [
           "DOM"
          ],
          [
           "ECU"
          ],
          [
           "EGY"
          ],
          [
           "SLV"
          ],
          [
           "EST"
          ],
          [
           "SWZ"
          ],
          [
           "ETH"
          ],
          [
           "FJI"
          ],
          [
           "FIN"
          ],
          [
           "FRA"
          ],
          [
           "GAB"
          ],
          [
           "GMB"
          ],
          [
           "GEO"
          ],
          [
           "DEU"
          ],
          [
           "GHA"
          ],
          [
           "GRC"
          ],
          [
           "GTM"
          ],
          [
           "GIN"
          ],
          [
           "GNB"
          ],
          [
           "GUY"
          ],
          [
           "HTI"
          ],
          [
           "HND"
          ],
          [
           ""
          ],
          [
           ""
          ],
          [
           ""
          ],
          [
           ""
          ],
          [
           ""
          ],
          [
           ""
          ],
          [
           "HUN"
          ],
          [
           "ISL"
          ],
          [
           "IND"
          ],
          [
           "IDN"
          ],
          [
           "IRN"
          ],
          [
           "IRQ"
          ],
          [
           "IRL"
          ],
          [
           "ISR"
          ],
          [
           "ITA"
          ],
          [
           "JAM"
          ],
          [
           "JPN"
          ],
          [
           "JOR"
          ],
          [
           "KAZ"
          ],
          [
           "KEN"
          ],
          [
           "KOR"
          ],
          [
           "KWT"
          ],
          [
           "KGZ"
          ],
          [
           ""
          ],
          [
           ""
          ],
          [
           ""
          ],
          [
           ""
          ],
          [
           ""
          ],
          [
           ""
          ],
          [
           "LVA"
          ],
          [
           "LBN"
          ],
          [
           "LSO"
          ],
          [
           "LBR"
          ],
          [
           "LBY"
          ],
          [
           "LTU"
          ],
          [
           "LUX"
          ],
          [
           "MDG"
          ],
          [
           "MWI"
          ],
          [
           "MYS"
          ],
          [
           "MLI"
          ],
          [
           "MLT"
          ],
          [
           "MRT"
          ],
          [
           "MUS"
          ],
          [
           "MEX"
          ],
          [
           "MDA"
          ],
          [
           "MNG"
          ],
          [
           "MNE"
          ],
          [
           "MAR"
          ],
          [
           "MOZ"
          ],
          [
           "MMR"
          ],
          [
           "NAM"
          ],
          [
           "NPL"
          ],
          [
           "NLD"
          ],
          [
           "NZL"
          ],
          [
           "NIC"
          ],
          [
           "NGA"
          ],
          [
           "NGA"
          ],
          [
           "NGA"
          ],
          [
           "NGA"
          ],
          [
           "MKD"
          ],
          [
           "NOR"
          ],
          [
           "OMN"
          ],
          [
           "PAK"
          ],
          [
           "PAN"
          ],
          [
           "PNG"
          ],
          [
           "PRY"
          ],
          [
           "PER"
          ],
          [
           "PHL"
          ],
          [
           "POL"
          ],
          [
           "PRT"
          ],
          [
           "QAT"
          ],
          [
           "ROU"
          ],
          [
           "RUS"
          ],
          [
           "RWA"
          ],
          [
           "SAU"
          ],
          [
           "SEN"
          ],
          [
           "SRB"
          ],
          [
           "SRB"
          ],
          [
           "SYC"
          ],
          [
           "SLE"
          ],
          [
           "SGP"
          ],
          [
           "SVK"
          ],
          [
           "SVN"
          ],
          [
           "SOM"
          ],
          [
           "ZAF"
          ],
          [
           "ESP"
          ],
          [
           "LKA"
          ],
          [
           "SDN"
          ],
          [
           "SUR"
          ],
          [
           "SWE"
          ],
          [
           "CHE"
          ],
          [
           "SYR"
          ],
          [
           "TWN"
          ],
          [
           "TJK"
          ],
          [
           "TZA"
          ],
          [
           "THA"
          ],
          [
           "TLS"
          ],
          [
           "TGO"
          ],
          [
           "TTO"
          ],
          [
           "TUN"
          ],
          [
           "TUR"
          ],
          [
           "UGA"
          ],
          [
           "UKR"
          ],
          [
           "ARE"
          ],
          [
           "GBR"
          ],
          [
           "USA"
          ],
          [
           "URY"
          ],
          [
           "VEN"
          ],
          [
           "VNM"
          ],
          [
           "YEM"
          ],
          [
           "ZMB"
          ],
          [
           "ZWE"
          ]
         ],
         "geo": "geo",
         "hovertemplate": "<b>%{hovertext}</b><br><br>iso=%{customdata[0]}<br>Happiness Score=%{z}<extra></extra>",
         "hovertext": [
          "ALB",
          "DZA",
          "AGO",
          "ARG",
          "ARM",
          "AUS",
          "AUT",
          "AZE",
          "BHS",
          "BHR",
          "BGD",
          "BRB",
          "BLR",
          "BEL",
          "BLZ",
          "BEN",
          "BTN",
          "BOL",
          "BIH",
          "BWA",
          "BRA",
          "BRN",
          "BGR",
          "BFA",
          "BDI",
          "CPV",
          "KHM",
          "CMR",
          "CAN",
          "CAF",
          "TCD",
          "CHL",
          "CHN",
          "COL",
          "COM",
          "",
          "",
          "",
          "",
          "",
          "",
          "COG",
          "CRI",
          "",
          "",
          "",
          "",
          "",
          "",
          "HRV",
          "CYP",
          "CZE",
          "DNK",
          "DJI",
          "DOM",
          "ECU",
          "EGY",
          "SLV",
          "EST",
          "SWZ",
          "ETH",
          "FJI",
          "FIN",
          "FRA",
          "GAB",
          "GMB",
          "GEO",
          "DEU",
          "GHA",
          "GRC",
          "GTM",
          "GIN",
          "GNB",
          "GUY",
          "HTI",
          "HND",
          "",
          "",
          "",
          "",
          "",
          "",
          "HUN",
          "ISL",
          "IND",
          "IDN",
          "IRN",
          "IRQ",
          "IRL",
          "ISR",
          "ITA",
          "JAM",
          "JPN",
          "JOR",
          "KAZ",
          "KEN",
          "KOR",
          "KWT",
          "KGZ",
          "",
          "",
          "",
          "",
          "",
          "",
          "LVA",
          "LBN",
          "LSO",
          "LBR",
          "LBY",
          "LTU",
          "LUX",
          "MDG",
          "MWI",
          "MYS",
          "MLI",
          "MLT",
          "MRT",
          "MUS",
          "MEX",
          "MDA",
          "MNG",
          "MNE",
          "MAR",
          "MOZ",
          "MMR",
          "NAM",
          "NPL",
          "NLD",
          "NZL",
          "NIC",
          "NGA",
          "NGA",
          "NGA",
          "NGA",
          "MKD",
          "NOR",
          "OMN",
          "PAK",
          "PAN",
          "PNG",
          "PRY",
          "PER",
          "PHL",
          "POL",
          "PRT",
          "QAT",
          "ROU",
          "RUS",
          "RWA",
          "SAU",
          "SEN",
          "SRB",
          "SRB",
          "SYC",
          "SLE",
          "SGP",
          "SVK",
          "SVN",
          "SOM",
          "ZAF",
          "ESP",
          "LKA",
          "SDN",
          "SUR",
          "SWE",
          "CHE",
          "SYR",
          "TWN",
          "TJK",
          "TZA",
          "THA",
          "TLS",
          "TGO",
          "TTO",
          "TUN",
          "TUR",
          "UGA",
          "UKR",
          "ARE",
          "GBR",
          "USA",
          "URY",
          "VEN",
          "VNM",
          "YEM",
          "ZMB",
          "ZWE"
         ],
         "locations": [
          "ALB",
          "DZA",
          "AGO",
          "ARG",
          "ARM",
          "AUS",
          "AUT",
          "AZE",
          "BHS",
          "BHR",
          "BGD",
          "BRB",
          "BLR",
          "BEL",
          "BLZ",
          "BEN",
          "BTN",
          "BOL",
          "BIH",
          "BWA",
          "BRA",
          "BRN",
          "BGR",
          "BFA",
          "BDI",
          "CPV",
          "KHM",
          "CMR",
          "CAN",
          "CAF",
          "TCD",
          "CHL",
          "CHN",
          "COL",
          "COM",
          "",
          "",
          "",
          "",
          "",
          "",
          "COG",
          "CRI",
          "",
          "",
          "",
          "",
          "",
          "",
          "HRV",
          "CYP",
          "CZE",
          "DNK",
          "DJI",
          "DOM",
          "ECU",
          "EGY",
          "SLV",
          "EST",
          "SWZ",
          "ETH",
          "FJI",
          "FIN",
          "FRA",
          "GAB",
          "GMB",
          "GEO",
          "DEU",
          "GHA",
          "GRC",
          "GTM",
          "GIN",
          "GNB",
          "GUY",
          "HTI",
          "HND",
          "",
          "",
          "",
          "",
          "",
          "",
          "HUN",
          "ISL",
          "IND",
          "IDN",
          "IRN",
          "IRQ",
          "IRL",
          "ISR",
          "ITA",
          "JAM",
          "JPN",
          "JOR",
          "KAZ",
          "KEN",
          "KOR",
          "KWT",
          "KGZ",
          "",
          "",
          "",
          "",
          "",
          "",
          "LVA",
          "LBN",
          "LSO",
          "LBR",
          "LBY",
          "LTU",
          "LUX",
          "MDG",
          "MWI",
          "MYS",
          "MLI",
          "MLT",
          "MRT",
          "MUS",
          "MEX",
          "MDA",
          "MNG",
          "MNE",
          "MAR",
          "MOZ",
          "MMR",
          "NAM",
          "NPL",
          "NLD",
          "NZL",
          "NIC",
          "NGA",
          "NGA",
          "NGA",
          "NGA",
          "MKD",
          "NOR",
          "OMN",
          "PAK",
          "PAN",
          "PNG",
          "PRY",
          "PER",
          "PHL",
          "POL",
          "PRT",
          "QAT",
          "ROU",
          "RUS",
          "RWA",
          "SAU",
          "SEN",
          "SRB",
          "SRB",
          "SYC",
          "SLE",
          "SGP",
          "SVK",
          "SVN",
          "SOM",
          "ZAF",
          "ESP",
          "LKA",
          "SDN",
          "SUR",
          "SWE",
          "CHE",
          "SYR",
          "TWN",
          "TJK",
          "TZA",
          "THA",
          "TLS",
          "TGO",
          "TTO",
          "TUN",
          "TUR",
          "UGA",
          "UKR",
          "ARE",
          "GBR",
          "USA",
          "URY",
          "VEN",
          "VNM",
          "YEM",
          "ZMB",
          "ZWE"
         ],
         "name": "",
         "type": "choropleth",
         "z": [
          4.719,
          5.211,
          null,
          6.086,
          4.559,
          7.228,
          7.246,
          5.208,
          null,
          6.199,
          4.456,
          null,
          5.323,
          6.923,
          null,
          4.883,
          5.082,
          5.779,
          5.386,
          3.488,
          6.3,
          null,
          5.011,
          4.587,
          3.775,
          null,
          4.7,
          5.044,
          7.278,
          3.083,
          4.35,
          6.444,
          5.191,
          6.125,
          3.973,
          5.718,
          4.944,
          4.812,
          4.796,
          4.696,
          4.418,
          null,
          7.167,
          5.718,
          4.944,
          4.812,
          4.796,
          4.696,
          4.418,
          5.432,
          6.046,
          6.852,
          7.6,
          null,
          5.425,
          6.028,
          4.166,
          6.253,
          5.893,
          4.212,
          4.286,
          null,
          7.769,
          6.592,
          4.799,
          4.516,
          4.519,
          6.985,
          4.996,
          5.287,
          6.436,
          4.534,
          null,
          null,
          3.597,
          5.86,
          5.718,
          4.944,
          4.812,
          4.796,
          4.696,
          4.418,
          5.758,
          7.494,
          4.015,
          5.192,
          4.548,
          4.437,
          7.021,
          7.139,
          6.223,
          5.89,
          5.886,
          4.906,
          5.809,
          4.509,
          5.895,
          6.021,
          5.261,
          5.718,
          4.944,
          4.812,
          4.796,
          4.696,
          4.418,
          5.94,
          5.197,
          3.802,
          3.975,
          5.525,
          6.149,
          7.09,
          3.933,
          3.41,
          5.339,
          4.39,
          6.726,
          4.49,
          5.888,
          6.595,
          5.529,
          5.285,
          5.523,
          5.208,
          4.466,
          4.36,
          4.639,
          4.913,
          7.488,
          7.307,
          6.105,
          5.265,
          4.628,
          5.265,
          4.628,
          5.274,
          7.554,
          null,
          5.653,
          6.321,
          null,
          5.743,
          5.697,
          5.631,
          6.182,
          5.693,
          6.374,
          6.07,
          5.648,
          3.334,
          6.375,
          4.681,
          6.1,
          5.603,
          null,
          4.374,
          6.262,
          6.198,
          6.118,
          4.668,
          4.722,
          6.354,
          4.366,
          null,
          null,
          7.343,
          7.48,
          3.462,
          6.446,
          5.467,
          3.231,
          6.008,
          null,
          4.085,
          6.192,
          4.461,
          5.373,
          4.189,
          4.332,
          6.825,
          7.054,
          6.892,
          6.293,
          4.707,
          5.175,
          3.38,
          4.107,
          3.663
         ]
        }
       ],
       "layout": {
        "annotations": [
         {
          "align": "center",
          "font": {
           "size": 10
          },
          "showarrow": false,
          "text": "Correlation Matrix of Freedom, Happiness, and Health Indicators: This heatmap illustrates the<br>relationships between various measures of freedom (human, economic, and personal), happiness scores,<br>healthy life expectancy, and perceptions of corruption, with correlation coefficients<br>ranging from 0 (no correlation) to 1 (perfect correlation).",
          "width": 700,
          "x": 0.5,
          "xref": "paper",
          "y": -0.2,
          "yref": "paper"
         }
        ],
        "coloraxis": {
         "colorbar": {
          "title": {
           "text": "Happiness Score"
          }
         },
         "colorscale": [
          [
           0,
           "rgb(177, 63, 100)"
          ],
          [
           0.16666666666666666,
           "rgb(202, 82, 104)"
          ],
          [
           0.3333333333333333,
           "rgb(221, 104, 108)"
          ],
          [
           0.5,
           "rgb(234, 129, 113)"
          ],
          [
           0.6666666666666666,
           "rgb(241, 156, 124)"
          ],
          [
           0.8333333333333334,
           "rgb(245, 183, 142)"
          ],
          [
           1,
           "rgb(246, 210, 169)"
          ]
         ]
        },
        "geo": {
         "center": {},
         "domain": {
          "x": [
           0,
           1
          ],
          "y": [
           0,
           1
          ]
         }
        },
        "height": 500,
        "legend": {
         "tracegroupgap": 0
        },
        "template": {
         "data": {
          "bar": [
           {
            "error_x": {
             "color": "#2a3f5f"
            },
            "error_y": {
             "color": "#2a3f5f"
            },
            "marker": {
             "line": {
              "color": "#E5ECF6",
              "width": 0.5
             },
             "pattern": {
              "fillmode": "overlay",
              "size": 10,
              "solidity": 0.2
             }
            },
            "type": "bar"
           }
          ],
          "barpolar": [
           {
            "marker": {
             "line": {
              "color": "#E5ECF6",
              "width": 0.5
             },
             "pattern": {
              "fillmode": "overlay",
              "size": 10,
              "solidity": 0.2
             }
            },
            "type": "barpolar"
           }
          ],
          "carpet": [
           {
            "aaxis": {
             "endlinecolor": "#2a3f5f",
             "gridcolor": "white",
             "linecolor": "white",
             "minorgridcolor": "white",
             "startlinecolor": "#2a3f5f"
            },
            "baxis": {
             "endlinecolor": "#2a3f5f",
             "gridcolor": "white",
             "linecolor": "white",
             "minorgridcolor": "white",
             "startlinecolor": "#2a3f5f"
            },
            "type": "carpet"
           }
          ],
          "choropleth": [
           {
            "colorbar": {
             "outlinewidth": 0,
             "ticks": ""
            },
            "type": "choropleth"
           }
          ],
          "contour": [
           {
            "colorbar": {
             "outlinewidth": 0,
             "ticks": ""
            },
            "colorscale": [
             [
              0,
              "#0d0887"
             ],
             [
              0.1111111111111111,
              "#46039f"
             ],
             [
              0.2222222222222222,
              "#7201a8"
             ],
             [
              0.3333333333333333,
              "#9c179e"
             ],
             [
              0.4444444444444444,
              "#bd3786"
             ],
             [
              0.5555555555555556,
              "#d8576b"
             ],
             [
              0.6666666666666666,
              "#ed7953"
             ],
             [
              0.7777777777777778,
              "#fb9f3a"
             ],
             [
              0.8888888888888888,
              "#fdca26"
             ],
             [
              1,
              "#f0f921"
             ]
            ],
            "type": "contour"
           }
          ],
          "contourcarpet": [
           {
            "colorbar": {
             "outlinewidth": 0,
             "ticks": ""
            },
            "type": "contourcarpet"
           }
          ],
          "heatmap": [
           {
            "colorbar": {
             "outlinewidth": 0,
             "ticks": ""
            },
            "colorscale": [
             [
              0,
              "#0d0887"
             ],
             [
              0.1111111111111111,
              "#46039f"
             ],
             [
              0.2222222222222222,
              "#7201a8"
             ],
             [
              0.3333333333333333,
              "#9c179e"
             ],
             [
              0.4444444444444444,
              "#bd3786"
             ],
             [
              0.5555555555555556,
              "#d8576b"
             ],
             [
              0.6666666666666666,
              "#ed7953"
             ],
             [
              0.7777777777777778,
              "#fb9f3a"
             ],
             [
              0.8888888888888888,
              "#fdca26"
             ],
             [
              1,
              "#f0f921"
             ]
            ],
            "type": "heatmap"
           }
          ],
          "heatmapgl": [
           {
            "colorbar": {
             "outlinewidth": 0,
             "ticks": ""
            },
            "colorscale": [
             [
              0,
              "#0d0887"
             ],
             [
              0.1111111111111111,
              "#46039f"
             ],
             [
              0.2222222222222222,
              "#7201a8"
             ],
             [
              0.3333333333333333,
              "#9c179e"
             ],
             [
              0.4444444444444444,
              "#bd3786"
             ],
             [
              0.5555555555555556,
              "#d8576b"
             ],
             [
              0.6666666666666666,
              "#ed7953"
             ],
             [
              0.7777777777777778,
              "#fb9f3a"
             ],
             [
              0.8888888888888888,
              "#fdca26"
             ],
             [
              1,
              "#f0f921"
             ]
            ],
            "type": "heatmapgl"
           }
          ],
          "histogram": [
           {
            "marker": {
             "pattern": {
              "fillmode": "overlay",
              "size": 10,
              "solidity": 0.2
             }
            },
            "type": "histogram"
           }
          ],
          "histogram2d": [
           {
            "colorbar": {
             "outlinewidth": 0,
             "ticks": ""
            },
            "colorscale": [
             [
              0,
              "#0d0887"
             ],
             [
              0.1111111111111111,
              "#46039f"
             ],
             [
              0.2222222222222222,
              "#7201a8"
             ],
             [
              0.3333333333333333,
              "#9c179e"
             ],
             [
              0.4444444444444444,
              "#bd3786"
             ],
             [
              0.5555555555555556,
              "#d8576b"
             ],
             [
              0.6666666666666666,
              "#ed7953"
             ],
             [
              0.7777777777777778,
              "#fb9f3a"
             ],
             [
              0.8888888888888888,
              "#fdca26"
             ],
             [
              1,
              "#f0f921"
             ]
            ],
            "type": "histogram2d"
           }
          ],
          "histogram2dcontour": [
           {
            "colorbar": {
             "outlinewidth": 0,
             "ticks": ""
            },
            "colorscale": [
             [
              0,
              "#0d0887"
             ],
             [
              0.1111111111111111,
              "#46039f"
             ],
             [
              0.2222222222222222,
              "#7201a8"
             ],
             [
              0.3333333333333333,
              "#9c179e"
             ],
             [
              0.4444444444444444,
              "#bd3786"
             ],
             [
              0.5555555555555556,
              "#d8576b"
             ],
             [
              0.6666666666666666,
              "#ed7953"
             ],
             [
              0.7777777777777778,
              "#fb9f3a"
             ],
             [
              0.8888888888888888,
              "#fdca26"
             ],
             [
              1,
              "#f0f921"
             ]
            ],
            "type": "histogram2dcontour"
           }
          ],
          "mesh3d": [
           {
            "colorbar": {
             "outlinewidth": 0,
             "ticks": ""
            },
            "type": "mesh3d"
           }
          ],
          "parcoords": [
           {
            "line": {
             "colorbar": {
              "outlinewidth": 0,
              "ticks": ""
             }
            },
            "type": "parcoords"
           }
          ],
          "pie": [
           {
            "automargin": true,
            "type": "pie"
           }
          ],
          "scatter": [
           {
            "fillpattern": {
             "fillmode": "overlay",
             "size": 10,
             "solidity": 0.2
            },
            "type": "scatter"
           }
          ],
          "scatter3d": [
           {
            "line": {
             "colorbar": {
              "outlinewidth": 0,
              "ticks": ""
             }
            },
            "marker": {
             "colorbar": {
              "outlinewidth": 0,
              "ticks": ""
             }
            },
            "type": "scatter3d"
           }
          ],
          "scattercarpet": [
           {
            "marker": {
             "colorbar": {
              "outlinewidth": 0,
              "ticks": ""
             }
            },
            "type": "scattercarpet"
           }
          ],
          "scattergeo": [
           {
            "marker": {
             "colorbar": {
              "outlinewidth": 0,
              "ticks": ""
             }
            },
            "type": "scattergeo"
           }
          ],
          "scattergl": [
           {
            "marker": {
             "colorbar": {
              "outlinewidth": 0,
              "ticks": ""
             }
            },
            "type": "scattergl"
           }
          ],
          "scattermapbox": [
           {
            "marker": {
             "colorbar": {
              "outlinewidth": 0,
              "ticks": ""
             }
            },
            "type": "scattermapbox"
           }
          ],
          "scatterpolar": [
           {
            "marker": {
             "colorbar": {
              "outlinewidth": 0,
              "ticks": ""
             }
            },
            "type": "scatterpolar"
           }
          ],
          "scatterpolargl": [
           {
            "marker": {
             "colorbar": {
              "outlinewidth": 0,
              "ticks": ""
             }
            },
            "type": "scatterpolargl"
           }
          ],
          "scatterternary": [
           {
            "marker": {
             "colorbar": {
              "outlinewidth": 0,
              "ticks": ""
             }
            },
            "type": "scatterternary"
           }
          ],
          "surface": [
           {
            "colorbar": {
             "outlinewidth": 0,
             "ticks": ""
            },
            "colorscale": [
             [
              0,
              "#0d0887"
             ],
             [
              0.1111111111111111,
              "#46039f"
             ],
             [
              0.2222222222222222,
              "#7201a8"
             ],
             [
              0.3333333333333333,
              "#9c179e"
             ],
             [
              0.4444444444444444,
              "#bd3786"
             ],
             [
              0.5555555555555556,
              "#d8576b"
             ],
             [
              0.6666666666666666,
              "#ed7953"
             ],
             [
              0.7777777777777778,
              "#fb9f3a"
             ],
             [
              0.8888888888888888,
              "#fdca26"
             ],
             [
              1,
              "#f0f921"
             ]
            ],
            "type": "surface"
           }
          ],
          "table": [
           {
            "cells": {
             "fill": {
              "color": "#EBF0F8"
             },
             "line": {
              "color": "white"
             }
            },
            "header": {
             "fill": {
              "color": "#C8D4E3"
             },
             "line": {
              "color": "white"
             }
            },
            "type": "table"
           }
          ]
         },
         "layout": {
          "annotationdefaults": {
           "arrowcolor": "#2a3f5f",
           "arrowhead": 0,
           "arrowwidth": 1
          },
          "autotypenumbers": "strict",
          "coloraxis": {
           "colorbar": {
            "outlinewidth": 0,
            "ticks": ""
           }
          },
          "colorscale": {
           "diverging": [
            [
             0,
             "#8e0152"
            ],
            [
             0.1,
             "#c51b7d"
            ],
            [
             0.2,
             "#de77ae"
            ],
            [
             0.3,
             "#f1b6da"
            ],
            [
             0.4,
             "#fde0ef"
            ],
            [
             0.5,
             "#f7f7f7"
            ],
            [
             0.6,
             "#e6f5d0"
            ],
            [
             0.7,
             "#b8e186"
            ],
            [
             0.8,
             "#7fbc41"
            ],
            [
             0.9,
             "#4d9221"
            ],
            [
             1,
             "#276419"
            ]
           ],
           "sequential": [
            [
             0,
             "#0d0887"
            ],
            [
             0.1111111111111111,
             "#46039f"
            ],
            [
             0.2222222222222222,
             "#7201a8"
            ],
            [
             0.3333333333333333,
             "#9c179e"
            ],
            [
             0.4444444444444444,
             "#bd3786"
            ],
            [
             0.5555555555555556,
             "#d8576b"
            ],
            [
             0.6666666666666666,
             "#ed7953"
            ],
            [
             0.7777777777777778,
             "#fb9f3a"
            ],
            [
             0.8888888888888888,
             "#fdca26"
            ],
            [
             1,
             "#f0f921"
            ]
           ],
           "sequentialminus": [
            [
             0,
             "#0d0887"
            ],
            [
             0.1111111111111111,
             "#46039f"
            ],
            [
             0.2222222222222222,
             "#7201a8"
            ],
            [
             0.3333333333333333,
             "#9c179e"
            ],
            [
             0.4444444444444444,
             "#bd3786"
            ],
            [
             0.5555555555555556,
             "#d8576b"
            ],
            [
             0.6666666666666666,
             "#ed7953"
            ],
            [
             0.7777777777777778,
             "#fb9f3a"
            ],
            [
             0.8888888888888888,
             "#fdca26"
            ],
            [
             1,
             "#f0f921"
            ]
           ]
          },
          "colorway": [
           "#636efa",
           "#EF553B",
           "#00cc96",
           "#ab63fa",
           "#FFA15A",
           "#19d3f3",
           "#FF6692",
           "#B6E880",
           "#FF97FF",
           "#FECB52"
          ],
          "font": {
           "color": "#2a3f5f"
          },
          "geo": {
           "bgcolor": "white",
           "lakecolor": "white",
           "landcolor": "#E5ECF6",
           "showlakes": true,
           "showland": true,
           "subunitcolor": "white"
          },
          "hoverlabel": {
           "align": "left"
          },
          "hovermode": "closest",
          "mapbox": {
           "style": "light"
          },
          "paper_bgcolor": "white",
          "plot_bgcolor": "#E5ECF6",
          "polar": {
           "angularaxis": {
            "gridcolor": "white",
            "linecolor": "white",
            "ticks": ""
           },
           "bgcolor": "#E5ECF6",
           "radialaxis": {
            "gridcolor": "white",
            "linecolor": "white",
            "ticks": ""
           }
          },
          "scene": {
           "xaxis": {
            "backgroundcolor": "#E5ECF6",
            "gridcolor": "white",
            "gridwidth": 2,
            "linecolor": "white",
            "showbackground": true,
            "ticks": "",
            "zerolinecolor": "white"
           },
           "yaxis": {
            "backgroundcolor": "#E5ECF6",
            "gridcolor": "white",
            "gridwidth": 2,
            "linecolor": "white",
            "showbackground": true,
            "ticks": "",
            "zerolinecolor": "white"
           },
           "zaxis": {
            "backgroundcolor": "#E5ECF6",
            "gridcolor": "white",
            "gridwidth": 2,
            "linecolor": "white",
            "showbackground": true,
            "ticks": "",
            "zerolinecolor": "white"
           }
          },
          "shapedefaults": {
           "line": {
            "color": "#2a3f5f"
           }
          },
          "ternary": {
           "aaxis": {
            "gridcolor": "white",
            "linecolor": "white",
            "ticks": ""
           },
           "baxis": {
            "gridcolor": "white",
            "linecolor": "white",
            "ticks": ""
           },
           "bgcolor": "#E5ECF6",
           "caxis": {
            "gridcolor": "white",
            "linecolor": "white",
            "ticks": ""
           }
          },
          "title": {
           "x": 0.05
          },
          "xaxis": {
           "automargin": true,
           "gridcolor": "white",
           "linecolor": "white",
           "ticks": "",
           "title": {
            "standoff": 15
           },
           "zerolinecolor": "white",
           "zerolinewidth": 2
          },
          "yaxis": {
           "automargin": true,
           "gridcolor": "white",
           "linecolor": "white",
           "ticks": "",
           "title": {
            "standoff": 15
           },
           "zerolinecolor": "white",
           "zerolinewidth": 2
          }
         }
        },
        "title": {
         "text": "Happiness"
        },
        "width": 1000
       }
      },
      "text/html": [
       "<div>                            <div id=\"ebd2c589-052a-468f-b740-c16cc7f427b1\" class=\"plotly-graph-div\" style=\"height:500px; width:1000px;\"></div>            <script type=\"text/javascript\">                require([\"plotly\"], function(Plotly) {                    window.PLOTLYENV=window.PLOTLYENV || {};                                    if (document.getElementById(\"ebd2c589-052a-468f-b740-c16cc7f427b1\")) {                    Plotly.newPlot(                        \"ebd2c589-052a-468f-b740-c16cc7f427b1\",                        [{\"coloraxis\":\"coloraxis\",\"customdata\":[[\"ALB\"],[\"DZA\"],[\"AGO\"],[\"ARG\"],[\"ARM\"],[\"AUS\"],[\"AUT\"],[\"AZE\"],[\"BHS\"],[\"BHR\"],[\"BGD\"],[\"BRB\"],[\"BLR\"],[\"BEL\"],[\"BLZ\"],[\"BEN\"],[\"BTN\"],[\"BOL\"],[\"BIH\"],[\"BWA\"],[\"BRA\"],[\"BRN\"],[\"BGR\"],[\"BFA\"],[\"BDI\"],[\"CPV\"],[\"KHM\"],[\"CMR\"],[\"CAN\"],[\"CAF\"],[\"TCD\"],[\"CHL\"],[\"CHN\"],[\"COL\"],[\"COM\"],[\"\"],[\"\"],[\"\"],[\"\"],[\"\"],[\"\"],[\"COG\"],[\"CRI\"],[\"\"],[\"\"],[\"\"],[\"\"],[\"\"],[\"\"],[\"HRV\"],[\"CYP\"],[\"CZE\"],[\"DNK\"],[\"DJI\"],[\"DOM\"],[\"ECU\"],[\"EGY\"],[\"SLV\"],[\"EST\"],[\"SWZ\"],[\"ETH\"],[\"FJI\"],[\"FIN\"],[\"FRA\"],[\"GAB\"],[\"GMB\"],[\"GEO\"],[\"DEU\"],[\"GHA\"],[\"GRC\"],[\"GTM\"],[\"GIN\"],[\"GNB\"],[\"GUY\"],[\"HTI\"],[\"HND\"],[\"\"],[\"\"],[\"\"],[\"\"],[\"\"],[\"\"],[\"HUN\"],[\"ISL\"],[\"IND\"],[\"IDN\"],[\"IRN\"],[\"IRQ\"],[\"IRL\"],[\"ISR\"],[\"ITA\"],[\"JAM\"],[\"JPN\"],[\"JOR\"],[\"KAZ\"],[\"KEN\"],[\"KOR\"],[\"KWT\"],[\"KGZ\"],[\"\"],[\"\"],[\"\"],[\"\"],[\"\"],[\"\"],[\"LVA\"],[\"LBN\"],[\"LSO\"],[\"LBR\"],[\"LBY\"],[\"LTU\"],[\"LUX\"],[\"MDG\"],[\"MWI\"],[\"MYS\"],[\"MLI\"],[\"MLT\"],[\"MRT\"],[\"MUS\"],[\"MEX\"],[\"MDA\"],[\"MNG\"],[\"MNE\"],[\"MAR\"],[\"MOZ\"],[\"MMR\"],[\"NAM\"],[\"NPL\"],[\"NLD\"],[\"NZL\"],[\"NIC\"],[\"NGA\"],[\"NGA\"],[\"NGA\"],[\"NGA\"],[\"MKD\"],[\"NOR\"],[\"OMN\"],[\"PAK\"],[\"PAN\"],[\"PNG\"],[\"PRY\"],[\"PER\"],[\"PHL\"],[\"POL\"],[\"PRT\"],[\"QAT\"],[\"ROU\"],[\"RUS\"],[\"RWA\"],[\"SAU\"],[\"SEN\"],[\"SRB\"],[\"SRB\"],[\"SYC\"],[\"SLE\"],[\"SGP\"],[\"SVK\"],[\"SVN\"],[\"SOM\"],[\"ZAF\"],[\"ESP\"],[\"LKA\"],[\"SDN\"],[\"SUR\"],[\"SWE\"],[\"CHE\"],[\"SYR\"],[\"TWN\"],[\"TJK\"],[\"TZA\"],[\"THA\"],[\"TLS\"],[\"TGO\"],[\"TTO\"],[\"TUN\"],[\"TUR\"],[\"UGA\"],[\"UKR\"],[\"ARE\"],[\"GBR\"],[\"USA\"],[\"URY\"],[\"VEN\"],[\"VNM\"],[\"YEM\"],[\"ZMB\"],[\"ZWE\"]],\"geo\":\"geo\",\"hovertemplate\":\"\\u003cb\\u003e%{hovertext}\\u003c\\u002fb\\u003e\\u003cbr\\u003e\\u003cbr\\u003eiso=%{customdata[0]}\\u003cbr\\u003eHappiness Score=%{z}\\u003cextra\\u003e\\u003c\\u002fextra\\u003e\",\"hovertext\":[\"ALB\",\"DZA\",\"AGO\",\"ARG\",\"ARM\",\"AUS\",\"AUT\",\"AZE\",\"BHS\",\"BHR\",\"BGD\",\"BRB\",\"BLR\",\"BEL\",\"BLZ\",\"BEN\",\"BTN\",\"BOL\",\"BIH\",\"BWA\",\"BRA\",\"BRN\",\"BGR\",\"BFA\",\"BDI\",\"CPV\",\"KHM\",\"CMR\",\"CAN\",\"CAF\",\"TCD\",\"CHL\",\"CHN\",\"COL\",\"COM\",\"\",\"\",\"\",\"\",\"\",\"\",\"COG\",\"CRI\",\"\",\"\",\"\",\"\",\"\",\"\",\"HRV\",\"CYP\",\"CZE\",\"DNK\",\"DJI\",\"DOM\",\"ECU\",\"EGY\",\"SLV\",\"EST\",\"SWZ\",\"ETH\",\"FJI\",\"FIN\",\"FRA\",\"GAB\",\"GMB\",\"GEO\",\"DEU\",\"GHA\",\"GRC\",\"GTM\",\"GIN\",\"GNB\",\"GUY\",\"HTI\",\"HND\",\"\",\"\",\"\",\"\",\"\",\"\",\"HUN\",\"ISL\",\"IND\",\"IDN\",\"IRN\",\"IRQ\",\"IRL\",\"ISR\",\"ITA\",\"JAM\",\"JPN\",\"JOR\",\"KAZ\",\"KEN\",\"KOR\",\"KWT\",\"KGZ\",\"\",\"\",\"\",\"\",\"\",\"\",\"LVA\",\"LBN\",\"LSO\",\"LBR\",\"LBY\",\"LTU\",\"LUX\",\"MDG\",\"MWI\",\"MYS\",\"MLI\",\"MLT\",\"MRT\",\"MUS\",\"MEX\",\"MDA\",\"MNG\",\"MNE\",\"MAR\",\"MOZ\",\"MMR\",\"NAM\",\"NPL\",\"NLD\",\"NZL\",\"NIC\",\"NGA\",\"NGA\",\"NGA\",\"NGA\",\"MKD\",\"NOR\",\"OMN\",\"PAK\",\"PAN\",\"PNG\",\"PRY\",\"PER\",\"PHL\",\"POL\",\"PRT\",\"QAT\",\"ROU\",\"RUS\",\"RWA\",\"SAU\",\"SEN\",\"SRB\",\"SRB\",\"SYC\",\"SLE\",\"SGP\",\"SVK\",\"SVN\",\"SOM\",\"ZAF\",\"ESP\",\"LKA\",\"SDN\",\"SUR\",\"SWE\",\"CHE\",\"SYR\",\"TWN\",\"TJK\",\"TZA\",\"THA\",\"TLS\",\"TGO\",\"TTO\",\"TUN\",\"TUR\",\"UGA\",\"UKR\",\"ARE\",\"GBR\",\"USA\",\"URY\",\"VEN\",\"VNM\",\"YEM\",\"ZMB\",\"ZWE\"],\"locations\":[\"ALB\",\"DZA\",\"AGO\",\"ARG\",\"ARM\",\"AUS\",\"AUT\",\"AZE\",\"BHS\",\"BHR\",\"BGD\",\"BRB\",\"BLR\",\"BEL\",\"BLZ\",\"BEN\",\"BTN\",\"BOL\",\"BIH\",\"BWA\",\"BRA\",\"BRN\",\"BGR\",\"BFA\",\"BDI\",\"CPV\",\"KHM\",\"CMR\",\"CAN\",\"CAF\",\"TCD\",\"CHL\",\"CHN\",\"COL\",\"COM\",\"\",\"\",\"\",\"\",\"\",\"\",\"COG\",\"CRI\",\"\",\"\",\"\",\"\",\"\",\"\",\"HRV\",\"CYP\",\"CZE\",\"DNK\",\"DJI\",\"DOM\",\"ECU\",\"EGY\",\"SLV\",\"EST\",\"SWZ\",\"ETH\",\"FJI\",\"FIN\",\"FRA\",\"GAB\",\"GMB\",\"GEO\",\"DEU\",\"GHA\",\"GRC\",\"GTM\",\"GIN\",\"GNB\",\"GUY\",\"HTI\",\"HND\",\"\",\"\",\"\",\"\",\"\",\"\",\"HUN\",\"ISL\",\"IND\",\"IDN\",\"IRN\",\"IRQ\",\"IRL\",\"ISR\",\"ITA\",\"JAM\",\"JPN\",\"JOR\",\"KAZ\",\"KEN\",\"KOR\",\"KWT\",\"KGZ\",\"\",\"\",\"\",\"\",\"\",\"\",\"LVA\",\"LBN\",\"LSO\",\"LBR\",\"LBY\",\"LTU\",\"LUX\",\"MDG\",\"MWI\",\"MYS\",\"MLI\",\"MLT\",\"MRT\",\"MUS\",\"MEX\",\"MDA\",\"MNG\",\"MNE\",\"MAR\",\"MOZ\",\"MMR\",\"NAM\",\"NPL\",\"NLD\",\"NZL\",\"NIC\",\"NGA\",\"NGA\",\"NGA\",\"NGA\",\"MKD\",\"NOR\",\"OMN\",\"PAK\",\"PAN\",\"PNG\",\"PRY\",\"PER\",\"PHL\",\"POL\",\"PRT\",\"QAT\",\"ROU\",\"RUS\",\"RWA\",\"SAU\",\"SEN\",\"SRB\",\"SRB\",\"SYC\",\"SLE\",\"SGP\",\"SVK\",\"SVN\",\"SOM\",\"ZAF\",\"ESP\",\"LKA\",\"SDN\",\"SUR\",\"SWE\",\"CHE\",\"SYR\",\"TWN\",\"TJK\",\"TZA\",\"THA\",\"TLS\",\"TGO\",\"TTO\",\"TUN\",\"TUR\",\"UGA\",\"UKR\",\"ARE\",\"GBR\",\"USA\",\"URY\",\"VEN\",\"VNM\",\"YEM\",\"ZMB\",\"ZWE\"],\"name\":\"\",\"z\":[4.719,5.211,null,6.086,4.559,7.228,7.246,5.208,null,6.199,4.456,null,5.323,6.923,null,4.883,5.082,5.779,5.386,3.488,6.3,null,5.011,4.587,3.775,null,4.7,5.044,7.278,3.083,4.35,6.444,5.191,6.125,3.973,5.718,4.944,4.812,4.796,4.696,4.418,null,7.167,5.718,4.944,4.812,4.796,4.696,4.418,5.432,6.046,6.852,7.6,null,5.425,6.028,4.166,6.253,5.893,4.212,4.286,null,7.769,6.592,4.799,4.516,4.519,6.985,4.996,5.287,6.436,4.534,null,null,3.597,5.86,5.718,4.944,4.812,4.796,4.696,4.418,5.758,7.494,4.015,5.192,4.548,4.437,7.021,7.139,6.223,5.89,5.886,4.906,5.809,4.509,5.895,6.021,5.261,5.718,4.944,4.812,4.796,4.696,4.418,5.94,5.197,3.802,3.975,5.525,6.149,7.09,3.933,3.41,5.339,4.39,6.726,4.49,5.888,6.595,5.529,5.285,5.523,5.208,4.466,4.36,4.639,4.913,7.488,7.307,6.105,5.265,4.628,5.265,4.628,5.274,7.554,null,5.653,6.321,null,5.743,5.697,5.631,6.182,5.693,6.374,6.07,5.648,3.334,6.375,4.681,6.1,5.603,null,4.374,6.262,6.198,6.118,4.668,4.722,6.354,4.366,null,null,7.343,7.48,3.462,6.446,5.467,3.231,6.008,null,4.085,6.192,4.461,5.373,4.189,4.332,6.825,7.054,6.892,6.293,4.707,5.175,3.38,4.107,3.663],\"type\":\"choropleth\"}],                        {\"template\":{\"data\":{\"histogram2dcontour\":[{\"type\":\"histogram2dcontour\",\"colorbar\":{\"outlinewidth\":0,\"ticks\":\"\"},\"colorscale\":[[0.0,\"#0d0887\"],[0.1111111111111111,\"#46039f\"],[0.2222222222222222,\"#7201a8\"],[0.3333333333333333,\"#9c179e\"],[0.4444444444444444,\"#bd3786\"],[0.5555555555555556,\"#d8576b\"],[0.6666666666666666,\"#ed7953\"],[0.7777777777777778,\"#fb9f3a\"],[0.8888888888888888,\"#fdca26\"],[1.0,\"#f0f921\"]]}],\"choropleth\":[{\"type\":\"choropleth\",\"colorbar\":{\"outlinewidth\":0,\"ticks\":\"\"}}],\"histogram2d\":[{\"type\":\"histogram2d\",\"colorbar\":{\"outlinewidth\":0,\"ticks\":\"\"},\"colorscale\":[[0.0,\"#0d0887\"],[0.1111111111111111,\"#46039f\"],[0.2222222222222222,\"#7201a8\"],[0.3333333333333333,\"#9c179e\"],[0.4444444444444444,\"#bd3786\"],[0.5555555555555556,\"#d8576b\"],[0.6666666666666666,\"#ed7953\"],[0.7777777777777778,\"#fb9f3a\"],[0.8888888888888888,\"#fdca26\"],[1.0,\"#f0f921\"]]}],\"heatmap\":[{\"type\":\"heatmap\",\"colorbar\":{\"outlinewidth\":0,\"ticks\":\"\"},\"colorscale\":[[0.0,\"#0d0887\"],[0.1111111111111111,\"#46039f\"],[0.2222222222222222,\"#7201a8\"],[0.3333333333333333,\"#9c179e\"],[0.4444444444444444,\"#bd3786\"],[0.5555555555555556,\"#d8576b\"],[0.6666666666666666,\"#ed7953\"],[0.7777777777777778,\"#fb9f3a\"],[0.8888888888888888,\"#fdca26\"],[1.0,\"#f0f921\"]]}],\"heatmapgl\":[{\"type\":\"heatmapgl\",\"colorbar\":{\"outlinewidth\":0,\"ticks\":\"\"},\"colorscale\":[[0.0,\"#0d0887\"],[0.1111111111111111,\"#46039f\"],[0.2222222222222222,\"#7201a8\"],[0.3333333333333333,\"#9c179e\"],[0.4444444444444444,\"#bd3786\"],[0.5555555555555556,\"#d8576b\"],[0.6666666666666666,\"#ed7953\"],[0.7777777777777778,\"#fb9f3a\"],[0.8888888888888888,\"#fdca26\"],[1.0,\"#f0f921\"]]}],\"contourcarpet\":[{\"type\":\"contourcarpet\",\"colorbar\":{\"outlinewidth\":0,\"ticks\":\"\"}}],\"contour\":[{\"type\":\"contour\",\"colorbar\":{\"outlinewidth\":0,\"ticks\":\"\"},\"colorscale\":[[0.0,\"#0d0887\"],[0.1111111111111111,\"#46039f\"],[0.2222222222222222,\"#7201a8\"],[0.3333333333333333,\"#9c179e\"],[0.4444444444444444,\"#bd3786\"],[0.5555555555555556,\"#d8576b\"],[0.6666666666666666,\"#ed7953\"],[0.7777777777777778,\"#fb9f3a\"],[0.8888888888888888,\"#fdca26\"],[1.0,\"#f0f921\"]]}],\"surface\":[{\"type\":\"surface\",\"colorbar\":{\"outlinewidth\":0,\"ticks\":\"\"},\"colorscale\":[[0.0,\"#0d0887\"],[0.1111111111111111,\"#46039f\"],[0.2222222222222222,\"#7201a8\"],[0.3333333333333333,\"#9c179e\"],[0.4444444444444444,\"#bd3786\"],[0.5555555555555556,\"#d8576b\"],[0.6666666666666666,\"#ed7953\"],[0.7777777777777778,\"#fb9f3a\"],[0.8888888888888888,\"#fdca26\"],[1.0,\"#f0f921\"]]}],\"mesh3d\":[{\"type\":\"mesh3d\",\"colorbar\":{\"outlinewidth\":0,\"ticks\":\"\"}}],\"scatter\":[{\"fillpattern\":{\"fillmode\":\"overlay\",\"size\":10,\"solidity\":0.2},\"type\":\"scatter\"}],\"parcoords\":[{\"type\":\"parcoords\",\"line\":{\"colorbar\":{\"outlinewidth\":0,\"ticks\":\"\"}}}],\"scatterpolargl\":[{\"type\":\"scatterpolargl\",\"marker\":{\"colorbar\":{\"outlinewidth\":0,\"ticks\":\"\"}}}],\"bar\":[{\"error_x\":{\"color\":\"#2a3f5f\"},\"error_y\":{\"color\":\"#2a3f5f\"},\"marker\":{\"line\":{\"color\":\"#E5ECF6\",\"width\":0.5},\"pattern\":{\"fillmode\":\"overlay\",\"size\":10,\"solidity\":0.2}},\"type\":\"bar\"}],\"scattergeo\":[{\"type\":\"scattergeo\",\"marker\":{\"colorbar\":{\"outlinewidth\":0,\"ticks\":\"\"}}}],\"scatterpolar\":[{\"type\":\"scatterpolar\",\"marker\":{\"colorbar\":{\"outlinewidth\":0,\"ticks\":\"\"}}}],\"histogram\":[{\"marker\":{\"pattern\":{\"fillmode\":\"overlay\",\"size\":10,\"solidity\":0.2}},\"type\":\"histogram\"}],\"scattergl\":[{\"type\":\"scattergl\",\"marker\":{\"colorbar\":{\"outlinewidth\":0,\"ticks\":\"\"}}}],\"scatter3d\":[{\"type\":\"scatter3d\",\"line\":{\"colorbar\":{\"outlinewidth\":0,\"ticks\":\"\"}},\"marker\":{\"colorbar\":{\"outlinewidth\":0,\"ticks\":\"\"}}}],\"scattermapbox\":[{\"type\":\"scattermapbox\",\"marker\":{\"colorbar\":{\"outlinewidth\":0,\"ticks\":\"\"}}}],\"scatterternary\":[{\"type\":\"scatterternary\",\"marker\":{\"colorbar\":{\"outlinewidth\":0,\"ticks\":\"\"}}}],\"scattercarpet\":[{\"type\":\"scattercarpet\",\"marker\":{\"colorbar\":{\"outlinewidth\":0,\"ticks\":\"\"}}}],\"carpet\":[{\"aaxis\":{\"endlinecolor\":\"#2a3f5f\",\"gridcolor\":\"white\",\"linecolor\":\"white\",\"minorgridcolor\":\"white\",\"startlinecolor\":\"#2a3f5f\"},\"baxis\":{\"endlinecolor\":\"#2a3f5f\",\"gridcolor\":\"white\",\"linecolor\":\"white\",\"minorgridcolor\":\"white\",\"startlinecolor\":\"#2a3f5f\"},\"type\":\"carpet\"}],\"table\":[{\"cells\":{\"fill\":{\"color\":\"#EBF0F8\"},\"line\":{\"color\":\"white\"}},\"header\":{\"fill\":{\"color\":\"#C8D4E3\"},\"line\":{\"color\":\"white\"}},\"type\":\"table\"}],\"barpolar\":[{\"marker\":{\"line\":{\"color\":\"#E5ECF6\",\"width\":0.5},\"pattern\":{\"fillmode\":\"overlay\",\"size\":10,\"solidity\":0.2}},\"type\":\"barpolar\"}],\"pie\":[{\"automargin\":true,\"type\":\"pie\"}]},\"layout\":{\"autotypenumbers\":\"strict\",\"colorway\":[\"#636efa\",\"#EF553B\",\"#00cc96\",\"#ab63fa\",\"#FFA15A\",\"#19d3f3\",\"#FF6692\",\"#B6E880\",\"#FF97FF\",\"#FECB52\"],\"font\":{\"color\":\"#2a3f5f\"},\"hovermode\":\"closest\",\"hoverlabel\":{\"align\":\"left\"},\"paper_bgcolor\":\"white\",\"plot_bgcolor\":\"#E5ECF6\",\"polar\":{\"bgcolor\":\"#E5ECF6\",\"angularaxis\":{\"gridcolor\":\"white\",\"linecolor\":\"white\",\"ticks\":\"\"},\"radialaxis\":{\"gridcolor\":\"white\",\"linecolor\":\"white\",\"ticks\":\"\"}},\"ternary\":{\"bgcolor\":\"#E5ECF6\",\"aaxis\":{\"gridcolor\":\"white\",\"linecolor\":\"white\",\"ticks\":\"\"},\"baxis\":{\"gridcolor\":\"white\",\"linecolor\":\"white\",\"ticks\":\"\"},\"caxis\":{\"gridcolor\":\"white\",\"linecolor\":\"white\",\"ticks\":\"\"}},\"coloraxis\":{\"colorbar\":{\"outlinewidth\":0,\"ticks\":\"\"}},\"colorscale\":{\"sequential\":[[0.0,\"#0d0887\"],[0.1111111111111111,\"#46039f\"],[0.2222222222222222,\"#7201a8\"],[0.3333333333333333,\"#9c179e\"],[0.4444444444444444,\"#bd3786\"],[0.5555555555555556,\"#d8576b\"],[0.6666666666666666,\"#ed7953\"],[0.7777777777777778,\"#fb9f3a\"],[0.8888888888888888,\"#fdca26\"],[1.0,\"#f0f921\"]],\"sequentialminus\":[[0.0,\"#0d0887\"],[0.1111111111111111,\"#46039f\"],[0.2222222222222222,\"#7201a8\"],[0.3333333333333333,\"#9c179e\"],[0.4444444444444444,\"#bd3786\"],[0.5555555555555556,\"#d8576b\"],[0.6666666666666666,\"#ed7953\"],[0.7777777777777778,\"#fb9f3a\"],[0.8888888888888888,\"#fdca26\"],[1.0,\"#f0f921\"]],\"diverging\":[[0,\"#8e0152\"],[0.1,\"#c51b7d\"],[0.2,\"#de77ae\"],[0.3,\"#f1b6da\"],[0.4,\"#fde0ef\"],[0.5,\"#f7f7f7\"],[0.6,\"#e6f5d0\"],[0.7,\"#b8e186\"],[0.8,\"#7fbc41\"],[0.9,\"#4d9221\"],[1,\"#276419\"]]},\"xaxis\":{\"gridcolor\":\"white\",\"linecolor\":\"white\",\"ticks\":\"\",\"title\":{\"standoff\":15},\"zerolinecolor\":\"white\",\"automargin\":true,\"zerolinewidth\":2},\"yaxis\":{\"gridcolor\":\"white\",\"linecolor\":\"white\",\"ticks\":\"\",\"title\":{\"standoff\":15},\"zerolinecolor\":\"white\",\"automargin\":true,\"zerolinewidth\":2},\"scene\":{\"xaxis\":{\"backgroundcolor\":\"#E5ECF6\",\"gridcolor\":\"white\",\"linecolor\":\"white\",\"showbackground\":true,\"ticks\":\"\",\"zerolinecolor\":\"white\",\"gridwidth\":2},\"yaxis\":{\"backgroundcolor\":\"#E5ECF6\",\"gridcolor\":\"white\",\"linecolor\":\"white\",\"showbackground\":true,\"ticks\":\"\",\"zerolinecolor\":\"white\",\"gridwidth\":2},\"zaxis\":{\"backgroundcolor\":\"#E5ECF6\",\"gridcolor\":\"white\",\"linecolor\":\"white\",\"showbackground\":true,\"ticks\":\"\",\"zerolinecolor\":\"white\",\"gridwidth\":2}},\"shapedefaults\":{\"line\":{\"color\":\"#2a3f5f\"}},\"annotationdefaults\":{\"arrowcolor\":\"#2a3f5f\",\"arrowhead\":0,\"arrowwidth\":1},\"geo\":{\"bgcolor\":\"white\",\"landcolor\":\"#E5ECF6\",\"subunitcolor\":\"white\",\"showland\":true,\"showlakes\":true,\"lakecolor\":\"white\"},\"title\":{\"x\":0.05},\"mapbox\":{\"style\":\"light\"}}},\"geo\":{\"domain\":{\"x\":[0.0,1.0],\"y\":[0.0,1.0]},\"center\":{}},\"coloraxis\":{\"colorbar\":{\"title\":{\"text\":\"Happiness Score\"}},\"colorscale\":[[0.0,\"rgb(177, 63, 100)\"],[0.16666666666666666,\"rgb(202, 82, 104)\"],[0.3333333333333333,\"rgb(221, 104, 108)\"],[0.5,\"rgb(234, 129, 113)\"],[0.6666666666666666,\"rgb(241, 156, 124)\"],[0.8333333333333334,\"rgb(245, 183, 142)\"],[1.0,\"rgb(246, 210, 169)\"]]},\"legend\":{\"tracegroupgap\":0},\"title\":{\"text\":\"Happiness\"},\"width\":1000,\"height\":500,\"annotations\":[{\"align\":\"center\",\"font\":{\"size\":10},\"showarrow\":false,\"text\":\"Correlation Matrix of Freedom, Happiness, and Health Indicators: This heatmap illustrates the\\u003cbr\\u003erelationships between various measures of freedom (human, economic, and personal), happiness scores,\\u003cbr\\u003ehealthy life expectancy, and perceptions of corruption, with correlation coefficients\\u003cbr\\u003eranging from 0 (no correlation) to 1 (perfect correlation).\",\"width\":700,\"x\":0.5,\"xref\":\"paper\",\"y\":-0.2,\"yref\":\"paper\"}]},                        {\"responsive\": true}                    ).then(function(){\n",
       "                            \n",
       "var gd = document.getElementById('ebd2c589-052a-468f-b740-c16cc7f427b1');\n",
       "var x = new MutationObserver(function (mutations, observer) {{\n",
       "        var display = window.getComputedStyle(gd).display;\n",
       "        if (!display || display === 'none') {{\n",
       "            console.log([gd, 'removed!']);\n",
       "            Plotly.purge(gd);\n",
       "            observer.disconnect();\n",
       "        }}\n",
       "}});\n",
       "\n",
       "// Listen for the removal of the full notebook cells\n",
       "var notebookContainer = gd.closest('#notebook-container');\n",
       "if (notebookContainer) {{\n",
       "    x.observe(notebookContainer, {childList: true});\n",
       "}}\n",
       "\n",
       "// Listen for the clearing of the current output cell\n",
       "var outputEl = gd.closest('.output');\n",
       "if (outputEl) {{\n",
       "    x.observe(outputEl, {childList: true});\n",
       "}}\n",
       "\n",
       "                        })                };                });            </script>        </div>"
      ]
     },
     "metadata": {},
     "output_type": "display_data"
    }
   ],
   "source": [
    "fig = px.choropleth(data, locations=\"iso\",\n",
    "                   title='Freedom around the world',\n",
    "                   color=\"Human Freedom Score\",\n",
    "                   hover_name=\"iso\",\n",
    "                   hover_data=['iso'],\n",
    "                   color_continuous_scale=px.colors.sequential.Redor_r, \n",
    "                   )\n",
    "\n",
    "\n",
    "fig_2 = px.choropleth(data, locations=\"iso\",\n",
    "                   title='Happiness',\n",
    "                   color=\"Happiness Score\",\n",
    "                   hover_name=\"iso\",\n",
    "                   hover_data=['iso'],\n",
    "                   color_continuous_scale=px.colors.sequential.Redor_r, \n",
    "                   )\n",
    "fig.update_layout(\n",
    "   width=1000,  # Adjust the width as needed\n",
    "   height=500  # Adjust the height if needed\n",
    ")\n",
    "fig_2.update_layout(\n",
    "   width=1000,  # Adjust the width as needed\n",
    "   height=500  # Adjust the height if needed\n",
    ")\n",
    "fig.add_annotation(\n",
    "   x=0.5,\n",
    "   y=-0.2,\n",
    "   xref='paper',\n",
    "   yref='paper',\n",
    "   showarrow=False,\n",
    "   text=(\n",
    "       'Correlation Matrix of Freedom, Happiness, and Health Indicators: This heatmap illustrates the<br>'\n",
    "       'relationships between various measures of freedom (human, economic, and personal), happiness scores,<br>'\n",
    "       'healthy life expectancy, and perceptions of corruption, with correlation coefficients<br>'\n",
    "       'ranging from 0 (no correlation) to 1 (perfect correlation).'\n",
    "   ),\n",
    "   font=dict(size=10),\n",
    "   align='center',\n",
    "   width=700  # Adjust this value as needed\n",
    ")\n",
    "\n",
    "fig_2.add_annotation(\n",
    "   x=0.5,\n",
    "   y=-0.2,\n",
    "   xref='paper',\n",
    "   yref='paper',\n",
    "   showarrow=False,\n",
    "   text=(\n",
    "       'Global Distribution of Personal Freedom Scores: A map showcasing the varying levels of personal freedom<br>'\n",
    "       'experienced by citizens around the world, with scores ranging from low (red) to high (yellow).'\n",
    "   ),\n",
    "   font=dict(size=10),\n",
    "   align='center',\n",
    "   width=700  # Adjust this value as needed\n",
    ")\n",
    "fig.show()\n",
    "fig_2.show()\n",
    "\n"
   ]
  },
  {
   "cell_type": "code",
   "execution_count": 32,
   "metadata": {},
   "outputs": [
    {
     "data": {
      "application/vnd.plotly.v1+json": {
       "config": {
        "plotlyServerURL": "https://plot.ly"
       },
       "data": [
        {
         "coloraxis": "coloraxis",
         "hovertemplate": "x: %{x}<br>y: %{y}<br>color: %{z}<extra></extra>",
         "name": "0",
         "type": "heatmap",
         "x": [
          "Human Freedom Score",
          "Economic Freedom Score",
          "Personal Freedom Score",
          "Happiness Score",
          "Healthy life expectancy",
          "Perceptions of corruption"
         ],
         "xaxis": "x",
         "y": [
          "Human Freedom Score",
          "Economic Freedom Score",
          "Personal Freedom Score",
          "Happiness Score",
          "Healthy life expectancy",
          "Perceptions of corruption"
         ],
         "yaxis": "y",
         "z": [
          [
           1,
           0.8142747644857781,
           0.9658622523363167,
           0.6171812548223395,
           0.54484766132205,
           0.206120927605187
          ],
          [
           0.8142747644857781,
           1,
           0.6361659031554617,
           0.5575627704492747,
           0.49882947638381686,
           0.24513106336701995
          ],
          [
           0.9658622523363167,
           0.6361659031554617,
           1,
           0.5804616361645178,
           0.5096158251148728,
           0.16836079302971163
          ],
          [
           0.6171812548223395,
           0.5575627704492747,
           0.5804616361645178,
           1,
           0.7569315255097905,
           0.38847145584960785
          ],
          [
           0.54484766132205,
           0.49882947638381686,
           0.5096158251148728,
           0.7569315255097905,
           1,
           0.28786880621578337
          ],
          [
           0.206120927605187,
           0.24513106336701995,
           0.16836079302971163,
           0.38847145584960785,
           0.28786880621578337,
           1
          ]
         ]
        }
       ],
       "layout": {
        "coloraxis": {
         "colorscale": [
          [
           0,
           "#0d0887"
          ],
          [
           0.1111111111111111,
           "#46039f"
          ],
          [
           0.2222222222222222,
           "#7201a8"
          ],
          [
           0.3333333333333333,
           "#9c179e"
          ],
          [
           0.4444444444444444,
           "#bd3786"
          ],
          [
           0.5555555555555556,
           "#d8576b"
          ],
          [
           0.6666666666666666,
           "#ed7953"
          ],
          [
           0.7777777777777778,
           "#fb9f3a"
          ],
          [
           0.8888888888888888,
           "#fdca26"
          ],
          [
           1,
           "#f0f921"
          ]
         ]
        },
        "height": 500,
        "template": {
         "data": {
          "bar": [
           {
            "error_x": {
             "color": "#2a3f5f"
            },
            "error_y": {
             "color": "#2a3f5f"
            },
            "marker": {
             "line": {
              "color": "#E5ECF6",
              "width": 0.5
             },
             "pattern": {
              "fillmode": "overlay",
              "size": 10,
              "solidity": 0.2
             }
            },
            "type": "bar"
           }
          ],
          "barpolar": [
           {
            "marker": {
             "line": {
              "color": "#E5ECF6",
              "width": 0.5
             },
             "pattern": {
              "fillmode": "overlay",
              "size": 10,
              "solidity": 0.2
             }
            },
            "type": "barpolar"
           }
          ],
          "carpet": [
           {
            "aaxis": {
             "endlinecolor": "#2a3f5f",
             "gridcolor": "white",
             "linecolor": "white",
             "minorgridcolor": "white",
             "startlinecolor": "#2a3f5f"
            },
            "baxis": {
             "endlinecolor": "#2a3f5f",
             "gridcolor": "white",
             "linecolor": "white",
             "minorgridcolor": "white",
             "startlinecolor": "#2a3f5f"
            },
            "type": "carpet"
           }
          ],
          "choropleth": [
           {
            "colorbar": {
             "outlinewidth": 0,
             "ticks": ""
            },
            "type": "choropleth"
           }
          ],
          "contour": [
           {
            "colorbar": {
             "outlinewidth": 0,
             "ticks": ""
            },
            "colorscale": [
             [
              0,
              "#0d0887"
             ],
             [
              0.1111111111111111,
              "#46039f"
             ],
             [
              0.2222222222222222,
              "#7201a8"
             ],
             [
              0.3333333333333333,
              "#9c179e"
             ],
             [
              0.4444444444444444,
              "#bd3786"
             ],
             [
              0.5555555555555556,
              "#d8576b"
             ],
             [
              0.6666666666666666,
              "#ed7953"
             ],
             [
              0.7777777777777778,
              "#fb9f3a"
             ],
             [
              0.8888888888888888,
              "#fdca26"
             ],
             [
              1,
              "#f0f921"
             ]
            ],
            "type": "contour"
           }
          ],
          "contourcarpet": [
           {
            "colorbar": {
             "outlinewidth": 0,
             "ticks": ""
            },
            "type": "contourcarpet"
           }
          ],
          "heatmap": [
           {
            "colorbar": {
             "outlinewidth": 0,
             "ticks": ""
            },
            "colorscale": [
             [
              0,
              "#0d0887"
             ],
             [
              0.1111111111111111,
              "#46039f"
             ],
             [
              0.2222222222222222,
              "#7201a8"
             ],
             [
              0.3333333333333333,
              "#9c179e"
             ],
             [
              0.4444444444444444,
              "#bd3786"
             ],
             [
              0.5555555555555556,
              "#d8576b"
             ],
             [
              0.6666666666666666,
              "#ed7953"
             ],
             [
              0.7777777777777778,
              "#fb9f3a"
             ],
             [
              0.8888888888888888,
              "#fdca26"
             ],
             [
              1,
              "#f0f921"
             ]
            ],
            "type": "heatmap"
           }
          ],
          "heatmapgl": [
           {
            "colorbar": {
             "outlinewidth": 0,
             "ticks": ""
            },
            "colorscale": [
             [
              0,
              "#0d0887"
             ],
             [
              0.1111111111111111,
              "#46039f"
             ],
             [
              0.2222222222222222,
              "#7201a8"
             ],
             [
              0.3333333333333333,
              "#9c179e"
             ],
             [
              0.4444444444444444,
              "#bd3786"
             ],
             [
              0.5555555555555556,
              "#d8576b"
             ],
             [
              0.6666666666666666,
              "#ed7953"
             ],
             [
              0.7777777777777778,
              "#fb9f3a"
             ],
             [
              0.8888888888888888,
              "#fdca26"
             ],
             [
              1,
              "#f0f921"
             ]
            ],
            "type": "heatmapgl"
           }
          ],
          "histogram": [
           {
            "marker": {
             "pattern": {
              "fillmode": "overlay",
              "size": 10,
              "solidity": 0.2
             }
            },
            "type": "histogram"
           }
          ],
          "histogram2d": [
           {
            "colorbar": {
             "outlinewidth": 0,
             "ticks": ""
            },
            "colorscale": [
             [
              0,
              "#0d0887"
             ],
             [
              0.1111111111111111,
              "#46039f"
             ],
             [
              0.2222222222222222,
              "#7201a8"
             ],
             [
              0.3333333333333333,
              "#9c179e"
             ],
             [
              0.4444444444444444,
              "#bd3786"
             ],
             [
              0.5555555555555556,
              "#d8576b"
             ],
             [
              0.6666666666666666,
              "#ed7953"
             ],
             [
              0.7777777777777778,
              "#fb9f3a"
             ],
             [
              0.8888888888888888,
              "#fdca26"
             ],
             [
              1,
              "#f0f921"
             ]
            ],
            "type": "histogram2d"
           }
          ],
          "histogram2dcontour": [
           {
            "colorbar": {
             "outlinewidth": 0,
             "ticks": ""
            },
            "colorscale": [
             [
              0,
              "#0d0887"
             ],
             [
              0.1111111111111111,
              "#46039f"
             ],
             [
              0.2222222222222222,
              "#7201a8"
             ],
             [
              0.3333333333333333,
              "#9c179e"
             ],
             [
              0.4444444444444444,
              "#bd3786"
             ],
             [
              0.5555555555555556,
              "#d8576b"
             ],
             [
              0.6666666666666666,
              "#ed7953"
             ],
             [
              0.7777777777777778,
              "#fb9f3a"
             ],
             [
              0.8888888888888888,
              "#fdca26"
             ],
             [
              1,
              "#f0f921"
             ]
            ],
            "type": "histogram2dcontour"
           }
          ],
          "mesh3d": [
           {
            "colorbar": {
             "outlinewidth": 0,
             "ticks": ""
            },
            "type": "mesh3d"
           }
          ],
          "parcoords": [
           {
            "line": {
             "colorbar": {
              "outlinewidth": 0,
              "ticks": ""
             }
            },
            "type": "parcoords"
           }
          ],
          "pie": [
           {
            "automargin": true,
            "type": "pie"
           }
          ],
          "scatter": [
           {
            "fillpattern": {
             "fillmode": "overlay",
             "size": 10,
             "solidity": 0.2
            },
            "type": "scatter"
           }
          ],
          "scatter3d": [
           {
            "line": {
             "colorbar": {
              "outlinewidth": 0,
              "ticks": ""
             }
            },
            "marker": {
             "colorbar": {
              "outlinewidth": 0,
              "ticks": ""
             }
            },
            "type": "scatter3d"
           }
          ],
          "scattercarpet": [
           {
            "marker": {
             "colorbar": {
              "outlinewidth": 0,
              "ticks": ""
             }
            },
            "type": "scattercarpet"
           }
          ],
          "scattergeo": [
           {
            "marker": {
             "colorbar": {
              "outlinewidth": 0,
              "ticks": ""
             }
            },
            "type": "scattergeo"
           }
          ],
          "scattergl": [
           {
            "marker": {
             "colorbar": {
              "outlinewidth": 0,
              "ticks": ""
             }
            },
            "type": "scattergl"
           }
          ],
          "scattermapbox": [
           {
            "marker": {
             "colorbar": {
              "outlinewidth": 0,
              "ticks": ""
             }
            },
            "type": "scattermapbox"
           }
          ],
          "scatterpolar": [
           {
            "marker": {
             "colorbar": {
              "outlinewidth": 0,
              "ticks": ""
             }
            },
            "type": "scatterpolar"
           }
          ],
          "scatterpolargl": [
           {
            "marker": {
             "colorbar": {
              "outlinewidth": 0,
              "ticks": ""
             }
            },
            "type": "scatterpolargl"
           }
          ],
          "scatterternary": [
           {
            "marker": {
             "colorbar": {
              "outlinewidth": 0,
              "ticks": ""
             }
            },
            "type": "scatterternary"
           }
          ],
          "surface": [
           {
            "colorbar": {
             "outlinewidth": 0,
             "ticks": ""
            },
            "colorscale": [
             [
              0,
              "#0d0887"
             ],
             [
              0.1111111111111111,
              "#46039f"
             ],
             [
              0.2222222222222222,
              "#7201a8"
             ],
             [
              0.3333333333333333,
              "#9c179e"
             ],
             [
              0.4444444444444444,
              "#bd3786"
             ],
             [
              0.5555555555555556,
              "#d8576b"
             ],
             [
              0.6666666666666666,
              "#ed7953"
             ],
             [
              0.7777777777777778,
              "#fb9f3a"
             ],
             [
              0.8888888888888888,
              "#fdca26"
             ],
             [
              1,
              "#f0f921"
             ]
            ],
            "type": "surface"
           }
          ],
          "table": [
           {
            "cells": {
             "fill": {
              "color": "#EBF0F8"
             },
             "line": {
              "color": "white"
             }
            },
            "header": {
             "fill": {
              "color": "#C8D4E3"
             },
             "line": {
              "color": "white"
             }
            },
            "type": "table"
           }
          ]
         },
         "layout": {
          "annotationdefaults": {
           "arrowcolor": "#2a3f5f",
           "arrowhead": 0,
           "arrowwidth": 1
          },
          "autotypenumbers": "strict",
          "coloraxis": {
           "colorbar": {
            "outlinewidth": 0,
            "ticks": ""
           }
          },
          "colorscale": {
           "diverging": [
            [
             0,
             "#8e0152"
            ],
            [
             0.1,
             "#c51b7d"
            ],
            [
             0.2,
             "#de77ae"
            ],
            [
             0.3,
             "#f1b6da"
            ],
            [
             0.4,
             "#fde0ef"
            ],
            [
             0.5,
             "#f7f7f7"
            ],
            [
             0.6,
             "#e6f5d0"
            ],
            [
             0.7,
             "#b8e186"
            ],
            [
             0.8,
             "#7fbc41"
            ],
            [
             0.9,
             "#4d9221"
            ],
            [
             1,
             "#276419"
            ]
           ],
           "sequential": [
            [
             0,
             "#0d0887"
            ],
            [
             0.1111111111111111,
             "#46039f"
            ],
            [
             0.2222222222222222,
             "#7201a8"
            ],
            [
             0.3333333333333333,
             "#9c179e"
            ],
            [
             0.4444444444444444,
             "#bd3786"
            ],
            [
             0.5555555555555556,
             "#d8576b"
            ],
            [
             0.6666666666666666,
             "#ed7953"
            ],
            [
             0.7777777777777778,
             "#fb9f3a"
            ],
            [
             0.8888888888888888,
             "#fdca26"
            ],
            [
             1,
             "#f0f921"
            ]
           ],
           "sequentialminus": [
            [
             0,
             "#0d0887"
            ],
            [
             0.1111111111111111,
             "#46039f"
            ],
            [
             0.2222222222222222,
             "#7201a8"
            ],
            [
             0.3333333333333333,
             "#9c179e"
            ],
            [
             0.4444444444444444,
             "#bd3786"
            ],
            [
             0.5555555555555556,
             "#d8576b"
            ],
            [
             0.6666666666666666,
             "#ed7953"
            ],
            [
             0.7777777777777778,
             "#fb9f3a"
            ],
            [
             0.8888888888888888,
             "#fdca26"
            ],
            [
             1,
             "#f0f921"
            ]
           ]
          },
          "colorway": [
           "#636efa",
           "#EF553B",
           "#00cc96",
           "#ab63fa",
           "#FFA15A",
           "#19d3f3",
           "#FF6692",
           "#B6E880",
           "#FF97FF",
           "#FECB52"
          ],
          "font": {
           "color": "#2a3f5f"
          },
          "geo": {
           "bgcolor": "white",
           "lakecolor": "white",
           "landcolor": "#E5ECF6",
           "showlakes": true,
           "showland": true,
           "subunitcolor": "white"
          },
          "hoverlabel": {
           "align": "left"
          },
          "hovermode": "closest",
          "mapbox": {
           "style": "light"
          },
          "paper_bgcolor": "white",
          "plot_bgcolor": "#E5ECF6",
          "polar": {
           "angularaxis": {
            "gridcolor": "white",
            "linecolor": "white",
            "ticks": ""
           },
           "bgcolor": "#E5ECF6",
           "radialaxis": {
            "gridcolor": "white",
            "linecolor": "white",
            "ticks": ""
           }
          },
          "scene": {
           "xaxis": {
            "backgroundcolor": "#E5ECF6",
            "gridcolor": "white",
            "gridwidth": 2,
            "linecolor": "white",
            "showbackground": true,
            "ticks": "",
            "zerolinecolor": "white"
           },
           "yaxis": {
            "backgroundcolor": "#E5ECF6",
            "gridcolor": "white",
            "gridwidth": 2,
            "linecolor": "white",
            "showbackground": true,
            "ticks": "",
            "zerolinecolor": "white"
           },
           "zaxis": {
            "backgroundcolor": "#E5ECF6",
            "gridcolor": "white",
            "gridwidth": 2,
            "linecolor": "white",
            "showbackground": true,
            "ticks": "",
            "zerolinecolor": "white"
           }
          },
          "shapedefaults": {
           "line": {
            "color": "#2a3f5f"
           }
          },
          "ternary": {
           "aaxis": {
            "gridcolor": "white",
            "linecolor": "white",
            "ticks": ""
           },
           "baxis": {
            "gridcolor": "white",
            "linecolor": "white",
            "ticks": ""
           },
           "bgcolor": "#E5ECF6",
           "caxis": {
            "gridcolor": "white",
            "linecolor": "white",
            "ticks": ""
           }
          },
          "title": {
           "x": 0.05
          },
          "xaxis": {
           "automargin": true,
           "gridcolor": "white",
           "linecolor": "white",
           "ticks": "",
           "title": {
            "standoff": 15
           },
           "zerolinecolor": "white",
           "zerolinewidth": 2
          },
          "yaxis": {
           "automargin": true,
           "gridcolor": "white",
           "linecolor": "white",
           "ticks": "",
           "title": {
            "standoff": 15
           },
           "zerolinecolor": "white",
           "zerolinewidth": 2
          }
         }
        },
        "title": {
         "text": "Correlation Matrix of Freedom, Happiness, and Health Indicators"
        },
        "width": 1000,
        "xaxis": {
         "anchor": "y",
         "constrain": "domain",
         "domain": [
          0,
          1
         ],
         "scaleanchor": "y"
        },
        "yaxis": {
         "anchor": "x",
         "autorange": "reversed",
         "constrain": "domain",
         "domain": [
          0,
          1
         ]
        }
       }
      },
      "text/html": [
       "<div>                            <div id=\"871fa220-6462-4fec-9c5f-60294029af99\" class=\"plotly-graph-div\" style=\"height:500px; width:1000px;\"></div>            <script type=\"text/javascript\">                require([\"plotly\"], function(Plotly) {                    window.PLOTLYENV=window.PLOTLYENV || {};                                    if (document.getElementById(\"871fa220-6462-4fec-9c5f-60294029af99\")) {                    Plotly.newPlot(                        \"871fa220-6462-4fec-9c5f-60294029af99\",                        [{\"coloraxis\":\"coloraxis\",\"name\":\"0\",\"x\":[\"Human Freedom Score\",\"Economic Freedom Score\",\"Personal Freedom Score\",\"Happiness Score\",\"Healthy life expectancy\",\"Perceptions of corruption\"],\"y\":[\"Human Freedom Score\",\"Economic Freedom Score\",\"Personal Freedom Score\",\"Happiness Score\",\"Healthy life expectancy\",\"Perceptions of corruption\"],\"z\":[[1.0,0.8142747644857781,0.9658622523363167,0.6171812548223395,0.54484766132205,0.206120927605187],[0.8142747644857781,1.0,0.6361659031554617,0.5575627704492747,0.49882947638381686,0.24513106336701995],[0.9658622523363167,0.6361659031554617,1.0,0.5804616361645178,0.5096158251148728,0.16836079302971163],[0.6171812548223395,0.5575627704492747,0.5804616361645178,1.0,0.7569315255097905,0.38847145584960785],[0.54484766132205,0.49882947638381686,0.5096158251148728,0.7569315255097905,1.0,0.28786880621578337],[0.206120927605187,0.24513106336701995,0.16836079302971163,0.38847145584960785,0.28786880621578337,1.0]],\"type\":\"heatmap\",\"xaxis\":\"x\",\"yaxis\":\"y\",\"hovertemplate\":\"x: %{x}\\u003cbr\\u003ey: %{y}\\u003cbr\\u003ecolor: %{z}\\u003cextra\\u003e\\u003c\\u002fextra\\u003e\"}],                        {\"template\":{\"data\":{\"histogram2dcontour\":[{\"type\":\"histogram2dcontour\",\"colorbar\":{\"outlinewidth\":0,\"ticks\":\"\"},\"colorscale\":[[0.0,\"#0d0887\"],[0.1111111111111111,\"#46039f\"],[0.2222222222222222,\"#7201a8\"],[0.3333333333333333,\"#9c179e\"],[0.4444444444444444,\"#bd3786\"],[0.5555555555555556,\"#d8576b\"],[0.6666666666666666,\"#ed7953\"],[0.7777777777777778,\"#fb9f3a\"],[0.8888888888888888,\"#fdca26\"],[1.0,\"#f0f921\"]]}],\"choropleth\":[{\"type\":\"choropleth\",\"colorbar\":{\"outlinewidth\":0,\"ticks\":\"\"}}],\"histogram2d\":[{\"type\":\"histogram2d\",\"colorbar\":{\"outlinewidth\":0,\"ticks\":\"\"},\"colorscale\":[[0.0,\"#0d0887\"],[0.1111111111111111,\"#46039f\"],[0.2222222222222222,\"#7201a8\"],[0.3333333333333333,\"#9c179e\"],[0.4444444444444444,\"#bd3786\"],[0.5555555555555556,\"#d8576b\"],[0.6666666666666666,\"#ed7953\"],[0.7777777777777778,\"#fb9f3a\"],[0.8888888888888888,\"#fdca26\"],[1.0,\"#f0f921\"]]}],\"heatmap\":[{\"type\":\"heatmap\",\"colorbar\":{\"outlinewidth\":0,\"ticks\":\"\"},\"colorscale\":[[0.0,\"#0d0887\"],[0.1111111111111111,\"#46039f\"],[0.2222222222222222,\"#7201a8\"],[0.3333333333333333,\"#9c179e\"],[0.4444444444444444,\"#bd3786\"],[0.5555555555555556,\"#d8576b\"],[0.6666666666666666,\"#ed7953\"],[0.7777777777777778,\"#fb9f3a\"],[0.8888888888888888,\"#fdca26\"],[1.0,\"#f0f921\"]]}],\"heatmapgl\":[{\"type\":\"heatmapgl\",\"colorbar\":{\"outlinewidth\":0,\"ticks\":\"\"},\"colorscale\":[[0.0,\"#0d0887\"],[0.1111111111111111,\"#46039f\"],[0.2222222222222222,\"#7201a8\"],[0.3333333333333333,\"#9c179e\"],[0.4444444444444444,\"#bd3786\"],[0.5555555555555556,\"#d8576b\"],[0.6666666666666666,\"#ed7953\"],[0.7777777777777778,\"#fb9f3a\"],[0.8888888888888888,\"#fdca26\"],[1.0,\"#f0f921\"]]}],\"contourcarpet\":[{\"type\":\"contourcarpet\",\"colorbar\":{\"outlinewidth\":0,\"ticks\":\"\"}}],\"contour\":[{\"type\":\"contour\",\"colorbar\":{\"outlinewidth\":0,\"ticks\":\"\"},\"colorscale\":[[0.0,\"#0d0887\"],[0.1111111111111111,\"#46039f\"],[0.2222222222222222,\"#7201a8\"],[0.3333333333333333,\"#9c179e\"],[0.4444444444444444,\"#bd3786\"],[0.5555555555555556,\"#d8576b\"],[0.6666666666666666,\"#ed7953\"],[0.7777777777777778,\"#fb9f3a\"],[0.8888888888888888,\"#fdca26\"],[1.0,\"#f0f921\"]]}],\"surface\":[{\"type\":\"surface\",\"colorbar\":{\"outlinewidth\":0,\"ticks\":\"\"},\"colorscale\":[[0.0,\"#0d0887\"],[0.1111111111111111,\"#46039f\"],[0.2222222222222222,\"#7201a8\"],[0.3333333333333333,\"#9c179e\"],[0.4444444444444444,\"#bd3786\"],[0.5555555555555556,\"#d8576b\"],[0.6666666666666666,\"#ed7953\"],[0.7777777777777778,\"#fb9f3a\"],[0.8888888888888888,\"#fdca26\"],[1.0,\"#f0f921\"]]}],\"mesh3d\":[{\"type\":\"mesh3d\",\"colorbar\":{\"outlinewidth\":0,\"ticks\":\"\"}}],\"scatter\":[{\"fillpattern\":{\"fillmode\":\"overlay\",\"size\":10,\"solidity\":0.2},\"type\":\"scatter\"}],\"parcoords\":[{\"type\":\"parcoords\",\"line\":{\"colorbar\":{\"outlinewidth\":0,\"ticks\":\"\"}}}],\"scatterpolargl\":[{\"type\":\"scatterpolargl\",\"marker\":{\"colorbar\":{\"outlinewidth\":0,\"ticks\":\"\"}}}],\"bar\":[{\"error_x\":{\"color\":\"#2a3f5f\"},\"error_y\":{\"color\":\"#2a3f5f\"},\"marker\":{\"line\":{\"color\":\"#E5ECF6\",\"width\":0.5},\"pattern\":{\"fillmode\":\"overlay\",\"size\":10,\"solidity\":0.2}},\"type\":\"bar\"}],\"scattergeo\":[{\"type\":\"scattergeo\",\"marker\":{\"colorbar\":{\"outlinewidth\":0,\"ticks\":\"\"}}}],\"scatterpolar\":[{\"type\":\"scatterpolar\",\"marker\":{\"colorbar\":{\"outlinewidth\":0,\"ticks\":\"\"}}}],\"histogram\":[{\"marker\":{\"pattern\":{\"fillmode\":\"overlay\",\"size\":10,\"solidity\":0.2}},\"type\":\"histogram\"}],\"scattergl\":[{\"type\":\"scattergl\",\"marker\":{\"colorbar\":{\"outlinewidth\":0,\"ticks\":\"\"}}}],\"scatter3d\":[{\"type\":\"scatter3d\",\"line\":{\"colorbar\":{\"outlinewidth\":0,\"ticks\":\"\"}},\"marker\":{\"colorbar\":{\"outlinewidth\":0,\"ticks\":\"\"}}}],\"scattermapbox\":[{\"type\":\"scattermapbox\",\"marker\":{\"colorbar\":{\"outlinewidth\":0,\"ticks\":\"\"}}}],\"scatterternary\":[{\"type\":\"scatterternary\",\"marker\":{\"colorbar\":{\"outlinewidth\":0,\"ticks\":\"\"}}}],\"scattercarpet\":[{\"type\":\"scattercarpet\",\"marker\":{\"colorbar\":{\"outlinewidth\":0,\"ticks\":\"\"}}}],\"carpet\":[{\"aaxis\":{\"endlinecolor\":\"#2a3f5f\",\"gridcolor\":\"white\",\"linecolor\":\"white\",\"minorgridcolor\":\"white\",\"startlinecolor\":\"#2a3f5f\"},\"baxis\":{\"endlinecolor\":\"#2a3f5f\",\"gridcolor\":\"white\",\"linecolor\":\"white\",\"minorgridcolor\":\"white\",\"startlinecolor\":\"#2a3f5f\"},\"type\":\"carpet\"}],\"table\":[{\"cells\":{\"fill\":{\"color\":\"#EBF0F8\"},\"line\":{\"color\":\"white\"}},\"header\":{\"fill\":{\"color\":\"#C8D4E3\"},\"line\":{\"color\":\"white\"}},\"type\":\"table\"}],\"barpolar\":[{\"marker\":{\"line\":{\"color\":\"#E5ECF6\",\"width\":0.5},\"pattern\":{\"fillmode\":\"overlay\",\"size\":10,\"solidity\":0.2}},\"type\":\"barpolar\"}],\"pie\":[{\"automargin\":true,\"type\":\"pie\"}]},\"layout\":{\"autotypenumbers\":\"strict\",\"colorway\":[\"#636efa\",\"#EF553B\",\"#00cc96\",\"#ab63fa\",\"#FFA15A\",\"#19d3f3\",\"#FF6692\",\"#B6E880\",\"#FF97FF\",\"#FECB52\"],\"font\":{\"color\":\"#2a3f5f\"},\"hovermode\":\"closest\",\"hoverlabel\":{\"align\":\"left\"},\"paper_bgcolor\":\"white\",\"plot_bgcolor\":\"#E5ECF6\",\"polar\":{\"bgcolor\":\"#E5ECF6\",\"angularaxis\":{\"gridcolor\":\"white\",\"linecolor\":\"white\",\"ticks\":\"\"},\"radialaxis\":{\"gridcolor\":\"white\",\"linecolor\":\"white\",\"ticks\":\"\"}},\"ternary\":{\"bgcolor\":\"#E5ECF6\",\"aaxis\":{\"gridcolor\":\"white\",\"linecolor\":\"white\",\"ticks\":\"\"},\"baxis\":{\"gridcolor\":\"white\",\"linecolor\":\"white\",\"ticks\":\"\"},\"caxis\":{\"gridcolor\":\"white\",\"linecolor\":\"white\",\"ticks\":\"\"}},\"coloraxis\":{\"colorbar\":{\"outlinewidth\":0,\"ticks\":\"\"}},\"colorscale\":{\"sequential\":[[0.0,\"#0d0887\"],[0.1111111111111111,\"#46039f\"],[0.2222222222222222,\"#7201a8\"],[0.3333333333333333,\"#9c179e\"],[0.4444444444444444,\"#bd3786\"],[0.5555555555555556,\"#d8576b\"],[0.6666666666666666,\"#ed7953\"],[0.7777777777777778,\"#fb9f3a\"],[0.8888888888888888,\"#fdca26\"],[1.0,\"#f0f921\"]],\"sequentialminus\":[[0.0,\"#0d0887\"],[0.1111111111111111,\"#46039f\"],[0.2222222222222222,\"#7201a8\"],[0.3333333333333333,\"#9c179e\"],[0.4444444444444444,\"#bd3786\"],[0.5555555555555556,\"#d8576b\"],[0.6666666666666666,\"#ed7953\"],[0.7777777777777778,\"#fb9f3a\"],[0.8888888888888888,\"#fdca26\"],[1.0,\"#f0f921\"]],\"diverging\":[[0,\"#8e0152\"],[0.1,\"#c51b7d\"],[0.2,\"#de77ae\"],[0.3,\"#f1b6da\"],[0.4,\"#fde0ef\"],[0.5,\"#f7f7f7\"],[0.6,\"#e6f5d0\"],[0.7,\"#b8e186\"],[0.8,\"#7fbc41\"],[0.9,\"#4d9221\"],[1,\"#276419\"]]},\"xaxis\":{\"gridcolor\":\"white\",\"linecolor\":\"white\",\"ticks\":\"\",\"title\":{\"standoff\":15},\"zerolinecolor\":\"white\",\"automargin\":true,\"zerolinewidth\":2},\"yaxis\":{\"gridcolor\":\"white\",\"linecolor\":\"white\",\"ticks\":\"\",\"title\":{\"standoff\":15},\"zerolinecolor\":\"white\",\"automargin\":true,\"zerolinewidth\":2},\"scene\":{\"xaxis\":{\"backgroundcolor\":\"#E5ECF6\",\"gridcolor\":\"white\",\"linecolor\":\"white\",\"showbackground\":true,\"ticks\":\"\",\"zerolinecolor\":\"white\",\"gridwidth\":2},\"yaxis\":{\"backgroundcolor\":\"#E5ECF6\",\"gridcolor\":\"white\",\"linecolor\":\"white\",\"showbackground\":true,\"ticks\":\"\",\"zerolinecolor\":\"white\",\"gridwidth\":2},\"zaxis\":{\"backgroundcolor\":\"#E5ECF6\",\"gridcolor\":\"white\",\"linecolor\":\"white\",\"showbackground\":true,\"ticks\":\"\",\"zerolinecolor\":\"white\",\"gridwidth\":2}},\"shapedefaults\":{\"line\":{\"color\":\"#2a3f5f\"}},\"annotationdefaults\":{\"arrowcolor\":\"#2a3f5f\",\"arrowhead\":0,\"arrowwidth\":1},\"geo\":{\"bgcolor\":\"white\",\"landcolor\":\"#E5ECF6\",\"subunitcolor\":\"white\",\"showland\":true,\"showlakes\":true,\"lakecolor\":\"white\"},\"title\":{\"x\":0.05},\"mapbox\":{\"style\":\"light\"}}},\"xaxis\":{\"anchor\":\"y\",\"domain\":[0.0,1.0],\"scaleanchor\":\"y\",\"constrain\":\"domain\"},\"yaxis\":{\"anchor\":\"x\",\"domain\":[0.0,1.0],\"autorange\":\"reversed\",\"constrain\":\"domain\"},\"coloraxis\":{\"colorscale\":[[0.0,\"#0d0887\"],[0.1111111111111111,\"#46039f\"],[0.2222222222222222,\"#7201a8\"],[0.3333333333333333,\"#9c179e\"],[0.4444444444444444,\"#bd3786\"],[0.5555555555555556,\"#d8576b\"],[0.6666666666666666,\"#ed7953\"],[0.7777777777777778,\"#fb9f3a\"],[0.8888888888888888,\"#fdca26\"],[1.0,\"#f0f921\"]]},\"title\":{\"text\":\"Correlation Matrix of Freedom, Happiness, and Health Indicators\"},\"width\":1000,\"height\":500},                        {\"responsive\": true}                    ).then(function(){\n",
       "                            \n",
       "var gd = document.getElementById('871fa220-6462-4fec-9c5f-60294029af99');\n",
       "var x = new MutationObserver(function (mutations, observer) {{\n",
       "        var display = window.getComputedStyle(gd).display;\n",
       "        if (!display || display === 'none') {{\n",
       "            console.log([gd, 'removed!']);\n",
       "            Plotly.purge(gd);\n",
       "            observer.disconnect();\n",
       "        }}\n",
       "}});\n",
       "\n",
       "// Listen for the removal of the full notebook cells\n",
       "var notebookContainer = gd.closest('#notebook-container');\n",
       "if (notebookContainer) {{\n",
       "    x.observe(notebookContainer, {childList: true});\n",
       "}}\n",
       "\n",
       "// Listen for the clearing of the current output cell\n",
       "var outputEl = gd.closest('.output');\n",
       "if (outputEl) {{\n",
       "    x.observe(outputEl, {childList: true});\n",
       "}}\n",
       "\n",
       "                        })                };                });            </script>        </div>"
      ]
     },
     "metadata": {},
     "output_type": "display_data"
    }
   ],
   "source": [
    "columns_to_use = [\"Human Freedom Score\", \"Economic Freedom Score\", \"Personal Freedom Score\", \"Happiness Score\", \"Healthy life expectancy\", \"Perceptions of corruption\"]\n",
    "corr_matrix = data[columns_to_use].corr()\n",
    "\n",
    "\n",
    "fig_corr_matrix = px.imshow(corr_matrix,title='Correlation Matrix of Freedom, Happiness, and Health Indicators')\n",
    "fig_corr_matrix.update_layout(\n",
    "    width=1000,  # Adjust the width as needed\n",
    "    height=500  # Adjust the height if needed\n",
    ")\n",
    "fig_corr_matrix.show()"
   ]
  }
 ],
 "metadata": {
  "kernelspec": {
   "display_name": "Python 3",
   "language": "python",
   "name": "python3"
  },
  "language_info": {
   "codemirror_mode": {
    "name": "ipython",
    "version": 3
   },
   "file_extension": ".py",
   "mimetype": "text/x-python",
   "name": "python",
   "nbconvert_exporter": "python",
   "pygments_lexer": "ipython3",
   "version": "3.11.1"
  }
 },
 "nbformat": 4,
 "nbformat_minor": 2
}
